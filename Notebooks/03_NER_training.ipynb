{
 "cells": [
  {
   "cell_type": "code",
   "execution_count": 25,
   "metadata": {},
   "outputs": [
    {
     "name": "stdout",
     "output_type": "stream",
     "text": [
      "1.10.1\n",
      "True\n"
     ]
    }
   ],
   "source": [
    "import numpy as np\n",
    "import pandas as pd\n",
    "from pathlib import Path\n",
    "from collections import defaultdict\n",
    "import torch\n",
    "import re\n",
    "from tqdm.notebook import tqdm\n",
    "import sys\n",
    "\n",
    "print(torch.__version__)\n",
    "print(torch.cuda.is_available())\n",
    "src_path = Path('.').absolute().parent\n",
    "data_path = src_path / 'data'\n",
    "sys.path.append(str(src_path))\n",
    "\n",
    "import yaml\n",
    "import networkx as nx\n",
    "from src.ontology import OntologySystem\n",
    "\n",
    "with (src_path / 'setting_files' / 'app_settings.yml').open('r') as file:\n",
    "    settings = yaml.load(file, Loader=yaml.FullLoader)\n",
    "\n",
    "onto = OntologySystem(\n",
    "    acc_name_path=data_path / 'AccountName.csv', \n",
    "    rdf_path=data_path / 'AccountRDF.xml',\n",
    "    model_path=data_path / settings['ontology']['model']['model_name'],\n",
    "    kwargs_graph_drawer=settings['ontology']['graph_drawer']\n",
    ")\n",
    "ACC_DICT = onto.ACC_DICT"
   ]
  },
  {
   "cell_type": "markdown",
   "metadata": {},
   "source": [
    "---"
   ]
  },
  {
   "cell_type": "markdown",
   "metadata": {},
   "source": [
    "# Create dataset"
   ]
  },
  {
   "cell_type": "code",
   "execution_count": 26,
   "metadata": {},
   "outputs": [],
   "source": [
    "# TODO: position 만들기\n",
    "# (\"I was driving a BMW\", {\"entities\": [(16,19, \"PRODUCT\")]})\n",
    "\n",
    "def get_entity(s, x, tag):\n",
    "    idx = s.index(x)\n",
    "    return (idx, idx+len(x), tag)\n",
    "\n",
    "def random_sampling(x_dict, x_key):\n",
    "    idx_range = np.arange(len(x_dict[x_key]))\n",
    "    idx = np.random.choice(idx_range, replace=False, p=np.ones(len(idx_range)) / len(idx_range))\n",
    "    word, tag, desc = x_dict[x_key][idx]\n",
    "    return word, tag, desc\n",
    "\n",
    "def get_words_filtered(words, text):\n",
    "    words_filtered = defaultdict(list)\n",
    "    for k, v in words.items():\n",
    "        for word, tag, desc in v:\n",
    "            if desc != text:\n",
    "                words_filtered[k].append((word, tag, desc))\n",
    "    return words_filtered\n",
    "\n",
    "df = pd.read_csv(data_path / 'AccountWords.csv', encoding='utf-8')\n",
    "\n",
    "format_dict = {\n",
    "    0: ['help'],\n",
    "    1: [\n",
    "        # what/how, target_account, [MASK] + year/quarter\n",
    "        \"{} is the {} in the {} ?\",\n",
    "        # [MASK] + year/quarter, what/how, target_account\n",
    "        \"In the {}, {} is the value of the {} ?\"\n",
    "    ], \n",
    "    2: [\n",
    "        # target_account, subject_account, [MASK], random_number + percent/%, [MASK] + year/quarter\n",
    "        \"what happens to the {} when the {} {} by {} in the {} ?\",\n",
    "        # target_account, subject_account, [MASK], random_number + percent/%, [MASK] + year/quarter\n",
    "        \"what will be the effect to {} if the {} {} by {} in the {} ?\",\n",
    "        # reverse the relation\n",
    "        # subject_account, [MASK], random_number + percent/%, [MASK] + year/quarter, target_account\n",
    "        \"when the {} {} by {} in the {}, what will happen to the {} ?\",\n",
    "        # subject_account, [MASK], random_number + percent/%, [MASK] + year/quarter, target_account\n",
    "        \"if the {} {} by {} in the {}, what will be the effect to {} ?\"\n",
    "    ],\n",
    "    3: [\n",
    "        # what/how, target_account, [MASK] + year/quarter\n",
    "        \"{} will be the {} in the {} ?\"\n",
    "    ]\n",
    "}\n",
    "\n",
    "# TODO: maybe add the today's information after [SEP]?\n",
    "context = ['HELP', 'PAST', 'FUTURE']\n",
    "words = defaultdict(list)\n",
    "for typ in ['year', 'quarter', 'words']:\n",
    "    df_temp = df.loc[:, [typ, f'{typ}_tag', f'{typ}_desc']]\n",
    "    df_temp = df_temp.loc[~df_temp[typ].isna(), :]\n",
    "    for i, (w, t, desc) in df_temp.iterrows():\n",
    "        words[typ].append((w, t, desc))\n",
    "\n",
    "exceptions = ['BalanceSheet', 'IncomeStatement', 'Ratios', 'CalendarOneYear']\n",
    "times = ['year', 'quarter']\n",
    "\n",
    "all_data = []\n",
    "s_ENT = '[E]'\n",
    "e_ENT = '[/E]'\n",
    "f_ENT = lambda x: f'{s_ENT}{x}{e_ENT}'\n"
   ]
  },
  {
   "cell_type": "markdown",
   "metadata": {},
   "source": [
    "## Question 1\n",
    "\n",
    "```python\n",
    "# what/how, target_account, [MASK] + year/quarter\n",
    "\"{} is the {} in the {}?\",\n",
    "```"
   ]
  },
  {
   "cell_type": "code",
   "execution_count": 104,
   "metadata": {},
   "outputs": [
    {
     "data": {
      "application/vnd.jupyter.widget-view+json": {
       "model_id": "062d15cb84954c2fb79e64052efda37c",
       "version_major": 2,
       "version_minor": 0
      },
      "text/plain": [
       "0it [00:00, ?it/s]"
      ]
     },
     "metadata": {},
     "output_type": "display_data"
    }
   ],
   "source": [
    "data1 = []\n",
    "trg_scenario = 1\n",
    "progress_bar = tqdm()\n",
    "words_filtered = get_words_filtered(words, text='FUTURE')\n",
    "for idx_fmt, fmt in enumerate(format_dict[trg_scenario]):\n",
    "    \n",
    "    for acc, dic in ACC_DICT.items():\n",
    "        if acc in exceptions:\n",
    "            continue\n",
    "        target_account = dic['eng_name'].lower()\n",
    "        knowledge, acc_type, _ = dic['group'].split('-')\n",
    "\n",
    "        for t in ['year', 'quarter']:\n",
    "            for t_word, t_tag, _ in words_filtered[t]:\n",
    "                entities = []\n",
    "                pre_token = np.random.choice(['what', 'how'], replace=False, p=np.ones(2)/2)\n",
    "                if idx_fmt == 0:\n",
    "                    # what/how, target_account, [MASK] + year/quarter\n",
    "                    # \"{} is the {} in the {}?\",\n",
    "                    s = fmt.format(\n",
    "                        pre_token,\n",
    "                        f_ENT(target_account), \n",
    "                        f_ENT(f'{t_word} {t}')\n",
    "                        )\n",
    "                else:\n",
    "                    # [MASK] + year/quarter, what/how, target_account\n",
    "                    # \"In the {}, {} is the value of the {}\"\n",
    "                    s = fmt.format(\n",
    "                        f_ENT(f'{t_word} {t}'),\n",
    "                        pre_token,\n",
    "                        f_ENT(target_account)\n",
    "                    )\n",
    "                # relation = [0, 0, 0]  # no_relation, order1, order2\n",
    "                # entities\n",
    "                ## target_account\n",
    "                entities.append(get_entity(s, f_ENT(target_account), f'{knowledge}.{acc_type}'))\n",
    "                ## MASK year/quarter\n",
    "                entities.append(get_entity(s, f_ENT(f'{t_word} {t}'), t_tag))\n",
    "                \n",
    "                data1.append(\n",
    "                    {'question': s, 'entities': sorted(entities, key=lambda x: x[0]), 'intent': 'PAST.value'} #, 'relation': relation}\n",
    "                )\n",
    "            \n",
    "                progress_bar.update(1)"
   ]
  },
  {
   "cell_type": "markdown",
   "metadata": {},
   "source": [
    "## Question 2\n",
    "\n",
    "```python\n",
    "# target_account, subject_account, [MASK], random_number + percent/%, [MASK] + year/quarter\n",
    "\"what happens to the {} when the {} {} by {} in the {}?\"\n",
    "# target_account, subject_account, [MASK], random_number + percent/%, [MASK] + year/quarter\n",
    "\"what will be the effect to {} if the {} {} by {} in the {}?\"\n",
    "# reverse the relation\n",
    "# subject_account, [MASK], random_number + percent/%, [MASK] + year/quarter, target_account\n",
    "\"when the {} {} by {} in the {}, what will happen to the {}?\"\n",
    "# subject_account, [MASK], random_number + percent/%, [MASK] + year/quarter, target_account\n",
    "\"if the {} {} by {} in the {}, what will be the effect to {}?\"\n",
    "```"
   ]
  },
  {
   "cell_type": "code",
   "execution_count": 106,
   "metadata": {},
   "outputs": [],
   "source": [
    "def get_role_dict(onto, knowledge):\n",
    "    knowledge_query = onto.sparql.get_predefined_knowledge(knowledge=knowledge)\n",
    "    sparql_results = onto.sparql.query(knowledge_query)\n",
    "    role_dict = defaultdict(list)\n",
    "    for s, p, o in sparql_results:\n",
    "        s, p, o = map(onto.graph_drawer.convert_to_string, [s, p, o])\n",
    "        if s == 'CalendarOneYear' or o == 'CalendarOneYear':\n",
    "            continue\n",
    "        if s not in role_dict[o]:\n",
    "            role_dict[o].append(s)\n",
    "        \n",
    "    return role_dict\n",
    "\n",
    "def process_successor(successors, role_dict, trg_acc, acc):\n",
    "    if role_dict.get(acc) is None:\n",
    "        # successors[trg_acc].extend(successors[acc])\n",
    "        return None\n",
    "    else:\n",
    "        accs = role_dict.get(acc)\n",
    "        if accs is not None:\n",
    "            successors[trg_acc].extend(accs)\n",
    "            for acc in accs:\n",
    "                process_successor(successors, role_dict, trg_acc, acc)\n",
    "\n",
    "def get_successor(onto, knowledge, exceptions=None):\n",
    "    role_dict = get_role_dict(onto, knowledge=knowledge)\n",
    "    successors = defaultdict(list)\n",
    "    for trg_acc in role_dict.keys():\n",
    "        if (exceptions is not None) and (trg_acc in exceptions):\n",
    "            continue\n",
    "        process_successor(successors, role_dict, trg_acc, trg_acc)\n",
    "    return successors\n",
    "\n",
    "trg_scenario = 2\n",
    "bs_successors = get_successor(sparql, 'BS', exceptions)\n",
    "is_successors = get_successor(sparql, 'IS', exceptions)\n",
    "data2 = []\n",
    "n_sample = 5\n",
    "progress_bar = tqdm()\n",
    "words_filtered = get_words_filtered(words, text='FUTURE')\n",
    "\n",
    "for idx_fmt, fmt in enumerate(format_dict[trg_scenario]):\n",
    "    for sub_tree in [bs_successors, is_successors]:\n",
    "        for trg_acc, successors in sub_tree.items():\n",
    "            if trg_acc in exceptions:\n",
    "                continue\n",
    "            target_account = ACC_DICT[trg_acc]['eng_name'].lower()\n",
    "            target_knowledge, target_acc_type, _ = ACC_DICT[trg_acc]['group'].split('-')\n",
    "            for sub_acc in successors:\n",
    "                subject_account = ACC_DICT[sub_acc]['eng_name'].lower()\n",
    "                subject_knowledge, subject_acc_type, _ = ACC_DICT[trg_acc]['group'].split('-')\n",
    "                n = 0\n",
    "                while n < n_sample:\n",
    "                    entities = []\n",
    "\n",
    "                    apply_word, apply_tag, _ = random_sampling(x_dict=words_filtered, x_key='words')\n",
    "                    t = np.random.choice(times, replace=False, p=np.ones(len(times))/len(times))\n",
    "                    t_word, t_tag, _ = random_sampling(x_dict=words_filtered, x_key=t)\n",
    "                    \n",
    "                    number = np.random.randint(1, 99)\n",
    "                    percent = np.random.choice(['percent', '%'], replace=False, p=np.ones(2)/2)\n",
    "                    \n",
    "                    if idx_fmt in [0, 1]:\n",
    "                        # target_account, subject_account, [MASK], random_number + percent/%, [MASK] + year/quarter\n",
    "                        s = fmt.format(\n",
    "                            f_ENT(target_account),\n",
    "                            f_ENT(subject_account), \n",
    "                            f_ENT(apply_word), \n",
    "                            f_ENT(f'{number} {percent}'),\n",
    "                            f_ENT(f'{t_word} {t}')\n",
    "                            )\n",
    "                        # relation = [1, 1, 2]\n",
    "                    else:\n",
    "                        # subject_account, [MASK], random_number + percent/%, [MASK] + year/quarter, target_account\n",
    "                        s = fmt.format(\n",
    "                            f_ENT(subject_account), \n",
    "                            f_ENT(apply_word), \n",
    "                            f_ENT(f'{number} {percent}'),\n",
    "                            f_ENT(f'{t_word} {t}'),\n",
    "                            f_ENT(target_account)\n",
    "                            )\n",
    "                        # relation = [1, 2, 1]\n",
    "                    # entities\n",
    "                    ## target_account\n",
    "                    entities.append(get_entity(s, f_ENT(target_account), f'{target_knowledge}.{target_acc_type}'))\n",
    "                    ## subject_account\n",
    "                    entities.append(get_entity(s, f_ENT(subject_account), f'{subject_knowledge}.{subject_acc_type}'))\n",
    "                    ## MASK apply words\n",
    "                    entities.append(get_entity(s, f_ENT(apply_word), apply_tag))\n",
    "                    ## percentages\n",
    "                    entities.append(get_entity(s, f_ENT(f'{number} {percent}'), 'PERCENT'))\n",
    "                    ## MASK year/quarter\n",
    "                    entities.append(get_entity(s, f_ENT(f'{t_word} {t}'), t_tag))\n",
    "\n",
    "                    d = {'question': s, 'entities': sorted(entities, key=lambda x: x[0]), 'intent': 'IF.fact'} #, 'relation': relation}\n",
    "                    if d not in data2:\n",
    "                        data2.append(\n",
    "                            d\n",
    "                        )\n",
    "                    \n",
    "                    progress_bar.update(1)\n",
    "                    n += 1"
   ]
  },
  {
   "cell_type": "markdown",
   "metadata": {},
   "source": [
    "## Question 3\n",
    "\n",
    "```python\n",
    "# what/how, target_account, [MASK] + year/quarter\n",
    "\"{} will be the {} in the {}?\"\n",
    "```"
   ]
  },
  {
   "cell_type": "code",
   "execution_count": 109,
   "metadata": {},
   "outputs": [
    {
     "data": {
      "application/vnd.jupyter.widget-view+json": {
       "model_id": "119fd2afaac74f688b65fd2e1c464fac",
       "version_major": 2,
       "version_minor": 0
      },
      "text/plain": [
       "0it [00:00, ?it/s]"
      ]
     },
     "metadata": {},
     "output_type": "display_data"
    },
    {
     "name": "stdout",
     "output_type": "stream",
     "text": [
      "1014\n"
     ]
    }
   ],
   "source": [
    "data3 = []\n",
    "trg_scenario = 3\n",
    "progress_bar = tqdm()\n",
    "words_filtered = get_words_filtered(words, text='PAST')\n",
    "\n",
    "for fmt in format_dict[trg_scenario]:\n",
    "    for acc, dic in ACC_DICT.items():\n",
    "        if acc in exceptions:\n",
    "            continue\n",
    "        target_account = dic['eng_name'].lower()\n",
    "        knowledge, acc_type, _ = dic['group'].split('-')\n",
    "        for t in ['year', 'quarter']:\n",
    "            for t_word, t_tag, _ in words_filtered[t]:\n",
    "                entities = []\n",
    "                s = fmt.format(\n",
    "                    np.random.choice(['what', 'how']), \n",
    "                    f_ENT(target_account), \n",
    "                    f_ENT(f'{t_word} {t}')\n",
    "                    )\n",
    "                # relation = [0, 0, 0]\n",
    "                # entities\n",
    "                ## target_account\n",
    "                entities.append(get_entity(s, f_ENT(target_account), f'{knowledge}.{acc_type}'))\n",
    "                ## MASK year/quarter\n",
    "                entities.append(get_entity(s, f_ENT(f'{t_word} {t}'), t_tag))\n",
    "                \n",
    "                data3.append(\n",
    "                    {'question': s, 'entities': entities, 'intent': 'IF.forecast'} #, 'relation': relation}\n",
    "                )\n",
    "                \n",
    "                progress_bar.update(1)\n",
    "\n",
    "all_data = data1 + data2 + data3"
   ]
  },
  {
   "cell_type": "markdown",
   "metadata": {},
   "source": [
    "---"
   ]
  },
  {
   "cell_type": "markdown",
   "metadata": {},
   "source": [
    "# Post-process for entities"
   ]
  },
  {
   "cell_type": "code",
   "execution_count": null,
   "metadata": {},
   "outputs": [],
   "source": [
    "import json\n",
    "\n",
    "special_len = len(s_ENT)+len(e_ENT)\n",
    "\n",
    "for k, x in tqdm(enumerate(all_data), total=len(all_data)):\n",
    "    all_data[k]['question'] = x['question'].replace(s_ENT, '').replace(e_ENT, '')\n",
    "    for i, (s, e, ent) in enumerate(x['entities']):\n",
    "        new_s = s-i*special_len\n",
    "        new_e = new_s+(e-s)-special_len\n",
    "        all_data[k]['entities'][i] = (new_s, new_e, ent)\n",
    "\n",
    "with (data_path / 'all_data.jsonl').open('w', encoding='utf-8') as file:\n",
    "    for line in tqdm(all_data, total=len(all_data), desc='saving'):\n",
    "        file.write(json.dumps(line) + '\\n')"
   ]
  },
  {
   "cell_type": "markdown",
   "metadata": {},
   "source": [
    "---"
   ]
  },
  {
   "cell_type": "markdown",
   "metadata": {},
   "source": [
    "# Traning\n",
    "\n",
    "- Entities\n",
    "- Entities Relation (subject, target)"
   ]
  },
  {
   "cell_type": "markdown",
   "metadata": {},
   "source": [
    "## Dataset"
   ]
  },
  {
   "cell_type": "code",
   "execution_count": 2,
   "metadata": {},
   "outputs": [
    {
     "name": "stderr",
     "output_type": "stream",
     "text": [
      "loading: 100%|██████████| 15220/15220 [00:00<00:00, 82497.61it/s]\n",
      "loading: 100%|██████████| 3060/3060 [00:00<00:00, 161483.79it/s]\n",
      "loading: 100%|██████████| 2996/2996 [00:00<00:00, 130612.88it/s]\n"
     ]
    }
   ],
   "source": [
    "from src.nlu_utils import NLUDataModule, NLUTokenizer, NLUDataset\n",
    "\n",
    "main_path = Path().absolute().parent\n",
    "data_path = main_path / 'data'\n",
    "setting_path = main_path / 'setting_files'\n",
    "\n",
    "with (setting_path / 'train_settings.yml').open('r') as file:\n",
    "    settings = yaml.load(file, Loader=yaml.FullLoader)\n",
    "\n",
    "nlu_tokenizer = NLUTokenizer()\n",
    "\n",
    "data_module = NLUDataModule(\n",
    "    train_path=data_path / settings['train_file'], \n",
    "    valid_path=data_path / settings['valid_file'],\n",
    "    test_path=data_path / settings['test_file'],\n",
    "    labels_path=data_path / settings['labels_file'],\n",
    "    batch_size=settings['batch_size'], \n",
    "    max_len=settings['max_len'],\n",
    "    num_workers=settings['num_workers'],\n",
    "    seed=settings['seed']\n",
    ")\n",
    "data_module.prepare_data()"
   ]
  },
  {
   "cell_type": "markdown",
   "metadata": {},
   "source": [
    "---"
   ]
  },
  {
   "cell_type": "code",
   "execution_count": 29,
   "metadata": {},
   "outputs": [],
   "source": [
    "train_data = data_module.train_data\n",
    "train_dataset = NLUDataset(\n",
    "    train_data, \n",
    "    tags2id=data_module.tags2id, \n",
    "    intents2id=data_module.intents2id,\n",
    ")\n",
    "train_dataloader = data_module.train_dataloader()"
   ]
  },
  {
   "cell_type": "code",
   "execution_count": 30,
   "metadata": {},
   "outputs": [],
   "source": [
    "for x in train_dataloader:\n",
    "    break"
   ]
  },
  {
   "cell_type": "code",
   "execution_count": 36,
   "metadata": {},
   "outputs": [
    {
     "data": {
      "text/plain": [
       "tensor([ 0,  0,  0,  0,  0,  3,  0,  0, 13, 14,  0,  0,  0,  0,  0,  0,  0,  0,\n",
       "         0,  0,  0,  0,  0,  0,  0,  0,  0,  0,  0,  0,  0,  0,  0,  0,  0,  0,\n",
       "         0,  0,  0,  0,  0,  0,  0,  0,  0,  0,  0,  0,  0,  0,  0,  0])"
      ]
     },
     "execution_count": 36,
     "metadata": {},
     "output_type": "execute_result"
    }
   ],
   "source": [
    "x['tags'][-1]"
   ]
  },
  {
   "cell_type": "code",
   "execution_count": 33,
   "metadata": {},
   "outputs": [],
   "source": [
    "from collections import Counter\n",
    "\n",
    "c = Counter()\n",
    "for l in x['tags']:\n",
    "    c.update(l.tolist())"
   ]
  },
  {
   "cell_type": "code",
   "execution_count": 4,
   "metadata": {},
   "outputs": [
    {
     "name": "stderr",
     "output_type": "stream",
     "text": [
      "Reusing dataset conll2003 (C:\\Users\\simon\\.cache\\huggingface\\datasets\\conll2003\\conll2003\\1.0.0\\40e7cb6bcc374f7c349c83acd1e9352a4f09474eb691f64f364ee62eb65d0ca6)\n",
      "100%|██████████| 3/3 [00:00<00:00, 430.13it/s]\n"
     ]
    }
   ],
   "source": [
    "from datasets import load_dataset\n",
    "conll = load_dataset('conll2003')"
   ]
  },
  {
   "cell_type": "code",
   "execution_count": 5,
   "metadata": {},
   "outputs": [],
   "source": [
    "dataset = conll['train']\n",
    "feature = dataset.features['ner_tags'].feature\n",
    "errors = 0\n",
    "x = dataset[1343]\n",
    "text = ' '.join(x['tokens']).lower()\n",
    "doc = nlu_tokenizer.spacy_nlp(text)"
   ]
  },
  {
   "cell_type": "code",
   "execution_count": 6,
   "metadata": {},
   "outputs": [
    {
     "name": "stdout",
     "output_type": "stream",
     "text": [
      "['a', 'west', 'bank', 'bookseller', 'charged', 'on', 'thursday', 'that', 'the', 'palestinian', 'information', 'ministry', 'has', 'forced', 'him', 'to', 'sign', 'an', 'undertaking', 'not', 'to', 'distribute', 'books', 'written', 'by', 'critics', 'of', 'israeli-plo', 'self-rule', 'deals', '.']\n",
      "['O', 'B-LOC', 'I-LOC', 'O', 'O', 'O', 'O', 'O', 'O', 'B-ORG', 'I-ORG', 'I-ORG', 'O', 'O', 'O', 'O', 'O', 'O', 'O', 'O', 'O', 'O', 'O', 'O', 'O', 'O', 'O', 'B-MISC', 'O', 'O', 'O']\n",
      "['a', 'west', 'bank', 'bookseller', 'charged', 'on', 'thursday', 'that', 'the', 'palestinian', 'information', 'ministry', 'has', 'forced', 'him', 'to', 'sign', 'an', 'undertaking', 'not', 'to', 'distribute', 'books', 'written', 'by', 'critics', 'of', 'israeli', '-', 'plo', 'self', '-', 'rule', 'deals', '.']\n",
      "['a', 'west', 'bank', 'books', '##eller', 'charged', 'on', 'thursday', 'that', 'the', 'palestinian', 'information', 'ministry', 'has', 'forced', 'him', 'to', 'sign', 'an', 'undertaking', 'not', 'to', 'distribute', 'books', 'written', 'by', 'critics', 'of', 'israeli', '-', 'pl', '##o', 'self', '-', 'rule', 'deals', '.']\n",
      "[31, 31, 35, 37]\n"
     ]
    }
   ],
   "source": [
    "doc\n",
    "spacy_tokens = list(map(str, doc))\n",
    "tags = list(map(feature.int2str, x['ner_tags']))\n",
    "bert_tokens = nlu_tokenizer.bert_tokenize(text)\n",
    "original_tokens = list(map(str.lower, x['tokens']))\n",
    "\n",
    "print(original_tokens)\n",
    "print(tags)\n",
    "print(spacy_tokens)\n",
    "print(bert_tokens)\n",
    "print(list(map(len, [original_tokens, tags, spacy_tokens, bert_tokens])))"
   ]
  },
  {
   "cell_type": "code",
   "execution_count": 9,
   "metadata": {},
   "outputs": [],
   "source": [
    "from tokenizations import get_alignments\n",
    "from spacy.training import biluo_tags_to_offsets, iob_to_biluo, biluo_to_iob"
   ]
  },
  {
   "cell_type": "code",
   "execution_count": 60,
   "metadata": {},
   "outputs": [
    {
     "name": "stdout",
     "output_type": "stream",
     "text": [
      "['O', 'B-LOC', 'L-LOC', 'O', 'O', 'O', 'O', 'O', 'O', 'B-ORG', 'I-ORG', 'L-ORG', 'O', 'O', 'O', 'O', 'O', 'O', 'O', 'O', 'O', 'O', 'O', 'O', 'O', 'O', 'O', 'B-MISC', 'I-MISC', 'L-MISC', 'O', 'O', 'O', 'O', 'O']\n"
     ]
    }
   ],
   "source": [
    "print(mapped_tags)"
   ]
  },
  {
   "cell_type": "code",
   "execution_count": 62,
   "metadata": {},
   "outputs": [
    {
     "data": {
      "text/plain": [
       "[(2, 11, 'LOC'), (52, 84, 'ORG'), (169, 180, 'MISC')]"
      ]
     },
     "execution_count": 62,
     "metadata": {},
     "output_type": "execute_result"
    }
   ],
   "source": [
    "entities = biluo_tags_to_offsets(doc, mapped_tags)\n",
    "entities"
   ]
  },
  {
   "cell_type": "code",
   "execution_count": null,
   "metadata": {},
   "outputs": [],
   "source": [
    "typ = 'train'\n",
    "dataset = conll[typ]\n",
    "feature = dataset.features['ner_tags'].feature\n",
    "errors = 0\n",
    "for x in tqdm(dataset, total=len(dataset), desc=f'{typ}set'):\n",
    "    text = ' '.join(x['tokens']).lower()\n",
    "    doc = nlu_tokenizer.spacy_nlp(text)\n",
    "\n",
    "    tags = list(map(feature.int2str, x['ner_tags']))\n",
    "    spacy_tokens = list(map(str, doc))\n",
    "    original_tokens = list(map(str.lower, x['tokens']))\n",
    "    mapped_tags = nlu_tokenizer.fix_tags_alignment(\n",
    "        longer_tokens=spacy_tokens, shorter_tokens=original_tokens, tags=tags\n",
    "    )\n",
    "\n",
    "    entities = biluo_tags_to_offsets(doc, mapped_tags)\n",
    "    if not entities:\n",
    "        errors += 1\n",
    "        continue\n",
    "\n",
    "    d = {'text': text, 'entities': entities, 'intent': 'None'}"
   ]
  },
  {
   "cell_type": "code",
   "execution_count": null,
   "metadata": {},
   "outputs": [],
   "source": [
    "print(original_tokens)\n",
    "print(tags)\n",
    "print(spacy_tokens)\n",
    "print(mapped_tags)"
   ]
  },
  {
   "cell_type": "code",
   "execution_count": 10,
   "metadata": {},
   "outputs": [],
   "source": [
    "a2b, b2a = get_alignments(a=original_tokens, b=spacy_tokens)\n",
    "\n",
    "biluo_tags = iob_to_biluo(tags)\n",
    "mapped_tags = ['-'] * len(spacy_tokens)\n",
    "for i, tag in enumerate(biluo_tags):\n",
    "    if tag == 'O':\n",
    "        for k in a2b[i]:\n",
    "            mapped_tags[k] = tag\n",
    "        continue\n",
    "\n",
    "    prefix, label = tag.split('-')\n",
    "    if prefix == 'B':\n",
    "        for j, k in enumerate(a2b[i]):\n",
    "            if j == 0:\n",
    "                mapped_tags[k] = tag\n",
    "            else:\n",
    "                mapped_tags[k] = f'I-{label}'\n",
    "    elif prefix == 'L':\n",
    "        for j, k in enumerate(a2b[i]):\n",
    "            if j == len(a2b[i])-1:\n",
    "                mapped_tags[k] = tag\n",
    "            else:\n",
    "                mapped_tags[k] = f'I-{label}'\n",
    "    elif prefix == 'U':\n",
    "        if len(a2b[i]) == 1:\n",
    "            k = a2b[i][0]\n",
    "            mapped_tags[k] = tag\n",
    "        elif len(a2b[i]) == 2:\n",
    "            b, l = a2b[i]\n",
    "            mapped_tags[b] = f'B-{label}'\n",
    "            mapped_tags[l] = f'L-{label}'\n",
    "        else:\n",
    "            for j, k in enumerate(a2b[i]):\n",
    "                if j == 0:\n",
    "                    mapped_tags[k] = f'B-{label}'\n",
    "                elif j == len(a2b[i])-1:\n",
    "                    mapped_tags[k] = f'L-{label}'\n",
    "                else:\n",
    "                    mapped_tags[k] = f'I-{label}'\n",
    "    else:\n",
    "        for j, k in enumerate(a2b[i]):\n",
    "            mapped_tags[k] = tag"
   ]
  },
  {
   "cell_type": "markdown",
   "metadata": {},
   "source": [
    "# TODO: augmentation 구현하기"
   ]
  },
  {
   "cell_type": "code",
   "execution_count": 27,
   "metadata": {},
   "outputs": [
    {
     "ename": "ModuleNotFoundError",
     "evalue": "No module named 'nlu_utils'",
     "output_type": "error",
     "traceback": [
      "\u001b[1;31m---------------------------------------------------------------------------\u001b[0m",
      "\u001b[1;31mModuleNotFoundError\u001b[0m                       Traceback (most recent call last)",
      "\u001b[1;32m~\\AppData\\Local\\Temp/ipykernel_11188/3296083769.py\u001b[0m in \u001b[0;36m<module>\u001b[1;34m\u001b[0m\n\u001b[0;32m      1\u001b[0m \u001b[1;32mfrom\u001b[0m \u001b[0mtransformers\u001b[0m \u001b[1;32mimport\u001b[0m \u001b[0mpipeline\u001b[0m\u001b[1;33m\u001b[0m\u001b[1;33m\u001b[0m\u001b[0m\n\u001b[0;32m      2\u001b[0m \u001b[1;32mfrom\u001b[0m \u001b[0mspacy\u001b[0m\u001b[1;33m.\u001b[0m\u001b[0mtraining\u001b[0m \u001b[1;32mimport\u001b[0m \u001b[0mbiluo_tags_to_offsets\u001b[0m\u001b[1;33m,\u001b[0m \u001b[0miob_to_biluo\u001b[0m\u001b[1;33m,\u001b[0m \u001b[0moffsets_to_biluo_tags\u001b[0m\u001b[1;33m,\u001b[0m \u001b[0mbiluo_to_iob\u001b[0m\u001b[1;33m\u001b[0m\u001b[1;33m\u001b[0m\u001b[0m\n\u001b[1;32m----> 3\u001b[1;33m \u001b[1;32mfrom\u001b[0m \u001b[0msrc\u001b[0m\u001b[1;33m.\u001b[0m\u001b[0mnlu_createData\u001b[0m \u001b[1;32mimport\u001b[0m \u001b[0mSparqlHandler\u001b[0m\u001b[1;33m\u001b[0m\u001b[1;33m\u001b[0m\u001b[0m\n\u001b[0m\u001b[0;32m      4\u001b[0m \u001b[1;33m\u001b[0m\u001b[0m\n\u001b[0;32m      5\u001b[0m \u001b[0ms_ENT\u001b[0m \u001b[1;33m=\u001b[0m \u001b[1;34m'[E]'\u001b[0m\u001b[1;33m\u001b[0m\u001b[1;33m\u001b[0m\u001b[0m\n",
      "\u001b[1;32mc:\\Users\\simon\\Desktop\\Codes\\FSQA\\src\\nlu_createData.py\u001b[0m in \u001b[0;36m<module>\u001b[1;34m\u001b[0m\n\u001b[0;32m     13\u001b[0m \u001b[1;33m\u001b[0m\u001b[0m\n\u001b[0;32m     14\u001b[0m \u001b[1;32mfrom\u001b[0m \u001b[0msklearn\u001b[0m\u001b[1;33m.\u001b[0m\u001b[0mmodel_selection\u001b[0m \u001b[1;32mimport\u001b[0m \u001b[0mStratifiedShuffleSplit\u001b[0m\u001b[1;33m\u001b[0m\u001b[1;33m\u001b[0m\u001b[0m\n\u001b[1;32m---> 15\u001b[1;33m \u001b[1;32mfrom\u001b[0m \u001b[0mnlu_utils\u001b[0m \u001b[1;32mimport\u001b[0m \u001b[0mNLUTokenizer\u001b[0m\u001b[1;33m\u001b[0m\u001b[1;33m\u001b[0m\u001b[0m\n\u001b[0m\u001b[0;32m     16\u001b[0m \u001b[1;32mfrom\u001b[0m \u001b[0mrdflib\u001b[0m \u001b[1;32mimport\u001b[0m \u001b[0mGraph\u001b[0m\u001b[1;33m,\u001b[0m \u001b[0mLiteral\u001b[0m\u001b[1;33m,\u001b[0m \u001b[0mURIRef\u001b[0m\u001b[1;33m\u001b[0m\u001b[1;33m\u001b[0m\u001b[0m\n\u001b[0;32m     17\u001b[0m \u001b[1;32mfrom\u001b[0m \u001b[0mspacy\u001b[0m\u001b[1;33m.\u001b[0m\u001b[0mtraining\u001b[0m \u001b[1;32mimport\u001b[0m \u001b[0mbiluo_tags_to_offsets\u001b[0m\u001b[1;33m,\u001b[0m \u001b[0miob_to_biluo\u001b[0m\u001b[1;33m,\u001b[0m \u001b[0mbiluo_to_iob\u001b[0m\u001b[1;33m\u001b[0m\u001b[1;33m\u001b[0m\u001b[0m\n",
      "\u001b[1;31mModuleNotFoundError\u001b[0m: No module named 'nlu_utils'"
     ]
    }
   ],
   "source": [
    "from transformers import pipeline\n",
    "from spacy.training import biluo_tags_to_offsets, iob_to_biluo, offsets_to_biluo_tags, biluo_to_iob\n",
    "from src.nlu_createData import SparqlHandler\n",
    "\n",
    "s_ENT = '[E]'\n",
    "e_ENT = '[/E]'\n",
    "f_ENT = lambda x: f'{s_ENT}{x}{e_ENT}'\n",
    "def get_entity(s, x, tag):\n",
    "    idx = s.index(x)\n",
    "    return (idx, idx+len(x), tag)\n",
    "\n",
    "sparql = SparqlHandler(data_path / 'AccountRDF.xml')\n",
    "df_account = pd.read_csv(data_path / 'AccountName.csv', encoding='utf-8')\n",
    "ACC_DICT = defaultdict(dict)\n",
    "for _, row in df_account.iterrows():\n",
    "    acc = row['acc']\n",
    "    eng = row['acc_name_eng']\n",
    "    kor = row['acc_name_kor']\n",
    "    group = row['group']\n",
    "    ACC_DICT[acc]['kor_name'] = kor\n",
    "    ACC_DICT[acc]['eng_name'] = eng\n",
    "    ACC_DICT[acc]['group'] = group\n",
    "\n",
    "df = pd.read_csv(data_path / 'AccountWords.csv', encoding='utf-8')\n",
    "\n",
    "format_dict = {\n",
    "    0: [\n",
    "        # only to train the ner task\n",
    "        # account \n",
    "    ],\n",
    "    1: [\n",
    "        # what/how, target_account, [MASK] + year/quarter\n",
    "        \"{} is the {} in the {}?\",\n",
    "    ], \n",
    "    2: [\n",
    "        # target_account, subject_account, [MASK], random_number + percent/%, [MASK] + year/quarter\n",
    "        \"what happens to the {} when the {} {} by {} in the {}?\",\n",
    "        # target_account, subject_account, [MASK], random_number + percent/%, [MASK] + year/quarter\n",
    "        \"what will be the effect to {} if the {} {} by {} in the {}?\",\n",
    "        # reverse the relation\n",
    "        # subject_account, [MASK], random_number + percent/%, [MASK] + year/quarter, target_account\n",
    "        \"when the {} {} by {} in the {}, what will happen to the {}?\",\n",
    "        # subject_account, [MASK], random_number + percent/%, [MASK] + year/quarter, target_account\n",
    "        \"if the {} {} by {} in the {}, what will be the effect to {}?\"\n",
    "    ],\n",
    "    3: [\n",
    "        # what/how, target_account, [MASK] + year/quarter\n",
    "        \"{} will be the {} in the {}?\"\n",
    "    ]\n",
    "}"
   ]
  },
  {
   "cell_type": "code",
   "execution_count": 3,
   "metadata": {},
   "outputs": [
    {
     "name": "stderr",
     "output_type": "stream",
     "text": [
      "Some weights of the model checkpoint at bert-base-uncased were not used when initializing BertForMaskedLM: ['cls.seq_relationship.bias', 'cls.seq_relationship.weight']\n",
      "- This IS expected if you are initializing BertForMaskedLM from the checkpoint of a model trained on another task or with another architecture (e.g. initializing a BertForSequenceClassification model from a BertForPreTraining model).\n",
      "- This IS NOT expected if you are initializing BertForMaskedLM from the checkpoint of a model that you expect to be exactly identical (initializing a BertForSequenceClassification model from a BertForSequenceClassification model).\n"
     ]
    }
   ],
   "source": [
    "# model_p = 'bert-base-uncased' # 'albert-base-v2' / 'bert-base-uncased'\n",
    "# fillmask = pipeline('fill-mask', model=model_p)\n",
    "# generator = pipeline('text-generation', model='gpt2')\n",
    "# mask_token = fillmask.tokenizer.mask_token"
   ]
  },
  {
   "cell_type": "code",
   "execution_count": null,
   "metadata": {},
   "outputs": [],
   "source": [
    "# generator(f'{target_account}', max_length=50, num_return_sequences=5)"
   ]
  },
  {
   "cell_type": "code",
   "execution_count": 22,
   "metadata": {},
   "outputs": [],
   "source": [
    "import torch\n",
    "from copy import deepcopy\n",
    "from transformers import AutoTokenizer, AutoModelForMaskedLM\n",
    "# , BertTokenizerFast, BertForMaskedLM, AlbertForMaskedLM, AlbertTokenizerFast\n",
    "\n",
    "# model_p = 'bert-base-uncased' # 'albert-base-v2' / 'bert-base-uncased'\n",
    "# fillmask = pipeline('fill-mask', model=model_p)\n",
    "# generator = pipeline('text-generation', model='gpt2')\n",
    "# mask_token = fillmask.tokenizer.mask_token"
   ]
  },
  {
   "cell_type": "code",
   "execution_count": 13,
   "metadata": {},
   "outputs": [],
   "source": [
    "def fill_multi_mask(bert_model, tokenizer, text):\n",
    "    inputs = tokenizer(text, return_tensors='pt')\n",
    "    outputs = bert_model(**inputs)\n",
    "    predictions = outputs[0]\n",
    "    return predictions\n",
    "\n",
    "def template_generator(mask_token, max_length, acc_idxes, target_account):\n",
    "    preset = [mask_token] * max_length\n",
    "    candidates = []\n",
    "    for i in acc_idxes:\n",
    "        temp = deepcopy(preset)\n",
    "        temp[i] = target_account\n",
    "        candidates.append(' '.join(temp))\n",
    "    return candidates\n",
    "\n",
    "def get_aug_sequences(tokenizer, model, cands, top_k, max_length):\n",
    "    number_of_mask_token = max_length-1\n",
    "    m_l = 0\n",
    "    while m_l < number_of_mask_token:\n",
    "        cands_tokens = [tokenizer.tokenize(c, padding=True, truncation=True) for c in cands]\n",
    "        infer_indices = []\n",
    "        for c in cands_tokens:\n",
    "            mask_idx = list(np.arange(len(c))[np.array(c) == '[MASK]'])\n",
    "            choosed_idx = np.random.choice(mask_idx)\n",
    "            infer_indices.append(choosed_idx)\n",
    "        \n",
    "        inputs = tokenizer(cands, padding=True, truncation=True, return_tensors='pt')\n",
    "        o = model(**inputs)[0][:, 1:-1]\n",
    "        _, sorted_idx = o.sort(dim=-1, descending=True)\n",
    "        predict_ids = sorted_idx[torch.arange(sorted_idx.size(0)), infer_indices, :top_k]\n",
    "\n",
    "        cands_tensors = inputs['input_ids'][:, 1:-1]\n",
    "        cands_tensors = cands_tensors.unsqueeze(1).expand(cands_tensors.size(0), top_k, cands_tensors.size(1)).clone()\n",
    "        cands_tensors[torch.arange(cands_tensors.size(0)), :, infer_indices] = predict_ids\n",
    "        cands = [tokenizer.decode(c) for c in cands_tensors.view(cands_tensors.size(0)*top_k, -1)]\n",
    "        m_l += 1\n",
    "    cands = [c.replace(tokenizer.pad_token, '').strip() for c in cands]\n",
    "    return cands"
   ]
  },
  {
   "cell_type": "code",
   "execution_count": 23,
   "metadata": {},
   "outputs": [],
   "source": [
    "model_dict = dict(\n",
    "    enumerate([\n",
    "    'bert-base-uncased',  # 0\n",
    "    'albert-base-v2',  # 1\n",
    "    'roberta-base',  # 2\n",
    "    'google/electra-base-generator'  # 3\n",
    "    ])\n",
    ")\n",
    "model_path = model_dict[3]\n",
    "model = AutoModelForMaskedLM.from_pretrained(model_path)  # albert_model / bert_model\n",
    "tokenizer = AutoTokenizer.from_pretrained(model_path)  # albert_tokenizer / bert_tokenizer\n",
    "# fillmask = pipeline('fill-mask', model=model_path)\n",
    "# generator = pipeline('text-generation', model='gpt2')\n",
    "# mask_token = fillmask.tokenizer.mask_token"
   ]
  },
  {
   "cell_type": "code",
   "execution_count": 24,
   "metadata": {},
   "outputs": [
    {
     "data": {
      "text/plain": [
       "['[UNK]', '[SEP]', '[PAD]', '[CLS]', '[MASK]']"
      ]
     },
     "execution_count": 24,
     "metadata": {},
     "output_type": "execute_result"
    }
   ],
   "source": [
    "tokenizer.all_special_tokens"
   ]
  },
  {
   "cell_type": "code",
   "execution_count": 10,
   "metadata": {},
   "outputs": [
    {
     "data": {
      "application/vnd.jupyter.widget-view+json": {
       "model_id": "e648e68adb3242559c31667d0ff59dc0",
       "version_major": 2,
       "version_minor": 0
      },
      "text/plain": [
       "0it [00:00, ?it/s]"
      ]
     },
     "metadata": {},
     "output_type": "display_data"
    },
    {
     "ename": "NameError",
     "evalue": "name 'f_ENT' is not defined",
     "output_type": "error",
     "traceback": [
      "\u001b[1;31m---------------------------------------------------------------------------\u001b[0m",
      "\u001b[1;31mNameError\u001b[0m                                 Traceback (most recent call last)",
      "\u001b[1;32m~\\AppData\\Local\\Temp/ipykernel_2784/1183438320.py\u001b[0m in \u001b[0;36m<module>\u001b[1;34m\u001b[0m\n\u001b[0;32m     28\u001b[0m         \u001b[1;32mif\u001b[0m \u001b[0ml\u001b[0m \u001b[1;33m==\u001b[0m \u001b[1;36m1\u001b[0m\u001b[1;33m:\u001b[0m\u001b[1;33m\u001b[0m\u001b[1;33m\u001b[0m\u001b[0m\n\u001b[0;32m     29\u001b[0m             \u001b[1;31m# skip fill mask\u001b[0m\u001b[1;33m\u001b[0m\u001b[1;33m\u001b[0m\u001b[1;33m\u001b[0m\u001b[0m\n\u001b[1;32m---> 30\u001b[1;33m             \u001b[0msentences\u001b[0m \u001b[1;33m=\u001b[0m \u001b[1;33m[\u001b[0m\u001b[0mf_ENT\u001b[0m\u001b[1;33m(\u001b[0m\u001b[0mtarget_account\u001b[0m\u001b[1;33m)\u001b[0m\u001b[1;33m]\u001b[0m\u001b[1;33m\u001b[0m\u001b[1;33m\u001b[0m\u001b[0m\n\u001b[0m\u001b[0;32m     31\u001b[0m         \u001b[1;32melse\u001b[0m\u001b[1;33m:\u001b[0m\u001b[1;33m\u001b[0m\u001b[1;33m\u001b[0m\u001b[0m\n\u001b[0;32m     32\u001b[0m             \u001b[1;31m# fill mask\u001b[0m\u001b[1;33m\u001b[0m\u001b[1;33m\u001b[0m\u001b[1;33m\u001b[0m\u001b[0m\n",
      "\u001b[1;31mNameError\u001b[0m: name 'f_ENT' is not defined"
     ]
    }
   ],
   "source": [
    "template_token_lengths = 4\n",
    "top_k = 5\n",
    "exceptions = ['BalanceSheet', 'IncomeStatement', 'Ratios', 'CalendarOneYear']\n",
    "data0 = []\n",
    "progress_bar = tqdm()\n",
    "\n",
    "model_dict = dict(\n",
    "    enumerate([\n",
    "    'bert-base-uncased',  # 0\n",
    "    'albert-base-v2',  # 1\n",
    "    'roberta-base',  # 2\n",
    "    'google/electra-base-generator'  # 3\n",
    "    ])\n",
    ")\n",
    "model_path = model_dict[3]\n",
    "model = AutoModelForMaskedLM.from_pretrained(model_path)  # albert_model / bert_model\n",
    "tokenizer = AutoTokenizer.from_pretrained(model_path)  # albert_tokenizer / bert_tokenizer\n",
    "\n",
    "for acc, dic in ACC_DICT.items():\n",
    "    if acc in exceptions:\n",
    "        continue\n",
    "    target_account = dic['eng_name'].lower()\n",
    "    knowledge, acc_type, _ = dic['group'].split('-')\n",
    "    target_entitiy = f'{knowledge}'\n",
    "    for l in range(1, template_token_lengths+1):\n",
    "        progress_bar.set_description(f'{target_account}, {target_entitiy}: length-{l}')\n",
    "\n",
    "        if l == 1:\n",
    "            # skip fill mask\n",
    "            sentences = [f_ENT(target_account)]\n",
    "        else:\n",
    "            # fill mask\n",
    "            acc_idxes = np.random.choice(range(l), size=(l,), replace=False)\n",
    "\n",
    "            cands = template_generator(\n",
    "                mask_token=mask_token, \n",
    "                max_length=l,\n",
    "                acc_idxes=acc_idxes,\n",
    "                target_account=target_account\n",
    "            )\n",
    "            sentences = get_aug_sequences(\n",
    "                tokenizer=tokenizer, \n",
    "                model=model, \n",
    "                cands=cands, \n",
    "                top_k=top_k, \n",
    "                max_length=l\n",
    "            )\n",
    "            sentences = [f'{f_ENT(target_account)}'.join(aug_sent.split(target_account)) for aug_sent in sentences]\n",
    "        for s in sentences:\n",
    "            entities = []\n",
    "            entities.append(get_entity(s, f_ENT(target_account), target_entitiy))\n",
    "            data0.append(\n",
    "                {'text': s, 'entities': sorted(entities, key=lambda x: x[0]), 'intent': 'None'} \n",
    "            )\n",
    "            progress_bar.update(1)\n",
    "        \n",
    "        if l == 3:\n",
    "            break\n",
    "    break "
   ]
  },
  {
   "cell_type": "code",
   "execution_count": 48,
   "metadata": {},
   "outputs": [],
   "source": [
    "l = 4\n",
    "acc_idxes = np.random.choice(range(l), size=(l,), replace=False)\n",
    "\n",
    "def template_generator(mask_token, max_length, acc_idxes, target_account):\n",
    "    preset = [mask_token] * max_length\n",
    "    candidates = []\n",
    "    for i in acc_idxes:\n",
    "        temp = deepcopy(preset)\n",
    "        temp[i] = target_account\n",
    "        candidates.append(' '.join(temp))\n",
    "    return candidates\n",
    "\n",
    "cands = template_generator(\n",
    "    mask_token=mask_token, \n",
    "    max_length=l,\n",
    "    acc_idxes=acc_idxes,\n",
    "    target_account=target_account\n",
    ")\n",
    "\n",
    "max_length = l\n",
    "number_of_mask_token = max_length-1\n",
    "m_l = 0\n",
    "while m_l < number_of_mask_token:\n",
    "    cands_tokens = [tokenizer.tokenize(c, truncation=True) for c in cands]\n",
    "    infer_indices = []\n",
    "    for c in cands_tokens:\n",
    "        mask_idx = list(np.arange(len(c))[np.array(c) == '[MASK]'])\n",
    "        choosed_idx = np.random.choice(mask_idx)\n",
    "        infer_indices.append(choosed_idx)\n",
    "    \n",
    "    inputs = tokenizer(cands, return_tensors='pt')\n",
    "    o = model(**inputs)[0][:, 1:-1]\n",
    "    _, sorted_idx = o.sort(dim=-1, descending=True)\n",
    "    predict_ids = sorted_idx[torch.arange(sorted_idx.size(0)), infer_indices, :top_k]\n",
    "\n",
    "    cands_tensors = inputs['input_ids'][:, 1:-1]\n",
    "    cands_tensors = cands_tensors.unsqueeze(1).expand(cands_tensors.size(0), top_k, cands_tensors.size(1)).clone()\n",
    "    cands_tensors[torch.arange(cands_tensors.size(0)), :, infer_indices] = predict_ids\n",
    "    cands = [tokenizer.decode(c) for c in cands_tensors.view(cands_tensors.size(0)*top_k, -1)]\n",
    "    if m_l == max_length-3:\n",
    "        break\n",
    "    m_l += 1"
   ]
  },
  {
   "cell_type": "code",
   "execution_count": 52,
   "metadata": {},
   "outputs": [
    {
     "data": {
      "text/plain": [
       "torch.Size([20, 7])"
      ]
     },
     "execution_count": 52,
     "metadata": {},
     "output_type": "execute_result"
    }
   ],
   "source": [
    "inputs['input_ids'].size()"
   ]
  },
  {
   "cell_type": "code",
   "execution_count": 53,
   "metadata": {},
   "outputs": [],
   "source": [
    "ds = TensorDataset(inputs['input_ids'], inputs['token_type_ids'], inputs['attention_mask'])"
   ]
  },
  {
   "cell_type": "code",
   "execution_count": 74,
   "metadata": {},
   "outputs": [],
   "source": [
    "batch_size = 3\n",
    "batch_cands = []\n",
    "for i, x in enumerate(DataLoader(ds, batch_size=batch_size)):\n",
    "    batch_infer_indices = infer_indices[(i*batch_size):((i+1)*batch_size)]\n",
    "    o = model(input_ids=x[0], token_type_ids=x[1], attention_mask=x[2])[0][:, 1:-1]\n",
    "    _, sorted_idx = o.sort(dim=-1, descending=True)\n",
    "    predict_ids = sorted_idx[torch.arange(sorted_idx.size(0)), batch_infer_indices, :top_k]\n",
    "\n",
    "    cands_tensors = x[0][:, 1:-1]\n",
    "    cands_tensors = cands_tensors.unsqueeze(1).expand(cands_tensors.size(0), top_k, cands_tensors.size(1)).clone()\n",
    "    cands_tensors[torch.arange(cands_tensors.size(0)), :, batch_infer_indices] = predict_ids\n",
    "    batch_cands.extend([tokenizer.decode(c) for c in cands_tensors.view(cands_tensors.size(0)*top_k, -1)])\n"
   ]
  },
  {
   "cell_type": "code",
   "execution_count": 75,
   "metadata": {},
   "outputs": [
    {
     "data": {
      "text/plain": [
       "100"
      ]
     },
     "execution_count": 75,
     "metadata": {},
     "output_type": "execute_result"
    }
   ],
   "source": [
    "len(batch_cands)"
   ]
  },
  {
   "cell_type": "code",
   "execution_count": 72,
   "metadata": {},
   "outputs": [
    {
     "data": {
      "text/plain": [
       "[2, 1, 2, 2, 2, 4, 4, 1, 1, 4, 4, 3, 3, 3, 3, 4, 4, 2, 2, 2]"
      ]
     },
     "execution_count": 72,
     "metadata": {},
     "output_type": "execute_result"
    }
   ],
   "source": [
    "infer_indices"
   ]
  },
  {
   "cell_type": "code",
   "execution_count": null,
   "metadata": {},
   "outputs": [],
   "source": []
  },
  {
   "cell_type": "code",
   "execution_count": 20,
   "metadata": {},
   "outputs": [],
   "source": [
    "from tqdm.notebook import tqdm\n",
    "import time"
   ]
  },
  {
   "cell_type": "code",
   "execution_count": 21,
   "metadata": {},
   "outputs": [
    {
     "data": {
      "application/vnd.jupyter.widget-view+json": {
       "model_id": "8cd7185b2910454db0a75aae35a1b6ec",
       "version_major": 2,
       "version_minor": 0
      },
      "text/plain": [
       "0it [00:00, ?it/s]"
      ]
     },
     "metadata": {},
     "output_type": "display_data"
    },
    {
     "name": "stderr",
     "output_type": "stream",
     "text": [
      "abc:  91%|█████████ | 91/100 [00:14<00:01,  6.24it/s, 90]\n"
     ]
    },
    {
     "ename": "KeyboardInterrupt",
     "evalue": "",
     "output_type": "error",
     "traceback": [
      "\u001b[1;31m---------------------------------------------------------------------------\u001b[0m",
      "\u001b[1;31mKeyboardInterrupt\u001b[0m                         Traceback (most recent call last)",
      "\u001b[1;32m~\\AppData\\Local\\Temp/ipykernel_11188/1238654393.py\u001b[0m in \u001b[0;36m<module>\u001b[1;34m\u001b[0m\n\u001b[0;32m     15\u001b[0m \u001b[1;32mfor\u001b[0m \u001b[0mi\u001b[0m \u001b[1;32min\u001b[0m \u001b[0mrange\u001b[0m\u001b[1;33m(\u001b[0m\u001b[1;36m200\u001b[0m\u001b[1;33m)\u001b[0m\u001b[1;33m:\u001b[0m\u001b[1;33m\u001b[0m\u001b[1;33m\u001b[0m\u001b[0m\n\u001b[0;32m     16\u001b[0m     \u001b[0mpb\u001b[0m\u001b[1;33m.\u001b[0m\u001b[0mupdate\u001b[0m\u001b[1;33m(\u001b[0m\u001b[1;36m1\u001b[0m\u001b[1;33m)\u001b[0m\u001b[1;33m\u001b[0m\u001b[1;33m\u001b[0m\u001b[0m\n\u001b[1;32m---> 17\u001b[1;33m     \u001b[0mtime\u001b[0m\u001b[1;33m.\u001b[0m\u001b[0msleep\u001b[0m\u001b[1;33m(\u001b[0m\u001b[1;36m0.1\u001b[0m\u001b[1;33m)\u001b[0m\u001b[1;33m\u001b[0m\u001b[1;33m\u001b[0m\u001b[0m\n\u001b[0m",
      "\u001b[1;31mKeyboardInterrupt\u001b[0m: "
     ]
    }
   ],
   "source": [
    "pb = tqdm()\n",
    "\n",
    "loader = range(100)\n",
    "pb.set_description_str('abc')\n",
    "pb.reset(total=100)\n",
    "\n",
    "for i in loader:\n",
    "    pb.set_postfix_str(f'{i}')\n",
    "    pb.update(1)\n",
    "    time.sleep(0.1)\n",
    "pb.refresh()\n",
    "# time.sleep(1)\n",
    "\n",
    "pb.reset(total=200)\n",
    "for i in range(200):\n",
    "    pb.update(1)\n",
    "    time.sleep(0.1)"
   ]
  },
  {
   "cell_type": "code",
   "execution_count": 24,
   "metadata": {},
   "outputs": [
    {
     "data": {
      "text/plain": [
       "'what happens to the [E]sales and selling general administrative ratio[/E] when the [E]cost of sales ratio[/E] [E]decreases[/E] by [E]17 %[/E] in the [E]first quarter[/E]'"
      ]
     },
     "execution_count": 24,
     "metadata": {},
     "output_type": "execute_result"
    }
   ],
   "source": [
    "def remapping(text, ents):\n",
    "    splitted = []\n",
    "    text_copy = text[:]\n",
    "    e_prev = 0\n",
    "    for s, e, _ in ents:\n",
    "        new_s = s-e_prev\n",
    "        new_e = e-e_prev\n",
    "        splitted.append(text_copy[:new_s])\n",
    "        splitted.append(f_ENT(text_copy[new_s:new_e]))\n",
    "        text_copy = text_copy[new_e:]\n",
    "        e_prev = e\n",
    "    new_text = ''.join(splitted)\n",
    "    return new_text\n",
    "\n",
    "remapped_text = remapping(text, ents)\n",
    "remapped_text"
   ]
  },
  {
   "cell_type": "code",
   "execution_count": 4,
   "metadata": {},
   "outputs": [],
   "source": [
    "from torch.utils.data import DataLoader, TensorDataset"
   ]
  },
  {
   "cell_type": "code",
   "execution_count": null,
   "metadata": {},
   "outputs": [],
   "source": []
  },
  {
   "cell_type": "code",
   "execution_count": 25,
   "metadata": {},
   "outputs": [
    {
     "name": "stdout",
     "output_type": "stream",
     "text": [
      "5\n"
     ]
    },
    {
     "ename": "ValueError",
     "evalue": "Some Tokens are not properly assigned['O', 'O', 'O', 'O', 'O', '-', '-', '-', '-', '-', '-', '-', 'O', '-', '-', '-', '-', '-', '-', '-', 'O', '-', '-', '-', '-', '-', '-', 'O', 'O', 'O', 'O', 'O', 'O', 'O', 'O', 'O']",
     "output_type": "error",
     "traceback": [
      "\u001b[1;31m---------------------------------------------------------------------------\u001b[0m",
      "\u001b[1;31mValueError\u001b[0m                                Traceback (most recent call last)",
      "\u001b[1;32m~\\AppData\\Local\\Temp/ipykernel_5040/3342560715.py\u001b[0m in \u001b[0;36m<module>\u001b[1;34m\u001b[0m\n\u001b[0;32m      2\u001b[0m \u001b[1;33m\u001b[0m\u001b[0m\n\u001b[0;32m      3\u001b[0m \u001b[0mbert_offset_mapping\u001b[0m \u001b[1;33m=\u001b[0m \u001b[0mnlu_tokenizer\u001b[0m\u001b[1;33m.\u001b[0m\u001b[0mbert\u001b[0m\u001b[1;33m(\u001b[0m\u001b[0mremapped_text\u001b[0m\u001b[1;33m,\u001b[0m \u001b[0madd_special_tokens\u001b[0m\u001b[1;33m=\u001b[0m\u001b[1;32mTrue\u001b[0m\u001b[1;33m,\u001b[0m \u001b[0mreturn_offsets_mapping\u001b[0m\u001b[1;33m=\u001b[0m\u001b[1;32mTrue\u001b[0m\u001b[1;33m)\u001b[0m\u001b[1;33m[\u001b[0m\u001b[1;34m'offset_mapping'\u001b[0m\u001b[1;33m]\u001b[0m\u001b[1;33m\u001b[0m\u001b[1;33m\u001b[0m\u001b[0m\n\u001b[1;32m----> 4\u001b[1;33m \u001b[0mtags\u001b[0m \u001b[1;33m=\u001b[0m \u001b[0mnlu_tokenizer\u001b[0m\u001b[1;33m.\u001b[0m\u001b[0moffset_mapping_to_tags\u001b[0m\u001b[1;33m(\u001b[0m\u001b[0moffset_mapping\u001b[0m\u001b[1;33m=\u001b[0m\u001b[0mbert_offset_mapping\u001b[0m\u001b[1;33m,\u001b[0m \u001b[0ments\u001b[0m\u001b[1;33m=\u001b[0m\u001b[0ments\u001b[0m\u001b[1;33m)\u001b[0m\u001b[1;33m\u001b[0m\u001b[1;33m\u001b[0m\u001b[0m\n\u001b[0m\u001b[0;32m      5\u001b[0m \u001b[0mtags\u001b[0m \u001b[1;33m=\u001b[0m \u001b[0mbiluo_to_iob\u001b[0m\u001b[1;33m(\u001b[0m\u001b[0mtags\u001b[0m\u001b[1;33m)\u001b[0m\u001b[1;33m\u001b[0m\u001b[1;33m\u001b[0m\u001b[0m\n",
      "\u001b[1;32mc:\\Users\\simon\\Desktop\\Codes\\FSQA\\src\\nlu_utils.py\u001b[0m in \u001b[0;36moffset_mapping_to_tags\u001b[1;34m(self, offset_mapping, ents)\u001b[0m\n\u001b[0;32m    201\u001b[0m         \u001b[1;32mif\u001b[0m \u001b[1;34m'-'\u001b[0m \u001b[1;32min\u001b[0m \u001b[0mlabels\u001b[0m\u001b[1;33m:\u001b[0m\u001b[1;33m\u001b[0m\u001b[1;33m\u001b[0m\u001b[0m\n\u001b[0;32m    202\u001b[0m             \u001b[0mprint\u001b[0m\u001b[1;33m(\u001b[0m\u001b[0mlabels\u001b[0m\u001b[1;33m.\u001b[0m\u001b[0mindex\u001b[0m\u001b[1;33m(\u001b[0m\u001b[1;34m'-'\u001b[0m\u001b[1;33m)\u001b[0m\u001b[1;33m)\u001b[0m\u001b[1;33m\u001b[0m\u001b[1;33m\u001b[0m\u001b[0m\n\u001b[1;32m--> 203\u001b[1;33m             \u001b[1;32mraise\u001b[0m \u001b[0mValueError\u001b[0m\u001b[1;33m(\u001b[0m\u001b[1;34m'Some Tokens are not properly assigned'\u001b[0m \u001b[1;33m+\u001b[0m \u001b[1;34mf'{labels}'\u001b[0m\u001b[1;33m)\u001b[0m\u001b[1;33m\u001b[0m\u001b[1;33m\u001b[0m\u001b[0m\n\u001b[0m\u001b[0;32m    204\u001b[0m \u001b[1;33m\u001b[0m\u001b[0m\n\u001b[0;32m    205\u001b[0m         \u001b[1;32mreturn\u001b[0m \u001b[0mlabels\u001b[0m\u001b[1;33m\u001b[0m\u001b[1;33m\u001b[0m\u001b[0m\n",
      "\u001b[1;31mValueError\u001b[0m: Some Tokens are not properly assigned['O', 'O', 'O', 'O', 'O', '-', '-', '-', '-', '-', '-', '-', 'O', '-', '-', '-', '-', '-', '-', '-', 'O', '-', '-', '-', '-', '-', '-', 'O', 'O', 'O', 'O', 'O', 'O', 'O', 'O', 'O']"
     ]
    }
   ],
   "source": [
    "bert_tokens = nlu_tokenizer.bert_tokenize(remapped_text)\n",
    "\n",
    "bert_offset_mapping = nlu_tokenizer.bert(remapped_text, add_special_tokens=True, return_offsets_mapping=True)['offset_mapping']\n",
    "tags = nlu_tokenizer.offset_mapping_to_tags(offset_mapping=bert_offset_mapping, ents=ents)\n",
    "tags = biluo_to_iob(tags)"
   ]
  },
  {
   "cell_type": "code",
   "execution_count": 15,
   "metadata": {},
   "outputs": [
    {
     "data": {
      "text/plain": [
       "[0, 1, 2, 3, 10, 11, 17, 20, 21, 24]"
      ]
     },
     "execution_count": 15,
     "metadata": {},
     "output_type": "execute_result"
    }
   ],
   "source": [
    "masks = [i for i, t in enumerate(tags) if t == 'O']\n",
    "masks"
   ]
  },
  {
   "cell_type": "code",
   "execution_count": 16,
   "metadata": {},
   "outputs": [
    {
     "name": "stdout",
     "output_type": "stream",
     "text": [
      "17\n"
     ]
    },
    {
     "data": {
      "text/plain": [
       "['what happens to the sales and selling general administrative ratio when the cost of sales ratio decreases below 17 % in the first quarter?',\n",
       " 'what happens to the sales and selling general administrative ratio when the cost of sales ratio decreases to 17 % in the first quarter?']"
      ]
     },
     "execution_count": 16,
     "metadata": {},
     "output_type": "execute_result"
    }
   ],
   "source": [
    "K = np.random.choice(masks)\n",
    "print(K)\n",
    "masked_sentence = \" \".join(bert_tokens[:K] + [mask_token] + bert_tokens[K+1:])\n",
    "predictions = fillmask(masked_sentence)\n",
    "augmented_sequences = [predictions[i]['sequence'] for i in range(3) if predictions[i]['sequence'] != text]\n",
    "for aug_s in augmented_sequences:\n",
    "    nlu_tokenizer.bert_tokenize(aug_s)\n",
    "augmented_sequences"
   ]
  },
  {
   "cell_type": "code",
   "execution_count": 17,
   "metadata": {},
   "outputs": [
    {
     "data": {
      "text/plain": [
       "'what happens to the sales and selling general administrative ratio when the cost of sales ratio decreases to 17 % in the first quarter?'"
      ]
     },
     "execution_count": 17,
     "metadata": {},
     "output_type": "execute_result"
    }
   ],
   "source": [
    "aug_s"
   ]
  },
  {
   "cell_type": "code",
   "execution_count": 71,
   "metadata": {},
   "outputs": [
    {
     "data": {
      "text/plain": [
       "'what happens to the sales and selling general administrative ratio when gross cost of sales ratio decreases by 17 % in the first quarter?'"
      ]
     },
     "execution_count": 71,
     "metadata": {},
     "output_type": "execute_result"
    }
   ],
   "source": [
    "# offset mapping 통해서 다시 entities 매핑하기!\n",
    "aug_s"
   ]
  },
  {
   "cell_type": "code",
   "execution_count": 47,
   "metadata": {},
   "outputs": [
    {
     "data": {
      "text/plain": [
       "'what happens to the sales and selling general administrative ratio when the cost of sales ratio decreases by 17 % in the first quarter?\"'"
      ]
     },
     "execution_count": 47,
     "metadata": {},
     "output_type": "execute_result"
    }
   ],
   "source": [
    "aug_s"
   ]
  },
  {
   "cell_type": "code",
   "execution_count": 43,
   "metadata": {},
   "outputs": [
    {
     "data": {
      "text/plain": [
       "'what happens to the sales and selling general administrative ratio when the cost of sales ratio decreases by 17 % in the first quarter?'"
      ]
     },
     "execution_count": 43,
     "metadata": {},
     "output_type": "execute_result"
    }
   ],
   "source": [
    "aug_s"
   ]
  },
  {
   "cell_type": "code",
   "execution_count": 45,
   "metadata": {},
   "outputs": [
    {
     "data": {
      "text/plain": [
       "['what',\n",
       " 'happens',\n",
       " 'to',\n",
       " 'the',\n",
       " 'sales',\n",
       " 'and',\n",
       " 'selling',\n",
       " 'general',\n",
       " 'administrative',\n",
       " 'ratio',\n",
       " 'when',\n",
       " 'the',\n",
       " 'cost',\n",
       " 'of',\n",
       " 'sales',\n",
       " 'ratio',\n",
       " 'decreases',\n",
       " 'by',\n",
       " '17',\n",
       " '%',\n",
       " 'in',\n",
       " 'the',\n",
       " 'first',\n",
       " 'quarter',\n",
       " '?',\n",
       " '\"']"
      ]
     },
     "execution_count": 45,
     "metadata": {},
     "output_type": "execute_result"
    }
   ],
   "source": [
    "nlu_tokenizer.bert_tokenize(augmented_sequences[1])"
   ]
  },
  {
   "cell_type": "code",
   "execution_count": 35,
   "metadata": {},
   "outputs": [
    {
     "data": {
      "text/plain": [
       "['what',\n",
       " 'happens',\n",
       " 'to',\n",
       " 'the',\n",
       " 'sales',\n",
       " 'and',\n",
       " 'selling',\n",
       " 'general',\n",
       " 'administrative',\n",
       " 'ratio',\n",
       " 'when',\n",
       " 'the',\n",
       " 'cost',\n",
       " 'of',\n",
       " 'sales',\n",
       " 'ratio',\n",
       " 'decreases',\n",
       " 'by',\n",
       " '17',\n",
       " '%',\n",
       " 'since',\n",
       " 'the',\n",
       " 'first',\n",
       " 'quarter',\n",
       " '?']"
      ]
     },
     "execution_count": 35,
     "metadata": {},
     "output_type": "execute_result"
    }
   ],
   "source": [
    "nlu_tokenizer.bert_tokenize(augmented_sequences[0])"
   ]
  },
  {
   "cell_type": "code",
   "execution_count": 28,
   "metadata": {},
   "outputs": [
    {
     "data": {
      "text/plain": [
       "['what happens to the sales and selling general administrative ratio when the cost of sales ratio decreases by 17 % since the first quarter?',\n",
       " 'what happens to the sales and selling general administrative ratio when the cost of sales ratio decreases by 17 % over the first quarter?',\n",
       " 'what happens to the sales and selling general administrative ratio when the cost of sales ratio decreases by 17 % in the first quarter?']"
      ]
     },
     "execution_count": 28,
     "metadata": {},
     "output_type": "execute_result"
    }
   ],
   "source": [
    "augmented_sequences"
   ]
  },
  {
   "cell_type": "code",
   "execution_count": 76,
   "metadata": {},
   "outputs": [],
   "source": [
    "tags = nlu_tokenizer.get_tags(text, ents, tag_type='iob')\n",
    "spacy_tokens = nlu_tokenizer.spacy_tokenize(text)\n",
    "bert_tokens = nlu_tokenizer.bert_tokenize(text)\n",
    "spanned_tags = nlu_tokenizer.map_spanned_tokens(\n",
    "    longer_tokens=bert_tokens, shorter_token=spacy_tokens, tags=tags\n",
    ")\n",
    "bert_encodes = nlu_tokenizer(\n",
    "    text, \n",
    "    add_special_tokens=True, \n",
    "    truncation=True, \n",
    "    max_length=256\n",
    ")\n"
   ]
  },
  {
   "cell_type": "code",
   "execution_count": 77,
   "metadata": {},
   "outputs": [
    {
     "data": {
      "text/plain": [
       "['O',\n",
       " 'O',\n",
       " 'O',\n",
       " 'O',\n",
       " 'B-IS.Ratio',\n",
       " 'I-IS.Ratio',\n",
       " 'O',\n",
       " 'O',\n",
       " 'B-IS.Ratio',\n",
       " 'I-IS.Ratio',\n",
       " 'I-IS.Ratio',\n",
       " 'B-APPLY',\n",
       " 'O',\n",
       " 'B-PERCENT',\n",
       " 'I-PERCENT',\n",
       " 'O',\n",
       " 'O',\n",
       " 'B-TIME',\n",
       " 'I-TIME',\n",
       " 'O']"
      ]
     },
     "execution_count": 77,
     "metadata": {},
     "output_type": "execute_result"
    }
   ],
   "source": [
    "outputs = []\n",
    "for sentence in spanned_tags:\n",
    "    words = sentence.split(' ')\n",
    "    K = np.random.randint(1, len(words)-1)\n",
    "    masked_sentence = \" \".join(words[:K]  + [mask_token] + words[K+1:])\n",
    "    predictions = fillmask(masked_sentence)\n",
    "    augmented_sequences = [predictions[i]['sequence'] for i in range(3)]\n",
    "    outputs += [sentence] + augmented_sequences"
   ]
  },
  {
   "cell_type": "code",
   "execution_count": 55,
   "metadata": {},
   "outputs": [],
   "source": [
    "bert_offset_mapping = nlu_tokenizer.bert(text, add_special_tokens=False, return_offsets_mapping=True)['offset_mapping']\n",
    "bert_tokens = nlu_tokenizer.bert_tokenize(text) "
   ]
  },
  {
   "cell_type": "code",
   "execution_count": 24,
   "metadata": {},
   "outputs": [],
   "source": [
    "spacy_tokens = nlu_tokenizer.spacy_tokenize(text)\n",
    "bert_encodes = nlu_tokenizer.bert(text, add_special_tokens=False, return_offsets_mapping=True)\n",
    "bert_offset_mapping = bert_encodes['offset_mapping']\n",
    "# bert_tokens = [nlu_tokenizer.bert_decode([i]) for i in bert_encodes['input_ids']]\n",
    "bert_tokens = nlu_tokenizer.bert_tokenize(text) "
   ]
  },
  {
   "cell_type": "code",
   "execution_count": 70,
   "metadata": {},
   "outputs": [
    {
     "data": {
      "text/plain": [
       "(['was', \"n't\"], ['wasn', \"'\", 't'])"
      ]
     },
     "execution_count": 70,
     "metadata": {},
     "output_type": "execute_result"
    }
   ],
   "source": [
    "spacy_tokens, bert_tokens"
   ]
  },
  {
   "cell_type": "code",
   "execution_count": 71,
   "metadata": {},
   "outputs": [],
   "source": [
    "index = 2314\n",
    "data = train_data[index]\n",
    "text = data['text']\n",
    "ents = data['entities']\n",
    "intent = data['intent']\n",
    "\n",
    "encodes = nlu_tokenizer.bert.encode_plus(\n",
    "    text, \n",
    "    add_special_tokens=True, \n",
    "    truncation=True, \n",
    "    max_length=256\n",
    ")"
   ]
  },
  {
   "cell_type": "code",
   "execution_count": 72,
   "metadata": {},
   "outputs": [
    {
     "data": {
      "text/plain": [
       "{'input_ids': [101,\n",
       "  2129,\n",
       "  2003,\n",
       "  1996,\n",
       "  2783,\n",
       "  7045,\n",
       "  1999,\n",
       "  1996,\n",
       "  2034,\n",
       "  2095,\n",
       "  1029,\n",
       "  102],\n",
       " 'token_type_ids': [0, 0, 0, 0, 0, 0, 0, 0, 0, 0, 0, 0],\n",
       " 'attention_mask': [1, 1, 1, 1, 1, 1, 1, 1, 1, 1, 1, 1],\n",
       " 'intent': 3,\n",
       " 'tags': [0, 0, 0, 0, 3, 4, 0, 0, 13, 14, 0, 0]}"
      ]
     },
     "execution_count": 72,
     "metadata": {},
     "output_type": "execute_result"
    }
   ],
   "source": [
    "train_dataset[0]"
   ]
  },
  {
   "cell_type": "markdown",
   "metadata": {},
   "source": [
    "# dataloader validation check"
   ]
  },
  {
   "cell_type": "code",
   "execution_count": 9,
   "metadata": {},
   "outputs": [],
   "source": [
    "import json\n",
    "from collections import Counter"
   ]
  },
  {
   "cell_type": "code",
   "execution_count": 11,
   "metadata": {},
   "outputs": [
    {
     "data": {
      "text/plain": [
       "[(0, 273734),\n",
       " (16, 13833),\n",
       " (18, 9045),\n",
       " (19, 7560),\n",
       " (4, 6781),\n",
       " (15, 6763),\n",
       " (17, 6539),\n",
       " (13, 4088),\n",
       " (14, 4088),\n",
       " (21, 3766)]"
      ]
     },
     "execution_count": 11,
     "metadata": {},
     "output_type": "execute_result"
    }
   ],
   "source": [
    "a = Counter(all_tags)\n",
    "a.most_common(10)"
   ]
  },
  {
   "cell_type": "code",
   "execution_count": 8,
   "metadata": {},
   "outputs": [
    {
     "data": {
      "application/vnd.jupyter.widget-view+json": {
       "model_id": "d010cbc4fcc4447a9009cade7aad8f10",
       "version_major": 2,
       "version_minor": 0
      },
      "text/plain": [
       "  0%|          | 0/18129 [00:00<?, ?it/s]"
      ]
     },
     "metadata": {},
     "output_type": "display_data"
    }
   ],
   "source": [
    "train_dataset = data_module.create_dataset(data_module.train_data)\n",
    "\n",
    "all_tags = []\n",
    "with (data_path / 'trainset.jsonl').open('w', encoding='utf-8') as file:\n",
    "\n",
    "    restart_idx = 0\n",
    "    for i in tqdm(range(restart_idx, len(train_dataset)), total=len(train_dataset)-restart_idx):\n",
    "        item = train_dataset.__getitem__(i)\n",
    "        file.write(json.dumps(item) + '\\n')\n",
    "        all_tags.extend(item['tags'])"
   ]
  },
  {
   "cell_type": "code",
   "execution_count": 42,
   "metadata": {},
   "outputs": [
    {
     "data": {
      "application/vnd.jupyter.widget-view+json": {
       "model_id": "260aaf6ef8124981a4d58a38b467eab9",
       "version_major": 2,
       "version_minor": 0
      },
      "text/plain": [
       "  0%|          | 0/3705 [00:00<?, ?it/s]"
      ]
     },
     "metadata": {},
     "output_type": "display_data"
    }
   ],
   "source": [
    "valid_dataset = data_module.create_dataset(data_module.valid_data)\n",
    "restart_idx = 0\n",
    "for i in tqdm(range(restart_idx, len(valid_dataset)), total=len(valid_dataset)-restart_idx):\n",
    "    valid_dataset.__getitem__(i)\n",
    "    assert item['tags'].size(0) == 256, f\"tags_size={item['tags'].size()}\"\n",
    "    assert isinstance(item['intent'].tolist(), int), f\"intent_size={item['intent']}\""
   ]
  },
  {
   "cell_type": "code",
   "execution_count": 43,
   "metadata": {},
   "outputs": [
    {
     "data": {
      "application/vnd.jupyter.widget-view+json": {
       "model_id": "01d7d321221443119b85f8baaf1ebfd6",
       "version_major": 2,
       "version_minor": 0
      },
      "text/plain": [
       "  0%|          | 0/3693 [00:00<?, ?it/s]"
      ]
     },
     "metadata": {},
     "output_type": "display_data"
    }
   ],
   "source": [
    "test_dataset = data_module.create_dataset(data_module.test_data)\n",
    "restart_idx = 0\n",
    "for i in tqdm(range(restart_idx, len(test_dataset)), total=len(test_dataset)-restart_idx):\n",
    "    test_dataset.__getitem__(i)\n",
    "    assert item['tags'].size(0) == 256, f\"tags_size={item['tags'].size()}\"\n",
    "    assert isinstance(item['intent'].tolist(), int), f\"intent_size={item['intent']}\""
   ]
  },
  {
   "cell_type": "code",
   "execution_count": 20,
   "metadata": {},
   "outputs": [],
   "source": [
    "for x in data_module.train_dataloader():\n",
    "    break"
   ]
  },
  {
   "cell_type": "code",
   "execution_count": null,
   "metadata": {},
   "outputs": [],
   "source": []
  },
  {
   "cell_type": "markdown",
   "metadata": {},
   "source": [
    "## [Debugging]"
   ]
  },
  {
   "cell_type": "code",
   "execution_count": 7,
   "metadata": {},
   "outputs": [],
   "source": [
    "from spacy.training import biluo_to_iob, offsets_to_biluo_tags, biluo_tags_to_offsets, iob_to_biluo\n",
    "from src.nlu_utils import NLUTokenizer\n",
    "\n",
    "nlu_tokenizer = NLUTokenizer(hugg_path='bert-base-uncased', spacy_path='en_core_web_sm')"
   ]
  },
  {
   "cell_type": "code",
   "execution_count": 8,
   "metadata": {},
   "outputs": [
    {
     "name": "stdout",
     "output_type": "stream",
     "text": [
      "11. johnny herbert ( britain ) sauber 1:56.318\n",
      "[[4, 18, 'PER'], [21, 28, 'LOC'], [31, 37, 'ORG']]\n",
      "None\n",
      "johnny herbert PER\n",
      "britain LOC\n",
      "sauber ORG\n"
     ]
    }
   ],
   "source": [
    "i = 5972 \n",
    "x = train_dataset.data[i]\n",
    "text = x['text']\n",
    "ents = x['entities']\n",
    "intent = x['intent']\n",
    "print(text)\n",
    "print(ents)\n",
    "print(intent)\n",
    "\n",
    "for x in ents:\n",
    "    print(text[x[0]:x[1]], x[2])"
   ]
  },
  {
   "cell_type": "code",
   "execution_count": 9,
   "metadata": {},
   "outputs": [
    {
     "name": "stdout",
     "output_type": "stream",
     "text": [
      "['O', 'O', 'B-PER', 'I-PER', 'O', 'B-LOC', 'O', 'B-ORG', 'O']\n"
     ]
    }
   ],
   "source": [
    "print(tags)"
   ]
  },
  {
   "cell_type": "code",
   "execution_count": 10,
   "metadata": {},
   "outputs": [
    {
     "name": "stdout",
     "output_type": "stream",
     "text": [
      "['11', '.', 'johnny', 'herbert', '(', 'britain', ')', 'sauber', '1:56.318']\n",
      "['O', 'O', 'B-PER', 'I-PER', 'O', 'B-LOC', 'O', 'B-ORG', 'O']\n",
      "['11', '.', 'johnny', 'herbert', '(', 'britain', ')', 'sa', '##uber', '1', ':', '56', '.', '318']\n"
     ]
    }
   ],
   "source": [
    "spacy_tokens = nlu_tokenizer.spacy_tokenize(text)\n",
    "tags = nlu_tokenizer.get_tags(text, ents)\n",
    "bert_tokens = nlu_tokenizer.bert_tokenize(text)\n",
    "\n",
    "print(spacy_tokens)\n",
    "print(tags)\n",
    "print(bert_tokens)"
   ]
  },
  {
   "cell_type": "code",
   "execution_count": 11,
   "metadata": {},
   "outputs": [],
   "source": [
    "token_mappings = nlu_tokenizer.get_token_mappings(bert_tokens, spacy_tokens)"
   ]
  },
  {
   "cell_type": "code",
   "execution_count": 12,
   "metadata": {},
   "outputs": [
    {
     "data": {
      "text/plain": [
       "defaultdict(list,\n",
       "            {0: [0],\n",
       "             1: [1],\n",
       "             2: [2],\n",
       "             3: [3],\n",
       "             4: [4],\n",
       "             5: [5],\n",
       "             6: [6],\n",
       "             7: [7, 8],\n",
       "             8: [9, 10, 11, 12, 13]})"
      ]
     },
     "execution_count": 12,
     "metadata": {},
     "output_type": "execute_result"
    }
   ],
   "source": [
    "token_mappings"
   ]
  },
  {
   "cell_type": "code",
   "execution_count": 60,
   "metadata": {},
   "outputs": [
    {
     "name": "stderr",
     "output_type": "stream",
     "text": [
      "Reusing dataset conll2003 (C:\\Users\\simon\\.cache\\huggingface\\datasets\\conll2003\\conll2003\\1.0.0\\40e7cb6bcc374f7c349c83acd1e9352a4f09474eb691f64f364ee62eb65d0ca6)\n",
      "100%|██████████| 3/3 [00:00<00:00, 429.73it/s]\n"
     ]
    }
   ],
   "source": [
    "conll = load_dataset('conll2003')\n",
    "dataset = conll['train']\n",
    "feature = dataset.features['ner_tags'].feature\n",
    "\n",
    "for d in tqdm(dataset, total=len(dataset)):\n",
    "    if ' '.join(d['tokens']).lower() == text:\n",
    "        break"
   ]
  },
  {
   "cell_type": "code",
   "execution_count": 94,
   "metadata": {},
   "outputs": [
    {
     "data": {
      "text/plain": [
       "['O', 'B-PER', 'I-PER', 'O', 'B-LOC', 'O', 'B-ORG', 'O']"
      ]
     },
     "execution_count": 94,
     "metadata": {},
     "output_type": "execute_result"
    }
   ],
   "source": [
    "tags = list(map(feature.int2str, d['ner_tags']))\n",
    "tags"
   ]
  },
  {
   "cell_type": "code",
   "execution_count": 95,
   "metadata": {},
   "outputs": [
    {
     "data": {
      "text/plain": [
       "[(2, 10, 'PER'), (19, 20, 'LOC'), (29, 30, 'ORG')]"
      ]
     },
     "execution_count": 95,
     "metadata": {},
     "output_type": "execute_result"
    }
   ],
   "source": [
    "biluo_tags_to_offsets(nlu_tokenizer.spacy_nlp(text), iob_to_biluo(tags))"
   ]
  },
  {
   "cell_type": "code",
   "execution_count": 96,
   "metadata": {},
   "outputs": [
    {
     "data": {
      "text/plain": [
       "['11', '.', 'johnny', 'herbert', '(', 'britain', ')', 'sauber', '1:56.318']"
      ]
     },
     "execution_count": 96,
     "metadata": {},
     "output_type": "execute_result"
    }
   ],
   "source": [
    "spacy_tokens = list(map(str, nlu_tokenizer.spacy_nlp(text)))\n",
    "original_tokens = d['tokens']\n",
    "\n",
    "spacy_tokens, original_tokens"
   ]
  },
  {
   "cell_type": "code",
   "execution_count": 71,
   "metadata": {},
   "outputs": [
    {
     "data": {
      "text/plain": [
       "['11.', 'Johnny', 'Herbert', '(', 'Britain', ')', 'Sauber', '1:56.318']"
      ]
     },
     "execution_count": 71,
     "metadata": {},
     "output_type": "execute_result"
    }
   ],
   "source": [
    "original_tokens"
   ]
  },
  {
   "cell_type": "code",
   "execution_count": 84,
   "metadata": {},
   "outputs": [
    {
     "data": {
      "text/plain": [
       "['O', 'B-PER', 'I-PER', 'O', 'B-LOC', 'O', 'B-ORG', 'O']"
      ]
     },
     "execution_count": 84,
     "metadata": {},
     "output_type": "execute_result"
    }
   ],
   "source": [
    "tags"
   ]
  },
  {
   "cell_type": "code",
   "execution_count": 85,
   "metadata": {},
   "outputs": [
    {
     "data": {
      "text/plain": [
       "defaultdict(list,\n",
       "            {0: [0, 1],\n",
       "             1: [2],\n",
       "             2: [3],\n",
       "             3: [4],\n",
       "             4: [5],\n",
       "             5: [6],\n",
       "             6: [7],\n",
       "             7: [8]})"
      ]
     },
     "execution_count": 85,
     "metadata": {},
     "output_type": "execute_result"
    }
   ],
   "source": [
    "i, j = 0, 0\n",
    "token_mappings = defaultdict(list) #{spacy_idx: [bert_idx]}\n",
    "spanned = ''\n",
    "while i < len(original_tokens) and j < len(spacy_tokens):\n",
    "    origin_tkn = original_tokens[i]\n",
    "    spacy_tkn = spacy_tokens[j]\n",
    "    if origin_tkn == spacy_tkn:\n",
    "        token_mappings[i].append(j)\n",
    "        i += 1\n",
    "        j += 1\n",
    "        spanned = ''\n",
    "    else:\n",
    "        token_mappings[i].append(j)\n",
    "        j += 1\n",
    "        spanned += spacy_tkn[2:] if spacy_tkn.startswith('##') else spacy_tkn\n",
    "        # see whether spanned is equal to current tokens\n",
    "        if len(spanned) == len(origin_tkn):\n",
    "            i += 1 \n",
    "            spanned = ''\n",
    "token_mappings"
   ]
  },
  {
   "cell_type": "code",
   "execution_count": 87,
   "metadata": {},
   "outputs": [
    {
     "data": {
      "text/plain": [
       "['O', 'O', 'B-PER', 'I-PER', 'O', 'B-LOC', 'O', 'B-ORG', 'O']"
      ]
     },
     "execution_count": 87,
     "metadata": {},
     "output_type": "execute_result"
    }
   ],
   "source": [
    "fixed_tags = ['-'] * len(spacy_tokens)\n",
    "for i, t in enumerate(tags):\n",
    "    for k in token_mappings[i]:\n",
    "        fixed_tags[k] = t\n",
    "fixed_tags"
   ]
  },
  {
   "cell_type": "code",
   "execution_count": 97,
   "metadata": {},
   "outputs": [
    {
     "data": {
      "text/plain": [
       "11. johnny herbert ( britain ) sauber 1:56.318"
      ]
     },
     "execution_count": 97,
     "metadata": {},
     "output_type": "execute_result"
    }
   ],
   "source": [
    "doc = nlu_tokenizer.spacy_nlp(text)\n",
    "doc"
   ]
  },
  {
   "cell_type": "code",
   "execution_count": 98,
   "metadata": {},
   "outputs": [
    {
     "data": {
      "text/plain": [
       "[(4, 18, 'PER'), (21, 28, 'LOC'), (31, 37, 'ORG')]"
      ]
     },
     "execution_count": 98,
     "metadata": {},
     "output_type": "execute_result"
    }
   ],
   "source": [
    "entities = biluo_tags_to_offsets(doc, iob_to_biluo(fixed_tags))\n",
    "entities"
   ]
  },
  {
   "cell_type": "code",
   "execution_count": 100,
   "metadata": {},
   "outputs": [
    {
     "data": {
      "text/plain": [
       "'britain'"
      ]
     },
     "execution_count": 100,
     "metadata": {},
     "output_type": "execute_result"
    }
   ],
   "source": [
    "text[21:28]"
   ]
  },
  {
   "cell_type": "code",
   "execution_count": 43,
   "metadata": {},
   "outputs": [
    {
     "name": "stdout",
     "output_type": "stream",
     "text": [
      "['shrs', 'outstanding', 'after', 'ipo', '16,668,560']\n",
      "['sh', '##rs', 'outstanding', 'after', 'ip', '##o', '16', ',', '66', '##8', ',', '560']\n",
      "5 12\n"
     ]
    }
   ],
   "source": [
    "tags = nlu_tokenizer.get_tags(text, ents, tag_type='iob')\n",
    "spacy_tokens = nlu_tokenizer.spacy_tokenize(text)\n",
    "bert_tokens = nlu_tokenizer.bert_tokenize(text)\n",
    "print(spacy_tokens)\n",
    "print(bert_tokens)\n",
    "print(len(spacy_tokens), len(bert_tokens))"
   ]
  },
  {
   "cell_type": "code",
   "execution_count": 101,
   "metadata": {},
   "outputs": [
    {
     "name": "stderr",
     "output_type": "stream",
     "text": [
      "Reusing dataset conll2003 (C:\\Users\\simon\\.cache\\huggingface\\datasets\\conll2003\\conll2003\\1.0.0\\40e7cb6bcc374f7c349c83acd1e9352a4f09474eb691f64f364ee62eb65d0ca6)\n",
      "100%|██████████| 3/3 [00:00<00:00, 376.01it/s]\n"
     ]
    }
   ],
   "source": [
    "conll = load_dataset('conll2003')\n",
    "typ = 'train'\n",
    "\n",
    "def add_conll_data(conll, nlu_tokenizer, data_list, typ='train', delete_errors=False):\n",
    "    dataset = conll[typ]\n",
    "    feature = dataset.features['ner_tags'].feature\n",
    "    errors = 0\n",
    "    for x in tqdm(dataset, total=len(dataset), desc=f'{typ}set'):\n",
    "        text = ' '.join(x['tokens']).lower()\n",
    "        doc = nlu_tokenizer.spacy_nlp(text)\n",
    "        if delete_errors and len(list(doc)) != len(x['tokens']):\n",
    "            errors += 1\n",
    "            continue\n",
    "            \n",
    "        tags = list(map(feature.int2str, x['ner_tags']))\n",
    "        if len(list(doc)) != len(x['tokens']):\n",
    "            spacy_tokens = list(map(str, doc))\n",
    "            original_tokens = x['tokens']\n",
    "            tags = nlu_tokenizer.map_spanned_tokens(\n",
    "                longer_tokens=spacy_tokens, shorter_token=original_tokens, tags=tags\n",
    "            )\n",
    "        entities = biluo_tags_to_offsets(doc, iob_to_biluo(tags))\n",
    "\n",
    "        d = {'text': text, 'entities': entities, 'intent': 'None'}\n",
    "        data_list.append(d)"
   ]
  },
  {
   "cell_type": "code",
   "execution_count": 45,
   "metadata": {},
   "outputs": [
    {
     "ename": "NameError",
     "evalue": "name 'spanned_tags' is not defined",
     "output_type": "error",
     "traceback": [
      "\u001b[1;31m---------------------------------------------------------------------------\u001b[0m",
      "\u001b[1;31mNameError\u001b[0m                                 Traceback (most recent call last)",
      "\u001b[1;32m~\\AppData\\Local\\Temp/ipykernel_10640/1344002883.py\u001b[0m in \u001b[0;36m<module>\u001b[1;34m\u001b[0m\n\u001b[1;32m----> 1\u001b[1;33m \u001b[0mspanned_tags\u001b[0m\u001b[1;33m\u001b[0m\u001b[1;33m\u001b[0m\u001b[0m\n\u001b[0m",
      "\u001b[1;31mNameError\u001b[0m: name 'spanned_tags' is not defined"
     ]
    }
   ],
   "source": [
    "spanned_tags"
   ]
  },
  {
   "cell_type": "code",
   "execution_count": 37,
   "metadata": {},
   "outputs": [
    {
     "data": {
      "text/plain": [
       "False"
      ]
     },
     "execution_count": 37,
     "metadata": {},
     "output_type": "execute_result"
    }
   ],
   "source": [
    "spacy_tokens[1] == bert_tokens[1]"
   ]
  },
  {
   "cell_type": "code",
   "execution_count": 49,
   "metadata": {},
   "outputs": [
    {
     "name": "stdout",
     "output_type": "stream",
     "text": [
      "| 0: shrs | 0: sh | sh\n",
      "| 0: shrs | 1: ##rs | shrs\n",
      "| 1: outstanding | 2: outstanding |\n",
      "| 2: after | 3: after |\n",
      "| 3: ipo | 4: ip | ip\n",
      "| 3: ipo | 5: ##o | ipo\n",
      "| 4: 16,668,560 | 6: 16 | 16\n",
      "| 4: 16,668,560 | 7: , | 16,\n",
      "| 4: 16,668,560 | 8: 66 | 16,66\n",
      "| 4: 16,668,560 | 9: ##8 | 16,668\n",
      "| 4: 16,668,560 | 10: , | 16,668,\n",
      "| 4: 16,668,560 | 11: 560 | 16,668,560\n"
     ]
    },
    {
     "data": {
      "text/plain": [
       "defaultdict(list,\n",
       "            {0: [0, 1], 1: [2], 2: [3], 3: [4, 5], 4: [6, 7, 8, 9, 10, 11]})"
      ]
     },
     "execution_count": 49,
     "metadata": {},
     "output_type": "execute_result"
    }
   ],
   "source": [
    "i, j = 0, 0\n",
    "token_mappings = defaultdict(list) #{spacy_idx: [bert_idx]}\n",
    "spanned = ''\n",
    "while i < len(spacy_tokens) and j < len(bert_tokens):\n",
    "    spacy_tkn = spacy_tokens[i]\n",
    "    bert_tkn = bert_tokens[j]\n",
    "    print(f'| {i}: {spacy_tkn} | {j}: {bert_tkn} |', end='')\n",
    "    if spacy_tkn == bert_tkn:\n",
    "        token_mappings[i].append(j)\n",
    "        i += 1\n",
    "        j += 1\n",
    "        spanned = ''\n",
    "        print()\n",
    "    else:\n",
    "        token_mappings[i].append(j)\n",
    "        j += 1\n",
    "        spanned += bert_tkn[2:] if bert_tkn.startswith('##') else bert_tkn\n",
    "        print(f' {spanned}')\n",
    "        # see whether spanned is equal to current tokens\n",
    "        if len(spanned) == len(spacy_tkn):\n",
    "            i += 1 \n",
    "            spanned = ''\n",
    "token_mappings"
   ]
  },
  {
   "cell_type": "code",
   "execution_count": 42,
   "metadata": {},
   "outputs": [],
   "source": [
    "spanned_tags = ['-'] * len(bert_tokens)\n",
    "for i, t in enumerate(tags):\n",
    "    for k in token_mappings[i]:\n",
    "        spanned_tags[k] = t"
   ]
  },
  {
   "cell_type": "code",
   "execution_count": 43,
   "metadata": {},
   "outputs": [
    {
     "data": {
      "text/plain": [
       "['O',\n",
       " 'O',\n",
       " 'O',\n",
       " 'O',\n",
       " 'B-BS.Value',\n",
       " 'B-BS.Value',\n",
       " 'B-BS.Value',\n",
       " 'B-BS.Value',\n",
       " 'I-BS.Value',\n",
       " 'I-BS.Value',\n",
       " 'O',\n",
       " 'O',\n",
       " 'B-BS.Value',\n",
       " 'I-BS.Value',\n",
       " 'B-APPLY',\n",
       " 'O',\n",
       " 'B-PERCENT',\n",
       " 'I-PERCENT',\n",
       " 'O',\n",
       " 'O',\n",
       " 'B-TIME',\n",
       " 'I-TIME',\n",
       " 'O']"
      ]
     },
     "execution_count": 43,
     "metadata": {},
     "output_type": "execute_result"
    }
   ],
   "source": [
    "spanned_tags"
   ]
  },
  {
   "cell_type": "code",
   "execution_count": 54,
   "metadata": {},
   "outputs": [],
   "source": [
    "from transformers import BertForTokenClassification\n",
    "\n",
    "bert_encodes = nlu_tokenizer.bert.encode_plus(text, return_offsets_mapping=False, return_tensors='pt')\n",
    "model_path = 'bert-base-uncased'\n",
    "model = BertForTokenClassification.from_pretrained(model_path)\n",
    "o = model(**bert_encodes)\n",
    "o.logits.shape"
   ]
  },
  {
   "cell_type": "code",
   "execution_count": null,
   "metadata": {},
   "outputs": [],
   "source": []
  },
  {
   "cell_type": "code",
   "execution_count": 62,
   "metadata": {},
   "outputs": [
    {
     "data": {
      "text/plain": [
       "[None, None, None, None, None, None, None, None, None, None, None, None, None]"
      ]
     },
     "execution_count": 62,
     "metadata": {},
     "output_type": "execute_result"
    }
   ],
   "source": [
    "get_spanned_tags(bert_offset_mapping, spacy_offset_mapping, tags)"
   ]
  },
  {
   "cell_type": "markdown",
   "metadata": {},
   "source": [
    "## Modeling"
   ]
  },
  {
   "cell_type": "code",
   "execution_count": 7,
   "metadata": {},
   "outputs": [],
   "source": [
    "import torch\n",
    "import torch.nn as nn\n",
    "import torchmetrics\n",
    "import pytorch_lightning as pl\n",
    "from collections import defaultdict\n",
    "from transformers import BertConfig, BertForTokenClassification\n",
    "\n",
    "class BertPooler(nn.Module):\n",
    "    def __init__(self, config):\n",
    "        \"\"\"from https://github.com/huggingface/transformers/blob/v4.15.0/src/transformers/models/bert/modeling_bert.py#L627\"\"\"\n",
    "        super().__init__()\n",
    "        self.dense = nn.Linear(config.hidden_size, config.hidden_size)\n",
    "        self.activation = nn.Tanh()\n",
    "\n",
    "    def forward(self, hidden_states):\n",
    "        # We \"pool\" the model by simply taking the hidden state corresponding\n",
    "        # to the first token.\n",
    "        first_token_tensor = hidden_states[:, 0]\n",
    "        pooled_output = self.dense(first_token_tensor)\n",
    "        pooled_output = self.activation(pooled_output)\n",
    "        return pooled_output\n",
    "\n",
    "class NLUModel(pl.LightningModule):\n",
    "    def __init__(self, **kwargs):\n",
    "        super().__init__()\n",
    "        self.save_hyperparameters() \n",
    "        # self.hparams: model_path, intent_size, tags_size, max_len\n",
    "        self.outputs_keys = ['tags', 'intent']\n",
    "        # Networks\n",
    "        cfg = BertConfig()\n",
    "        self.bert_ner = BertForTokenClassification.from_pretrained(self.hparams.model_path, num_labels=self.hparams.tags_size)\n",
    "        self.bert_pooler = BertPooler(cfg)\n",
    "        self.intent_network = nn.Linear(cfg.hidden_size, self.hparams.intent_size)\n",
    "        \n",
    "        # losses\n",
    "        if self.hparams.stage == 'train':\n",
    "            self.loss = nn.CrossEntropyLoss()\n",
    "            # metrics\n",
    "            self.metrics = nn.ModuleDict({\n",
    "                'train_': self.create_metrics(prefix='train_'),\n",
    "                'val_': self.create_metrics(prefix='val_'),\n",
    "                'test_': self.create_metrics(prefix='test_')\n",
    "            })\n",
    "            \n",
    "    def contiguous(self, x):\n",
    "        return x.squeeze(-1).contiguous().type_as(x)\n",
    "\n",
    "    def create_metrics(self, prefix='train_'):\n",
    "        m = nn.ModuleDict()\n",
    "        metrics = torchmetrics.MetricCollection([torchmetrics.Accuracy(), torchmetrics.F1()])\n",
    "        for k in self.outputs_keys:\n",
    "            m[k] = metrics.clone(prefix+k+'_')\n",
    "        return m\n",
    "\n",
    "    def _forward_bert(self, input_ids, token_type_ids, attention_mask):\n",
    "        outputs = self.bert_ner.bert(\n",
    "            input_ids=input_ids,\n",
    "            token_type_ids=token_type_ids,\n",
    "            attention_mask=attention_mask,\n",
    "        )\n",
    "        return outputs.last_hidden_state\n",
    "\n",
    "    def _forward_tags(self, last_hidden_state):\n",
    "        tags_outputs = self.bert_ner.dropout(last_hidden_state)\n",
    "        tags_logits = self.bert_ner.classifier(tags_outputs)\n",
    "        return tags_logits.view(-1, self.hparams.tags_size)\n",
    "\n",
    "    def _forward_intent(self, pooled_outputs):\n",
    "        intent_logits = self.intent_network(pooled_outputs)\n",
    "        return intent_logits\n",
    "\n",
    "    def forward(self, input_ids, token_type_ids, attention_mask):\n",
    "        # tags\n",
    "        last_hidden_state = self._forward_bert(input_ids, token_type_ids, attention_mask)\n",
    "        tags_logits = self._forward_tags(last_hidden_state)\n",
    "\n",
    "        # intent\n",
    "        pooled_outputs = self.bert_pooler(last_hidden_state)\n",
    "        intent_logits = self._forward_intent(pooled_outputs)\n",
    "\n",
    "        return {\n",
    "            'tags': tags_logits,       # (B*max_len, tags_size)\n",
    "            'intent': intent_logits,   # (B, intent_size)\n",
    "        }\n",
    "\n",
    "    def forward_all(self, batch, prefix='train_'):\n",
    "        outputs = self.forward(\n",
    "            input_ids=batch['input_ids'], \n",
    "            token_type_ids=batch['token_type_ids'], \n",
    "            attention_mask=batch['attention_mask'], \n",
    "        )\n",
    "\n",
    "        targets = {\n",
    "            'tags': batch['tags'].view(-1),    # (B*max_len, )\n",
    "            'intent': batch['intent'],         # (B, )\n",
    "        }\n",
    "        loss = self.cal_loss(outputs, targets)\n",
    "        self.log(f'{prefix}loss', loss, \n",
    "            on_step=True, on_epoch=True, sync_dist=self.hparams.multigpu)\n",
    "        # logging\n",
    "        self.cal_metrics(outputs, targets, prefix=prefix)\n",
    "        return loss\n",
    "\n",
    "    def cal_loss(self, outputs, targets):\n",
    "        tags_loss = self.loss(outputs['tags'], targets['tags'])\n",
    "        intent_loss = self.loss(outputs['intent'], targets['intent'])\n",
    "        return tags_loss + intent_loss\n",
    "\n",
    "    def cal_metrics(self, outputs, targets, prefix='train_'):\n",
    "        outputs_metrics = defaultdict()\n",
    "        for k in self.outputs_keys:\n",
    "            for k_sub, v in self.metrics[prefix][k](outputs[k], targets[k]).items():\n",
    "                outputs_metrics[k_sub] = v\n",
    "        self.log_dict(outputs_metrics)\n",
    "\n",
    "    def training_step(self, batch, batch_idx):\n",
    "        loss = self.forward_all(batch, prefix='train_')\n",
    "        return loss\n",
    "\n",
    "    def validation_step(self, batch, batch_idx):\n",
    "        loss = self.forward_all(batch, prefix='val_')\n",
    "\n",
    "    def test_step(self, batch, batch_idx):   \n",
    "        loss = self.forward_all(batch, prefix='test_')\n",
    "\n",
    "    def configure_optimizers(self):\n",
    "        optimizer = torch.optim.Adam(self.parameters(), lr=self.hparams.lr)\n",
    "        lr_schedulers = torch.optim.lr_scheduler.ReduceLROnPlateau(optimizer)\n",
    "        \n",
    "        return {'optimizer': optimizer, 'lr_scheduler': lr_schedulers, 'monitor': 'val_loss'}\n",
    "\n",
    "    def predict(self, input_ids, token_type_ids, attention_mask):\n",
    "        outputs = self.forward(input_ids, token_type_ids, attention_mask)\n",
    "        predicts = self._predict_from_outputs(outputs)\n",
    "        return predicts\n",
    "\n",
    "    def _predict_from_outputs(self, outputs):\n",
    "        predicts = {k: outputs[k].argmax(-1) for k in ['tags', 'intent']} \n",
    "        return predicts"
   ]
  },
  {
   "cell_type": "code",
   "execution_count": 8,
   "metadata": {},
   "outputs": [
    {
     "name": "stderr",
     "output_type": "stream",
     "text": [
      "Some weights of the model checkpoint at bert-base-uncased were not used when initializing BertForTokenClassification: ['cls.predictions.transform.dense.weight', 'cls.seq_relationship.weight', 'cls.seq_relationship.bias', 'cls.predictions.bias', 'cls.predictions.transform.LayerNorm.bias', 'cls.predictions.transform.LayerNorm.weight', 'cls.predictions.transform.dense.bias', 'cls.predictions.decoder.weight']\n",
      "- This IS expected if you are initializing BertForTokenClassification from the checkpoint of a model trained on another task or with another architecture (e.g. initializing a BertForSequenceClassification model from a BertForPreTraining model).\n",
      "- This IS NOT expected if you are initializing BertForTokenClassification from the checkpoint of a model that you expect to be exactly identical (initializing a BertForSequenceClassification model from a BertForSequenceClassification model).\n",
      "Some weights of BertForTokenClassification were not initialized from the model checkpoint at bert-base-uncased and are newly initialized: ['classifier.weight', 'classifier.bias']\n",
      "You should probably TRAIN this model on a down-stream task to be able to use it for predictions and inference.\n"
     ]
    }
   ],
   "source": [
    "hparams = {\n",
    "    'stage': settings['stage'],\n",
    "    'model_path': settings['model_path'], \n",
    "    'intent_size': len(data_module.intents2id), \n",
    "    'tags_size': len(data_module.tags2id), \n",
    "    'max_len': settings['max_len'],\n",
    "    'lr': settings['lr'],\n",
    "    'multigpu': True if settings['n_gpus'] > 1 else False\n",
    "}\n",
    "\n",
    "model = NLUModel(**hparams)"
   ]
  },
  {
   "cell_type": "code",
   "execution_count": 12,
   "metadata": {},
   "outputs": [],
   "source": [
    "train_dataloader = data_module.train_dataloader()"
   ]
  },
  {
   "cell_type": "code",
   "execution_count": 11,
   "metadata": {},
   "outputs": [
    {
     "name": "stderr",
     "output_type": "stream",
     "text": [
      "GPU available: True, used: True\n",
      "TPU available: False, using: 0 TPU cores\n",
      "IPU available: False, using: 0 IPUs\n"
     ]
    }
   ],
   "source": [
    "from pytorch_lightning.loggers import TensorBoardLogger\n",
    "from pytorch_lightning.callbacks import ModelCheckpoint, TQDMProgressBar\n",
    "\n",
    "log_path = src_path / 'logs'\n",
    "checkpoint_path = src_path / 'checkpoints'\n",
    "\n",
    "logger = TensorBoardLogger(save_dir=str(log_path), name=\"NLU\")\n",
    "checkpoint_callback = ModelCheckpoint(\n",
    "    dirpath=str(checkpoint_path), \n",
    "    save_top_k=2,\n",
    "    monitor='val_loss'\n",
    ")\n",
    "progress_callback = TQDMProgressBar(refresh_rate=20)\n",
    "trainer = pl.Trainer(\n",
    "    gpus=1, \n",
    "    max_epochs=3, \n",
    "    logger=logger, \n",
    "    callbacks=[checkpoint_callback, progress_callback]\n",
    ")"
   ]
  },
  {
   "cell_type": "code",
   "execution_count": 243,
   "metadata": {},
   "outputs": [
    {
     "name": "stderr",
     "output_type": "stream",
     "text": [
      "LOCAL_RANK: 0 - CUDA_VISIBLE_DEVICES: [0]\n",
      "\n",
      "  | Name             | Type                       | Params\n",
      "----------------------------------------------------------------\n",
      "0 | bert_ner         | BertForTokenClassification | 108 M \n",
      "1 | bert_pooler      | BertPooler                 | 590 K \n",
      "2 | intent_network   | Linear                     | 3.1 K \n",
      "3 | relation_network | RelationNetwork            | 789 K \n",
      "----------------------------------------------------------------\n",
      "110 M     Trainable params\n",
      "0         Non-trainable params\n",
      "110 M     Total params\n",
      "441.356   Total estimated model params size (MB)\n"
     ]
    },
    {
     "name": "stdout",
     "output_type": "stream",
     "text": [
      "Validation sanity check:   0%|          | 0/2 [00:00<?, ?it/s]"
     ]
    }
   ],
   "source": [
    "trainer.fit(\n",
    "    model, datamodule=data_module\n",
    ")"
   ]
  }
 ],
 "metadata": {
  "interpreter": {
   "hash": "ab7f212329a491b497f27876271d03c022f2dd26760015eef69af619991238fd"
  },
  "kernelspec": {
   "display_name": "Python 3 (ipykernel)",
   "language": "python",
   "name": "python3"
  },
  "language_info": {
   "codemirror_mode": {
    "name": "ipython",
    "version": 3
   },
   "file_extension": ".py",
   "mimetype": "text/x-python",
   "name": "python",
   "nbconvert_exporter": "python",
   "pygments_lexer": "ipython3",
   "version": "3.8.12"
  }
 },
 "nbformat": 4,
 "nbformat_minor": 4
}
