{
 "cells": [
  {
   "cell_type": "code",
   "execution_count": 1,
   "metadata": {},
   "outputs": [
    {
     "name": "stdout",
     "output_type": "stream",
     "text": [
      "1.10.1\n",
      "True\n"
     ]
    }
   ],
   "source": [
    "import numpy as np\n",
    "import pandas as pd\n",
    "from pathlib import Path\n",
    "from collections import defaultdict\n",
    "import torch\n",
    "import re\n",
    "from tqdm.notebook import tqdm\n",
    "import sys\n",
    "\n",
    "print(torch.__version__)\n",
    "print(torch.cuda.is_available())\n",
    "src_path = Path('.').absolute().parent\n",
    "data_path = src_path / 'data'\n",
    "sys.path.append(str(src_path / 'src'))\n",
    "\n",
    "import yaml\n",
    "import networkx as nx\n",
    "from ontology import OntologySystem\n",
    "\n",
    "with (src_path / 'setting_files' / 'app_settings.yml').open('r') as file:\n",
    "    settings = yaml.load(file, Loader=yaml.FullLoader)\n",
    "\n",
    "onto = OntologySystem(\n",
    "    acc_name_path=data_path / 'AccountName.csv', \n",
    "    rdf_path=data_path / 'AccountRDF.xml',\n",
    "    model_path=data_path / settings['ontology']['model']['model_name'],\n",
    "    kwargs_graph_drawer=settings['ontology']['graph_drawer']\n",
    ")\n",
    "ACC_DICT = onto.ACC_DICT"
   ]
  },
  {
   "cell_type": "markdown",
   "metadata": {},
   "source": [
    "---"
   ]
  },
  {
   "cell_type": "markdown",
   "metadata": {},
   "source": [
    "# Create dataset"
   ]
  },
  {
   "cell_type": "code",
   "execution_count": 26,
   "metadata": {},
   "outputs": [],
   "source": [
    "# TODO: position 만들기\n",
    "# (\"I was driving a BMW\", {\"entities\": [(16,19, \"PRODUCT\")]})\n",
    "\n",
    "def get_entity(s, x, tag):\n",
    "    idx = s.index(x)\n",
    "    return (idx, idx+len(x), tag)\n",
    "\n",
    "def random_sampling(x_dict, x_key):\n",
    "    idx_range = np.arange(len(x_dict[x_key]))\n",
    "    idx = np.random.choice(idx_range, replace=False, p=np.ones(len(idx_range)) / len(idx_range))\n",
    "    word, tag, desc = x_dict[x_key][idx]\n",
    "    return word, tag, desc\n",
    "\n",
    "def get_words_filtered(words, text):\n",
    "    words_filtered = defaultdict(list)\n",
    "    for k, v in words.items():\n",
    "        for word, tag, desc in v:\n",
    "            if desc != text:\n",
    "                words_filtered[k].append((word, tag, desc))\n",
    "    return words_filtered\n",
    "\n",
    "df = pd.read_csv(data_path / 'AccountWords.csv', encoding='utf-8')\n",
    "\n",
    "format_dict = {\n",
    "    0: ['help'],\n",
    "    1: [\n",
    "        # what/how, target_account, [MASK] + year/quarter\n",
    "        \"{} is the {} in the {} ?\",\n",
    "        # [MASK] + year/quarter, what/how, target_account\n",
    "        \"In the {}, {} is the value of the {} ?\"\n",
    "    ], \n",
    "    2: [\n",
    "        # target_account, subject_account, [MASK], random_number + percent/%, [MASK] + year/quarter\n",
    "        \"what happens to the {} when the {} {} by {} in the {} ?\",\n",
    "        # target_account, subject_account, [MASK], random_number + percent/%, [MASK] + year/quarter\n",
    "        \"what will be the effect to {} if the {} {} by {} in the {} ?\",\n",
    "        # reverse the relation\n",
    "        # subject_account, [MASK], random_number + percent/%, [MASK] + year/quarter, target_account\n",
    "        \"when the {} {} by {} in the {}, what will happen to the {} ?\",\n",
    "        # subject_account, [MASK], random_number + percent/%, [MASK] + year/quarter, target_account\n",
    "        \"if the {} {} by {} in the {}, what will be the effect to {} ?\"\n",
    "    ],\n",
    "    3: [\n",
    "        # what/how, target_account, [MASK] + year/quarter\n",
    "        \"{} will be the {} in the {} ?\"\n",
    "    ]\n",
    "}\n",
    "\n",
    "# TODO: maybe add the today's information after [SEP]?\n",
    "context = ['HELP', 'PAST', 'FUTURE']\n",
    "words = defaultdict(list)\n",
    "for typ in ['year', 'quarter', 'words']:\n",
    "    df_temp = df.loc[:, [typ, f'{typ}_tag', f'{typ}_desc']]\n",
    "    df_temp = df_temp.loc[~df_temp[typ].isna(), :]\n",
    "    for i, (w, t, desc) in df_temp.iterrows():\n",
    "        words[typ].append((w, t, desc))\n",
    "\n",
    "exceptions = ['BalanceSheet', 'IncomeStatement', 'Ratios', 'CalendarOneYear']\n",
    "times = ['year', 'quarter']\n",
    "\n",
    "all_data = []\n",
    "s_ENT = '[E]'\n",
    "e_ENT = '[/E]'\n",
    "f_ENT = lambda x: f'{s_ENT}{x}{e_ENT}'\n"
   ]
  },
  {
   "cell_type": "markdown",
   "metadata": {},
   "source": [
    "## Question 1\n",
    "\n",
    "```python\n",
    "# what/how, target_account, [MASK] + year/quarter\n",
    "\"{} is the {} in the {}?\",\n",
    "```"
   ]
  },
  {
   "cell_type": "code",
   "execution_count": 104,
   "metadata": {},
   "outputs": [
    {
     "data": {
      "application/vnd.jupyter.widget-view+json": {
       "model_id": "062d15cb84954c2fb79e64052efda37c",
       "version_major": 2,
       "version_minor": 0
      },
      "text/plain": [
       "0it [00:00, ?it/s]"
      ]
     },
     "metadata": {},
     "output_type": "display_data"
    }
   ],
   "source": [
    "data1 = []\n",
    "trg_scenario = 1\n",
    "progress_bar = tqdm()\n",
    "words_filtered = get_words_filtered(words, text='FUTURE')\n",
    "for idx_fmt, fmt in enumerate(format_dict[trg_scenario]):\n",
    "    \n",
    "    for acc, dic in ACC_DICT.items():\n",
    "        if acc in exceptions:\n",
    "            continue\n",
    "        target_account = dic['eng_name'].lower()\n",
    "        knowledge, acc_type, _ = dic['group'].split('-')\n",
    "\n",
    "        for t in ['year', 'quarter']:\n",
    "            for t_word, t_tag, _ in words_filtered[t]:\n",
    "                entities = []\n",
    "                pre_token = np.random.choice(['what', 'how'], replace=False, p=np.ones(2)/2)\n",
    "                if idx_fmt == 0:\n",
    "                    # what/how, target_account, [MASK] + year/quarter\n",
    "                    # \"{} is the {} in the {}?\",\n",
    "                    s = fmt.format(\n",
    "                        pre_token,\n",
    "                        f_ENT(target_account), \n",
    "                        f_ENT(f'{t_word} {t}')\n",
    "                        )\n",
    "                else:\n",
    "                    # [MASK] + year/quarter, what/how, target_account\n",
    "                    # \"In the {}, {} is the value of the {}\"\n",
    "                    s = fmt.format(\n",
    "                        f_ENT(f'{t_word} {t}'),\n",
    "                        pre_token,\n",
    "                        f_ENT(target_account)\n",
    "                    )\n",
    "                # relation = [0, 0, 0]  # no_relation, order1, order2\n",
    "                # entities\n",
    "                ## target_account\n",
    "                entities.append(get_entity(s, f_ENT(target_account), f'{knowledge}.{acc_type}'))\n",
    "                ## MASK year/quarter\n",
    "                entities.append(get_entity(s, f_ENT(f'{t_word} {t}'), t_tag))\n",
    "                \n",
    "                data1.append(\n",
    "                    {'question': s, 'entities': sorted(entities, key=lambda x: x[0]), 'intent': 'PAST.value'} #, 'relation': relation}\n",
    "                )\n",
    "            \n",
    "                progress_bar.update(1)"
   ]
  },
  {
   "cell_type": "markdown",
   "metadata": {},
   "source": [
    "## Question 2\n",
    "\n",
    "```python\n",
    "# target_account, subject_account, [MASK], random_number + percent/%, [MASK] + year/quarter\n",
    "\"what happens to the {} when the {} {} by {} in the {}?\"\n",
    "# target_account, subject_account, [MASK], random_number + percent/%, [MASK] + year/quarter\n",
    "\"what will be the effect to {} if the {} {} by {} in the {}?\"\n",
    "# reverse the relation\n",
    "# subject_account, [MASK], random_number + percent/%, [MASK] + year/quarter, target_account\n",
    "\"when the {} {} by {} in the {}, what will happen to the {}?\"\n",
    "# subject_account, [MASK], random_number + percent/%, [MASK] + year/quarter, target_account\n",
    "\"if the {} {} by {} in the {}, what will be the effect to {}?\"\n",
    "```"
   ]
  },
  {
   "cell_type": "code",
   "execution_count": 106,
   "metadata": {},
   "outputs": [],
   "source": [
    "def get_role_dict(onto, knowledge):\n",
    "    knowledge_query = onto.sparql.get_predefined_knowledge(knowledge=knowledge)\n",
    "    sparql_results = onto.sparql.query(knowledge_query)\n",
    "    role_dict = defaultdict(list)\n",
    "    for s, p, o in sparql_results:\n",
    "        s, p, o = map(onto.graph_drawer.convert_to_string, [s, p, o])\n",
    "        if s == 'CalendarOneYear' or o == 'CalendarOneYear':\n",
    "            continue\n",
    "        if s not in role_dict[o]:\n",
    "            role_dict[o].append(s)\n",
    "        \n",
    "    return role_dict\n",
    "\n",
    "def process_successor(successors, role_dict, trg_acc, acc):\n",
    "    if role_dict.get(acc) is None:\n",
    "        # successors[trg_acc].extend(successors[acc])\n",
    "        return None\n",
    "    else:\n",
    "        accs = role_dict.get(acc)\n",
    "        if accs is not None:\n",
    "            successors[trg_acc].extend(accs)\n",
    "            for acc in accs:\n",
    "                process_successor(successors, role_dict, trg_acc, acc)\n",
    "\n",
    "def get_successor(onto, knowledge, exceptions=None):\n",
    "    role_dict = get_role_dict(onto, knowledge=knowledge)\n",
    "    successors = defaultdict(list)\n",
    "    for trg_acc in role_dict.keys():\n",
    "        if (exceptions is not None) and (trg_acc in exceptions):\n",
    "            continue\n",
    "        process_successor(successors, role_dict, trg_acc, trg_acc)\n",
    "    return successors\n",
    "\n",
    "trg_scenario = 2\n",
    "bs_successors = get_successor(sparql, 'BS', exceptions)\n",
    "is_successors = get_successor(sparql, 'IS', exceptions)\n",
    "data2 = []\n",
    "n_sample = 5\n",
    "progress_bar = tqdm()\n",
    "words_filtered = get_words_filtered(words, text='FUTURE')\n",
    "\n",
    "for idx_fmt, fmt in enumerate(format_dict[trg_scenario]):\n",
    "    for sub_tree in [bs_successors, is_successors]:\n",
    "        for trg_acc, successors in sub_tree.items():\n",
    "            if trg_acc in exceptions:\n",
    "                continue\n",
    "            target_account = ACC_DICT[trg_acc]['eng_name'].lower()\n",
    "            target_knowledge, target_acc_type, _ = ACC_DICT[trg_acc]['group'].split('-')\n",
    "            for sub_acc in successors:\n",
    "                subject_account = ACC_DICT[sub_acc]['eng_name'].lower()\n",
    "                subject_knowledge, subject_acc_type, _ = ACC_DICT[trg_acc]['group'].split('-')\n",
    "                n = 0\n",
    "                while n < n_sample:\n",
    "                    entities = []\n",
    "\n",
    "                    apply_word, apply_tag, _ = random_sampling(x_dict=words_filtered, x_key='words')\n",
    "                    t = np.random.choice(times, replace=False, p=np.ones(len(times))/len(times))\n",
    "                    t_word, t_tag, _ = random_sampling(x_dict=words_filtered, x_key=t)\n",
    "                    \n",
    "                    number = np.random.randint(1, 99)\n",
    "                    percent = np.random.choice(['percent', '%'], replace=False, p=np.ones(2)/2)\n",
    "                    \n",
    "                    if idx_fmt in [0, 1]:\n",
    "                        # target_account, subject_account, [MASK], random_number + percent/%, [MASK] + year/quarter\n",
    "                        s = fmt.format(\n",
    "                            f_ENT(target_account),\n",
    "                            f_ENT(subject_account), \n",
    "                            f_ENT(apply_word), \n",
    "                            f_ENT(f'{number} {percent}'),\n",
    "                            f_ENT(f'{t_word} {t}')\n",
    "                            )\n",
    "                        # relation = [1, 1, 2]\n",
    "                    else:\n",
    "                        # subject_account, [MASK], random_number + percent/%, [MASK] + year/quarter, target_account\n",
    "                        s = fmt.format(\n",
    "                            f_ENT(subject_account), \n",
    "                            f_ENT(apply_word), \n",
    "                            f_ENT(f'{number} {percent}'),\n",
    "                            f_ENT(f'{t_word} {t}'),\n",
    "                            f_ENT(target_account)\n",
    "                            )\n",
    "                        # relation = [1, 2, 1]\n",
    "                    # entities\n",
    "                    ## target_account\n",
    "                    entities.append(get_entity(s, f_ENT(target_account), f'{target_knowledge}.{target_acc_type}'))\n",
    "                    ## subject_account\n",
    "                    entities.append(get_entity(s, f_ENT(subject_account), f'{subject_knowledge}.{subject_acc_type}'))\n",
    "                    ## MASK apply words\n",
    "                    entities.append(get_entity(s, f_ENT(apply_word), apply_tag))\n",
    "                    ## percentages\n",
    "                    entities.append(get_entity(s, f_ENT(f'{number} {percent}'), 'PERCENT'))\n",
    "                    ## MASK year/quarter\n",
    "                    entities.append(get_entity(s, f_ENT(f'{t_word} {t}'), t_tag))\n",
    "\n",
    "                    d = {'question': s, 'entities': sorted(entities, key=lambda x: x[0]), 'intent': 'IF.fact'} #, 'relation': relation}\n",
    "                    if d not in data2:\n",
    "                        data2.append(\n",
    "                            d\n",
    "                        )\n",
    "                    \n",
    "                    progress_bar.update(1)\n",
    "                    n += 1"
   ]
  },
  {
   "cell_type": "markdown",
   "metadata": {},
   "source": [
    "## Question 3\n",
    "\n",
    "```python\n",
    "# what/how, target_account, [MASK] + year/quarter\n",
    "\"{} will be the {} in the {}?\"\n",
    "```"
   ]
  },
  {
   "cell_type": "code",
   "execution_count": 109,
   "metadata": {},
   "outputs": [
    {
     "data": {
      "application/vnd.jupyter.widget-view+json": {
       "model_id": "119fd2afaac74f688b65fd2e1c464fac",
       "version_major": 2,
       "version_minor": 0
      },
      "text/plain": [
       "0it [00:00, ?it/s]"
      ]
     },
     "metadata": {},
     "output_type": "display_data"
    },
    {
     "name": "stdout",
     "output_type": "stream",
     "text": [
      "1014\n"
     ]
    }
   ],
   "source": [
    "data3 = []\n",
    "trg_scenario = 3\n",
    "progress_bar = tqdm()\n",
    "words_filtered = get_words_filtered(words, text='PAST')\n",
    "\n",
    "for fmt in format_dict[trg_scenario]:\n",
    "    for acc, dic in ACC_DICT.items():\n",
    "        if acc in exceptions:\n",
    "            continue\n",
    "        target_account = dic['eng_name'].lower()\n",
    "        knowledge, acc_type, _ = dic['group'].split('-')\n",
    "        for t in ['year', 'quarter']:\n",
    "            for t_word, t_tag, _ in words_filtered[t]:\n",
    "                entities = []\n",
    "                s = fmt.format(\n",
    "                    np.random.choice(['what', 'how']), \n",
    "                    f_ENT(target_account), \n",
    "                    f_ENT(f'{t_word} {t}')\n",
    "                    )\n",
    "                # relation = [0, 0, 0]\n",
    "                # entities\n",
    "                ## target_account\n",
    "                entities.append(get_entity(s, f_ENT(target_account), f'{knowledge}.{acc_type}'))\n",
    "                ## MASK year/quarter\n",
    "                entities.append(get_entity(s, f_ENT(f'{t_word} {t}'), t_tag))\n",
    "                \n",
    "                data3.append(\n",
    "                    {'question': s, 'entities': entities, 'intent': 'IF.forecast'} #, 'relation': relation}\n",
    "                )\n",
    "                \n",
    "                progress_bar.update(1)\n",
    "\n",
    "all_data = data1 + data2 + data3"
   ]
  },
  {
   "cell_type": "markdown",
   "metadata": {},
   "source": [
    "---"
   ]
  },
  {
   "cell_type": "markdown",
   "metadata": {},
   "source": [
    "# Post-process for entities"
   ]
  },
  {
   "cell_type": "code",
   "execution_count": null,
   "metadata": {},
   "outputs": [],
   "source": [
    "import json\n",
    "\n",
    "special_len = len(s_ENT)+len(e_ENT)\n",
    "\n",
    "for k, x in tqdm(enumerate(all_data), total=len(all_data)):\n",
    "    all_data[k]['question'] = x['question'].replace(s_ENT, '').replace(e_ENT, '')\n",
    "    for i, (s, e, ent) in enumerate(x['entities']):\n",
    "        new_s = s-i*special_len\n",
    "        new_e = new_s+(e-s)-special_len\n",
    "        all_data[k]['entities'][i] = (new_s, new_e, ent)\n",
    "\n",
    "with (data_path / 'all_data.jsonl').open('w', encoding='utf-8') as file:\n",
    "    for line in tqdm(all_data, total=len(all_data), desc='saving'):\n",
    "        file.write(json.dumps(line) + '\\n')"
   ]
  },
  {
   "cell_type": "markdown",
   "metadata": {},
   "source": [
    "---"
   ]
  },
  {
   "cell_type": "markdown",
   "metadata": {},
   "source": [
    "# Traning\n",
    "\n",
    "- Entities\n",
    "- Entities Relation (subject, target)"
   ]
  },
  {
   "cell_type": "markdown",
   "metadata": {},
   "source": [
    "## Dataset"
   ]
  },
  {
   "cell_type": "code",
   "execution_count": 2,
   "metadata": {},
   "outputs": [
    {
     "name": "stderr",
     "output_type": "stream",
     "text": [
      "loading: 100%|██████████| 15220/15220 [00:00<00:00, 82497.61it/s]\n",
      "loading: 100%|██████████| 3060/3060 [00:00<00:00, 161483.79it/s]\n",
      "loading: 100%|██████████| 2996/2996 [00:00<00:00, 130612.88it/s]\n"
     ]
    }
   ],
   "source": [
    "from src.nlu_utils import NLUDataModule, NLUTokenizer, NLUDataset\n",
    "\n",
    "main_path = Path().absolute().parent\n",
    "data_path = main_path / 'data'\n",
    "setting_path = main_path / 'setting_files'\n",
    "\n",
    "with (setting_path / 'train_settings.yml').open('r') as file:\n",
    "    settings = yaml.load(file, Loader=yaml.FullLoader)\n",
    "\n",
    "nlu_tokenizer = NLUTokenizer()\n",
    "\n",
    "data_module = NLUDataModule(\n",
    "    train_path=data_path / settings['train_file'], \n",
    "    valid_path=data_path / settings['valid_file'],\n",
    "    test_path=data_path / settings['test_file'],\n",
    "    labels_path=data_path / settings['labels_file'],\n",
    "    batch_size=settings['batch_size'], \n",
    "    max_len=settings['max_len'],\n",
    "    num_workers=settings['num_workers'],\n",
    "    seed=settings['seed']\n",
    ")\n",
    "data_module.prepare_data()"
   ]
  },
  {
   "cell_type": "markdown",
   "metadata": {},
   "source": [
    "---"
   ]
  },
  {
   "cell_type": "code",
   "execution_count": 29,
   "metadata": {},
   "outputs": [],
   "source": [
    "train_data = data_module.train_data\n",
    "train_dataset = NLUDataset(\n",
    "    train_data, \n",
    "    tags2id=data_module.tags2id, \n",
    "    intents2id=data_module.intents2id,\n",
    ")\n",
    "train_dataloader = data_module.train_dataloader()"
   ]
  },
  {
   "cell_type": "code",
   "execution_count": 30,
   "metadata": {},
   "outputs": [],
   "source": [
    "for x in train_dataloader:\n",
    "    break"
   ]
  },
  {
   "cell_type": "code",
   "execution_count": 36,
   "metadata": {},
   "outputs": [
    {
     "data": {
      "text/plain": [
       "tensor([ 0,  0,  0,  0,  0,  3,  0,  0, 13, 14,  0,  0,  0,  0,  0,  0,  0,  0,\n",
       "         0,  0,  0,  0,  0,  0,  0,  0,  0,  0,  0,  0,  0,  0,  0,  0,  0,  0,\n",
       "         0,  0,  0,  0,  0,  0,  0,  0,  0,  0,  0,  0,  0,  0,  0,  0])"
      ]
     },
     "execution_count": 36,
     "metadata": {},
     "output_type": "execute_result"
    }
   ],
   "source": [
    "x['tags'][-1]"
   ]
  },
  {
   "cell_type": "code",
   "execution_count": 33,
   "metadata": {},
   "outputs": [],
   "source": [
    "from collections import Counter\n",
    "\n",
    "c = Counter()\n",
    "for l in x['tags']:\n",
    "    c.update(l.tolist())"
   ]
  },
  {
   "cell_type": "code",
   "execution_count": 4,
   "metadata": {},
   "outputs": [
    {
     "name": "stderr",
     "output_type": "stream",
     "text": [
      "Reusing dataset conll2003 (C:\\Users\\simon\\.cache\\huggingface\\datasets\\conll2003\\conll2003\\1.0.0\\40e7cb6bcc374f7c349c83acd1e9352a4f09474eb691f64f364ee62eb65d0ca6)\n",
      "100%|██████████| 3/3 [00:00<00:00, 430.13it/s]\n"
     ]
    }
   ],
   "source": [
    "from datasets import load_dataset\n",
    "conll = load_dataset('conll2003')"
   ]
  },
  {
   "cell_type": "code",
   "execution_count": 5,
   "metadata": {},
   "outputs": [],
   "source": [
    "dataset = conll['train']\n",
    "feature = dataset.features['ner_tags'].feature\n",
    "errors = 0\n",
    "x = dataset[1343]\n",
    "text = ' '.join(x['tokens']).lower()\n",
    "doc = nlu_tokenizer.spacy_nlp(text)"
   ]
  },
  {
   "cell_type": "code",
   "execution_count": 6,
   "metadata": {},
   "outputs": [
    {
     "name": "stdout",
     "output_type": "stream",
     "text": [
      "['a', 'west', 'bank', 'bookseller', 'charged', 'on', 'thursday', 'that', 'the', 'palestinian', 'information', 'ministry', 'has', 'forced', 'him', 'to', 'sign', 'an', 'undertaking', 'not', 'to', 'distribute', 'books', 'written', 'by', 'critics', 'of', 'israeli-plo', 'self-rule', 'deals', '.']\n",
      "['O', 'B-LOC', 'I-LOC', 'O', 'O', 'O', 'O', 'O', 'O', 'B-ORG', 'I-ORG', 'I-ORG', 'O', 'O', 'O', 'O', 'O', 'O', 'O', 'O', 'O', 'O', 'O', 'O', 'O', 'O', 'O', 'B-MISC', 'O', 'O', 'O']\n",
      "['a', 'west', 'bank', 'bookseller', 'charged', 'on', 'thursday', 'that', 'the', 'palestinian', 'information', 'ministry', 'has', 'forced', 'him', 'to', 'sign', 'an', 'undertaking', 'not', 'to', 'distribute', 'books', 'written', 'by', 'critics', 'of', 'israeli', '-', 'plo', 'self', '-', 'rule', 'deals', '.']\n",
      "['a', 'west', 'bank', 'books', '##eller', 'charged', 'on', 'thursday', 'that', 'the', 'palestinian', 'information', 'ministry', 'has', 'forced', 'him', 'to', 'sign', 'an', 'undertaking', 'not', 'to', 'distribute', 'books', 'written', 'by', 'critics', 'of', 'israeli', '-', 'pl', '##o', 'self', '-', 'rule', 'deals', '.']\n",
      "[31, 31, 35, 37]\n"
     ]
    }
   ],
   "source": [
    "doc\n",
    "spacy_tokens = list(map(str, doc))\n",
    "tags = list(map(feature.int2str, x['ner_tags']))\n",
    "bert_tokens = nlu_tokenizer.bert_tokenize(text)\n",
    "original_tokens = list(map(str.lower, x['tokens']))\n",
    "\n",
    "print(original_tokens)\n",
    "print(tags)\n",
    "print(spacy_tokens)\n",
    "print(bert_tokens)\n",
    "print(list(map(len, [original_tokens, tags, spacy_tokens, bert_tokens])))"
   ]
  },
  {
   "cell_type": "code",
   "execution_count": 9,
   "metadata": {},
   "outputs": [],
   "source": [
    "from tokenizations import get_alignments\n",
    "from spacy.training import biluo_tags_to_offsets, iob_to_biluo, biluo_to_iob"
   ]
  },
  {
   "cell_type": "code",
   "execution_count": 60,
   "metadata": {},
   "outputs": [
    {
     "name": "stdout",
     "output_type": "stream",
     "text": [
      "['O', 'B-LOC', 'L-LOC', 'O', 'O', 'O', 'O', 'O', 'O', 'B-ORG', 'I-ORG', 'L-ORG', 'O', 'O', 'O', 'O', 'O', 'O', 'O', 'O', 'O', 'O', 'O', 'O', 'O', 'O', 'O', 'B-MISC', 'I-MISC', 'L-MISC', 'O', 'O', 'O', 'O', 'O']\n"
     ]
    }
   ],
   "source": [
    "print(mapped_tags)"
   ]
  },
  {
   "cell_type": "code",
   "execution_count": 62,
   "metadata": {},
   "outputs": [
    {
     "data": {
      "text/plain": [
       "[(2, 11, 'LOC'), (52, 84, 'ORG'), (169, 180, 'MISC')]"
      ]
     },
     "execution_count": 62,
     "metadata": {},
     "output_type": "execute_result"
    }
   ],
   "source": [
    "entities = biluo_tags_to_offsets(doc, mapped_tags)\n",
    "entities"
   ]
  },
  {
   "cell_type": "code",
   "execution_count": null,
   "metadata": {},
   "outputs": [],
   "source": [
    "typ = 'train'\n",
    "dataset = conll[typ]\n",
    "feature = dataset.features['ner_tags'].feature\n",
    "errors = 0\n",
    "for x in tqdm(dataset, total=len(dataset), desc=f'{typ}set'):\n",
    "    text = ' '.join(x['tokens']).lower()\n",
    "    doc = nlu_tokenizer.spacy_nlp(text)\n",
    "\n",
    "    tags = list(map(feature.int2str, x['ner_tags']))\n",
    "    spacy_tokens = list(map(str, doc))\n",
    "    original_tokens = list(map(str.lower, x['tokens']))\n",
    "    mapped_tags = nlu_tokenizer.fix_tags_alignment(\n",
    "        longer_tokens=spacy_tokens, shorter_tokens=original_tokens, tags=tags\n",
    "    )\n",
    "\n",
    "    entities = biluo_tags_to_offsets(doc, mapped_tags)\n",
    "    if not entities:\n",
    "        errors += 1\n",
    "        continue\n",
    "\n",
    "    d = {'text': text, 'entities': entities, 'intent': 'None'}"
   ]
  },
  {
   "cell_type": "code",
   "execution_count": null,
   "metadata": {},
   "outputs": [],
   "source": [
    "print(original_tokens)\n",
    "print(tags)\n",
    "print(spacy_tokens)\n",
    "print(mapped_tags)"
   ]
  },
  {
   "cell_type": "code",
   "execution_count": 10,
   "metadata": {},
   "outputs": [],
   "source": [
    "a2b, b2a = get_alignments(a=original_tokens, b=spacy_tokens)\n",
    "\n",
    "biluo_tags = iob_to_biluo(tags)\n",
    "mapped_tags = ['-'] * len(spacy_tokens)\n",
    "for i, tag in enumerate(biluo_tags):\n",
    "    if tag == 'O':\n",
    "        for k in a2b[i]:\n",
    "            mapped_tags[k] = tag\n",
    "        continue\n",
    "\n",
    "    prefix, label = tag.split('-')\n",
    "    if prefix == 'B':\n",
    "        for j, k in enumerate(a2b[i]):\n",
    "            if j == 0:\n",
    "                mapped_tags[k] = tag\n",
    "            else:\n",
    "                mapped_tags[k] = f'I-{label}'\n",
    "    elif prefix == 'L':\n",
    "        for j, k in enumerate(a2b[i]):\n",
    "            if j == len(a2b[i])-1:\n",
    "                mapped_tags[k] = tag\n",
    "            else:\n",
    "                mapped_tags[k] = f'I-{label}'\n",
    "    elif prefix == 'U':\n",
    "        if len(a2b[i]) == 1:\n",
    "            k = a2b[i][0]\n",
    "            mapped_tags[k] = tag\n",
    "        elif len(a2b[i]) == 2:\n",
    "            b, l = a2b[i]\n",
    "            mapped_tags[b] = f'B-{label}'\n",
    "            mapped_tags[l] = f'L-{label}'\n",
    "        else:\n",
    "            for j, k in enumerate(a2b[i]):\n",
    "                if j == 0:\n",
    "                    mapped_tags[k] = f'B-{label}'\n",
    "                elif j == len(a2b[i])-1:\n",
    "                    mapped_tags[k] = f'L-{label}'\n",
    "                else:\n",
    "                    mapped_tags[k] = f'I-{label}'\n",
    "    else:\n",
    "        for j, k in enumerate(a2b[i]):\n",
    "            mapped_tags[k] = tag"
   ]
  },
  {
   "cell_type": "markdown",
   "metadata": {},
   "source": [
    "# TODO: augmentation 구현하기"
   ]
  },
  {
   "cell_type": "code",
   "execution_count": 28,
   "metadata": {},
   "outputs": [],
   "source": [
    "from transformers import pipeline\n",
    "from spacy.training import biluo_tags_to_offsets, iob_to_biluo, offsets_to_biluo_tags, biluo_to_iob\n",
    "from src.nlu_createData import SparqlHandler\n",
    "\n",
    "s_ENT = '[E]'\n",
    "e_ENT = '[/E]'\n",
    "f_ENT = lambda x: f'{s_ENT}{x}{e_ENT}'\n",
    "def get_entity(s, x, tag):\n",
    "    idx = s.index(x)\n",
    "    return (idx, idx+len(x), tag)\n",
    "\n",
    "sparql = SparqlHandler(data_path / 'AccountRDF.xml')\n",
    "df_account = pd.read_csv(data_path / 'AccountName.csv', encoding='utf-8')\n",
    "ACC_DICT = defaultdict(dict)\n",
    "for _, row in df_account.iterrows():\n",
    "    acc = row['acc']\n",
    "    eng = row['acc_name_eng']\n",
    "    kor = row['acc_name_kor']\n",
    "    group = row['group']\n",
    "    ACC_DICT[acc]['kor_name'] = kor\n",
    "    ACC_DICT[acc]['eng_name'] = eng\n",
    "    ACC_DICT[acc]['group'] = group\n",
    "\n",
    "df = pd.read_csv(data_path / 'AccountWords.csv', encoding='utf-8')\n",
    "\n",
    "format_dict = {\n",
    "    0: [\n",
    "        # only to train the ner task\n",
    "        # account \n",
    "    ],\n",
    "    1: [\n",
    "        # what/how, target_account, [MASK] + year/quarter\n",
    "        \"{} is the {} in the {}?\",\n",
    "    ], \n",
    "    2: [\n",
    "        # target_account, subject_account, [MASK], random_number + percent/%, [MASK] + year/quarter\n",
    "        \"what happens to the {} when the {} {} by {} in the {}?\",\n",
    "        # target_account, subject_account, [MASK], random_number + percent/%, [MASK] + year/quarter\n",
    "        \"what will be the effect to {} if the {} {} by {} in the {}?\",\n",
    "        # reverse the relation\n",
    "        # subject_account, [MASK], random_number + percent/%, [MASK] + year/quarter, target_account\n",
    "        \"when the {} {} by {} in the {}, what will happen to the {}?\",\n",
    "        # subject_account, [MASK], random_number + percent/%, [MASK] + year/quarter, target_account\n",
    "        \"if the {} {} by {} in the {}, what will be the effect to {}?\"\n",
    "    ],\n",
    "    3: [\n",
    "        # what/how, target_account, [MASK] + year/quarter\n",
    "        \"{} will be the {} in the {}?\"\n",
    "    ]\n",
    "}"
   ]
  },
  {
   "cell_type": "code",
   "execution_count": 3,
   "metadata": {},
   "outputs": [
    {
     "name": "stderr",
     "output_type": "stream",
     "text": [
      "Some weights of the model checkpoint at bert-base-uncased were not used when initializing BertForMaskedLM: ['cls.seq_relationship.bias', 'cls.seq_relationship.weight']\n",
      "- This IS expected if you are initializing BertForMaskedLM from the checkpoint of a model trained on another task or with another architecture (e.g. initializing a BertForSequenceClassification model from a BertForPreTraining model).\n",
      "- This IS NOT expected if you are initializing BertForMaskedLM from the checkpoint of a model that you expect to be exactly identical (initializing a BertForSequenceClassification model from a BertForSequenceClassification model).\n"
     ]
    }
   ],
   "source": [
    "# model_p = 'bert-base-uncased' # 'albert-base-v2' / 'bert-base-uncased'\n",
    "# fillmask = pipeline('fill-mask', model=model_p)\n",
    "# generator = pipeline('text-generation', model='gpt2')\n",
    "# mask_token = fillmask.tokenizer.mask_token"
   ]
  },
  {
   "cell_type": "code",
   "execution_count": null,
   "metadata": {},
   "outputs": [],
   "source": [
    "# generator(f'{target_account}', max_length=50, num_return_sequences=5)"
   ]
  },
  {
   "cell_type": "code",
   "execution_count": 29,
   "metadata": {},
   "outputs": [],
   "source": [
    "import torch\n",
    "from copy import deepcopy\n",
    "from transformers import AutoTokenizer, AutoModelForMaskedLM\n",
    "# , BertTokenizerFast, BertForMaskedLM, AlbertForMaskedLM, AlbertTokenizerFast\n",
    "\n",
    "# model_p = 'bert-base-uncased' # 'albert-base-v2' / 'bert-base-uncased'\n",
    "# fillmask = pipeline('fill-mask', model=model_p)\n",
    "# generator = pipeline('text-generation', model='gpt2')\n",
    "# mask_token = fillmask.tokenizer.mask_token"
   ]
  },
  {
   "cell_type": "code",
   "execution_count": 31,
   "metadata": {},
   "outputs": [],
   "source": [
    "def fill_multi_mask(bert_model, tokenizer, text):\n",
    "    inputs = tokenizer(text, return_tensors='pt')\n",
    "    outputs = bert_model(**inputs)\n",
    "    predictions = outputs[0]\n",
    "    return predictions\n",
    "\n",
    "def template_generator(mask_token, max_length, acc_idxes, target_account):\n",
    "    preset = [mask_token] * max_length\n",
    "    candidates = []\n",
    "    for i in acc_idxes:\n",
    "        temp = deepcopy(preset)\n",
    "        temp[i] = target_account\n",
    "        candidates.append(' '.join(temp))\n",
    "    return candidates\n",
    "\n",
    "def get_aug_sequences(tokenizer, model, cands, top_k, max_length):\n",
    "    number_of_mask_token = max_length-1\n",
    "    m_l = 0\n",
    "    while m_l < number_of_mask_token:\n",
    "        cands_tokens = [tokenizer.tokenize(c, padding=True, truncation=True) for c in cands]\n",
    "        infer_indices = []\n",
    "        for c in cands_tokens:\n",
    "            mask_idx = list(np.arange(len(c))[np.array(c) == '[MASK]'])\n",
    "            choosed_idx = np.random.choice(mask_idx)\n",
    "            infer_indices.append(choosed_idx)\n",
    "        \n",
    "        inputs = tokenizer(cands, padding=True, truncation=True, return_tensors='pt')\n",
    "        o = model(**inputs)[0][:, 1:-1]\n",
    "        _, sorted_idx = o.sort(dim=-1, descending=True)\n",
    "        predict_ids = sorted_idx[torch.arange(sorted_idx.size(0)), infer_indices, :top_k]\n",
    "\n",
    "        cands_tensors = inputs['input_ids'][:, 1:-1]\n",
    "        cands_tensors = cands_tensors.unsqueeze(1).expand(cands_tensors.size(0), top_k, cands_tensors.size(1)).clone()\n",
    "        cands_tensors[torch.arange(cands_tensors.size(0)), :, infer_indices] = predict_ids\n",
    "        cands = [tokenizer.decode(c) for c in cands_tensors.view(cands_tensors.size(0)*top_k, -1)]\n",
    "        m_l += 1\n",
    "    cands = [c.replace(tokenizer.pad_token, '').strip() for c in cands]\n",
    "    return cands"
   ]
  },
  {
   "cell_type": "code",
   "execution_count": 30,
   "metadata": {},
   "outputs": [],
   "source": [
    "model_dict = dict(\n",
    "    enumerate([\n",
    "    'bert-base-uncased',  # 0\n",
    "    'albert-base-v2',  # 1\n",
    "    'roberta-base',  # 2\n",
    "    'google/electra-base-generator'  # 3\n",
    "    ])\n",
    ")\n",
    "model_path = model_dict[3]\n",
    "model = AutoModelForMaskedLM.from_pretrained(model_path)  # albert_model / bert_model\n",
    "tokenizer = AutoTokenizer.from_pretrained(model_path)  # albert_tokenizer / bert_tokenizer\n",
    "# fillmask = pipeline('fill-mask', model=model_path)\n",
    "# generator = pipeline('text-generation', model='gpt2')\n",
    "# mask_token = fillmask.tokenizer.mask_token"
   ]
  },
  {
   "cell_type": "code",
   "execution_count": 33,
   "metadata": {},
   "outputs": [
    {
     "data": {
      "application/vnd.jupyter.widget-view+json": {
       "model_id": "4515a277be9e4ff1b9dbd338bd519416",
       "version_major": 2,
       "version_minor": 0
      },
      "text/plain": [
       "0it [00:00, ?it/s]"
      ]
     },
     "metadata": {},
     "output_type": "display_data"
    }
   ],
   "source": [
    "class DataCreator:\n",
    "    s_ENT = '[E]'\n",
    "    e_ENT = '[/E]'\n",
    "    # f_ENT = lambda x: f'[E]{x}[/E]'\n",
    "\n",
    "    def __init__(self, data_path, template_token_lengths=10, top_k=5, model_idx=3, simple_knowledge_tag=True):\n",
    "        self.data_path = data_path\n",
    "        self.exceptions = ['BalanceSheet', 'IncomeStatement', 'Ratios', 'CalendarOneYear']\n",
    "        self.times = ['year', 'quarter']\n",
    "        self.template_token_lengths = template_token_lengths\n",
    "        self.top_k = top_k\n",
    "        self.model_idx = model_idx\n",
    "        self.simple_knowledge_tag = simple_knowledge_tag\n",
    "        self.set_sparql()\n",
    "\n",
    "        self.f_ENT = lambda x: f'{self.s_ENT}{x}{self.e_ENT}'\n",
    "        self.device = torch.device('cuda') if torch.cuda.is_available() else torch.device('cpu')\n",
    "        self.progress_bar = tqdm()\n",
    "\n",
    "    def set_sparql(self):\n",
    "        self.sparql = SparqlHandler(self.data_path / 'AccountRDF.xml')\n",
    "\n",
    "        df_account = pd.read_csv(self.data_path / 'AccountName.csv', encoding='utf-8')\n",
    "        self.ACC_DICT = defaultdict(dict)\n",
    "        for _, row in df_account.iterrows():\n",
    "            acc = row['acc']\n",
    "            eng = row['acc_name_eng']\n",
    "            kor = row['acc_name_kor']\n",
    "            group = row['group']\n",
    "            self.ACC_DICT[acc]['kor_name'] = kor\n",
    "            self.ACC_DICT[acc]['eng_name'] = eng\n",
    "            self.ACC_DICT[acc]['group'] = group\n",
    "\n",
    "ds = DataCreator(data_path)"
   ]
  },
  {
   "cell_type": "code",
   "execution_count": 39,
   "metadata": {},
   "outputs": [
    {
     "data": {
      "text/plain": [
       "dict_items([('CurrentAssets', {'kor_name': '유동자산', 'eng_name': 'Current Assets', 'group': 'BS-Value-3'}), ('CashAndCashEquivalents', {'kor_name': '현금및현금성자산', 'eng_name': 'Cash and Cash Equivalents', 'group': 'BS-Value-4'}), ('TradeAndOtherCurrentReceivables', {'kor_name': '매출채권', 'eng_name': 'Trade and Other Current Receivables', 'group': 'BS-Value-4'}), ('PrepaidExpenses', {'kor_name': '선급비용', 'eng_name': 'Prepaid Expenses', 'group': 'BS-Value-4'}), ('Inventories', {'kor_name': '재고자산', 'eng_name': 'Inventories', 'group': 'BS-Value-4'}), ('NoncurrentAssets', {'kor_name': '비유동자산', 'eng_name': 'Noncurrent Assets', 'group': 'BS-Value-3'}), ('PropertyPlantAndEquipment', {'kor_name': '유형자산', 'eng_name': 'Property Plant and Equipment', 'group': 'BS-Value-4'}), ('IntangibleAssets', {'kor_name': '무형자산', 'eng_name': 'Intangible Assets', 'group': 'BS-Value-4'}), ('AssetsAbstract', {'kor_name': '자산총계', 'eng_name': 'Assets', 'group': 'BS-Value-1'}), ('CurrentLiabilities', {'kor_name': '유동부채', 'eng_name': 'Current Liabilities', 'group': 'BS-Value-3'}), ('TradeAndOtherCurrentPayables', {'kor_name': '매입채무 및 기타유동채무', 'eng_name': 'Trade and Other Current Payables', 'group': 'BS-Value-4'}), ('ShortTermBorrowings', {'kor_name': '단기차입금', 'eng_name': 'Short Term Borrowings', 'group': 'BS-Value-4'}), ('AdvancesCustomers', {'kor_name': '선수금', 'eng_name': 'Advances Customers', 'group': 'BS-Value-4'}), ('NoncurrentLiabilities', {'kor_name': '비유동부채', 'eng_name': 'Noncurrent Liabilities', 'group': 'BS-Value-3'}), ('BondsIssued', {'kor_name': '사채', 'eng_name': 'Bonds Issued', 'group': 'BS-Value-4'}), ('LongTermBorrowings', {'kor_name': '장기차입금', 'eng_name': 'Long Term Borrowings', 'group': 'BS-Value-4'}), ('LiabilitiesAbstract', {'kor_name': '부채총계', 'eng_name': 'Liabilities', 'group': 'BS-Value-2'}), ('EquitiesAbstract', {'kor_name': '자본총계', 'eng_name': 'Equities', 'group': 'BS-Value-2'}), ('LiabilitiesAndEquities', {'kor_name': '부채와자본총계', 'eng_name': 'Liabilities and Equities', 'group': 'BS-Value-1'}), ('TradeReceivableTurnoverPeriod', {'kor_name': '매출채권 회전기간', 'eng_name': 'Trade Receivable Turnover Period', 'group': 'BS-Ratio-98'}), ('PrepaidExpensesTurnoverPeriod', {'kor_name': '선급비용 회전기간', 'eng_name': 'Prepaid Expenses Turnover Period', 'group': 'BS-Ratio-98'}), ('InventoriesTurnoverPeriod', {'kor_name': '재고자산 회전기간', 'eng_name': 'Inventories Turnover Period', 'group': 'BS-Ratio-98'}), ('TradePayablesTurnoverPeriod', {'kor_name': '매입채무 회전기간', 'eng_name': 'Trade Payables Turnover Period', 'group': 'BS-Ratio-98'}), ('AdvancesCustomersTurnoverPeriod', {'kor_name': '선수금 회전기간', 'eng_name': 'Advances Customers Turnover Period', 'group': 'BS-Ratio-98'}), ('Revenue', {'kor_name': '수익(매출액)', 'eng_name': 'Revenue', 'group': 'IS-Value-5'}), ('CostOfSales', {'kor_name': '매출원가', 'eng_name': 'Cost of Sales', 'group': 'IS-Value-5'}), ('GrossProfit', {'kor_name': '매출총이익', 'eng_name': 'Gross Profit', 'group': 'IS-Value-4'}), ('SellingGeneralAdministrativeExpenses', {'kor_name': '판매비와관리비', 'eng_name': 'Selling General Administrative Expenses', 'group': 'IS-Value-4'}), ('OperatingIncome', {'kor_name': '영업이익', 'eng_name': 'Operating Income', 'group': 'IS-Value-3'}), ('FinanceIncome', {'kor_name': '금융수익', 'eng_name': 'Finance Income', 'group': 'IS-Value-3'}), ('FinancialExpenses', {'kor_name': '금융비용', 'eng_name': 'Financial Expenses', 'group': 'IS-Value-3'}), ('ProfitBeforeTax', {'kor_name': '법인세비용차감전순이익(손실)', 'eng_name': 'Profit Before Tax', 'group': 'IS-Value-2'}), ('IncomeTaxExpense', {'kor_name': '법인세비용', 'eng_name': 'IncomeTax Expense', 'group': 'IS-Value-2'}), ('Profit', {'kor_name': '당기순이익(손실)', 'eng_name': 'Profit', 'group': 'IS-Value-1'}), ('CostOfSalesRatio', {'kor_name': '매출원가율', 'eng_name': 'Cost of Sales Ratio', 'group': 'IS-Ratio-98'}), ('SellingGeneralAdministrativeRatio', {'kor_name': '판관비율', 'eng_name': 'Selling General Administrative Ratio', 'group': 'IS-Ratio-98'}), ('SalesAndSellingGeneralAdministrativeRatio', {'kor_name': '매출 및 판관 비율', 'eng_name': 'Sales and Selling General Administrative Ratio', 'group': 'IS-Ratio-98'}), ('IncomeTaxRatio', {'kor_name': '법인세율', 'eng_name': 'Income Tax Ratio', 'group': 'IS-Ratio-98'}), ('ProfitRatio', {'kor_name': '순이익율', 'eng_name': 'Profit Ratio', 'group': 'IS-Ratio-98'}), ('IncomeStatement', {'kor_name': '손익계산서', 'eng_name': 'Income Statement', 'group': 'IS-Value-0'}), ('BalanceSheet', {'kor_name': '재무상태표', 'eng_name': 'Balance Sheet', 'group': 'BS-Value-0'}), ('CalendarOneYear', {'kor_name': '365 일', 'eng_name': '365 days', 'group': 'TIME-Value-99'}), ('Ratios', {'kor_name': '재무비율', 'eng_name': 'Finance Ratio', 'group': 'FS-Ratio-0'})])"
      ]
     },
     "execution_count": 39,
     "metadata": {},
     "output_type": "execute_result"
    }
   ],
   "source": [
    "ds.ACC_DICT.items()"
   ]
  },
  {
   "cell_type": "code",
   "execution_count": 10,
   "metadata": {},
   "outputs": [
    {
     "data": {
      "application/vnd.jupyter.widget-view+json": {
       "model_id": "e648e68adb3242559c31667d0ff59dc0",
       "version_major": 2,
       "version_minor": 0
      },
      "text/plain": [
       "0it [00:00, ?it/s]"
      ]
     },
     "metadata": {},
     "output_type": "display_data"
    },
    {
     "ename": "NameError",
     "evalue": "name 'f_ENT' is not defined",
     "output_type": "error",
     "traceback": [
      "\u001b[1;31m---------------------------------------------------------------------------\u001b[0m",
      "\u001b[1;31mNameError\u001b[0m                                 Traceback (most recent call last)",
      "\u001b[1;32m~\\AppData\\Local\\Temp/ipykernel_2784/1183438320.py\u001b[0m in \u001b[0;36m<module>\u001b[1;34m\u001b[0m\n\u001b[0;32m     28\u001b[0m         \u001b[1;32mif\u001b[0m \u001b[0ml\u001b[0m \u001b[1;33m==\u001b[0m \u001b[1;36m1\u001b[0m\u001b[1;33m:\u001b[0m\u001b[1;33m\u001b[0m\u001b[1;33m\u001b[0m\u001b[0m\n\u001b[0;32m     29\u001b[0m             \u001b[1;31m# skip fill mask\u001b[0m\u001b[1;33m\u001b[0m\u001b[1;33m\u001b[0m\u001b[1;33m\u001b[0m\u001b[0m\n\u001b[1;32m---> 30\u001b[1;33m             \u001b[0msentences\u001b[0m \u001b[1;33m=\u001b[0m \u001b[1;33m[\u001b[0m\u001b[0mf_ENT\u001b[0m\u001b[1;33m(\u001b[0m\u001b[0mtarget_account\u001b[0m\u001b[1;33m)\u001b[0m\u001b[1;33m]\u001b[0m\u001b[1;33m\u001b[0m\u001b[1;33m\u001b[0m\u001b[0m\n\u001b[0m\u001b[0;32m     31\u001b[0m         \u001b[1;32melse\u001b[0m\u001b[1;33m:\u001b[0m\u001b[1;33m\u001b[0m\u001b[1;33m\u001b[0m\u001b[0m\n\u001b[0;32m     32\u001b[0m             \u001b[1;31m# fill mask\u001b[0m\u001b[1;33m\u001b[0m\u001b[1;33m\u001b[0m\u001b[1;33m\u001b[0m\u001b[0m\n",
      "\u001b[1;31mNameError\u001b[0m: name 'f_ENT' is not defined"
     ]
    }
   ],
   "source": [
    "template_token_lengths = 4\n",
    "top_k = 5\n",
    "exceptions = ['BalanceSheet', 'IncomeStatement', 'Ratios', 'CalendarOneYear']\n",
    "data0 = []\n",
    "progress_bar = tqdm()\n",
    "\n",
    "model_dict = dict(\n",
    "    enumerate([\n",
    "    'bert-base-uncased',  # 0\n",
    "    'albert-base-v2',  # 1\n",
    "    'roberta-base',  # 2\n",
    "    'google/electra-base-generator'  # 3\n",
    "    ])\n",
    ")\n",
    "model_path = model_dict[3]\n",
    "model = AutoModelForMaskedLM.from_pretrained(model_path)  # albert_model / bert_model\n",
    "tokenizer = AutoTokenizer.from_pretrained(model_path)  # albert_tokenizer / bert_tokenizer\n",
    "\n",
    "for acc, dic in ACC_DICT.items():\n",
    "    if acc in exceptions:\n",
    "        continue\n",
    "    target_account = dic['eng_name'].lower()\n",
    "    knowledge, acc_type, _ = dic['group'].split('-')\n",
    "    target_entitiy = f'{knowledge}'\n",
    "    for l in range(1, template_token_lengths+1):\n",
    "        progress_bar.set_description(f'{target_account}, {target_entitiy}: length-{l}')\n",
    "\n",
    "        if l == 1:\n",
    "            # skip fill mask\n",
    "            sentences = [f_ENT(target_account)]\n",
    "        else:\n",
    "            # fill mask\n",
    "            acc_idxes = np.random.choice(range(l), size=(l,), replace=False)\n",
    "\n",
    "            cands = template_generator(\n",
    "                mask_token=mask_token, \n",
    "                max_length=l,\n",
    "                acc_idxes=acc_idxes,\n",
    "                target_account=target_account\n",
    "            )\n",
    "            sentences = get_aug_sequences(\n",
    "                tokenizer=tokenizer, \n",
    "                model=model, \n",
    "                cands=cands, \n",
    "                top_k=top_k, \n",
    "                max_length=l\n",
    "            )\n",
    "            sentences = [f'{f_ENT(target_account)}'.join(aug_sent.split(target_account)) for aug_sent in sentences]\n",
    "        for s in sentences:\n",
    "            entities = []\n",
    "            entities.append(get_entity(s, f_ENT(target_account), target_entitiy))\n",
    "            data0.append(\n",
    "                {'text': s, 'entities': sorted(entities, key=lambda x: x[0]), 'intent': 'None'} \n",
    "            )\n",
    "            progress_bar.update(1)\n",
    "        \n",
    "        if l == 3:\n",
    "            break\n",
    "    break "
   ]
  },
  {
   "cell_type": "code",
   "execution_count": 48,
   "metadata": {},
   "outputs": [],
   "source": [
    "l = 4\n",
    "acc_idxes = np.random.choice(range(l), size=(l,), replace=False)\n",
    "\n",
    "def template_generator(mask_token, max_length, acc_idxes, target_account):\n",
    "    preset = [mask_token] * max_length\n",
    "    candidates = []\n",
    "    for i in acc_idxes:\n",
    "        temp = deepcopy(preset)\n",
    "        temp[i] = target_account\n",
    "        candidates.append(' '.join(temp))\n",
    "    return candidates\n",
    "\n",
    "cands = template_generator(\n",
    "    mask_token=mask_token, \n",
    "    max_length=l,\n",
    "    acc_idxes=acc_idxes,\n",
    "    target_account=target_account\n",
    ")\n",
    "\n",
    "max_length = l\n",
    "number_of_mask_token = max_length-1\n",
    "m_l = 0\n",
    "while m_l < number_of_mask_token:\n",
    "    cands_tokens = [tokenizer.tokenize(c, truncation=True) for c in cands]\n",
    "    infer_indices = []\n",
    "    for c in cands_tokens:\n",
    "        mask_idx = list(np.arange(len(c))[np.array(c) == '[MASK]'])\n",
    "        choosed_idx = np.random.choice(mask_idx)\n",
    "        infer_indices.append(choosed_idx)\n",
    "    \n",
    "    inputs = tokenizer(cands, return_tensors='pt')\n",
    "    o = model(**inputs)[0][:, 1:-1]\n",
    "    _, sorted_idx = o.sort(dim=-1, descending=True)\n",
    "    predict_ids = sorted_idx[torch.arange(sorted_idx.size(0)), infer_indices, :top_k]\n",
    "\n",
    "    cands_tensors = inputs['input_ids'][:, 1:-1]\n",
    "    cands_tensors = cands_tensors.unsqueeze(1).expand(cands_tensors.size(0), top_k, cands_tensors.size(1)).clone()\n",
    "    cands_tensors[torch.arange(cands_tensors.size(0)), :, infer_indices] = predict_ids\n",
    "    cands = [tokenizer.decode(c) for c in cands_tensors.view(cands_tensors.size(0)*top_k, -1)]\n",
    "    if m_l == max_length-3:\n",
    "        break\n",
    "    m_l += 1"
   ]
  },
  {
   "cell_type": "code",
   "execution_count": 52,
   "metadata": {},
   "outputs": [
    {
     "data": {
      "text/plain": [
       "torch.Size([20, 7])"
      ]
     },
     "execution_count": 52,
     "metadata": {},
     "output_type": "execute_result"
    }
   ],
   "source": [
    "inputs['input_ids'].size()"
   ]
  },
  {
   "cell_type": "code",
   "execution_count": 53,
   "metadata": {},
   "outputs": [],
   "source": [
    "ds = TensorDataset(inputs['input_ids'], inputs['token_type_ids'], inputs['attention_mask'])"
   ]
  },
  {
   "cell_type": "code",
   "execution_count": 74,
   "metadata": {},
   "outputs": [],
   "source": [
    "batch_size = 3\n",
    "batch_cands = []\n",
    "for i, x in enumerate(DataLoader(ds, batch_size=batch_size)):\n",
    "    batch_infer_indices = infer_indices[(i*batch_size):((i+1)*batch_size)]\n",
    "    o = model(input_ids=x[0], token_type_ids=x[1], attention_mask=x[2])[0][:, 1:-1]\n",
    "    _, sorted_idx = o.sort(dim=-1, descending=True)\n",
    "    predict_ids = sorted_idx[torch.arange(sorted_idx.size(0)), batch_infer_indices, :top_k]\n",
    "\n",
    "    cands_tensors = x[0][:, 1:-1]\n",
    "    cands_tensors = cands_tensors.unsqueeze(1).expand(cands_tensors.size(0), top_k, cands_tensors.size(1)).clone()\n",
    "    cands_tensors[torch.arange(cands_tensors.size(0)), :, batch_infer_indices] = predict_ids\n",
    "    batch_cands.extend([tokenizer.decode(c) for c in cands_tensors.view(cands_tensors.size(0)*top_k, -1)])\n"
   ]
  },
  {
   "cell_type": "code",
   "execution_count": 75,
   "metadata": {},
   "outputs": [
    {
     "data": {
      "text/plain": [
       "100"
      ]
     },
     "execution_count": 75,
     "metadata": {},
     "output_type": "execute_result"
    }
   ],
   "source": [
    "len(batch_cands)"
   ]
  },
  {
   "cell_type": "code",
   "execution_count": 72,
   "metadata": {},
   "outputs": [
    {
     "data": {
      "text/plain": [
       "[2, 1, 2, 2, 2, 4, 4, 1, 1, 4, 4, 3, 3, 3, 3, 4, 4, 2, 2, 2]"
      ]
     },
     "execution_count": 72,
     "metadata": {},
     "output_type": "execute_result"
    }
   ],
   "source": [
    "infer_indices"
   ]
  },
  {
   "cell_type": "code",
   "execution_count": 24,
   "metadata": {},
   "outputs": [
    {
     "data": {
      "text/plain": [
       "'what happens to the [E]sales and selling general administrative ratio[/E] when the [E]cost of sales ratio[/E] [E]decreases[/E] by [E]17 %[/E] in the [E]first quarter[/E]'"
      ]
     },
     "execution_count": 24,
     "metadata": {},
     "output_type": "execute_result"
    }
   ],
   "source": [
    "def remapping(text, ents):\n",
    "    splitted = []\n",
    "    text_copy = text[:]\n",
    "    e_prev = 0\n",
    "    for s, e, _ in ents:\n",
    "        new_s = s-e_prev\n",
    "        new_e = e-e_prev\n",
    "        splitted.append(text_copy[:new_s])\n",
    "        splitted.append(f_ENT(text_copy[new_s:new_e]))\n",
    "        text_copy = text_copy[new_e:]\n",
    "        e_prev = e\n",
    "    new_text = ''.join(splitted)\n",
    "    return new_text\n",
    "\n",
    "remapped_text = remapping(text, ents)\n",
    "remapped_text"
   ]
  },
  {
   "cell_type": "code",
   "execution_count": 4,
   "metadata": {},
   "outputs": [],
   "source": [
    "from torch.utils.data import DataLoader, TensorDataset"
   ]
  },
  {
   "cell_type": "code",
   "execution_count": null,
   "metadata": {},
   "outputs": [],
   "source": []
  },
  {
   "cell_type": "code",
   "execution_count": 25,
   "metadata": {},
   "outputs": [
    {
     "name": "stdout",
     "output_type": "stream",
     "text": [
      "5\n"
     ]
    },
    {
     "ename": "ValueError",
     "evalue": "Some Tokens are not properly assigned['O', 'O', 'O', 'O', 'O', '-', '-', '-', '-', '-', '-', '-', 'O', '-', '-', '-', '-', '-', '-', '-', 'O', '-', '-', '-', '-', '-', '-', 'O', 'O', 'O', 'O', 'O', 'O', 'O', 'O', 'O']",
     "output_type": "error",
     "traceback": [
      "\u001b[1;31m---------------------------------------------------------------------------\u001b[0m",
      "\u001b[1;31mValueError\u001b[0m                                Traceback (most recent call last)",
      "\u001b[1;32m~\\AppData\\Local\\Temp/ipykernel_5040/3342560715.py\u001b[0m in \u001b[0;36m<module>\u001b[1;34m\u001b[0m\n\u001b[0;32m      2\u001b[0m \u001b[1;33m\u001b[0m\u001b[0m\n\u001b[0;32m      3\u001b[0m \u001b[0mbert_offset_mapping\u001b[0m \u001b[1;33m=\u001b[0m \u001b[0mnlu_tokenizer\u001b[0m\u001b[1;33m.\u001b[0m\u001b[0mbert\u001b[0m\u001b[1;33m(\u001b[0m\u001b[0mremapped_text\u001b[0m\u001b[1;33m,\u001b[0m \u001b[0madd_special_tokens\u001b[0m\u001b[1;33m=\u001b[0m\u001b[1;32mTrue\u001b[0m\u001b[1;33m,\u001b[0m \u001b[0mreturn_offsets_mapping\u001b[0m\u001b[1;33m=\u001b[0m\u001b[1;32mTrue\u001b[0m\u001b[1;33m)\u001b[0m\u001b[1;33m[\u001b[0m\u001b[1;34m'offset_mapping'\u001b[0m\u001b[1;33m]\u001b[0m\u001b[1;33m\u001b[0m\u001b[1;33m\u001b[0m\u001b[0m\n\u001b[1;32m----> 4\u001b[1;33m \u001b[0mtags\u001b[0m \u001b[1;33m=\u001b[0m \u001b[0mnlu_tokenizer\u001b[0m\u001b[1;33m.\u001b[0m\u001b[0moffset_mapping_to_tags\u001b[0m\u001b[1;33m(\u001b[0m\u001b[0moffset_mapping\u001b[0m\u001b[1;33m=\u001b[0m\u001b[0mbert_offset_mapping\u001b[0m\u001b[1;33m,\u001b[0m \u001b[0ments\u001b[0m\u001b[1;33m=\u001b[0m\u001b[0ments\u001b[0m\u001b[1;33m)\u001b[0m\u001b[1;33m\u001b[0m\u001b[1;33m\u001b[0m\u001b[0m\n\u001b[0m\u001b[0;32m      5\u001b[0m \u001b[0mtags\u001b[0m \u001b[1;33m=\u001b[0m \u001b[0mbiluo_to_iob\u001b[0m\u001b[1;33m(\u001b[0m\u001b[0mtags\u001b[0m\u001b[1;33m)\u001b[0m\u001b[1;33m\u001b[0m\u001b[1;33m\u001b[0m\u001b[0m\n",
      "\u001b[1;32mc:\\Users\\simon\\Desktop\\Codes\\FSQA\\src\\nlu_utils.py\u001b[0m in \u001b[0;36moffset_mapping_to_tags\u001b[1;34m(self, offset_mapping, ents)\u001b[0m\n\u001b[0;32m    201\u001b[0m         \u001b[1;32mif\u001b[0m \u001b[1;34m'-'\u001b[0m \u001b[1;32min\u001b[0m \u001b[0mlabels\u001b[0m\u001b[1;33m:\u001b[0m\u001b[1;33m\u001b[0m\u001b[1;33m\u001b[0m\u001b[0m\n\u001b[0;32m    202\u001b[0m             \u001b[0mprint\u001b[0m\u001b[1;33m(\u001b[0m\u001b[0mlabels\u001b[0m\u001b[1;33m.\u001b[0m\u001b[0mindex\u001b[0m\u001b[1;33m(\u001b[0m\u001b[1;34m'-'\u001b[0m\u001b[1;33m)\u001b[0m\u001b[1;33m)\u001b[0m\u001b[1;33m\u001b[0m\u001b[1;33m\u001b[0m\u001b[0m\n\u001b[1;32m--> 203\u001b[1;33m             \u001b[1;32mraise\u001b[0m \u001b[0mValueError\u001b[0m\u001b[1;33m(\u001b[0m\u001b[1;34m'Some Tokens are not properly assigned'\u001b[0m \u001b[1;33m+\u001b[0m \u001b[1;34mf'{labels}'\u001b[0m\u001b[1;33m)\u001b[0m\u001b[1;33m\u001b[0m\u001b[1;33m\u001b[0m\u001b[0m\n\u001b[0m\u001b[0;32m    204\u001b[0m \u001b[1;33m\u001b[0m\u001b[0m\n\u001b[0;32m    205\u001b[0m         \u001b[1;32mreturn\u001b[0m \u001b[0mlabels\u001b[0m\u001b[1;33m\u001b[0m\u001b[1;33m\u001b[0m\u001b[0m\n",
      "\u001b[1;31mValueError\u001b[0m: Some Tokens are not properly assigned['O', 'O', 'O', 'O', 'O', '-', '-', '-', '-', '-', '-', '-', 'O', '-', '-', '-', '-', '-', '-', '-', 'O', '-', '-', '-', '-', '-', '-', 'O', 'O', 'O', 'O', 'O', 'O', 'O', 'O', 'O']"
     ]
    }
   ],
   "source": [
    "bert_tokens = nlu_tokenizer.bert_tokenize(remapped_text)\n",
    "\n",
    "bert_offset_mapping = nlu_tokenizer.bert(remapped_text, add_special_tokens=True, return_offsets_mapping=True)['offset_mapping']\n",
    "tags = nlu_tokenizer.offset_mapping_to_tags(offset_mapping=bert_offset_mapping, ents=ents)\n",
    "tags = biluo_to_iob(tags)"
   ]
  },
  {
   "cell_type": "code",
   "execution_count": 15,
   "metadata": {},
   "outputs": [
    {
     "data": {
      "text/plain": [
       "[0, 1, 2, 3, 10, 11, 17, 20, 21, 24]"
      ]
     },
     "execution_count": 15,
     "metadata": {},
     "output_type": "execute_result"
    }
   ],
   "source": [
    "masks = [i for i, t in enumerate(tags) if t == 'O']\n",
    "masks"
   ]
  },
  {
   "cell_type": "code",
   "execution_count": 16,
   "metadata": {},
   "outputs": [
    {
     "name": "stdout",
     "output_type": "stream",
     "text": [
      "17\n"
     ]
    },
    {
     "data": {
      "text/plain": [
       "['what happens to the sales and selling general administrative ratio when the cost of sales ratio decreases below 17 % in the first quarter?',\n",
       " 'what happens to the sales and selling general administrative ratio when the cost of sales ratio decreases to 17 % in the first quarter?']"
      ]
     },
     "execution_count": 16,
     "metadata": {},
     "output_type": "execute_result"
    }
   ],
   "source": [
    "K = np.random.choice(masks)\n",
    "print(K)\n",
    "masked_sentence = \" \".join(bert_tokens[:K] + [mask_token] + bert_tokens[K+1:])\n",
    "predictions = fillmask(masked_sentence)\n",
    "augmented_sequences = [predictions[i]['sequence'] for i in range(3) if predictions[i]['sequence'] != text]\n",
    "for aug_s in augmented_sequences:\n",
    "    nlu_tokenizer.bert_tokenize(aug_s)\n",
    "augmented_sequences"
   ]
  },
  {
   "cell_type": "code",
   "execution_count": 55,
   "metadata": {},
   "outputs": [],
   "source": [
    "bert_offset_mapping = nlu_tokenizer.bert(text, add_special_tokens=False, return_offsets_mapping=True)['offset_mapping']\n",
    "bert_tokens = nlu_tokenizer.bert_tokenize(text) "
   ]
  },
  {
   "cell_type": "code",
   "execution_count": 24,
   "metadata": {},
   "outputs": [],
   "source": [
    "spacy_tokens = nlu_tokenizer.spacy_tokenize(text)\n",
    "bert_encodes = nlu_tokenizer.bert(text, add_special_tokens=False, return_offsets_mapping=True)\n",
    "bert_offset_mapping = bert_encodes['offset_mapping']\n",
    "# bert_tokens = [nlu_tokenizer.bert_decode([i]) for i in bert_encodes['input_ids']]\n",
    "bert_tokens = nlu_tokenizer.bert_tokenize(text) "
   ]
  },
  {
   "cell_type": "code",
   "execution_count": 70,
   "metadata": {},
   "outputs": [
    {
     "data": {
      "text/plain": [
       "(['was', \"n't\"], ['wasn', \"'\", 't'])"
      ]
     },
     "execution_count": 70,
     "metadata": {},
     "output_type": "execute_result"
    }
   ],
   "source": [
    "spacy_tokens, bert_tokens"
   ]
  },
  {
   "cell_type": "markdown",
   "metadata": {},
   "source": [
    "# dataloader validation check"
   ]
  },
  {
   "cell_type": "code",
   "execution_count": 9,
   "metadata": {},
   "outputs": [],
   "source": [
    "import json\n",
    "from collections import Counter"
   ]
  },
  {
   "cell_type": "code",
   "execution_count": 8,
   "metadata": {},
   "outputs": [
    {
     "data": {
      "application/vnd.jupyter.widget-view+json": {
       "model_id": "d010cbc4fcc4447a9009cade7aad8f10",
       "version_major": 2,
       "version_minor": 0
      },
      "text/plain": [
       "  0%|          | 0/18129 [00:00<?, ?it/s]"
      ]
     },
     "metadata": {},
     "output_type": "display_data"
    }
   ],
   "source": [
    "train_dataset = data_module.create_dataset(data_module.train_data)\n",
    "\n",
    "all_tags = []\n",
    "with (data_path / 'trainset.jsonl').open('w', encoding='utf-8') as file:\n",
    "\n",
    "    restart_idx = 0\n",
    "    for i in tqdm(range(restart_idx, len(train_dataset)), total=len(train_dataset)-restart_idx):\n",
    "        item = train_dataset.__getitem__(i)\n",
    "        file.write(json.dumps(item) + '\\n')\n",
    "        all_tags.extend(item['tags'])"
   ]
  },
  {
   "cell_type": "code",
   "execution_count": 42,
   "metadata": {},
   "outputs": [
    {
     "data": {
      "application/vnd.jupyter.widget-view+json": {
       "model_id": "260aaf6ef8124981a4d58a38b467eab9",
       "version_major": 2,
       "version_minor": 0
      },
      "text/plain": [
       "  0%|          | 0/3705 [00:00<?, ?it/s]"
      ]
     },
     "metadata": {},
     "output_type": "display_data"
    }
   ],
   "source": [
    "valid_dataset = data_module.create_dataset(data_module.valid_data)\n",
    "restart_idx = 0\n",
    "for i in tqdm(range(restart_idx, len(valid_dataset)), total=len(valid_dataset)-restart_idx):\n",
    "    valid_dataset.__getitem__(i)\n",
    "    assert item['tags'].size(0) == 256, f\"tags_size={item['tags'].size()}\"\n",
    "    assert isinstance(item['intent'].tolist(), int), f\"intent_size={item['intent']}\""
   ]
  },
  {
   "cell_type": "code",
   "execution_count": 43,
   "metadata": {},
   "outputs": [
    {
     "data": {
      "application/vnd.jupyter.widget-view+json": {
       "model_id": "01d7d321221443119b85f8baaf1ebfd6",
       "version_major": 2,
       "version_minor": 0
      },
      "text/plain": [
       "  0%|          | 0/3693 [00:00<?, ?it/s]"
      ]
     },
     "metadata": {},
     "output_type": "display_data"
    }
   ],
   "source": [
    "test_dataset = data_module.create_dataset(data_module.test_data)\n",
    "restart_idx = 0\n",
    "for i in tqdm(range(restart_idx, len(test_dataset)), total=len(test_dataset)-restart_idx):\n",
    "    test_dataset.__getitem__(i)\n",
    "    assert item['tags'].size(0) == 256, f\"tags_size={item['tags'].size()}\"\n",
    "    assert isinstance(item['intent'].tolist(), int), f\"intent_size={item['intent']}\""
   ]
  },
  {
   "cell_type": "code",
   "execution_count": 20,
   "metadata": {},
   "outputs": [],
   "source": [
    "for x in data_module.train_dataloader():\n",
    "    break"
   ]
  },
  {
   "cell_type": "code",
   "execution_count": null,
   "metadata": {},
   "outputs": [],
   "source": []
  },
  {
   "cell_type": "markdown",
   "metadata": {},
   "source": [
    "## [Debugging]"
   ]
  },
  {
   "cell_type": "code",
   "execution_count": 7,
   "metadata": {},
   "outputs": [],
   "source": [
    "from spacy.training import biluo_to_iob, offsets_to_biluo_tags, biluo_tags_to_offsets, iob_to_biluo\n",
    "from src.nlu_utils import NLUTokenizer\n",
    "\n",
    "nlu_tokenizer = NLUTokenizer(hugg_path='bert-base-uncased', spacy_path='en_core_web_sm')"
   ]
  },
  {
   "cell_type": "markdown",
   "metadata": {},
   "source": [
    "## Modeling"
   ]
  },
  {
   "cell_type": "code",
   "execution_count": 2,
   "metadata": {},
   "outputs": [
    {
     "name": "stderr",
     "output_type": "stream",
     "text": [
      "loading: 100%|██████████| 14158/14158 [00:00<00:00, 93393.51it/s]\n",
      "loading: 100%|██████████| 14158/14158 [00:00<00:00, 186788.78it/s]\n",
      "loading: 100%|██████████| 14158/14158 [00:00<00:00, 83505.53it/s]\n"
     ]
    }
   ],
   "source": [
    "from nlu_utils import NLUDataModule\n",
    "setting_path = src_path / 'setting_files'\n",
    "\n",
    "with (setting_path / 'train_settings.yml').open('r') as file:\n",
    "    settings = yaml.load(file, Loader=yaml.FullLoader)\n",
    "\n",
    "data_module_settings = settings['data_module']\n",
    "model_settings = settings['model']\n",
    "trainer_settings = settings['trainer']\n",
    "\n",
    "data_module = NLUDataModule(\n",
    "    train_path=data_path / data_module_settings['train_file'], \n",
    "    valid_path=data_path / data_module_settings['valid_file'],\n",
    "    test_path=data_path / data_module_settings['test_file'],\n",
    "    labels_path=data_path / data_module_settings['labels_file'],\n",
    "    batch_size=data_module_settings['batch_size'], \n",
    "    max_len=data_module_settings['max_len'],\n",
    "    num_workers=data_module_settings['num_workers'],\n",
    "    seed=settings['seed']\n",
    ")\n",
    "\n",
    "data_module.prepare_data()"
   ]
  },
  {
   "cell_type": "code",
   "execution_count": 3,
   "metadata": {},
   "outputs": [],
   "source": [
    "train_loader = data_module.train_dataloader()"
   ]
  },
  {
   "cell_type": "code",
   "execution_count": 3,
   "metadata": {},
   "outputs": [],
   "source": [
    "import json\n",
    "import torch\n",
    "import torch.nn as nn\n",
    "import torchmetrics\n",
    "import pytorch_lightning as pl\n",
    "from collections import defaultdict\n",
    "from transformers import BertConfig, BertModel, BertTokenizerFast\n",
    "from torchcrf import CRF\n",
    "from nlu_utils import NLUTokenizer\n",
    "from spacy.training import biluo_to_iob\n",
    "\n",
    "setting_path = src_path / 'setting_files'\n",
    "\n",
    "with Path(data_path / 'labels_simple.json').open('r', encoding='utf-8') as file:\n",
    "    labels = json.load(file)\n",
    "\n",
    "tags2id = {v: k for k, v in enumerate(labels['tags'])}\n",
    "intents2id = {v: k for k, v in enumerate(labels['intent'])}\n",
    "\n",
    "with (setting_path / 'train_settings.yml').open('r') as file:\n",
    "        settings = yaml.load(file, Loader=yaml.FullLoader)\n",
    "\n",
    "data_module_settings = settings['data_module']\n",
    "model_settings = settings['model']\n",
    "trainer_settings = settings['trainer']"
   ]
  },
  {
   "cell_type": "code",
   "execution_count": 4,
   "metadata": {},
   "outputs": [
    {
     "name": "stderr",
     "output_type": "stream",
     "text": [
      "Some weights of the model checkpoint at bert-base-uncased were not used when initializing BertModel: ['cls.predictions.bias', 'cls.predictions.transform.dense.weight', 'cls.seq_relationship.weight', 'cls.seq_relationship.bias', 'cls.predictions.transform.dense.bias', 'cls.predictions.decoder.weight', 'cls.predictions.transform.LayerNorm.weight', 'cls.predictions.transform.LayerNorm.bias']\n",
      "- This IS expected if you are initializing BertModel from the checkpoint of a model trained on another task or with another architecture (e.g. initializing a BertForSequenceClassification model from a BertForPreTraining model).\n",
      "- This IS NOT expected if you are initializing BertModel from the checkpoint of a model that you expect to be exactly identical (initializing a BertForSequenceClassification model from a BertForSequenceClassification model).\n"
     ]
    }
   ],
   "source": [
    "from nlu_models import NLUModel\n",
    "\n",
    "hparams = {\n",
    "    'stage': model_settings['stage'],\n",
    "    'model_path': model_settings['model_path'], \n",
    "    'intent_size': len(data_module.intents2id), \n",
    "    'tags_size': len(data_module.tags2id), \n",
    "    'lr': model_settings['lr'],\n",
    "    'weight_decay_rate': model_settings['weight_decay_rate'],\n",
    "    'loss_type': model_settings['loss_type'],\n",
    "    'multigpu': True if trainer_settings['n_gpus'] > 1 else False,\n",
    "    'weight_dict': None\n",
    "}\n",
    "for k, v in model_settings['optim'].items():\n",
    "    hparams[f'optim_{k}'] = v\n",
    "for k, v in model_settings['schedular'].items():\n",
    "    hparams[f'schedular_{k}'] = v\n",
    "if model_settings['loss_type'] == 'focal':\n",
    "    for k, v in model_settings['focal'].items():\n",
    "        hparams[f'focal_{k}'] = v\n",
    "\n",
    "model = NLUModel(**hparams)"
   ]
  },
  {
   "cell_type": "code",
   "execution_count": 14,
   "metadata": {},
   "outputs": [],
   "source": [
    "for x in train_loader:\n",
    "    bert_inputs = {k: x[k] for k in ['input_ids', 'token_type_ids', 'attention_mask']}\n",
    "    tags = x['tags']\n",
    "    break"
   ]
  },
  {
   "cell_type": "code",
   "execution_count": 7,
   "metadata": {},
   "outputs": [],
   "source": [
    "o = model(**{k: v.to('cpu') for k, v in x.items()})"
   ]
  },
  {
   "cell_type": "code",
   "execution_count": 26,
   "metadata": {},
   "outputs": [
    {
     "name": "stderr",
     "output_type": "stream",
     "text": [
      "C:\\Users\\simon\\miniconda3\\envs\\venv\\lib\\site-packages\\pytorch_lightning\\core\\lightning.py:415: UserWarning: You are trying to `self.log()` but the `self.trainer` reference is not registered on the model yet. This is most likely because the model hasn't been passed to the `Trainer`\n",
      "  rank_zero_warn(\n"
     ]
    }
   ],
   "source": [
    "o = model.forward_all(x)"
   ]
  },
  {
   "cell_type": "code",
   "execution_count": 80,
   "metadata": {},
   "outputs": [
    {
     "name": "stderr",
     "output_type": "stream",
     "text": [
      "Some weights of the model checkpoint at bert-base-uncased were not used when initializing BertModel: ['cls.predictions.transform.LayerNorm.bias', 'cls.predictions.bias', 'cls.predictions.transform.LayerNorm.weight', 'cls.predictions.transform.dense.weight', 'cls.predictions.decoder.weight', 'cls.seq_relationship.bias', 'cls.seq_relationship.weight', 'cls.predictions.transform.dense.bias']\n",
      "- This IS expected if you are initializing BertModel from the checkpoint of a model trained on another task or with another architecture (e.g. initializing a BertForSequenceClassification model from a BertForPreTraining model).\n",
      "- This IS NOT expected if you are initializing BertModel from the checkpoint of a model that you expect to be exactly identical (initializing a BertForSequenceClassification model from a BertForSequenceClassification model).\n"
     ]
    }
   ],
   "source": [
    "cfg = BertConfig()\n",
    "bert = BertModel.from_pretrained('bert-base-uncased')\n",
    "tokenizer = NLUTokenizer() # BertTokenizerFast.from_pretrained('bert-base-uncased')\n",
    "crf = CRF(num_tags=len(tags2id), batch_first=True)\n",
    "linear = nn.Linear(cfg.hidden_size, len(tags2id))"
   ]
  },
  {
   "cell_type": "code",
   "execution_count": 58,
   "metadata": {},
   "outputs": [],
   "source": [
    "# x = {\"text\": \"the need to manage current assets \", \"entities\": [[19, 33, \"BS\"]], \"intent\": \"None\"}\n",
    "\n",
    "# text = x['text']\n",
    "# ents = x['entities']\n",
    "# intent = x['intent']\n",
    "\n",
    "# bert_offset_mapping = tokenizer.bert(text, add_special_tokens=False, return_offsets_mapping=True)['offset_mapping']\n",
    "# tags = tokenizer.offset_mapping_to_tags(offset_mapping=bert_offset_mapping, ents=ents)\n",
    "# tags = biluo_to_iob(tags)\n",
    "\n",
    "# bert_encodes = tokenizer(\n",
    "#     text, \n",
    "#     add_special_tokens=True, \n",
    "#     truncation=True, \n",
    "#     max_length=256\n",
    "# )\n",
    "# numeric_tags = list(map(tags2id.get, tags))\n",
    "# padded_tags = tokenizer.pad_tags(numeric_tags, pad_idx=tags2id.get('O'))\n",
    "# intent = intents2id.get(intent)\n",
    "\n",
    "# item = {k: [v] for k, v in bert_encodes.items()}\n",
    "# item['intent'] = intent\n",
    "# item['tags'] = [padded_tags]\n",
    "# inputs = {k: torch.as_tensor(v) for k, v in item.items()}\n",
    "# bert_inputs = {k: inputs[k] for k in ['input_ids', 'token_type_ids', 'attention_mask']}\n",
    "# tags = inputs['tags']"
   ]
  },
  {
   "cell_type": "code",
   "execution_count": 12,
   "metadata": {},
   "outputs": [],
   "source": [
    "train_dataloader = data_module.train_dataloader()"
   ]
  },
  {
   "cell_type": "code",
   "execution_count": 5,
   "metadata": {},
   "outputs": [
    {
     "name": "stderr",
     "output_type": "stream",
     "text": [
      "GPU available: True, used: True\n",
      "TPU available: False, using: 0 TPU cores\n",
      "IPU available: False, using: 0 IPUs\n"
     ]
    }
   ],
   "source": [
    "from pytorch_lightning.loggers import TensorBoardLogger\n",
    "from pytorch_lightning.callbacks import ModelCheckpoint, TQDMProgressBar\n",
    "\n",
    "log_path = src_path / 'logs'\n",
    "checkpoint_path = src_path / 'checkpoints'\n",
    "\n",
    "trainer = pl.Trainer(\n",
    "    gpus=1, \n",
    "    max_epochs=3)\n",
    "   "
   ]
  },
  {
   "cell_type": "code",
   "execution_count": 10,
   "metadata": {},
   "outputs": [],
   "source": [
    "from transformers import get_scheduler, get_cosine_schedule_with_warmup, get_cosine_with_hard_restarts_schedule_with_warmup\n"
   ]
  },
  {
   "cell_type": "code",
   "execution_count": 16,
   "metadata": {},
   "outputs": [],
   "source": [
    "a = get_scheduler('cosine', torch.optim.Adam(nn.Linear(1, 1).parameters()), 100, 200)"
   ]
  },
  {
   "cell_type": "code",
   "execution_count": 17,
   "metadata": {},
   "outputs": [
    {
     "data": {
      "text/plain": [
       "<torch.optim.lr_scheduler.LambdaLR at 0x26c8c283d30>"
      ]
     },
     "execution_count": 17,
     "metadata": {},
     "output_type": "execute_result"
    }
   ],
   "source": [
    "torch.optim.lr_scheduler.LambdaLR(torch.optim.Adam(nn.Linear(1, 1).parameters()), )"
   ]
  },
  {
   "cell_type": "code",
   "execution_count": null,
   "metadata": {},
   "outputs": [],
   "source": [
    "trainer.fit(\n",
    "    model, datamodule=data_module\n",
    ")"
   ]
  },
  {
   "cell_type": "code",
   "execution_count": 1,
   "metadata": {},
   "outputs": [],
   "source": [
    "from collections import Counter"
   ]
  },
  {
   "cell_type": "code",
   "execution_count": 7,
   "metadata": {},
   "outputs": [
    {
     "ename": "TypeError",
     "evalue": "'int' object is not iterable",
     "output_type": "error",
     "traceback": [
      "\u001b[1;31m---------------------------------------------------------------------------\u001b[0m",
      "\u001b[1;31mTypeError\u001b[0m                                 Traceback (most recent call last)",
      "\u001b[1;32m~\\AppData\\Local\\Temp/ipykernel_3944/2343969057.py\u001b[0m in \u001b[0;36m<module>\u001b[1;34m\u001b[0m\n\u001b[0;32m      1\u001b[0m \u001b[0ma\u001b[0m \u001b[1;33m=\u001b[0m \u001b[0mCounter\u001b[0m\u001b[1;33m(\u001b[0m\u001b[1;33m)\u001b[0m\u001b[1;33m\u001b[0m\u001b[1;33m\u001b[0m\u001b[0m\n\u001b[1;32m----> 2\u001b[1;33m \u001b[0ma\u001b[0m\u001b[1;33m.\u001b[0m\u001b[0mupdate\u001b[0m\u001b[1;33m(\u001b[0m\u001b[1;36m0\u001b[0m\u001b[1;33m)\u001b[0m\u001b[1;33m\u001b[0m\u001b[1;33m\u001b[0m\u001b[0m\n\u001b[0m\u001b[0;32m      3\u001b[0m \u001b[0ma\u001b[0m\u001b[1;33m\u001b[0m\u001b[1;33m\u001b[0m\u001b[0m\n",
      "\u001b[1;32m~\\miniconda3\\envs\\venv\\lib\\collections\\__init__.py\u001b[0m in \u001b[0;36mupdate\u001b[1;34m(self, iterable, **kwds)\u001b[0m\n\u001b[0;32m    635\u001b[0m                     \u001b[0msuper\u001b[0m\u001b[1;33m(\u001b[0m\u001b[0mCounter\u001b[0m\u001b[1;33m,\u001b[0m \u001b[0mself\u001b[0m\u001b[1;33m)\u001b[0m\u001b[1;33m.\u001b[0m\u001b[0mupdate\u001b[0m\u001b[1;33m(\u001b[0m\u001b[0miterable\u001b[0m\u001b[1;33m)\u001b[0m \u001b[1;31m# fast path when counter is empty\u001b[0m\u001b[1;33m\u001b[0m\u001b[1;33m\u001b[0m\u001b[0m\n\u001b[0;32m    636\u001b[0m             \u001b[1;32melse\u001b[0m\u001b[1;33m:\u001b[0m\u001b[1;33m\u001b[0m\u001b[1;33m\u001b[0m\u001b[0m\n\u001b[1;32m--> 637\u001b[1;33m                 \u001b[0m_count_elements\u001b[0m\u001b[1;33m(\u001b[0m\u001b[0mself\u001b[0m\u001b[1;33m,\u001b[0m \u001b[0miterable\u001b[0m\u001b[1;33m)\u001b[0m\u001b[1;33m\u001b[0m\u001b[1;33m\u001b[0m\u001b[0m\n\u001b[0m\u001b[0;32m    638\u001b[0m         \u001b[1;32mif\u001b[0m \u001b[0mkwds\u001b[0m\u001b[1;33m:\u001b[0m\u001b[1;33m\u001b[0m\u001b[1;33m\u001b[0m\u001b[0m\n\u001b[0;32m    639\u001b[0m             \u001b[0mself\u001b[0m\u001b[1;33m.\u001b[0m\u001b[0mupdate\u001b[0m\u001b[1;33m(\u001b[0m\u001b[0mkwds\u001b[0m\u001b[1;33m)\u001b[0m\u001b[1;33m\u001b[0m\u001b[1;33m\u001b[0m\u001b[0m\n",
      "\u001b[1;31mTypeError\u001b[0m: 'int' object is not iterable"
     ]
    }
   ],
   "source": [
    "a = Counter()\n",
    "a.update(0)\n",
    "a"
   ]
  },
  {
   "cell_type": "code",
   "execution_count": 6,
   "metadata": {},
   "outputs": [
    {
     "data": {
      "text/plain": [
       "Counter({'abc': 2, 'a': 1, 'b': 1, 'c': 1})"
      ]
     },
     "execution_count": 6,
     "metadata": {},
     "output_type": "execute_result"
    }
   ],
   "source": [
    "a.update('abc')\n",
    "a"
   ]
  }
 ],
 "metadata": {
  "interpreter": {
   "hash": "ab7f212329a491b497f27876271d03c022f2dd26760015eef69af619991238fd"
  },
  "kernelspec": {
   "display_name": "Python 3 (ipykernel)",
   "language": "python",
   "name": "python3"
  },
  "language_info": {
   "codemirror_mode": {
    "name": "ipython",
    "version": 3
   },
   "file_extension": ".py",
   "mimetype": "text/x-python",
   "name": "python",
   "nbconvert_exporter": "python",
   "pygments_lexer": "ipython3",
   "version": "3.8.12"
  }
 },
 "nbformat": 4,
 "nbformat_minor": 4
}
