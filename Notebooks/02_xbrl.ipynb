{
 "cells": [
  {
   "cell_type": "code",
   "execution_count": 2,
   "metadata": {},
   "outputs": [],
   "source": [
    "import time\n",
    "import yaml\n",
    "from tqdm.notebook import tqdm\n",
    "from collections import defaultdict\n",
    "\n",
    "import pandas as pd\n",
    "import OpenDartReader\n",
    "import FinanceDataReader as fdr\n",
    "\n",
    "import psycopg\n",
    "from psycopg import sql\n",
    "from pathlib import Path\n",
    "from tqdm.notebook import tqdm"
   ]
  },
  {
   "cell_type": "markdown",
   "metadata": {},
   "source": [
    "필요한 계정 항목\n",
    "\n",
    "|sj_div|sj_nm|account_nm\n",
    "|---|---|---\n",
    "|BS|재무상태표|유동자산\n",
    "|BS|재무상태표|현금및현금성자산\n",
    "|BS|재무상태표|매출채권\n",
    "|BS|재무상태표|선급비용\n",
    "|BS|재무상태표|재고자산\n",
    "|BS|재무상태표|비유동자산\n",
    "|BS|재무상태표|유형자산\n",
    "|BS|재무상태표|무형자산\n",
    "|BS|재무상태표|자산총계\n",
    "|BS|재무상태표|유동부채\n",
    "|BS|재무상태표|매입채무\n",
    "|BS|재무상태표|단기차입금\n",
    "|BS|재무상태표|선수금\n",
    "|BS|재무상태표|비유동부채\n",
    "|BS|재무상태표|사채\n",
    "|BS|재무상태표|장기차입금\n",
    "|BS|재무상태표|부채총계\n",
    "|BS|재무상태표|자본총계\n",
    "|BS|재무상태표|부채와자본총계\n",
    "|IS|손익계산서|수익(매출액)\n",
    "|IS|손익계산서|매출원가\n",
    "|IS|손익계산서|매출총이익\n",
    "|IS|손익계산서|판매비와관리비\n",
    "|IS|손익계산서|영업이익\n",
    "|IS|손익계산서|금융수익\n",
    "|IS|손익계산서|금융비용\n",
    "|IS|손익계산서|법인세비용차감전순이익(손실)\n",
    "|IS|손익계산서|법인세비용\n",
    "|IS|손익계산서|계속영업이익(손실)\n",
    "|IS|손익계산서|당기순이익(손실)\n",
    "|CF|현금흐름표|영업활동 현금흐름\n",
    "|CF|현금흐름표|영업에서 창출된 현금흐름\n",
    "|CF|현금흐름표|투자활동 현금흐름\n",
    "|CF|현금흐름표|재무활동 현금흐름\n",
    "|CF|현금흐름표|외화환산으로 인한 현금의 변동\n",
    "|CF|현금흐름표|현금및현금성자산의 순증감\n",
    "|CF|현금흐름표|기초의 현금및현금성자산\n",
    "|CF|현금흐름표|기말의 현금및현금성자산"
   ]
  },
  {
   "cell_type": "code",
   "execution_count": 3,
   "metadata": {},
   "outputs": [],
   "source": [
    "# Load settings\n",
    "src_path = Path('.').absolute().parent\n",
    "with (src_path / 'setting_files' / 'settings.yml').open('r') as file:\n",
    "    settings = yaml.full_load(file)\n",
    "\n",
    "dart_settings = settings['opendart']\n",
    "dart = OpenDartReader(dart_settings['apikey'])"
   ]
  },
  {
   "cell_type": "markdown",
   "metadata": {},
   "source": [
    "|재무제표구분|재무제표명칭|개별/연결|표시방법|세전세후\n",
    "|---|---|---|---|---|\n",
    "|BS1|재무상태표|연결|유동/비유동법|\n",
    "|BS2|재무상태표|개별|유동/비유동법|\n",
    "|BS3|재무상태표|연결|유동성배열법|\n",
    "|BS4|재무상태표|개별|유동성배열법|\n",
    "|IS1|별개의 손익계산서|연결|기능별분류|\n",
    "|IS2|별개의 손익계산서|개별|기능별분류|\n",
    "|IS3|별개의 손익계산서|연결|성격별분류|\n",
    "|IS4|별개의 손익계산서|개별|성격별분류|\n",
    "|CIS1|포괄손익계산서|연결|세후|\n",
    "|CIS2|포괄손익계산서|개별|세후|\n",
    "|CIS3|포괄손익계산서|연결|세전|\n",
    "|CIS4|포괄손익계산서|개별|세전|\n",
    "|DCIS1|단일 포괄손익계산서|연결|기능별분류|세후포괄손익\n",
    "|DCIS2|단일 포괄손익계산서|개별|기능별분류|세후포괄손익\n",
    "|DCIS3|단일 포괄손익계산서|연결|기능별분류|세전\n",
    "|DCIS4|단일 포괄손익계산서|개별|기능별분류|세전\n",
    "|DCIS5|단일 포괄손익계산서|연결|성격별분류|세후포괄손익\n",
    "|DCIS6|단일 포괄손익계산서|개별|성격별분류|세후포괄손익\n",
    "|DCIS7|단일 포괄손익계산서|연결|성격별분류|세전\n",
    "|DCIS8|단일 포괄손익계산서|개별|성격별분류|세전\n",
    "|CF1|현금흐름표|연결|직접법|\n",
    "|CF2|현금흐름표|개별|직접법|\n",
    "|CF3|현금흐름표|연결|간접법|\n",
    "|CF4|현금흐름표|개별|간접법|\n",
    "|SCE1|자본변동표|연결||\n",
    "|SCE2|자본변동표|개별||"
   ]
  },
  {
   "cell_type": "code",
   "execution_count": 4,
   "metadata": {},
   "outputs": [],
   "source": [
    "xbrl_bs = dart.xbrl_taxonomy('BS1')\n",
    "xbrl_is = dart.xbrl_taxonomy('CIS1')\n",
    "xbrl_cf = dart.xbrl_taxonomy('CF1')"
   ]
  },
  {
   "cell_type": "code",
   "execution_count": 10,
   "metadata": {},
   "outputs": [],
   "source": [
    "corp = '005930'\n",
    "bsns_year = 2020\n",
    "df = dart.finstate_all(corp, bsns_year, reprt_code='11011', fs_div='CFS')"
   ]
  }
 ],
 "metadata": {
  "interpreter": {
   "hash": "a4ed9b19307c800d89a3002578f776a0fb528ed3e6b1903878767ebecc1b6c32"
  },
  "kernelspec": {
   "display_name": "Python 3.8.12 64-bit ('fsqa': conda)",
   "language": "python",
   "name": "python3"
  },
  "language_info": {
   "codemirror_mode": {
    "name": "ipython",
    "version": 3
   },
   "file_extension": ".py",
   "mimetype": "text/x-python",
   "name": "python",
   "nbconvert_exporter": "python",
   "pygments_lexer": "ipython3",
   "version": "3.8.12"
  },
  "orig_nbformat": 4
 },
 "nbformat": 4,
 "nbformat_minor": 2
}
