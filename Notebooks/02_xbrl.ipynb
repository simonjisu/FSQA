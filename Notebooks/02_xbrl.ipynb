{
 "cells": [
  {
   "cell_type": "code",
   "execution_count": 1,
   "metadata": {},
   "outputs": [],
   "source": [
    "import time\n",
    "import yaml\n",
    "from tqdm.notebook import tqdm\n",
    "from collections import defaultdict\n",
    "\n",
    "import pandas as pd\n",
    "import OpenDartReader\n",
    "import FinanceDataReader as fdr\n",
    "\n",
    "import psycopg\n",
    "from psycopg import sql\n",
    "from pathlib import Path\n",
    "from tqdm.notebook import tqdm"
   ]
  },
  {
   "cell_type": "markdown",
   "metadata": {},
   "source": [
    "필요한 계정 항목\n",
    "\n",
    "|sj_div|sj_nm|account_nm\n",
    "|---|---|---\n",
    "|BS|재무상태표|유동자산\n",
    "|BS|재무상태표|현금및현금성자산\n",
    "|BS|재무상태표|매출채권\n",
    "|BS|재무상태표|선급비용\n",
    "|BS|재무상태표|재고자산\n",
    "|BS|재무상태표|비유동자산\n",
    "|BS|재무상태표|유형자산\n",
    "|BS|재무상태표|무형자산\n",
    "|BS|재무상태표|자산총계\n",
    "|BS|재무상태표|유동부채\n",
    "|BS|재무상태표|매입채무\n",
    "|BS|재무상태표|단기차입금\n",
    "|BS|재무상태표|선수금\n",
    "|BS|재무상태표|비유동부채\n",
    "|BS|재무상태표|사채\n",
    "|BS|재무상태표|장기차입금\n",
    "|BS|재무상태표|부채총계\n",
    "|BS|재무상태표|자본총계\n",
    "|BS|재무상태표|부채와자본총계\n",
    "|IS|손익계산서|수익(매출액)\n",
    "|IS|손익계산서|매출원가\n",
    "|IS|손익계산서|매출총이익\n",
    "|IS|손익계산서|판매비와관리비\n",
    "|IS|손익계산서|영업이익\n",
    "|IS|손익계산서|금융수익\n",
    "|IS|손익계산서|금융비용\n",
    "|IS|손익계산서|법인세비용차감전순이익(손실)\n",
    "|IS|손익계산서|법인세비용\n",
    "|IS|손익계산서|계속영업이익(손실)\n",
    "|IS|손익계산서|당기순이익(손실)\n",
    "|CF|현금흐름표|영업활동 현금흐름\n",
    "|CF|현금흐름표|영업에서 창출된 현금흐름\n",
    "|CF|현금흐름표|투자활동 현금흐름\n",
    "|CF|현금흐름표|재무활동 현금흐름\n",
    "|CF|현금흐름표|외화환산으로 인한 현금의 변동\n",
    "|CF|현금흐름표|현금및현금성자산의 순증감\n",
    "|CF|현금흐름표|기초의 현금및현금성자산\n",
    "|CF|현금흐름표|기말의 현금및현금성자산"
   ]
  },
  {
   "cell_type": "code",
   "execution_count": 2,
   "metadata": {},
   "outputs": [],
   "source": [
    "# Load settings\n",
    "src_path = Path('.').absolute().parent\n",
    "with (src_path / 'setting_files' / 'settings.yml').open('r') as file:\n",
    "    settings = yaml.full_load(file)\n",
    "\n",
    "dart_settings = settings['opendart']\n",
    "dart = OpenDartReader(dart_settings['apikey'])"
   ]
  },
  {
   "cell_type": "markdown",
   "metadata": {},
   "source": [
    "|재무제표구분|재무제표명칭|개별/연결|표시방법|세전세후\n",
    "|---|---|---|---|---|\n",
    "|BS1|재무상태표|연결|유동/비유동법|\n",
    "|BS2|재무상태표|개별|유동/비유동법|\n",
    "|BS3|재무상태표|연결|유동성배열법|\n",
    "|BS4|재무상태표|개별|유동성배열법|\n",
    "|IS1|별개의 손익계산서|연결|기능별분류|\n",
    "|IS2|별개의 손익계산서|개별|기능별분류|\n",
    "|IS3|별개의 손익계산서|연결|성격별분류|\n",
    "|IS4|별개의 손익계산서|개별|성격별분류|\n",
    "|CIS1|포괄손익계산서|연결|세후|\n",
    "|CIS2|포괄손익계산서|개별|세후|\n",
    "|CIS3|포괄손익계산서|연결|세전|\n",
    "|CIS4|포괄손익계산서|개별|세전|\n",
    "|DCIS1|단일 포괄손익계산서|연결|기능별분류|세후포괄손익\n",
    "|DCIS2|단일 포괄손익계산서|개별|기능별분류|세후포괄손익\n",
    "|DCIS3|단일 포괄손익계산서|연결|기능별분류|세전\n",
    "|DCIS4|단일 포괄손익계산서|개별|기능별분류|세전\n",
    "|DCIS5|단일 포괄손익계산서|연결|성격별분류|세후포괄손익\n",
    "|DCIS6|단일 포괄손익계산서|개별|성격별분류|세후포괄손익\n",
    "|DCIS7|단일 포괄손익계산서|연결|성격별분류|세전\n",
    "|DCIS8|단일 포괄손익계산서|개별|성격별분류|세전\n",
    "|CF1|현금흐름표|연결|직접법|\n",
    "|CF2|현금흐름표|개별|직접법|\n",
    "|CF3|현금흐름표|연결|간접법|\n",
    "|CF4|현금흐름표|개별|간접법|\n",
    "|SCE1|자본변동표|연결||\n",
    "|SCE2|자본변동표|개별||"
   ]
  },
  {
   "cell_type": "code",
   "execution_count": 3,
   "metadata": {},
   "outputs": [],
   "source": [
    "xbrl_bs = dart.xbrl_taxonomy('BS1')\n",
    "xbrl_is = dart.xbrl_taxonomy('IS1')\n",
    "xbrl_cis = dart.xbrl_taxonomy('CIS1')\n",
    "xbrl_cf = dart.xbrl_taxonomy('CF1')"
   ]
  },
  {
   "cell_type": "markdown",
   "metadata": {},
   "source": [
    "## Tutorial for CSVtoRDF\n",
    "\n",
    "https://stackoverflow.com/questions/43524943/creating-rdf-file-using-csv-file-as-input"
   ]
  },
  {
   "cell_type": "code",
   "execution_count": 4,
   "metadata": {},
   "outputs": [],
   "source": [
    "from rdflib import Graph, Literal, RDF, URIRef, Namespace #basic RDF handling\n",
    "from rdflib.namespace import FOAF , XSD #most common namespaces\n",
    "import urllib.parse #for parsing strings to URI's\n",
    "import pandas as pd"
   ]
  },
  {
   "cell_type": "code",
   "execution_count": 5,
   "metadata": {},
   "outputs": [],
   "source": [
    "url='https://raw.githubusercontent.com/KRontheWeb/csv2rdf-tutorial/master/example.csv'\n",
    "df=pd.read_csv(url,sep=\";\",quotechar='\"')"
   ]
  },
  {
   "cell_type": "code",
   "execution_count": 6,
   "metadata": {},
   "outputs": [
    {
     "data": {
      "text/html": [
       "<div>\n",
       "<style scoped>\n",
       "    .dataframe tbody tr th:only-of-type {\n",
       "        vertical-align: middle;\n",
       "    }\n",
       "\n",
       "    .dataframe tbody tr th {\n",
       "        vertical-align: top;\n",
       "    }\n",
       "\n",
       "    .dataframe thead th {\n",
       "        text-align: right;\n",
       "    }\n",
       "</style>\n",
       "<table border=\"1\" class=\"dataframe\">\n",
       "  <thead>\n",
       "    <tr style=\"text-align: right;\">\n",
       "      <th></th>\n",
       "      <th>Name</th>\n",
       "      <th>Address</th>\n",
       "      <th>Place</th>\n",
       "      <th>Country</th>\n",
       "      <th>Age</th>\n",
       "      <th>Hobby</th>\n",
       "      <th>Favourite Colour</th>\n",
       "    </tr>\n",
       "  </thead>\n",
       "  <tbody>\n",
       "    <tr>\n",
       "      <th>0</th>\n",
       "      <td>John</td>\n",
       "      <td>Dam 52</td>\n",
       "      <td>Amsterdam</td>\n",
       "      <td>The Netherlands</td>\n",
       "      <td>32</td>\n",
       "      <td>Fishing</td>\n",
       "      <td>Blue</td>\n",
       "    </tr>\n",
       "    <tr>\n",
       "      <th>1</th>\n",
       "      <td>Jenny</td>\n",
       "      <td>Leidseplein 2</td>\n",
       "      <td>Amsterdam</td>\n",
       "      <td>The Netherlands</td>\n",
       "      <td>12</td>\n",
       "      <td>Dancing</td>\n",
       "      <td>Mauve</td>\n",
       "    </tr>\n",
       "    <tr>\n",
       "      <th>2</th>\n",
       "      <td>Jill</td>\n",
       "      <td>52W Street 5</td>\n",
       "      <td>Amsterdam</td>\n",
       "      <td>United States of America</td>\n",
       "      <td>28</td>\n",
       "      <td>Carpentry</td>\n",
       "      <td>Cyan</td>\n",
       "    </tr>\n",
       "    <tr>\n",
       "      <th>3</th>\n",
       "      <td>Jake</td>\n",
       "      <td>12E Street 98</td>\n",
       "      <td>Amsterdam</td>\n",
       "      <td>United States of America</td>\n",
       "      <td>42</td>\n",
       "      <td>Ballet</td>\n",
       "      <td>Purple</td>\n",
       "    </tr>\n",
       "  </tbody>\n",
       "</table>\n",
       "</div>"
      ],
      "text/plain": [
       "    Name        Address      Place                   Country  Age      Hobby  \\\n",
       "0   John         Dam 52  Amsterdam           The Netherlands   32    Fishing   \n",
       "1  Jenny  Leidseplein 2  Amsterdam           The Netherlands   12    Dancing   \n",
       "2   Jill   52W Street 5  Amsterdam  United States of America   28  Carpentry   \n",
       "3   Jake  12E Street 98  Amsterdam  United States of America   42     Ballet   \n",
       "\n",
       "  Favourite Colour  \n",
       "0             Blue  \n",
       "1            Mauve  \n",
       "2             Cyan  \n",
       "3           Purple  "
      ]
     },
     "execution_count": 6,
     "metadata": {},
     "output_type": "execute_result"
    }
   ],
   "source": [
    "df"
   ]
  },
  {
   "cell_type": "code",
   "execution_count": 7,
   "metadata": {},
   "outputs": [],
   "source": [
    "g = Graph()\n",
    "ppl = Namespace('http://example.com/people/')\n",
    "loc = Namespace('http://mylocations.org/addresses/')\n",
    "schema = Namespace('http://schema.org/')"
   ]
  },
  {
   "cell_type": "code",
   "execution_count": 8,
   "metadata": {
    "tags": []
   },
   "outputs": [],
   "source": [
    "for index, row in df.iterrows():\n",
    "    g.add((URIRef(ppl+row['Name']), RDF.type, FOAF.Person))\n",
    "    g.add((URIRef(ppl+row['Name']), URIRef(schema+'name'), Literal(row['Name'], datatype=XSD.string) ))\n",
    "    g.add((URIRef(ppl+row['Name']), FOAF.age, Literal(row['Age'], datatype=XSD.integer) ))\n",
    "    g.add((URIRef(ppl+row['Name']), URIRef(schema+'address'), Literal(row['Address'], datatype=XSD.string) ))\n",
    "    g.add((URIRef(loc+urllib.parse.quote(row['Address'])), URIRef(schema+'name'), Literal(row['Address'], datatype=XSD.string) ))"
   ]
  },
  {
   "cell_type": "code",
   "execution_count": 10,
   "metadata": {},
   "outputs": [
    {
     "name": "stdout",
     "output_type": "stream",
     "text": [
      "@prefix ns1: <http://xmlns.com/foaf/0.1/> .\n",
      "@prefix ns2: <http://schema.org/> .\n",
      "@prefix xsd: <http://www.w3.org/2001/XMLSchema#> .\n",
      "\n",
      "<http://example.com/people/Jake> a ns1:Person ;\n",
      "    ns2:address \"12E Street 98\"^^xsd:string ;\n",
      "    ns2:name \"Jake\"^^xsd:string ;\n",
      "    ns1:age 42 .\n",
      "\n",
      "<http://example.com/people/Jenny> a ns1:Person ;\n",
      "    ns2:address \"Leidseplein 2\"^^xsd:string ;\n",
      "    ns2:name \"Jenny\"^^xsd:string ;\n",
      "    ns1:age 12 .\n",
      "\n",
      "<http://example.com/people/Jill> a ns1:Person ;\n",
      "    ns2:address \"52W Street 5\"^^xsd:string ;\n",
      "    ns2:name \"Jill\"^^xsd:string ;\n",
      "    ns1:age 28 .\n",
      "\n",
      "<http://example.com/people/John> a ns1:Person ;\n",
      "    ns2:address \"Dam 52\"^^xsd:string ;\n",
      "    ns2:name \"John\"^^xsd:string ;\n",
      "    ns1:age 32 .\n",
      "\n",
      "<http://mylocations.org/addresses/12E%20Street%2098> ns2:name \"12E Street 98\"^^xsd:string .\n",
      "\n",
      "<http://mylocations.org/addresses/52W%20Street%205> ns2:name \"52W Street 5\"^^xsd:string .\n",
      "\n",
      "<http://mylocations.org/addresses/Dam%2052> ns2:name \"Dam 52\"^^xsd:string .\n",
      "\n",
      "<http://mylocations.org/addresses/Leidseplein%202> ns2:name \"Leidseplein 2\"^^xsd:string .\n",
      "\n",
      "\n"
     ]
    },
    {
     "data": {
      "text/plain": [
       "<Graph identifier=N42150f30038f4cdaa20c991a4360946a (<class 'rdflib.graph.Graph'>)>"
      ]
     },
     "execution_count": 10,
     "metadata": {},
     "output_type": "execute_result"
    }
   ],
   "source": [
    "print(g.serialize(format='turtle'))\n",
    "g.serialize('example.ttl',format='turtle')"
   ]
  },
  {
   "cell_type": "code",
   "execution_count": null,
   "metadata": {},
   "outputs": [],
   "source": []
  }
 ],
 "metadata": {
  "interpreter": {
   "hash": "a4ed9b19307c800d89a3002578f776a0fb528ed3e6b1903878767ebecc1b6c32"
  },
  "kernelspec": {
   "display_name": "Python 3 (ipykernel)",
   "language": "python",
   "name": "python3"
  },
  "language_info": {
   "codemirror_mode": {
    "name": "ipython",
    "version": 3
   },
   "file_extension": ".py",
   "mimetype": "text/x-python",
   "name": "python",
   "nbconvert_exporter": "python",
   "pygments_lexer": "ipython3",
   "version": "3.8.12"
  }
 },
 "nbformat": 4,
 "nbformat_minor": 4
}
