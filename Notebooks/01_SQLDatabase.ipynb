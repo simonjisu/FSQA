{
 "cells": [
  {
   "cell_type": "markdown",
   "id": "0641a8da",
   "metadata": {},
   "source": [
    "# Parse tables to database\n",
    "\n",
    "https://nbviewer.jupyter.org/github/FinanceData/OpenDartReader/blob/master/docs/OpenDartReader_reference_manual.ipynb\n",
    "https://nbviewer.jupyter.org/github/FinanceData/OpenDartReader/blob/master/docs/OpenDartReader_users_guide.ipynb\n",
    "\n",
    "```\n",
    "KOSPI\n",
    "├── Company\n",
    "│   ├── Code\n",
    "│   └── Name\n",
    "├── FS\n",
    "│   ├── Code\n",
    "│   ├── Rpid\n",
    "│   └── Time\n",
    "├── BS\n",
    "│   ├── Code\n",
    "│   ├── Rpid \n",
    "│   ├── Account\n",
    "│   └── Value\n",
    "└── IS\n",
    "    ├── Code\n",
    "    ├── Rpid \n",
    "    ├── Account\n",
    "    └── Value\n",
    "\n",
    "```"
   ]
  },
  {
   "cell_type": "markdown",
   "id": "42b7a86e",
   "metadata": {},
   "source": [
    "# Finance DataReader"
   ]
  },
  {
   "cell_type": "code",
   "execution_count": 1,
   "id": "5473107f",
   "metadata": {},
   "outputs": [],
   "source": [
    "import time\n",
    "import yaml\n",
    "from tqdm.notebook import tqdm\n",
    "from collections import defaultdict\n",
    "\n",
    "import numpy as np\n",
    "import pandas as pd\n",
    "import OpenDartReader\n",
    "import FinanceDataReader as fdr\n",
    "\n",
    "import psycopg\n",
    "from psycopg import sql\n",
    "from pathlib import Path\n",
    "from tqdm import tqdm"
   ]
  },
  {
   "cell_type": "code",
   "execution_count": 2,
   "id": "2b1e13b9",
   "metadata": {},
   "outputs": [],
   "source": [
    "# Load settings\n",
    "src_path = Path('.').absolute().parent\n",
    "with (src_path / 'setting_files' / 'settings.yml').open('r') as file:\n",
    "    settings = yaml.full_load(file)"
   ]
  },
  {
   "cell_type": "code",
   "execution_count": 3,
   "id": "20710bb0",
   "metadata": {},
   "outputs": [
    {
     "name": "stdout",
     "output_type": "stream",
     "text": [
      "Symbol object\n",
      "Market object\n",
      "Name object\n",
      "Sector object\n",
      "Industry object\n",
      "ListingDate datetime64[ns]\n",
      "SettleMonth object\n",
      "Representative object\n",
      "HomePage object\n",
      "Region object\n"
     ]
    }
   ],
   "source": [
    "dart_settings = settings['opendart']\n",
    "dart = OpenDartReader(dart_settings['apikey'])\n",
    "\n",
    "stocks = fdr.StockListing('KOSPI')\n",
    "stocks = stocks.loc[~stocks['Sector'].isnull(), :]\n",
    "stocks_syms = stocks['Symbol'].values\n",
    "stocks = stocks.reset_index(drop=True)\n",
    "stocks.fillna('', inplace=True)\n",
    "for c in stocks.columns:\n",
    "    print(c, stocks[c].dtype)"
   ]
  },
  {
   "cell_type": "code",
   "execution_count": 4,
   "id": "63632b8b",
   "metadata": {},
   "outputs": [],
   "source": [
    "db_settings = settings['db']"
   ]
  },
  {
   "cell_type": "code",
   "execution_count": 6,
   "id": "3b2a5f22",
   "metadata": {},
   "outputs": [
    {
     "name": "stdout",
     "output_type": "stream",
     "text": [
      "Existence of Database fsqa: True\n"
     ]
    }
   ],
   "source": [
    "with psycopg.connect(user=db_settings['user'], password=db_settings['password'], autocommit=True) as conn:\n",
    "    with conn.cursor() as cur:\n",
    "        cur.execute(f\"SELECT EXISTS( SELECT 1 FROM pg_database WHERE datname='{db_settings['dbname']}');\")\n",
    "        exists = cur.fetchone()[0]\n",
    "    if not exists:\n",
    "        with conn.cursor() as cur:\n",
    "            cur.execute(sql.SQL(\"CREATE DATABASE {};\").format(sql.Identifier(db_settings['dbname'])))\n",
    "    else:\n",
    "        print(f\"Existence of Database {db_settings['dbname']}: {exists}\")"
   ]
  },
  {
   "cell_type": "code",
   "execution_count": 19,
   "id": "98cd954f",
   "metadata": {},
   "outputs": [
    {
     "name": "stdout",
     "output_type": "stream",
     "text": [
      "Table created: company\n",
      "Table created: financial_statement\n",
      "Table created: balance_sheet\n",
      "Table created: income_statement\n"
     ]
    }
   ],
   "source": [
    "# if the database exists: create tables\n",
    "commands = (\n",
    "    \"\"\"\n",
    "    CREATE TABLE company (\n",
    "        c_id SERIAL PRIMARY KEY,\n",
    "        code VARCHAR(10) UNIQUE NOT NULL,\n",
    "        name VARCHAR(255) NOT NULL,\n",
    "        sector VARCHAR(255) NOT NULL\n",
    "    )\n",
    "    \"\"\",\n",
    "    \"\"\" \n",
    "    CREATE TABLE financial_statement (\n",
    "        fs_id SERIAL PRIMARY KEY,\n",
    "        code VARCHAR(10) NOT NULL,\n",
    "        rpid VARCHAR(30) UNIQUE NOT NULL,\n",
    "        bsns_year INT NOT NULL,\n",
    "        FOREIGN KEY (code) REFERENCES company (code) ON DELETE CASCADE\n",
    "    )\n",
    "    \"\"\",\n",
    "    \"\"\"\n",
    "    CREATE TABLE balance_sheet (\n",
    "        bs_id SERIAL PRIMARY KEY,\n",
    "        code VARCHAR(10) NOT NULL,\n",
    "        rpid VARCHAR(30) NOT NULL,\n",
    "        quarter VARCHAR(10) NOT NULL,\n",
    "        account VARCHAR(255) NOT NULL,\n",
    "        value BIGINT NOT NULL,\n",
    "        FOREIGN KEY (code) REFERENCES company (code) ON DELETE CASCADE,\n",
    "        FOREIGN KEY (rpid) REFERENCES financial_statement (rpid) ON DELETE CASCADE\n",
    "    )\n",
    "    \"\"\",\n",
    "    \"\"\"\n",
    "    CREATE TABLE income_statement (\n",
    "        is_id SERIAL PRIMARY KEY,\n",
    "        code VARCHAR(10) NOT NULL,\n",
    "        rpid VARCHAR(30) NOT NULL,\n",
    "        quarter VARCHAR(10) NOT NULL,\n",
    "        account VARCHAR(255) NOT NULL,\n",
    "        value BIGINT NOT NULL,\n",
    "        FOREIGN KEY (code) REFERENCES company (code) ON DELETE CASCADE,\n",
    "        FOREIGN KEY (rpid) REFERENCES financial_statement (rpid) ON DELETE CASCADE\n",
    "    )\n",
    "    \"\"\"\n",
    ")\n",
    "\n",
    "conn = None\n",
    "table_names = ['company', 'financial_statement', 'balance_sheet', 'income_statement', 'cashflow_statement']\n",
    "with psycopg.connect(\n",
    "        dbname=db_settings['dbname'],\n",
    "        host=db_settings['host'],\n",
    "        user=db_settings['user'], \n",
    "        password=db_settings['password'],\n",
    "        port=db_settings['port']\n",
    "    ) as conn:\n",
    "    with conn.cursor() as cur:\n",
    "        for i, command in enumerate(commands):\n",
    "            cur.execute(\n",
    "                f\"SELECT EXISTS( SELECT 1 FROM INFORMATION_SCHEMA.TABLES WHERE TABLE_NAME = '{table_names[i]}');\"\n",
    "            )\n",
    "            exists = cur.fetchone()[0]\n",
    "            if not exists:     \n",
    "                cur.execute(sql.SQL(command))\n",
    "                print(f'Table created: {table_names[i]}')\n",
    "            else:\n",
    "                print(f'Table already exists: {table_names[i]}')\n",
    "    conn.commit()"
   ]
  },
  {
   "cell_type": "code",
   "execution_count": 8,
   "id": "b7baa6d6",
   "metadata": {},
   "outputs": [
    {
     "data": {
      "text/plain": [
       "{'company': ('c_id', 'code', 'name', 'sector'),\n",
       " 'financial_statement': ('fs_id', 'code', 'rpid', 'bsns_year'),\n",
       " 'balance_sheet': ('bs_id', 'code', 'rpid', 'quarter', 'account', 'value'),\n",
       " 'income_statement': ('is_id', 'code', 'rpid', 'quarter', 'account', 'value')}"
      ]
     },
     "execution_count": 8,
     "metadata": {},
     "output_type": "execute_result"
    }
   ],
   "source": [
    "table_columns = [\n",
    "    ('c_id', 'code', 'name', 'sector'),\n",
    "    ('fs_id', 'code', 'rpid', 'bsns_year'),\n",
    "    ('bs_id', 'code', 'rpid', 'quarter', 'account', 'value'),\n",
    "    ('is_id', 'code', 'rpid', 'quarter', 'account', 'value'),\n",
    "]\n",
    "tables = dict(zip(table_names, table_columns))\n",
    "tables"
   ]
  },
  {
   "cell_type": "markdown",
   "id": "afb3ff46",
   "metadata": {},
   "source": [
    "## Company\n",
    "\n",
    "At current, we'll do only for Samsung and it's peer companies(in the same Sector)"
   ]
  },
  {
   "cell_type": "code",
   "execution_count": 9,
   "id": "ae52bcb0-9604-46c8-b28e-9a0988c47664",
   "metadata": {},
   "outputs": [
    {
     "data": {
      "text/html": [
       "<div>\n",
       "<style scoped>\n",
       "    .dataframe tbody tr th:only-of-type {\n",
       "        vertical-align: middle;\n",
       "    }\n",
       "\n",
       "    .dataframe tbody tr th {\n",
       "        vertical-align: top;\n",
       "    }\n",
       "\n",
       "    .dataframe thead th {\n",
       "        text-align: right;\n",
       "    }\n",
       "</style>\n",
       "<table border=\"1\" class=\"dataframe\">\n",
       "  <thead>\n",
       "    <tr style=\"text-align: right;\">\n",
       "      <th></th>\n",
       "      <th>Symbol</th>\n",
       "      <th>Name</th>\n",
       "      <th>Sector</th>\n",
       "    </tr>\n",
       "  </thead>\n",
       "  <tbody>\n",
       "    <tr>\n",
       "      <th>705</th>\n",
       "      <td>005930</td>\n",
       "      <td>SamsungElec</td>\n",
       "      <td>통신 및 방송 장비 제조업</td>\n",
       "    </tr>\n",
       "  </tbody>\n",
       "</table>\n",
       "</div>"
      ],
      "text/plain": [
       "     Symbol         Name          Sector\n",
       "705  005930  SamsungElec  통신 및 방송 장비 제조업"
      ]
     },
     "execution_count": 9,
     "metadata": {},
     "output_type": "execute_result"
    }
   ],
   "source": [
    "stocks_syms = stocks.loc[:, 'Symbol'].values\n",
    "corp = '005930'\n",
    "# same_sector_companies = ['삼성전자', 'SK하이닉스', 'DB하이텍']\n",
    "# same_sector_stocks = stocks.loc[stocks['Name'].isin(same_sector_companies)]\n",
    "stocks.loc[stocks['Symbol']==corp, ['Symbol', 'Name', 'Sector']]"
   ]
  },
  {
   "cell_type": "code",
   "execution_count": 20,
   "id": "ce8bf15f",
   "metadata": {},
   "outputs": [],
   "source": [
    "with psycopg.connect(\n",
    "        dbname=db_settings['dbname'],\n",
    "        host=db_settings['host'],\n",
    "        user=db_settings['user'], \n",
    "        password=db_settings['password'],\n",
    "        port=db_settings['port']\n",
    "    ) as conn:\n",
    "    with conn.cursor() as cur:\n",
    "        for i, line in stocks.loc[stocks['Symbol']==corp, ['Symbol', 'Name', 'Sector']].iterrows():\n",
    "            cur.execute(\n",
    "                sql.SQL(\"INSERT INTO {}({}, {}, {}, {}) VALUES (DEFAULT, %s, %s, %s) ;\").format(\n",
    "                    sql.Identifier('company'), *list(map(sql.Identifier, tables['company']))\n",
    "                ),\n",
    "                tuple(line.values)\n",
    "            )"
   ]
  },
  {
   "cell_type": "markdown",
   "id": "1bca3fa8",
   "metadata": {},
   "source": [
    "## Financial Statements "
   ]
  },
  {
   "cell_type": "code",
   "execution_count": 15,
   "id": "cf071b11-57a3-47d0-a6b3-590e0916cc0c",
   "metadata": {
    "tags": []
   },
   "outputs": [],
   "source": [
    "def convert_to_q(report_code, bsns_year, bsns_year_dict):\n",
    "    report_code_word_dict = {\n",
    "        '11011': ('', '4Q'), \n",
    "        '11013': (' 1분기', '1Q'), \n",
    "        '11012': (' 반기', '2Q'), \n",
    "        '11014': (' 3분기', '3Q')\n",
    "    }\n",
    "\n",
    "    s = f'제 {bsns_year_dict[bsns_year]} 기'\n",
    "    w, q = report_code_word_dict[report_code]\n",
    "    if report_code == '11011':\n",
    "        return {s+w:q}\n",
    "    else:\n",
    "        return {s+w+'말':q, s+w:q}\n",
    "\n",
    "# stocks_syms = stocks.loc[stocks['Symbol']==corp, 'Symbol'].values\n",
    "data_path = src_path / 'data'\n",
    "df_account = pd.read_csv(data_path / 'AccountName.csv')\n",
    "account_eng_dict = dict(zip(df_account['acc_name_kor'].values, df_account['acc'].values))\n",
    "\n",
    "bsns_years = list(range(2015, 2022))\n",
    "report_codes = ['11011', '11013', '11012', '11014']\n",
    "cols = ['rcept_no', 'thstrm_nm', 'account_nm', 'thstrm_amount']\n",
    "bsns_year_dict = dict(zip(bsns_years, range(47, 47+len(bsns_years))))\n",
    "accounts_dict = {\n",
    "    'balance_sheet' : [\n",
    "        '유동자산', '현금및현금성자산', '매출채권', '선급비용', '재고자산', '비유동자산', '유형자산', '무형자산', '자산총계',\n",
    "        '유동부채', '매입채무', '단기차입금', '선수금', '비유동부채', '사채', '장기차입금', '부채총계', '자본총계', '부채와자본총계'\n",
    "    ],\n",
    "    'income_statement': [\n",
    "        '수익(매출액)', '매출원가', '매출총이익', '판매비와관리비', '영업이익', '금융수익', '금융비용',\n",
    "        '법인세비용차감전순이익(손실)', '법인세비용', '계속영업이익(손실)', '당기순이익(손실)'\n",
    "    ]\n",
    "}\n",
    "data = defaultdict(list)\n",
    "for bsns_year in bsns_years:\n",
    "    for report_code in report_codes:\n",
    "        df = dart.finstate_all(corp, bsns_year, reprt_code=report_code, fs_div='CFS')\n",
    "        time.sleep(0.5)\n",
    "        if df is None:\n",
    "            continue\n",
    "        \n",
    "        # rcept_no\n",
    "        recpt_no = df['rcept_no'].values[0]\n",
    "        q_dict = convert_to_q(report_code, bsns_year, bsns_year_dict)\n",
    "        # bs\n",
    "        sj = 'BS'\n",
    "        df_bs = df.loc[(df['sj_div'] == sj), cols]    #  & df['account_nm'].isin(accounts_dict['balance_sheet'])     \n",
    "        df_bs.loc[:, 'thstrm_nm'] = df_bs['thstrm_nm'].apply(q_dict.get)\n",
    "        # is\n",
    "        sj = 'CIS' if df['sj_div'].isin(['IS']).sum() == 0 else 'IS'\n",
    "        df_is = df.loc[(df['sj_div'] == sj), cols] # & df['account_nm'].isin(accounts_dict['income_statement'])\n",
    "        df_is.loc[:, 'thstrm_nm'] = df_is['thstrm_nm'].apply(q_dict.get)\n",
    "        data['info'].append([corp, recpt_no, f'{bsns_year}'])\n",
    "        data['bs'].append(df_bs)\n",
    "        data['is'].append(df_is)\n",
    "\n",
    "# save\n",
    "data['info'] = pd.DataFrame(data['info'], columns=['code', 'rpid', 'time'])\n",
    "data['BS'] = pd.concat(data['bs']).reset_index(drop=True)\n",
    "data['IS'] = pd.concat(data['is']).reset_index(drop=True)\n",
    "\n",
    "data['BS'].loc[:, 'account_nm'] = data['BS']['account_nm'].apply(account_eng_dict.get)\n",
    "data['IS'].loc[:, 'account_nm'] = data['IS']['account_nm'].apply(account_eng_dict.get)\n",
    "\n",
    "data['BS'] = data['BS'].loc[~data['BS'].loc[:, 'account_nm'].isnull(), :].reset_index(drop=True)\n",
    "data['IS'] = data['IS'].loc[~data['IS'].loc[:, 'account_nm'].isnull(), :].reset_index(drop=True)"
   ]
  },
  {
   "cell_type": "code",
   "execution_count": 16,
   "id": "b257c35e",
   "metadata": {},
   "outputs": [
    {
     "name": "stdout",
     "output_type": "stream",
     "text": [
      "rcept_no         0\n",
      "thstrm_nm        0\n",
      "account_nm       0\n",
      "thstrm_amount    0\n",
      "dtype: int64\n",
      "rcept_no         0\n",
      "thstrm_nm        0\n",
      "account_nm       0\n",
      "thstrm_amount    0\n",
      "dtype: int64\n"
     ]
    }
   ],
   "source": [
    "# check if there is null\n",
    "print(data['BS'].isnull().sum())\n",
    "print(data['IS'].isnull().sum())"
   ]
  },
  {
   "cell_type": "code",
   "execution_count": 21,
   "id": "053ba093",
   "metadata": {},
   "outputs": [],
   "source": [
    "with psycopg.connect(\n",
    "        dbname=db_settings['dbname'],\n",
    "        host=db_settings['host'],\n",
    "        user=db_settings['user'], \n",
    "        password=db_settings['password'],\n",
    "        port=db_settings['port']\n",
    "    ) as conn:\n",
    "    with conn.cursor() as cur:\n",
    "        for i, line in data['info'].iterrows():\n",
    "            cur.execute(\n",
    "                sql.SQL(\"INSERT INTO {}({}, {}, {}, {}) VALUES (DEFAULT, %s, %s, %s) ;\").format(\n",
    "                    sql.Identifier('financial_statement'), *list(map(sql.Identifier, tables['financial_statement']))\n",
    "                ),\n",
    "                tuple(line.values)\n",
    "            )\n",
    "\n",
    "        for i, line in data['BS'].iterrows():\n",
    "            cur.execute(\n",
    "                sql.SQL(\"INSERT INTO {}({}, {}, {}, {}, {}, {}) VALUES (DEFAULT, %s, %s, %s, %s, %s) ;\").format(\n",
    "                    sql.Identifier('balance_sheet'), *list(map(sql.Identifier, tables['balance_sheet']))\n",
    "                ),\n",
    "                tuple([corp] + list(line.values))\n",
    "            )\n",
    "\n",
    "        for i, line in data['IS'].iterrows():\n",
    "            cur.execute(\n",
    "                sql.SQL(\"INSERT INTO {}({}, {}, {}, {}, {}, {}) VALUES (DEFAULT, %s, %s, %s, %s, %s) ;\").format(\n",
    "                    sql.Identifier('income_statement'), *list(map(sql.Identifier, tables['income_statement']))\n",
    "                ),\n",
    "                tuple([corp] + list(line.values))\n",
    "            )\n",
    "\n",
    "        # CREATE VIEW TABLE\n",
    "        # VIEW TABLE: Income Statement\n",
    "        cur.execute(\n",
    "        \"\"\"\n",
    "        CREATE VIEW vt_is_005930\n",
    "        AS \n",
    "        SELECT fs.bsns_year AS bsns_year, inc.quarter AS quarter, inc.account AS account, inc.value AS value\n",
    "        FROM income_statement AS inc\n",
    "        INNER JOIN company AS com\n",
    "            ON com.code = inc.code\n",
    "        INNER JOIN financial_statement AS fs\n",
    "            ON fs.code = inc.code AND fs.rpid = inc.rpid\n",
    "        WHERE\n",
    "            com.name = 'SamsungElec' AND fs.bsns_year BETWEEN 2016 AND 2021;\n",
    "        \"\"\")\n",
    "        # VIEW TABLE: Balance Sheet\n",
    "        cur.execute(\"\"\"\n",
    "        CREATE VIEW vt_bs_005930\n",
    "        AS \n",
    "        SELECT fs.bsns_year AS bsns_year, bal.quarter AS quarter, bal.account AS account, bal.value AS value\n",
    "        FROM balance_sheet AS bal\n",
    "        INNER JOIN company AS com\n",
    "            ON com.code = bal.code\n",
    "        INNER JOIN financial_statement AS fs\n",
    "            ON fs.code = bal.code AND fs.rpid = bal.rpid\n",
    "        WHERE\n",
    "            com.name = 'SamsungElec' AND fs.bsns_year BETWEEN 2016 AND 2021;\n",
    "        \"\"\")"
   ]
  },
  {
   "cell_type": "markdown",
   "id": "3d2e5cb4",
   "metadata": {},
   "source": [
    "---"
   ]
  },
  {
   "cell_type": "code",
   "execution_count": 28,
   "id": "ef3ee38a",
   "metadata": {},
   "outputs": [
    {
     "data": {
      "text/plain": [
       "{'company': ('c_id', 'code', 'name', 'sector'),\n",
       " 'financial_statement': ('fs_id', 'code', 'rpid', 'bsns_year'),\n",
       " 'balance_sheet': ('bs_id', 'code', 'rpid', 'quarter', 'account', 'value'),\n",
       " 'income_statement': ('is_id', 'code', 'rpid', 'quarter', 'account', 'value')}"
      ]
     },
     "execution_count": 28,
     "metadata": {},
     "output_type": "execute_result"
    }
   ],
   "source": [
    "tables"
   ]
  },
  {
   "cell_type": "code",
   "execution_count": 34,
   "id": "37ebc768",
   "metadata": {},
   "outputs": [
    {
     "data": {
      "text/plain": [
       "[(-1.5648029930171061,)]"
      ]
     },
     "execution_count": 34,
     "metadata": {},
     "output_type": "execute_result"
    }
   ],
   "source": [
    "# Scenario 1 query\n",
    "with psycopg.connect(\n",
    "        dbname=db_settings['dbname'],\n",
    "        host=db_settings['host'],\n",
    "        user=db_settings['user'], \n",
    "        password=db_settings['password'],\n",
    "        port=db_settings['port']\n",
    "    ) as conn:\n",
    "    with conn.cursor() as cur:\n",
    "        cur.execute(\n",
    "            \"\"\"\n",
    "            SELECT (1.0 * CAST(A.revenue AS REAL)) / (1.0 * CAST(B.cor AS REAL))\n",
    "            FROM (\n",
    "            (SELECT T.value AS revenue FROM vt_is_005930 AS T\n",
    "            WHERE \n",
    "                T.bsns_year = '2019' AND \n",
    "                T.quarter = '4Q' AND \n",
    "                T.account = 'Revenue') AS A\n",
    "            JOIN \n",
    "            (SELECT T.value AS cor FROM vt_is_005930 AS T\n",
    "            WHERE \n",
    "                T.bsns_year = '2019' AND \n",
    "                T.quarter = '4Q' AND \n",
    "                T.account = 'CostOfSales') AS B ON 1=1\n",
    "            )\n",
    "            \"\"\"\n",
    "        )\n",
    "        data = cur.fetchall()\n",
    "\n",
    "data"
   ]
  },
  {
   "cell_type": "code",
   "execution_count": 14,
   "id": "84e6d4ea-549a-4c48-bddd-1c2fb784081a",
   "metadata": {},
   "outputs": [],
   "source": [
    "with psycopg.connect(\n",
    "        dbname=db_settings['dbname'],\n",
    "        host=db_settings['host'],\n",
    "        user=db_settings['user'], \n",
    "        password=db_settings['password'],\n",
    "        port=db_settings['port']\n",
    "    ) as conn:\n",
    "    with conn.cursor() as cur:\n",
    "        cur.execute(\n",
    "            \"\"\"SELECT T.bsns_year, T.quarter, T.value FROM vt_is_005930 AS T\n",
    "            WHERE T.account = 'Revenue'\"\"\"\n",
    "        )\n",
    "        data = cur.fetchall()"
   ]
  },
  {
   "cell_type": "code",
   "execution_count": 81,
   "id": "3e108838",
   "metadata": {},
   "outputs": [],
   "source": [
    "df_rev = pd.DataFrame(data, columns=['bsns_year', 'quarter', 'value'])\n",
    "df_rev = df_rev.groupby(['bsns_year', 'quarter'])[['value']].first()\n",
    "for bsns_year in range(2016, 2021):\n",
    "    summ_to_3Q = df_rev.loc[(df_rev.index.get_level_values(0) == bsns_year) & (df_rev.index.get_level_values(1).isin(['1Q', '2Q', '3Q']))].sum()\n",
    "    df_rev.loc[(bsns_year, '4Q')] = df_rev.loc[(bsns_year, '4Q')] - summ_to_3Q\n",
    "df_rev['previous'] = df_rev.shift().values\n",
    "df_rev = df_rev.dropna()\n",
    "df_rev['previous'] = df_rev['previous'].values.astype(np.int64)\n",
    "df_rev = df_rev.rename(columns={'value': 'current'})"
   ]
  },
  {
   "cell_type": "code",
   "execution_count": 73,
   "id": "0767dbd5",
   "metadata": {},
   "outputs": [],
   "source": [
    "df_rev.to_csv(src_path / 'data' / 'train_data.csv', encoding='utf-8')"
   ]
  },
  {
   "cell_type": "code",
   "execution_count": 80,
   "id": "a9852dc5",
   "metadata": {},
   "outputs": [],
   "source": [
    "df_rev = pd.read_csv(src_path / 'data' / 'train_data.csv', encoding='utf-8')\n",
    "df_rev['date'] = df_rev['bsns_year'].astype(str) + '-' + df_rev['quarter']\n",
    "df_rev2 = df_rev.loc[:, ['date', 'current']].set_index('date')\n",
    "df_rev2.to_csv(src_path / 'data' / 'revenues.csv', encoding='utf-8')"
   ]
  },
  {
   "cell_type": "code",
   "execution_count": 82,
   "id": "48d0a1e0",
   "metadata": {},
   "outputs": [],
   "source": [
    "df_rev_scaled = df_rev / 1e13 # 10,000,000,000,000  1e13\n",
    "df_rev_scaled.to_csv(src_path / 'data' / 'train_data_scaled_1e13.csv', encoding='utf-8')"
   ]
  },
  {
   "cell_type": "code",
   "execution_count": 5,
   "id": "a8983cb4",
   "metadata": {},
   "outputs": [],
   "source": [
    "df_rev_scaled = pd.read_csv(src_path / 'data' / 'train_data_scaled_1e13.csv', encoding='utf-8')\n",
    "df_rev_scaled = df_rev_scaled.set_index(keys=['bsns_year', 'quarter'])"
   ]
  },
  {
   "cell_type": "code",
   "execution_count": 6,
   "id": "474378d7",
   "metadata": {},
   "outputs": [],
   "source": [
    "X = df_rev_scaled.loc[:, 'previous'].values\n",
    "y = df_rev_scaled.loc[:, 'current'].values"
   ]
  },
  {
   "cell_type": "markdown",
   "id": "3fc41443",
   "metadata": {},
   "source": [
    "Linear Regression: https://towardsdatascience.com/how-to-model-time-series-data-with-linear-regression-cd94d1d901c0"
   ]
  },
  {
   "cell_type": "code",
   "execution_count": 4,
   "id": "3e33cf75",
   "metadata": {},
   "outputs": [],
   "source": [
    "from sklearn.linear_model import LinearRegression\n",
    "import statsmodels.api as sm\n",
    "import matplotlib.pyplot as plt\n",
    "\n",
    "def pipeline(X, scale_factor=1, add_const=False):\n",
    "    X = X / scale_factor\n",
    "    if add_const:\n",
    "        X = sm.add_constant(X, has_constant='add')\n",
    "    return X\n",
    "\n",
    "# model = LinearRegression()\n",
    "# model.fit(pipeline(X), y)"
   ]
  },
  {
   "cell_type": "code",
   "execution_count": 7,
   "id": "afdfc83c",
   "metadata": {},
   "outputs": [],
   "source": [
    "model = sm.OLS(y, pipeline(X, add_const=True))\n",
    "results = model.fit()"
   ]
  },
  {
   "cell_type": "code",
   "execution_count": 8,
   "id": "ef277598",
   "metadata": {},
   "outputs": [],
   "source": [
    "results.save(src_path / 'data' / 'linear_model.pickle')"
   ]
  },
  {
   "cell_type": "code",
   "execution_count": 132,
   "id": "fd8bb01b",
   "metadata": {},
   "outputs": [
    {
     "data": {
      "text/html": [
       "<table class=\"simpletable\">\n",
       "<caption>OLS Regression Results</caption>\n",
       "<tr>\n",
       "  <th>Dep. Variable:</th>            <td>y</td>        <th>  R-squared:         </th> <td>   0.283</td>\n",
       "</tr>\n",
       "<tr>\n",
       "  <th>Model:</th>                   <td>OLS</td>       <th>  Adj. R-squared:    </th> <td>   0.247</td>\n",
       "</tr>\n",
       "<tr>\n",
       "  <th>Method:</th>             <td>Least Squares</td>  <th>  F-statistic:       </th> <td>   7.886</td>\n",
       "</tr>\n",
       "<tr>\n",
       "  <th>Date:</th>             <td>Fri, 17 Dec 2021</td> <th>  Prob (F-statistic):</th>  <td>0.0109</td> \n",
       "</tr>\n",
       "<tr>\n",
       "  <th>Time:</th>                 <td>00:54:10</td>     <th>  Log-Likelihood:    </th> <td> -17.307</td>\n",
       "</tr>\n",
       "<tr>\n",
       "  <th>No. Observations:</th>      <td>    22</td>      <th>  AIC:               </th> <td>   38.61</td>\n",
       "</tr>\n",
       "<tr>\n",
       "  <th>Df Residuals:</th>          <td>    20</td>      <th>  BIC:               </th> <td>   40.80</td>\n",
       "</tr>\n",
       "<tr>\n",
       "  <th>Df Model:</th>              <td>     1</td>      <th>                     </th>     <td> </td>   \n",
       "</tr>\n",
       "<tr>\n",
       "  <th>Covariance Type:</th>      <td>nonrobust</td>    <th>                     </th>     <td> </td>   \n",
       "</tr>\n",
       "</table>\n",
       "<table class=\"simpletable\">\n",
       "<tr>\n",
       "    <td></td>       <th>coef</th>     <th>std err</th>      <th>t</th>      <th>P>|t|</th>  <th>[0.025</th>    <th>0.975]</th>  \n",
       "</tr>\n",
       "<tr>\n",
       "  <th>const</th> <td>    2.5303</td> <td>    1.218</td> <td>    2.077</td> <td> 0.051</td> <td>   -0.011</td> <td>    5.071</td>\n",
       "</tr>\n",
       "<tr>\n",
       "  <th>x1</th>    <td>    0.5845</td> <td>    0.208</td> <td>    2.808</td> <td> 0.011</td> <td>    0.150</td> <td>    1.019</td>\n",
       "</tr>\n",
       "</table>\n",
       "<table class=\"simpletable\">\n",
       "<tr>\n",
       "  <th>Omnibus:</th>       <td> 1.810</td> <th>  Durbin-Watson:     </th> <td>   2.029</td>\n",
       "</tr>\n",
       "<tr>\n",
       "  <th>Prob(Omnibus):</th> <td> 0.405</td> <th>  Jarque-Bera (JB):  </th> <td>   1.551</td>\n",
       "</tr>\n",
       "<tr>\n",
       "  <th>Skew:</th>          <td> 0.590</td> <th>  Prob(JB):          </th> <td>   0.461</td>\n",
       "</tr>\n",
       "<tr>\n",
       "  <th>Kurtosis:</th>      <td> 2.454</td> <th>  Cond. No.          </th> <td>    61.7</td>\n",
       "</tr>\n",
       "</table><br/><br/>Notes:<br/>[1] Standard Errors assume that the covariance matrix of the errors is correctly specified."
      ],
      "text/plain": [
       "<class 'statsmodels.iolib.summary.Summary'>\n",
       "\"\"\"\n",
       "                            OLS Regression Results                            \n",
       "==============================================================================\n",
       "Dep. Variable:                      y   R-squared:                       0.283\n",
       "Model:                            OLS   Adj. R-squared:                  0.247\n",
       "Method:                 Least Squares   F-statistic:                     7.886\n",
       "Date:                Fri, 17 Dec 2021   Prob (F-statistic):             0.0109\n",
       "Time:                        00:54:10   Log-Likelihood:                -17.307\n",
       "No. Observations:                  22   AIC:                             38.61\n",
       "Df Residuals:                      20   BIC:                             40.80\n",
       "Df Model:                           1                                         \n",
       "Covariance Type:            nonrobust                                         \n",
       "==============================================================================\n",
       "                 coef    std err          t      P>|t|      [0.025      0.975]\n",
       "------------------------------------------------------------------------------\n",
       "const          2.5303      1.218      2.077      0.051      -0.011       5.071\n",
       "x1             0.5845      0.208      2.808      0.011       0.150       1.019\n",
       "==============================================================================\n",
       "Omnibus:                        1.810   Durbin-Watson:                   2.029\n",
       "Prob(Omnibus):                  0.405   Jarque-Bera (JB):                1.551\n",
       "Skew:                           0.590   Prob(JB):                        0.461\n",
       "Kurtosis:                       2.454   Cond. No.                         61.7\n",
       "==============================================================================\n",
       "\n",
       "Notes:\n",
       "[1] Standard Errors assume that the covariance matrix of the errors is correctly specified.\n",
       "\"\"\""
      ]
     },
     "execution_count": 132,
     "metadata": {},
     "output_type": "execute_result"
    }
   ],
   "source": [
    "results.summary()"
   ]
  },
  {
   "cell_type": "code",
   "execution_count": 137,
   "id": "bab1c168",
   "metadata": {},
   "outputs": [],
   "source": [
    "df_rev = pd.read_csv(src_path / 'data' / 'revenues.csv', encoding='utf-8').set_index('date')\n",
    "df_rev['predicted'] = (results.predict(pipeline(df_rev_scaled['previous'].values, add_const=True)) * 1e13).astype(np.int64)\n",
    "df_rev.to_csv(src_path / 'data' / 'revenues.csv', encoding='utf-8')"
   ]
  },
  {
   "cell_type": "code",
   "execution_count": 111,
   "id": "98e254e9",
   "metadata": {},
   "outputs": [
    {
     "data": {
      "text/plain": [
       "array([6.85429466])"
      ]
     },
     "execution_count": 111,
     "metadata": {},
     "output_type": "execute_result"
    }
   ],
   "source": [
    "Q3_2021 = df_rev_scaled.loc[(2021, '3Q'), ['current']].values\n",
    "results.predict(pipeline(Q3_2021, add_const=True))"
   ]
  },
  {
   "cell_type": "code",
   "execution_count": 144,
   "id": "afd10cd1",
   "metadata": {},
   "outputs": [
    {
     "data": {
      "text/plain": [
       "current    73979187000000\n",
       "Name: 2021-3Q, dtype: int64"
      ]
     },
     "execution_count": 144,
     "metadata": {},
     "output_type": "execute_result"
    }
   ],
   "source": [
    "df_rev.loc['2021-3Q', ['current']]"
   ]
  },
  {
   "cell_type": "code",
   "execution_count": 112,
   "id": "4f6fe89d",
   "metadata": {},
   "outputs": [
    {
     "data": {
      "text/html": [
       "<table class=\"simpletable\">\n",
       "<caption>OLS Regression Results</caption>\n",
       "<tr>\n",
       "  <th>Dep. Variable:</th>            <td>y</td>        <th>  R-squared (uncentered):</th>      <td>   0.990</td>\n",
       "</tr>\n",
       "<tr>\n",
       "  <th>Model:</th>                   <td>OLS</td>       <th>  Adj. R-squared (uncentered):</th> <td>   0.990</td>\n",
       "</tr>\n",
       "<tr>\n",
       "  <th>Method:</th>             <td>Least Squares</td>  <th>  F-statistic:       </th>          <td>   2158.</td>\n",
       "</tr>\n",
       "<tr>\n",
       "  <th>Date:</th>             <td>Fri, 17 Dec 2021</td> <th>  Prob (F-statistic):</th>          <td>1.17e-22</td>\n",
       "</tr>\n",
       "<tr>\n",
       "  <th>Time:</th>                 <td>00:44:21</td>     <th>  Log-Likelihood:    </th>          <td> -19.456</td>\n",
       "</tr>\n",
       "<tr>\n",
       "  <th>No. Observations:</th>      <td>    22</td>      <th>  AIC:               </th>          <td>   40.91</td>\n",
       "</tr>\n",
       "<tr>\n",
       "  <th>Df Residuals:</th>          <td>    21</td>      <th>  BIC:               </th>          <td>   42.00</td>\n",
       "</tr>\n",
       "<tr>\n",
       "  <th>Df Model:</th>              <td>     1</td>      <th>                     </th>              <td> </td>   \n",
       "</tr>\n",
       "<tr>\n",
       "  <th>Covariance Type:</th>      <td>nonrobust</td>    <th>                     </th>              <td> </td>   \n",
       "</tr>\n",
       "</table>\n",
       "<table class=\"simpletable\">\n",
       "<tr>\n",
       "   <td></td>     <th>coef</th>     <th>std err</th>      <th>t</th>      <th>P>|t|</th>  <th>[0.025</th>    <th>0.975]</th>  \n",
       "</tr>\n",
       "<tr>\n",
       "  <th>x1</th> <td>    1.0147</td> <td>    0.022</td> <td>   46.452</td> <td> 0.000</td> <td>    0.969</td> <td>    1.060</td>\n",
       "</tr>\n",
       "</table>\n",
       "<table class=\"simpletable\">\n",
       "<tr>\n",
       "  <th>Omnibus:</th>       <td> 1.758</td> <th>  Durbin-Watson:     </th> <td>   2.532</td>\n",
       "</tr>\n",
       "<tr>\n",
       "  <th>Prob(Omnibus):</th> <td> 0.415</td> <th>  Jarque-Bera (JB):  </th> <td>   1.507</td>\n",
       "</tr>\n",
       "<tr>\n",
       "  <th>Skew:</th>          <td> 0.526</td> <th>  Prob(JB):          </th> <td>   0.471</td>\n",
       "</tr>\n",
       "<tr>\n",
       "  <th>Kurtosis:</th>      <td> 2.267</td> <th>  Cond. No.          </th> <td>    1.00</td>\n",
       "</tr>\n",
       "</table><br/><br/>Notes:<br/>[1] R² is computed without centering (uncentered) since the model does not contain a constant.<br/>[2] Standard Errors assume that the covariance matrix of the errors is correctly specified."
      ],
      "text/plain": [
       "<class 'statsmodels.iolib.summary.Summary'>\n",
       "\"\"\"\n",
       "                                 OLS Regression Results                                \n",
       "=======================================================================================\n",
       "Dep. Variable:                      y   R-squared (uncentered):                   0.990\n",
       "Model:                            OLS   Adj. R-squared (uncentered):              0.990\n",
       "Method:                 Least Squares   F-statistic:                              2158.\n",
       "Date:                Fri, 17 Dec 2021   Prob (F-statistic):                    1.17e-22\n",
       "Time:                        00:44:21   Log-Likelihood:                         -19.456\n",
       "No. Observations:                  22   AIC:                                      40.91\n",
       "Df Residuals:                      21   BIC:                                      42.00\n",
       "Df Model:                           1                                                  \n",
       "Covariance Type:            nonrobust                                                  \n",
       "==============================================================================\n",
       "                 coef    std err          t      P>|t|      [0.025      0.975]\n",
       "------------------------------------------------------------------------------\n",
       "x1             1.0147      0.022     46.452      0.000       0.969       1.060\n",
       "==============================================================================\n",
       "Omnibus:                        1.758   Durbin-Watson:                   2.532\n",
       "Prob(Omnibus):                  0.415   Jarque-Bera (JB):                1.507\n",
       "Skew:                           0.526   Prob(JB):                        0.471\n",
       "Kurtosis:                       2.267   Cond. No.                         1.00\n",
       "==============================================================================\n",
       "\n",
       "Notes:\n",
       "[1] R² is computed without centering (uncentered) since the model does not contain a constant.\n",
       "[2] Standard Errors assume that the covariance matrix of the errors is correctly specified.\n",
       "\"\"\""
      ]
     },
     "execution_count": 112,
     "metadata": {},
     "output_type": "execute_result"
    }
   ],
   "source": [
    "model = sm.OLS(y, pipeline(X, add_const=False))\n",
    "results = model.fit()\n",
    "results.summary()"
   ]
  },
  {
   "cell_type": "code",
   "execution_count": null,
   "id": "6607943d",
   "metadata": {},
   "outputs": [],
   "source": []
  },
  {
   "cell_type": "markdown",
   "id": "29636707",
   "metadata": {},
   "source": [
    "---"
   ]
  }
 ],
 "metadata": {
  "interpreter": {
   "hash": "a4ed9b19307c800d89a3002578f776a0fb528ed3e6b1903878767ebecc1b6c32"
  },
  "kernelspec": {
   "display_name": "Python 3 (ipykernel)",
   "language": "python",
   "name": "python3"
  },
  "language_info": {
   "codemirror_mode": {
    "name": "ipython",
    "version": 3
   },
   "file_extension": ".py",
   "mimetype": "text/x-python",
   "name": "python",
   "nbconvert_exporter": "python",
   "pygments_lexer": "ipython3",
   "version": "3.8.12"
  },
  "metadata": {
   "interpreter": {
    "hash": "aee8b7b246df8f9039afb4144a1f6fd8d2ca17a180786b69acc140d282b71a49"
   }
  }
 },
 "nbformat": 4,
 "nbformat_minor": 5
}
