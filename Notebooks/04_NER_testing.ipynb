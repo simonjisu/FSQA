{
 "cells": [
  {
   "cell_type": "code",
   "execution_count": 3,
   "metadata": {},
   "outputs": [
    {
     "name": "stderr",
     "output_type": "stream",
     "text": [
      "GPU available: True, used: True\n",
      "TPU available: False, using: 0 TPU cores\n",
      "IPU available: False, using: 0 IPUs\n"
     ]
    }
   ],
   "source": [
    "import sys\n",
    "\n",
    "from pathlib import Path\n",
    "main_path = Path().absolute().parent\n",
    "data_path = main_path / 'data'\n",
    "setting_path = main_path / 'setting_files'\n",
    "\n",
    "sys.path.append(str(main_path / 'src'))\n",
    "\n",
    "import torch\n",
    "import yaml\n",
    "import json\n",
    "import pytorch_lightning as pl\n",
    "from pytorch_lightning import seed_everything\n",
    "\n",
    "from nlu_models import NLUModel\n",
    "from nlu_utils import NLUDataModule\n",
    "\n",
    "with (setting_path / 'train_settings.yml').open('r') as file:\n",
    "    settings = yaml.load(file, Loader=yaml.FullLoader)\n",
    "\n",
    "data_module_settings = settings['data_module']\n",
    "model_settings = settings['model']\n",
    "trainer_settings = settings['trainer']\n",
    "\n",
    "data_module = NLUDataModule(\n",
    "    train_path=data_path / data_module_settings['train_file'], \n",
    "    valid_path=data_path / data_module_settings['valid_file'],\n",
    "    test_path=data_path / data_module_settings['test_file'],\n",
    "    labels_path=data_path / data_module_settings['labels_file'],\n",
    "    batch_size=data_module_settings['batch_size'], \n",
    "    max_len=data_module_settings['max_len'],\n",
    "    num_workers=data_module_settings['num_workers'],\n",
    "    seed=settings['seed']\n",
    ")\n",
    "\n",
    "if model_settings.get('weight_file') is not None:\n",
    "    with (data_path / model_settings['weight_file']).open('r', encoding='utf-8') as file:\n",
    "        weight_dict = json.load(file)\n",
    "else:\n",
    "    weight_dict = None\n",
    "\n",
    "if trainer_settings['deterministic']:\n",
    "    seed_everything(seed=settings['seed'], workers=True)\n",
    "deterministic = trainer_settings['deterministic']\n",
    "\n",
    "trainer = pl.Trainer(\n",
    "    gpus=trainer_settings['n_gpus'], \n",
    "    max_epochs=trainer_settings['n_epochs'], \n",
    "    num_sanity_val_steps=trainer_settings['num_sanity_val_steps'],\n",
    "    log_every_n_steps=trainer_settings['log_every_n_steps'],\n",
    "    deterministic=deterministic,\n",
    ")\n",
    "\n",
    "# trainer.test(ckpt_path='best', datamodule=data_module)\n",
    "\n",
    "# checkpoint_path = str(main_path / 'checkpoints' / 'nlu_simple' / 'best_model.ckpt')\n",
    "\n",
    "# seed_everything(seed=settings['seed'])\n",
    "# trainer = pl.Trainer(\n",
    "#     gpus=trainer_settings['n_gpus'], \n",
    "#     max_epochs=trainer_settings['n_epochs'], \n",
    "#     num_sanity_val_steps=trainer_settings['num_sanity_val_steps'],\n",
    "#     deterministic=True,\n",
    "# )\n",
    "# # checkpoint = torch.load(checkpoint_path)\n",
    "# model = NLUModel.load_from_checkpoint(checkpoint_path)\n",
    "# # model.load_state_dict(checkpoint['state_dict'])\n",
    "# model.eval()\n",
    "# print()"
   ]
  },
  {
   "cell_type": "code",
   "execution_count": 4,
   "metadata": {},
   "outputs": [],
   "source": [
    "from nlu_utils import NLUTokenizer\n",
    "\n",
    "tokenizer = NLUTokenizer()"
   ]
  },
  {
   "cell_type": "code",
   "execution_count": 21,
   "metadata": {},
   "outputs": [
    {
     "name": "stdout",
     "output_type": "stream",
     "text": [
      "('focal2_l7_tk3_3', 'epoch=18-step=265-val_loss=0.30.ckpt')\n"
     ]
    },
    {
     "name": "stderr",
     "output_type": "stream",
     "text": [
      "Some weights of the model checkpoint at bert-base-uncased were not used when initializing BertForTokenClassification: ['cls.predictions.transform.dense.weight', 'cls.predictions.transform.dense.bias', 'cls.predictions.transform.LayerNorm.weight', 'cls.predictions.decoder.weight', 'cls.predictions.transform.LayerNorm.bias', 'cls.seq_relationship.bias', 'cls.seq_relationship.weight', 'cls.predictions.bias']\n",
      "- This IS expected if you are initializing BertForTokenClassification from the checkpoint of a model trained on another task or with another architecture (e.g. initializing a BertForSequenceClassification model from a BertForPreTraining model).\n",
      "- This IS NOT expected if you are initializing BertForTokenClassification from the checkpoint of a model that you expect to be exactly identical (initializing a BertForSequenceClassification model from a BertForSequenceClassification model).\n",
      "Some weights of BertForTokenClassification were not initialized from the model checkpoint at bert-base-uncased and are newly initialized: ['classifier.weight', 'classifier.bias']\n",
      "You should probably TRAIN this model on a down-stream task to be able to use it for predictions and inference.\n"
     ]
    },
    {
     "data": {
      "text/plain": [
       "{'tags': tensor([[  7.2178, -11.1062, -18.4225,   5.0288,   6.1428,   4.4894,   5.1955,\n",
       "          -11.9663,  -9.8212, -11.4087,  -6.8118],\n",
       "         [  7.2178, -11.1062, -18.4225,   5.0288,   6.1428,   4.4894,   5.1955,\n",
       "          -11.9663,  -9.8212, -11.4087,  -6.8118],\n",
       "         [  7.2178, -11.1062, -18.4225,   5.0288,   6.1428,   4.4894,   5.1955,\n",
       "          -11.9663,  -9.8212, -11.4087,  -6.8118],\n",
       "         [  7.2178, -11.1062, -18.4225,   5.0288,   6.1428,   4.4894,   5.1955,\n",
       "          -11.9663,  -9.8212, -11.4087,  -6.8118]], grad_fn=<ViewBackward0>),\n",
       " 'intent': tensor([[  4.2094,   2.9006, -24.7791,  -2.1780]], grad_fn=<AddmmBackward0>)}"
      ]
     },
     "execution_count": 21,
     "metadata": {},
     "output_type": "execute_result"
    }
   ],
   "source": [
    "model_idx = 8\n",
    "model_dict = dict(enumerate([\n",
    "    ('ce_l7_tk3_0', 'epoch=11-step=167-val_loss=1.74.ckpt'),     # 0\n",
    "    ('ce_l7_tk3_1', 'epoch=8-step=125-val_loss=1.57.ckpt'),      # 1\n",
    "    ('ce_l7_tk3_3', 'epoch=6-step=97-val_loss=1.82.ckpt'),       # 2\n",
    "    ('focal_l7_tk3_0', 'epoch=17-step=251-val_loss=0.43.ckpt'),  # 3\n",
    "    ('focal_l7_tk3_1', 'epoch=19-step=279-val_loss=0.35.ckpt'),  # 4\n",
    "    ('focal_l7_tk3_3', 'epoch=18-step=265-val_loss=0.44.ckpt'),  # 5\n",
    "    ('focal2_l7_tk3_0', 'epoch=18-step=265-val_loss=0.25.ckpt'), # 6\n",
    "    ('focal2_l7_tk3_1', 'epoch=19-step=279-val_loss=0.17.ckpt'), # 7\n",
    "    ('focal2_l7_tk3_3', 'epoch=18-step=265-val_loss=0.30.ckpt'), # 8\n",
    "]))\n",
    "s = model_dict[model_idx]\n",
    "print(s)\n",
    "checkpoint_path = str(main_path / 'logs' / 'nlu_simple' / s[0] / 'checkpoints' / s[1])\n",
    "model = NLUModel.load_from_checkpoint(checkpoint_path)\n",
    "data = {\"text\": \"current assets\"}\n",
    "text = data['text']\n",
    "bert_encodes = tokenizer(\n",
    "    text, \n",
    "    add_special_tokens=True, \n",
    "    truncation=True, \n",
    "    max_length=256,\n",
    "    return_tensors='pt'\n",
    ")\n",
    "o = model(**bert_encodes)\n",
    "o"
   ]
  },
  {
   "cell_type": "code",
   "execution_count": null,
   "metadata": {},
   "outputs": [],
   "source": []
  }
 ],
 "metadata": {
  "interpreter": {
   "hash": "ab7f212329a491b497f27876271d03c022f2dd26760015eef69af619991238fd"
  },
  "kernelspec": {
   "display_name": "Python 3.8.12 64-bit ('venv': conda)",
   "language": "python",
   "name": "python3"
  },
  "language_info": {
   "codemirror_mode": {
    "name": "ipython",
    "version": 3
   },
   "file_extension": ".py",
   "mimetype": "text/x-python",
   "name": "python",
   "nbconvert_exporter": "python",
   "pygments_lexer": "ipython3",
   "version": "3.8.12"
  },
  "orig_nbformat": 4
 },
 "nbformat": 4,
 "nbformat_minor": 2
}
