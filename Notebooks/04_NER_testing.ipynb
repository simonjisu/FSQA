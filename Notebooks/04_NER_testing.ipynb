{
 "cells": [
  {
   "cell_type": "code",
   "execution_count": 1,
   "metadata": {},
   "outputs": [
    {
     "name": "stderr",
     "output_type": "stream",
     "text": [
      "GPU available: True, used: True\n",
      "TPU available: False, using: 0 TPU cores\n",
      "IPU available: False, using: 0 IPUs\n"
     ]
    }
   ],
   "source": [
    "import sys\n",
    "from pathlib import Path\n",
    "main_path = Path().absolute().parent\n",
    "data_path = main_path / 'data'\n",
    "setting_path = main_path / 'setting_files'\n",
    "\n",
    "sys.path.append(str(main_path / 'src'))\n",
    "\n",
    "import torch\n",
    "import yaml\n",
    "import json\n",
    "import pytorch_lightning as pl\n",
    "from pytorch_lightning import seed_everything\n",
    "\n",
    "from nlu_models import NLUModel\n",
    "from nlu_utils import NLUDataModule\n",
    "\n",
    "with (setting_path / 'train_settings.yml').open('r') as file:\n",
    "    settings = yaml.load(file, Loader=yaml.FullLoader)\n",
    "\n",
    "data_module_settings = settings['data_module']\n",
    "model_settings = settings['model']\n",
    "trainer_settings = settings['trainer']\n",
    "\n",
    "data_module = NLUDataModule(\n",
    "    train_path=data_path / data_module_settings['train_file'], \n",
    "    valid_path=data_path / data_module_settings['valid_file'],\n",
    "    test_path=data_path / data_module_settings['test_file'],\n",
    "    labels_path=data_path / data_module_settings['labels_file'],\n",
    "    batch_size=data_module_settings['batch_size'], \n",
    "    max_len=data_module_settings['max_len'],\n",
    "    num_workers=data_module_settings['num_workers'],\n",
    "    seed=settings['seed']\n",
    ")\n",
    "\n",
    "if model_settings.get('weight_file') is not None:\n",
    "    with (data_path / model_settings['weight_file']).open('r', encoding='utf-8') as file:\n",
    "        weight_dict = json.load(file)\n",
    "else:\n",
    "    weight_dict = None\n",
    "\n",
    "if trainer_settings['deterministic']:\n",
    "    seed_everything(seed=settings['seed'], workers=True)\n",
    "deterministic = trainer_settings['deterministic']\n",
    "\n",
    "trainer = pl.Trainer(\n",
    "    gpus=trainer_settings['n_gpus'], \n",
    "    max_epochs=trainer_settings['n_epochs'], \n",
    "    num_sanity_val_steps=trainer_settings['num_sanity_val_steps'],\n",
    "    log_every_n_steps=trainer_settings['log_every_n_steps'],\n",
    "    deterministic=deterministic,\n",
    ")\n",
    "\n",
    "# trainer.test(ckpt_path='best', datamodule=data_module)\n",
    "\n",
    "# checkpoint_path = str(main_path / 'checkpoints' / 'nlu_simple' / 'best_model.ckpt')\n",
    "\n",
    "# seed_everything(seed=settings['seed'])\n",
    "# trainer = pl.Trainer(\n",
    "#     gpus=trainer_settings['n_gpus'], \n",
    "#     max_epochs=trainer_settings['n_epochs'], \n",
    "#     num_sanity_val_steps=trainer_settings['num_sanity_val_steps'],\n",
    "#     deterministic=True,\n",
    "# )\n",
    "# # checkpoint = torch.load(checkpoint_path)\n",
    "# model = NLUModel.load_from_checkpoint(checkpoint_path)\n",
    "# # model.load_state_dict(checkpoint['state_dict'])\n",
    "# model.eval()\n",
    "# print()"
   ]
  },
  {
   "cell_type": "code",
   "execution_count": 2,
   "metadata": {},
   "outputs": [],
   "source": [
    "from nlu_utils import NLUTokenizer\n",
    "\n",
    "tokenizer = NLUTokenizer()"
   ]
  },
  {
   "cell_type": "code",
   "execution_count": 21,
   "metadata": {},
   "outputs": [
    {
     "name": "stdout",
     "output_type": "stream",
     "text": [
      "('ce_l7_tk3_3', 'best_model.ckpt')\n"
     ]
    },
    {
     "name": "stderr",
     "output_type": "stream",
     "text": [
      "Some weights of the model checkpoint at bert-base-uncased were not used when initializing BertModel: ['cls.predictions.transform.dense.bias', 'cls.predictions.bias', 'cls.seq_relationship.bias', 'cls.predictions.decoder.weight', 'cls.predictions.transform.LayerNorm.weight', 'cls.predictions.transform.dense.weight', 'cls.predictions.transform.LayerNorm.bias', 'cls.seq_relationship.weight']\n",
      "- This IS expected if you are initializing BertModel from the checkpoint of a model trained on another task or with another architecture (e.g. initializing a BertForSequenceClassification model from a BertForPreTraining model).\n",
      "- This IS NOT expected if you are initializing BertModel from the checkpoint of a model that you expect to be exactly identical (initializing a BertForSequenceClassification model from a BertForSequenceClassification model).\n"
     ]
    },
    {
     "data": {
      "text/plain": [
       "{'tags_loss': None,\n",
       " 'intent_loss': None,\n",
       " 'tags_pred': tensor([ 0,  5,  5,  8,  9,  9,  9,  9,  6,  5, 12, 13,  5,  5, 14, 15,  5,  5,\n",
       "          5,  5,  5,  5,  5,  8,  5,  0]),\n",
       " 'intent_pred': tensor([1])}"
      ]
     },
     "execution_count": 21,
     "metadata": {},
     "output_type": "execute_result"
    }
   ],
   "source": [
    "model_idx = 8\n",
    "model_dict = dict(enumerate([\n",
    "    ('ce_l7_tk3_0', 'epoch=11-step=167-val_loss=1.74.ckpt'),     # 0\n",
    "    ('ce_l7_tk3_1', 'epoch=8-step=125-val_loss=1.57.ckpt'),      # 1\n",
    "    ('ce_l7_tk3_3', 'epoch=6-step=97-val_loss=1.82.ckpt'),       # 2\n",
    "    ('focal_l7_tk3_0', 'epoch=17-step=251-val_loss=0.43.ckpt'),  # 3\n",
    "    ('focal_l7_tk3_1', 'epoch=19-step=279-val_loss=0.35.ckpt'),  # 4\n",
    "    ('focal_l7_tk3_3', 'epoch=18-step=265-val_loss=0.44.ckpt'),  # 5\n",
    "    ('focal2_l7_tk3_0', 'epoch=18-step=265-val_loss=0.25.ckpt'), # 6\n",
    "    ('focal2_l7_tk3_1', 'epoch=19-step=279-val_loss=0.17.ckpt'), # 7\n",
    "    ('focal2_l7_tk3_3', 'epoch=18-step=265-val_loss=0.30.ckpt'), # 8\n",
    "]))\n",
    "\n",
    "\n",
    "# s = model_dict[model_idx]\n",
    "s = ('ce_l7_tk3_3', 'best_model.ckpt')\n",
    "print(s)\n",
    "checkpoint_path = str(main_path / 'logs' / 'nlu_simple' / s[0] / 'checkpoints' / s[1])\n",
    "model = NLUModel.load_from_checkpoint(checkpoint_path)\n",
    "data = {\"text\": \"if the noncurrent assets reduced by 62 percent in this fiscal year, what will be the effect to assets?\"}\n",
    "text = data['text']\n",
    "bert_encodes = tokenizer(\n",
    "    text, \n",
    "    add_special_tokens=True, \n",
    "    truncation=True, \n",
    "    max_length=64,\n",
    "    return_tensors='pt'\n",
    ")\n",
    "o = model(**bert_encodes)\n",
    "o"
   ]
  },
  {
   "cell_type": "code",
   "execution_count": 37,
   "metadata": {},
   "outputs": [],
   "source": [
    "with (data_path / 'labels_simple.json').open('r', encoding='utf-8') as file:\n",
    "    ls = json.load(file)\n",
    "tags2id = ls['tags']\n",
    "intent2id = ls['intent']\n",
    "id2tags = {v: k for k, v in tags2id.items()}"
   ]
  },
  {
   "cell_type": "code",
   "execution_count": 38,
   "metadata": {},
   "outputs": [
    {
     "data": {
      "text/plain": [
       "{100: '[UNK]',\n",
       " 102: '[SEP]',\n",
       " 0: '[PAD]',\n",
       " 101: '[CLS]',\n",
       " 103: '[MASK]',\n",
       " 5: 'O',\n",
       " 6: 'B-APPLY',\n",
       " 7: 'I-APPLY',\n",
       " 8: 'B-BS',\n",
       " 9: 'I-BS',\n",
       " 10: 'B-IS',\n",
       " 11: 'I-IS',\n",
       " 12: 'B-PERCENT',\n",
       " 13: 'I-PERCENT',\n",
       " 14: 'B-TIME',\n",
       " 15: 'I-TIME'}"
      ]
     },
     "execution_count": 38,
     "metadata": {},
     "output_type": "execute_result"
    }
   ],
   "source": [
    "id2tags"
   ]
  },
  {
   "cell_type": "code",
   "execution_count": 48,
   "metadata": {},
   "outputs": [
    {
     "data": {
      "text/plain": [
       "tensor([[  101,  2065,  1996,  2512, 10841, 14343,  3372,  7045,  4359,  2011,\n",
       "          5786,  3867,  1999,  2023, 10807,  2095,  1010,  2054,  2097,  2022,\n",
       "          1996,  3466,  2000,  7045,  1029,   102]])"
      ]
     },
     "execution_count": 48,
     "metadata": {},
     "output_type": "execute_result"
    }
   ],
   "source": [
    "bert_encodes['input_ids']"
   ]
  },
  {
   "cell_type": "code",
   "execution_count": 51,
   "metadata": {},
   "outputs": [],
   "source": [
    "from spacy.training import biluo_tags_to_spans, iob_to_biluo\n",
    "from tokenizations import get_alignments "
   ]
  },
  {
   "cell_type": "code",
   "execution_count": 56,
   "metadata": {},
   "outputs": [
    {
     "name": "stdout",
     "output_type": "stream",
     "text": [
      "['if', 'the', 'noncurrent', 'assets', 'reduced', 'by', '62', 'percent', 'in', 'this', 'fiscal', 'year', ',', 'what', 'will', 'be', 'the', 'effect', 'to', 'assets', '?']\n"
     ]
    }
   ],
   "source": [
    "spacy_tkns = tokenizer.spacy_tokenize(text)\n",
    "print(spacy_tkns)"
   ]
  },
  {
   "cell_type": "code",
   "execution_count": 61,
   "metadata": {},
   "outputs": [],
   "source": [
    "a2b, b2a = get_alignments(tkns, spacy_tkns)"
   ]
  },
  {
   "cell_type": "code",
   "execution_count": 64,
   "metadata": {},
   "outputs": [
    {
     "data": {
      "text/plain": [
       "[[0],\n",
       " [1],\n",
       " [2],\n",
       " [2],\n",
       " [2],\n",
       " [2],\n",
       " [3],\n",
       " [4],\n",
       " [5],\n",
       " [6],\n",
       " [7],\n",
       " [8],\n",
       " [9],\n",
       " [10],\n",
       " [11],\n",
       " [12],\n",
       " [13],\n",
       " [14],\n",
       " [15],\n",
       " [16],\n",
       " [17],\n",
       " [18],\n",
       " [19],\n",
       " [20]]"
      ]
     },
     "execution_count": 64,
     "metadata": {},
     "output_type": "execute_result"
    }
   ],
   "source": [
    "a2b"
   ]
  },
  {
   "cell_type": "code",
   "execution_count": 59,
   "metadata": {},
   "outputs": [
    {
     "name": "stdout",
     "output_type": "stream",
     "text": [
      "if O\n",
      "the O\n",
      "non B-BS\n",
      "##cu I-BS\n",
      "##rre I-BS\n",
      "##nt I-BS\n",
      "assets I-BS\n",
      "reduced B-APPLY\n",
      "by O\n",
      "62 B-PERCENT\n",
      "percent I-PERCENT\n",
      "in O\n",
      "this O\n",
      "fiscal B-TIME\n",
      "year I-TIME\n",
      ", O\n",
      "what O\n",
      "will O\n",
      "be O\n",
      "the O\n",
      "effect O\n",
      "to O\n",
      "assets B-BS\n",
      "? O\n"
     ]
    }
   ],
   "source": [
    "entities = []\n",
    "tkns = []\n",
    "tags = []\n",
    "cur_ent = ''\n",
    "for tkn_id, tag_id in zip(bert_encodes['input_ids'][0, 1:-1], o['tags_pred'][1:-1].tolist()):\n",
    "    tkn = tokenizer.bert_decode([tkn_id])\n",
    "    tag = id2tags.get(tag_id)\n",
    "    tags.append(tag)\n",
    "    tkns.append(tkn)\n",
    "    print(tkn, tag)\n",
    "    # if tag in ['O', '[PAD]']:\n",
    "    #     continue\n",
    "    \n",
    "    # scheme, ent = tag.split('-')\n",
    "    # if scheme == 'B' and cur_ent != ent:\n",
    "    #     txt = tkn\n",
    "    #     cur_ent = ent\n",
    "    # elif scheme == 'I':\n",
    "    #     if tkn.startswith('##'):\n",
    "    #         txt += tkn[2:]\n",
    "    #     else:\n",
    "    #         txt += f' {tkn}'\n",
    "    # else:\n",
    "    #     cur_ent = ''\n",
    "\n",
    "    # print(tag, txt)\n",
    "    # entities.append()\n"
   ]
  },
  {
   "cell_type": "code",
   "execution_count": 34,
   "metadata": {},
   "outputs": [
    {
     "data": {
      "text/plain": [
       "{'[UNK]': 100,\n",
       " '[SEP]': 102,\n",
       " '[PAD]': 0,\n",
       " '[CLS]': 101,\n",
       " '[MASK]': 103,\n",
       " 'O': 5,\n",
       " 'B-APPLY': 6,\n",
       " 'I-APPLY': 7,\n",
       " 'B-BS': 8,\n",
       " 'I-BS': 9,\n",
       " 'B-IS': 10,\n",
       " 'I-IS': 11,\n",
       " 'B-PERCENT': 12,\n",
       " 'I-PERCENT': 13,\n",
       " 'B-TIME': 14,\n",
       " 'I-TIME': 15}"
      ]
     },
     "execution_count": 34,
     "metadata": {},
     "output_type": "execute_result"
    }
   ],
   "source": [
    "tags2id"
   ]
  },
  {
   "cell_type": "code",
   "execution_count": 27,
   "metadata": {},
   "outputs": [
    {
     "name": "stdout",
     "output_type": "stream",
     "text": [
      "if \n",
      "the \n",
      "noncurrent \n",
      "assets \n",
      "reduced \n",
      "by \n",
      "62 PERCENT\n",
      "percent PERCENT\n",
      "in \n",
      "this DATE\n",
      "fiscal DATE\n",
      "year DATE\n",
      ", \n",
      "what \n",
      "will \n",
      "be \n",
      "the \n",
      "effect \n",
      "to \n",
      "assets \n",
      "? \n"
     ]
    }
   ],
   "source": [
    "doc = tokenizer.spacy_nlp(text)\n",
    "for x in doc:\n",
    "    print(x, x.ent_type_)"
   ]
  },
  {
   "cell_type": "code",
   "execution_count": 24,
   "metadata": {},
   "outputs": [
    {
     "data": {
      "text/plain": [
       "''"
      ]
     },
     "execution_count": 24,
     "metadata": {},
     "output_type": "execute_result"
    }
   ],
   "source": [
    "x.ent_type_"
   ]
  }
 ],
 "metadata": {
  "interpreter": {
   "hash": "ab7f212329a491b497f27876271d03c022f2dd26760015eef69af619991238fd"
  },
  "kernelspec": {
   "display_name": "Python 3.8.12 64-bit ('venv': conda)",
   "language": "python",
   "name": "python3"
  },
  "language_info": {
   "codemirror_mode": {
    "name": "ipython",
    "version": 3
   },
   "file_extension": ".py",
   "mimetype": "text/x-python",
   "name": "python",
   "nbconvert_exporter": "python",
   "pygments_lexer": "ipython3",
   "version": "3.8.12"
  },
  "orig_nbformat": 4
 },
 "nbformat": 4,
 "nbformat_minor": 2
}
