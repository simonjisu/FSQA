{
 "cells": [
  {
   "cell_type": "code",
   "execution_count": 8,
   "metadata": {},
   "outputs": [],
   "source": [
    "import sys\n",
    "\n",
    "from pathlib import Path\n",
    "main_path = Path().absolute().parent\n",
    "data_path = main_path / 'data'\n",
    "setting_path = main_path / 'setting_files'\n",
    "\n",
    "sys.path.append(str(main_path))\n",
    "\n",
    "import torch\n",
    "import yaml\n",
    "import json\n",
    "import pytorch_lightning as pl\n",
    "from pytorch_lightning import seed_everything\n",
    "\n",
    "from src.nlu_models import NLUModel\n",
    "from src.nlu_utils import NLUDataModule\n",
    "\n",
    "with (setting_path / 'train_settings.yml').open('r') as file:\n",
    "    settings = yaml.load(file, Loader=yaml.FullLoader)\n",
    "\n",
    "data_module_settings = settings['data_module']\n",
    "model_settings = settings['model']\n",
    "trainer_settings = settings['trainer']\n",
    "\n",
    "data_module = NLUDataModule(\n",
    "    train_path=data_path / data_module_settings['train_file'], \n",
    "    valid_path=data_path / data_module_settings['valid_file'],\n",
    "    test_path=data_path / data_module_settings['test_file'],\n",
    "    labels_path=data_path / data_module_settings['labels_file'],\n",
    "    batch_size=data_module_settings['batch_size'], \n",
    "    max_len=data_module_settings['max_len'],\n",
    "    num_workers=data_module_settings['num_workers'],\n",
    "    seed=settings['seed']\n",
    ")\n",
    "\n",
    "if model_settings.get('weight_file') is not None:\n",
    "    with (data_path / model_settings['weight_file']).open('r', encoding='utf-8') as file:\n",
    "        weight_dict = json.load(file)\n",
    "else:\n",
    "    weight_dict = None\n",
    "\n",
    "hparams = {\n",
    "    'stage': model_settings['stage'],\n",
    "    'model_path': model_settings['model_path'], \n",
    "    'intent_size': len(data_module.intents2id), \n",
    "    'tags_size': len(data_module.tags2id), \n",
    "    'lr': model_settings['lr'],\n",
    "    'weight_decay_rate': model_settings['weight_decay_rate'],\n",
    "    'loss_type': model_settings['loss_type'],\n",
    "    'multigpu': True if trainer_settings['n_gpus'] > 1 else False,\n",
    "    'weight_dict': weight_dict\n",
    "}\n",
    "for k, v in model_settings['schedular'].items():\n",
    "    hparams[f'schedular_{k}'] = v\n",
    "if model_settings['loss_type'] == 'focal':\n",
    "    for k, v in model_settings['focal'].items():\n",
    "        hparams[f'focal_{k}'] = v\n",
    "\n",
    "model_dict = {\n",
    "    0: '_l7_tk3_ce.ckpt',\n",
    "    1: '_l7_tk3_focal.ckpt',\n",
    "    2: '_l8_tk3_focal.ckpt'\n",
    "}\n",
    "\n",
    "# checkpoint_path = str(main_path / 'checkpoints' / 'nlu_simple' / 'best_model.ckpt')\n",
    "\n",
    "# seed_everything(seed=settings['seed'])\n",
    "# trainer = pl.Trainer(\n",
    "#     gpus=trainer_settings['n_gpus'], \n",
    "#     max_epochs=trainer_settings['n_epochs'], \n",
    "#     num_sanity_val_steps=trainer_settings['num_sanity_val_steps'],\n",
    "#     deterministic=True,\n",
    "# )\n",
    "# # checkpoint = torch.load(checkpoint_path)\n",
    "# model = NLUModel.load_from_checkpoint(checkpoint_path)\n",
    "# # model.load_state_dict(checkpoint['state_dict'])\n",
    "# model.eval()\n",
    "# print()"
   ]
  },
  {
   "cell_type": "code",
   "execution_count": 1,
   "metadata": {},
   "outputs": [
    {
     "data": {
      "text/plain": [
       "'ce_l7_tk3_0'"
      ]
     },
     "execution_count": 1,
     "metadata": {},
     "output_type": "execute_result"
    }
   ],
   "source": [
    "'x_ce_l7_tk3_0.yml'.rstrip('.yml').split('_', 1)[-1]"
   ]
  },
  {
   "cell_type": "code",
   "execution_count": 3,
   "metadata": {},
   "outputs": [],
   "source": [
    "from src.nlu_utils import NLUTokenizer\n",
    "\n",
    "tokenizer = NLUTokenizer()"
   ]
  },
  {
   "cell_type": "code",
   "execution_count": 4,
   "metadata": {},
   "outputs": [],
   "source": [
    "def predict(model, tokenizer, text):\n",
    "    bert_encodes = tokenizer(\n",
    "        text, \n",
    "        add_special_tokens=True, \n",
    "        truncation=True, \n",
    "        max_length=256,\n",
    "        return_tensors='pt'\n",
    "    )\n",
    "    output = model.predict(**bert_encodes)\n",
    "    return output"
   ]
  },
  {
   "cell_type": "code",
   "execution_count": 5,
   "metadata": {},
   "outputs": [],
   "source": [
    "data = {\"text\": \"current assets\"}\n",
    "text = data['text']\n",
    "bert_encodes = tokenizer(\n",
    "    text, \n",
    "    add_special_tokens=True, \n",
    "    truncation=True, \n",
    "    max_length=256,\n",
    "    return_tensors='pt'\n",
    ")\n",
    "# o = predict(model, tokenizer, text)\n",
    "# o"
   ]
  },
  {
   "cell_type": "code",
   "execution_count": 6,
   "metadata": {},
   "outputs": [],
   "source": [
    "o = model(**bert_encodes)"
   ]
  },
  {
   "cell_type": "code",
   "execution_count": 11,
   "metadata": {},
   "outputs": [
    {
     "data": {
      "text/plain": [
       "tensor(0)"
      ]
     },
     "execution_count": 11,
     "metadata": {},
     "output_type": "execute_result"
    }
   ],
   "source": [
    "o['intent'].argmax()"
   ]
  }
 ],
 "metadata": {
  "interpreter": {
   "hash": "ab7f212329a491b497f27876271d03c022f2dd26760015eef69af619991238fd"
  },
  "kernelspec": {
   "display_name": "Python 3.8.12 64-bit ('venv': conda)",
   "language": "python",
   "name": "python3"
  },
  "language_info": {
   "codemirror_mode": {
    "name": "ipython",
    "version": 3
   },
   "file_extension": ".py",
   "mimetype": "text/x-python",
   "name": "python",
   "nbconvert_exporter": "python",
   "pygments_lexer": "ipython3",
   "version": "3.8.12"
  },
  "orig_nbformat": 4
 },
 "nbformat": 4,
 "nbformat_minor": 2
}
