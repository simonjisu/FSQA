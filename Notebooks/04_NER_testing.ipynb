{
 "cells": [
  {
   "cell_type": "code",
   "execution_count": 1,
   "metadata": {},
   "outputs": [
    {
     "name": "stderr",
     "output_type": "stream",
     "text": [
      "Some weights of the model checkpoint at bert-base-uncased were not used when initializing BertForTokenClassification: ['cls.predictions.transform.LayerNorm.bias', 'cls.predictions.transform.dense.bias', 'cls.predictions.decoder.weight', 'cls.predictions.transform.LayerNorm.weight', 'cls.predictions.bias', 'cls.seq_relationship.bias', 'cls.predictions.transform.dense.weight', 'cls.seq_relationship.weight']\n",
      "- This IS expected if you are initializing BertForTokenClassification from the checkpoint of a model trained on another task or with another architecture (e.g. initializing a BertForSequenceClassification model from a BertForPreTraining model).\n",
      "- This IS NOT expected if you are initializing BertForTokenClassification from the checkpoint of a model that you expect to be exactly identical (initializing a BertForSequenceClassification model from a BertForSequenceClassification model).\n",
      "Some weights of BertForTokenClassification were not initialized from the model checkpoint at bert-base-uncased and are newly initialized: ['classifier.bias', 'classifier.weight']\n",
      "You should probably TRAIN this model on a down-stream task to be able to use it for predictions and inference.\n",
      "Global seed set to 777\n",
      "GPU available: True, used: True\n",
      "TPU available: False, using: 0 TPU cores\n",
      "IPU available: False, using: 0 IPUs\n"
     ]
    }
   ],
   "source": [
    "import sys\n",
    "\n",
    "from pathlib import Path\n",
    "main_path = Path().absolute().parent\n",
    "data_path = main_path / 'data'\n",
    "setting_path = main_path / 'setting_files'\n",
    "\n",
    "sys.path.append(str(main_path))\n",
    "\n",
    "import yaml\n",
    "import pytorch_lightning as pl\n",
    "from pytorch_lightning import seed_everything\n",
    "\n",
    "from src.nlu_models import NLUModel\n",
    "from src.nlu_utils import NLUDataModule\n",
    "\n",
    "with (setting_path / 'eval_settings.yml').open('r') as file:\n",
    "    settings = yaml.load(file, Loader=yaml.FullLoader)\n",
    "\n",
    "data_module = NLUDataModule(\n",
    "    train_path=data_path / settings['train_file'], \n",
    "    valid_path=data_path / settings['valid_file'],\n",
    "    test_path=data_path / settings['test_file'],\n",
    "    labels_path=data_path / settings['labels_file'],\n",
    "    batch_size=settings['batch_size'], \n",
    "    max_len=settings['max_len'],\n",
    "    num_workers=settings['num_workers'],\n",
    "    seed=settings['seed']\n",
    ")\n",
    "\n",
    "hparams = {\n",
    "    'stage': settings['stage'],\n",
    "    'model_path': settings['model_path'], \n",
    "    'intent_size': len(data_module.intents2id), \n",
    "    'tags_size': len(data_module.tags2id), \n",
    "    'max_len': settings['max_len'],\n",
    "    'lr': settings['lr'],\n",
    "    'weight_decay_rate': settings['weight_decay_rate'],\n",
    "    'loss_type': settings['loss_type'],\n",
    "    'multigpu': True if settings['n_gpus'] > 1 else False\n",
    "}\n",
    "\n",
    "checkpoint_path = str(main_path / 'checkpoints' / settings['exp_name'] / 'best_model.ckpt')\n",
    "\n",
    "model = NLUModel.load_from_checkpoint(checkpoint_path)\n",
    "model.eval()\n",
    "\n",
    "seed_everything(seed=settings['seed'])\n",
    "trainer = pl.Trainer(\n",
    "    gpus=settings['n_gpus'], \n",
    "    max_epochs=settings['n_epochs'], \n",
    "    num_sanity_val_steps=settings['num_sanity_val_steps'],\n",
    "    deterministic=True,\n",
    ")"
   ]
  },
  {
   "cell_type": "code",
   "execution_count": null,
   "metadata": {},
   "outputs": [],
   "source": [
    "# results = trainer.test(model, ckpt_path=checkpoint_path, datamodule=data_module)"
   ]
  },
  {
   "cell_type": "code",
   "execution_count": 2,
   "metadata": {},
   "outputs": [],
   "source": [
    "from src.nlu_utils import NLUTokenizer\n",
    "\n",
    "tokenizer = NLUTokenizer()"
   ]
  },
  {
   "cell_type": "code",
   "execution_count": 3,
   "metadata": {},
   "outputs": [],
   "source": [
    "def predict(model, tokenizer, text):\n",
    "    bert_encodes = tokenizer(\n",
    "        text, \n",
    "        add_special_tokens=True, \n",
    "        truncation=True, \n",
    "        max_length=256,\n",
    "        return_tensors='pt'\n",
    "    )\n",
    "    output = model.predict(**bert_encodes)\n",
    "    return output"
   ]
  },
  {
   "cell_type": "code",
   "execution_count": 4,
   "metadata": {},
   "outputs": [],
   "source": [
    "data = {\"text\": \"-- dhaka newsroom 880-2-506363\", \"entities\": [[3, 17, \"ORG\"]], \"intent\": \"None\"}\n",
    "text = data['text']"
   ]
  },
  {
   "cell_type": "code",
   "execution_count": 5,
   "metadata": {},
   "outputs": [
    {
     "name": "stderr",
     "output_type": "stream",
     "text": [
      "loading: 100%|██████████| 15220/15220 [00:00<00:00, 86238.31it/s]\n",
      "loading: 100%|██████████| 3060/3060 [00:00<00:00, 191766.83it/s]\n",
      "loading: 100%|██████████| 2996/2996 [00:00<00:00, 200263.51it/s]\n"
     ]
    }
   ],
   "source": [
    "data_module.prepare_data()\n",
    "train_dataset = data_module.create_dataset(data_module.train_data)"
   ]
  },
  {
   "cell_type": "code",
   "execution_count": 6,
   "metadata": {},
   "outputs": [],
   "source": [
    "import torch"
   ]
  },
  {
   "cell_type": "code",
   "execution_count": 7,
   "metadata": {},
   "outputs": [],
   "source": [
    "batch = {k: torch.as_tensor([train_dataset[0][k]]) for k in ['input_ids', 'token_type_ids', 'attention_mask']}"
   ]
  },
  {
   "cell_type": "code",
   "execution_count": 8,
   "metadata": {},
   "outputs": [],
   "source": [
    "o = model(**batch)"
   ]
  },
  {
   "cell_type": "code",
   "execution_count": 9,
   "metadata": {},
   "outputs": [
    {
     "data": {
      "text/plain": [
       "{'tags': tensor([[ 3.4260, -1.0233, -4.5061, -0.8361,  0.3515, -1.5198, -1.2052, -2.1704,\n",
       "          -0.9339, -1.4328, -0.7987, -0.9890, -1.0170, -0.4447, -0.3669,  0.1521,\n",
       "           0.9416,  0.2291,  0.6546,  0.1392, -0.5912, -0.5209, -0.8010],\n",
       "         [ 3.4260, -1.0233, -4.5061, -0.8361,  0.3515, -1.5198, -1.2052, -2.1704,\n",
       "          -0.9339, -1.4328, -0.7987, -0.9890, -1.0170, -0.4447, -0.3669,  0.1521,\n",
       "           0.9416,  0.2291,  0.6546,  0.1392, -0.5912, -0.5209, -0.8010],\n",
       "         [ 3.4260, -1.0233, -4.5061, -0.8361,  0.3515, -1.5198, -1.2052, -2.1704,\n",
       "          -0.9339, -1.4328, -0.7987, -0.9890, -1.0170, -0.4447, -0.3669,  0.1521,\n",
       "           0.9416,  0.2291,  0.6546,  0.1392, -0.5912, -0.5209, -0.8010],\n",
       "         [ 3.4260, -1.0233, -4.5061, -0.8361,  0.3515, -1.5198, -1.2052, -2.1704,\n",
       "          -0.9339, -1.4328, -0.7987, -0.9890, -1.0170, -0.4447, -0.3669,  0.1521,\n",
       "           0.9416,  0.2291,  0.6546,  0.1392, -0.5912, -0.5209, -0.8010],\n",
       "         [ 3.4260, -1.0233, -4.5061, -0.8361,  0.3515, -1.5198, -1.2052, -2.1704,\n",
       "          -0.9339, -1.4328, -0.7987, -0.9890, -1.0170, -0.4447, -0.3669,  0.1521,\n",
       "           0.9416,  0.2291,  0.6546,  0.1392, -0.5912, -0.5209, -0.8010],\n",
       "         [ 3.4260, -1.0233, -4.5061, -0.8361,  0.3515, -1.5198, -1.2052, -2.1704,\n",
       "          -0.9339, -1.4328, -0.7987, -0.9890, -1.0170, -0.4447, -0.3669,  0.1521,\n",
       "           0.9416,  0.2291,  0.6546,  0.1392, -0.5912, -0.5209, -0.8010],\n",
       "         [ 3.4260, -1.0233, -4.5061, -0.8361,  0.3515, -1.5198, -1.2052, -2.1704,\n",
       "          -0.9339, -1.4328, -0.7987, -0.9890, -1.0170, -0.4447, -0.3669,  0.1521,\n",
       "           0.9416,  0.2291,  0.6546,  0.1392, -0.5912, -0.5209, -0.8010],\n",
       "         [ 3.4260, -1.0233, -4.5061, -0.8361,  0.3515, -1.5198, -1.2052, -2.1704,\n",
       "          -0.9339, -1.4328, -0.7987, -0.9890, -1.0170, -0.4447, -0.3669,  0.1521,\n",
       "           0.9416,  0.2291,  0.6546,  0.1392, -0.5912, -0.5209, -0.8010],\n",
       "         [ 3.4260, -1.0233, -4.5061, -0.8361,  0.3515, -1.5198, -1.2052, -2.1704,\n",
       "          -0.9339, -1.4328, -0.7987, -0.9890, -1.0170, -0.4447, -0.3669,  0.1521,\n",
       "           0.9416,  0.2291,  0.6546,  0.1392, -0.5912, -0.5209, -0.8010],\n",
       "         [ 3.4260, -1.0233, -4.5061, -0.8361,  0.3515, -1.5198, -1.2052, -2.1704,\n",
       "          -0.9339, -1.4328, -0.7987, -0.9890, -1.0170, -0.4447, -0.3669,  0.1521,\n",
       "           0.9416,  0.2291,  0.6546,  0.1392, -0.5912, -0.5209, -0.8010],\n",
       "         [ 3.4260, -1.0233, -4.5061, -0.8361,  0.3515, -1.5198, -1.2052, -2.1704,\n",
       "          -0.9339, -1.4328, -0.7987, -0.9890, -1.0170, -0.4447, -0.3669,  0.1521,\n",
       "           0.9416,  0.2291,  0.6546,  0.1392, -0.5912, -0.5209, -0.8010],\n",
       "         [ 3.4260, -1.0233, -4.5061, -0.8361,  0.3515, -1.5198, -1.2052, -2.1704,\n",
       "          -0.9339, -1.4328, -0.7987, -0.9890, -1.0170, -0.4447, -0.3669,  0.1521,\n",
       "           0.9416,  0.2291,  0.6546,  0.1392, -0.5912, -0.5209, -0.8010]],\n",
       "        grad_fn=<ViewBackward0>),\n",
       " 'intent': tensor([[ 1.6666,  0.6649, -0.0307, -0.2821]], grad_fn=<AddmmBackward0>)}"
      ]
     },
     "execution_count": 9,
     "metadata": {},
     "output_type": "execute_result"
    }
   ],
   "source": [
    "o"
   ]
  },
  {
   "cell_type": "code",
   "execution_count": 7,
   "metadata": {},
   "outputs": [
    {
     "data": {
      "text/plain": [
       "{'tags': tensor([0, 0, 0, 0, 0, 0, 0, 0, 0, 0, 0, 0, 0, 0, 0]),\n",
       " 'intent': tensor([0])}"
      ]
     },
     "execution_count": 7,
     "metadata": {},
     "output_type": "execute_result"
    }
   ],
   "source": [
    "o = predict(model, tokenizer, text)\n",
    "o"
   ]
  },
  {
   "cell_type": "code",
   "execution_count": 17,
   "metadata": {},
   "outputs": [],
   "source": [
    "bert_encodes = tokenizer(\n",
    "    text, \n",
    "    add_special_tokens=True, \n",
    "    truncation=True, \n",
    "    max_length=256,\n",
    "    return_tensors='pt'\n",
    ")"
   ]
  },
  {
   "cell_type": "code",
   "execution_count": 10,
   "metadata": {},
   "outputs": [],
   "source": [
    "import torch.nn as nn\n",
    "ce = nn.CrossEntropyLoss(reduction='none')"
   ]
  },
  {
   "cell_type": "code",
   "execution_count": 11,
   "metadata": {},
   "outputs": [],
   "source": [
    "logits = torch.FloatTensor([\n",
    "    [9.3, -1.3, 0.14],\n",
    "    [1.5, 7.3, 5.4],\n",
    "    [9.3, -1.3, 0.14],\n",
    "])\n",
    "labels = torch.LongTensor([0, 0, 1])"
   ]
  },
  {
   "cell_type": "code",
   "execution_count": 33,
   "metadata": {},
   "outputs": [
    {
     "name": "stdout",
     "output_type": "stream",
     "text": [
      "[ 0.     5.942 10.6  ]\n",
      "[ 0.     2.699 10.521]\n"
     ]
    }
   ],
   "source": [
    "ce_loss = ce(logits, labels)\n",
    "pt = torch.exp(-ce_loss)\n",
    "gamma = 300\n",
    "alpha = 1\n",
    "loss = alpha * (1-pt)**gamma * ce_loss\n",
    "\n",
    "print(ce_loss.numpy().round(3))\n",
    "print(loss.numpy().round(3))"
   ]
  },
  {
   "cell_type": "code",
   "execution_count": 17,
   "metadata": {},
   "outputs": [],
   "source": []
  },
  {
   "cell_type": "code",
   "execution_count": 18,
   "metadata": {},
   "outputs": [],
   "source": [
    "o = model(**bert_encodes)"
   ]
  },
  {
   "cell_type": "code",
   "execution_count": 19,
   "metadata": {},
   "outputs": [
    {
     "data": {
      "text/plain": [
       "{'tags': tensor([[ 5.1541, -1.0479, -5.5954, -0.7491,  0.2225, -1.3268, -1.0800, -2.2567,\n",
       "          -1.1802, -1.4342, -1.0662, -1.1117, -1.1067, -0.4033, -0.5380,  0.2236,\n",
       "           0.8920,  0.1433,  0.0643,  0.4633, -0.2504, -0.2810, -1.0804],\n",
       "         [ 5.1541, -1.0479, -5.5954, -0.7491,  0.2225, -1.3268, -1.0800, -2.2567,\n",
       "          -1.1802, -1.4342, -1.0662, -1.1117, -1.1067, -0.4033, -0.5380,  0.2236,\n",
       "           0.8920,  0.1433,  0.0643,  0.4633, -0.2504, -0.2810, -1.0804],\n",
       "         [ 5.1541, -1.0479, -5.5954, -0.7491,  0.2225, -1.3268, -1.0799, -2.2567,\n",
       "          -1.1802, -1.4342, -1.0662, -1.1117, -1.1067, -0.4033, -0.5380,  0.2236,\n",
       "           0.8920,  0.1433,  0.0643,  0.4633, -0.2504, -0.2810, -1.0804],\n",
       "         [ 5.1541, -1.0479, -5.5954, -0.7491,  0.2225, -1.3268, -1.0799, -2.2567,\n",
       "          -1.1802, -1.4342, -1.0662, -1.1117, -1.1067, -0.4033, -0.5380,  0.2236,\n",
       "           0.8920,  0.1433,  0.0643,  0.4633, -0.2504, -0.2810, -1.0804],\n",
       "         [ 5.1541, -1.0479, -5.5954, -0.7491,  0.2225, -1.3268, -1.0800, -2.2567,\n",
       "          -1.1802, -1.4342, -1.0662, -1.1117, -1.1067, -0.4033, -0.5380,  0.2236,\n",
       "           0.8920,  0.1433,  0.0643,  0.4633, -0.2504, -0.2810, -1.0804],\n",
       "         [ 5.1541, -1.0479, -5.5954, -0.7491,  0.2225, -1.3268, -1.0799, -2.2567,\n",
       "          -1.1802, -1.4342, -1.0662, -1.1117, -1.1067, -0.4033, -0.5380,  0.2236,\n",
       "           0.8920,  0.1433,  0.0643,  0.4633, -0.2504, -0.2810, -1.0804],\n",
       "         [ 5.1541, -1.0479, -5.5954, -0.7491,  0.2225, -1.3268, -1.0799, -2.2567,\n",
       "          -1.1802, -1.4342, -1.0662, -1.1117, -1.1067, -0.4033, -0.5380,  0.2236,\n",
       "           0.8920,  0.1433,  0.0643,  0.4633, -0.2504, -0.2810, -1.0804],\n",
       "         [ 5.1541, -1.0479, -5.5954, -0.7491,  0.2225, -1.3268, -1.0800, -2.2567,\n",
       "          -1.1802, -1.4342, -1.0662, -1.1117, -1.1067, -0.4033, -0.5380,  0.2236,\n",
       "           0.8920,  0.1433,  0.0643,  0.4633, -0.2504, -0.2810, -1.0804],\n",
       "         [ 5.1541, -1.0479, -5.5954, -0.7491,  0.2225, -1.3268, -1.0800, -2.2567,\n",
       "          -1.1802, -1.4342, -1.0662, -1.1117, -1.1067, -0.4033, -0.5380,  0.2236,\n",
       "           0.8920,  0.1433,  0.0643,  0.4633, -0.2504, -0.2810, -1.0804],\n",
       "         [ 5.1541, -1.0479, -5.5954, -0.7491,  0.2225, -1.3268, -1.0799, -2.2567,\n",
       "          -1.1802, -1.4342, -1.0662, -1.1117, -1.1067, -0.4033, -0.5380,  0.2236,\n",
       "           0.8920,  0.1433,  0.0643,  0.4633, -0.2504, -0.2810, -1.0804],\n",
       "         [ 5.1541, -1.0479, -5.5954, -0.7491,  0.2225, -1.3268, -1.0799, -2.2567,\n",
       "          -1.1802, -1.4342, -1.0662, -1.1117, -1.1067, -0.4033, -0.5380,  0.2236,\n",
       "           0.8920,  0.1433,  0.0643,  0.4633, -0.2504, -0.2810, -1.0804],\n",
       "         [ 5.1541, -1.0479, -5.5954, -0.7491,  0.2225, -1.3268, -1.0800, -2.2567,\n",
       "          -1.1802, -1.4342, -1.0662, -1.1117, -1.1067, -0.4033, -0.5380,  0.2236,\n",
       "           0.8920,  0.1433,  0.0643,  0.4633, -0.2504, -0.2810, -1.0804],\n",
       "         [ 5.1541, -1.0479, -5.5954, -0.7491,  0.2225, -1.3268, -1.0799, -2.2567,\n",
       "          -1.1802, -1.4342, -1.0662, -1.1117, -1.1067, -0.4033, -0.5380,  0.2236,\n",
       "           0.8920,  0.1433,  0.0643,  0.4633, -0.2504, -0.2810, -1.0804],\n",
       "         [ 5.1541, -1.0479, -5.5954, -0.7491,  0.2225, -1.3268, -1.0799, -2.2567,\n",
       "          -1.1802, -1.4342, -1.0662, -1.1117, -1.1067, -0.4033, -0.5380,  0.2236,\n",
       "           0.8920,  0.1433,  0.0643,  0.4633, -0.2504, -0.2810, -1.0804],\n",
       "         [ 5.1541, -1.0479, -5.5954, -0.7491,  0.2225, -1.3268, -1.0800, -2.2567,\n",
       "          -1.1802, -1.4342, -1.0662, -1.1117, -1.1067, -0.4033, -0.5380,  0.2236,\n",
       "           0.8920,  0.1433,  0.0643,  0.4633, -0.2504, -0.2810, -1.0804],\n",
       "         [ 5.1541, -1.0479, -5.5954, -0.7491,  0.2225, -1.3268, -1.0800, -2.2567,\n",
       "          -1.1802, -1.4342, -1.0662, -1.1117, -1.1067, -0.4033, -0.5380,  0.2236,\n",
       "           0.8920,  0.1433,  0.0643,  0.4633, -0.2504, -0.2810, -1.0804],\n",
       "         [ 5.1541, -1.0479, -5.5954, -0.7491,  0.2225, -1.3268, -1.0800, -2.2567,\n",
       "          -1.1802, -1.4342, -1.0662, -1.1117, -1.1067, -0.4033, -0.5380,  0.2236,\n",
       "           0.8920,  0.1433,  0.0643,  0.4633, -0.2504, -0.2810, -1.0804]],\n",
       "        grad_fn=<ViewBackward0>),\n",
       " 'intent': tensor([[ 2.6366,  0.3670, -0.3705, -0.4842]], grad_fn=<AddmmBackward0>)}"
      ]
     },
     "execution_count": 19,
     "metadata": {},
     "output_type": "execute_result"
    }
   ],
   "source": [
    "o"
   ]
  },
  {
   "cell_type": "code",
   "execution_count": null,
   "metadata": {},
   "outputs": [],
   "source": []
  }
 ],
 "metadata": {
  "interpreter": {
   "hash": "ab7f212329a491b497f27876271d03c022f2dd26760015eef69af619991238fd"
  },
  "kernelspec": {
   "display_name": "Python 3.8.12 64-bit ('venv': conda)",
   "language": "python",
   "name": "python3"
  },
  "language_info": {
   "codemirror_mode": {
    "name": "ipython",
    "version": 3
   },
   "file_extension": ".py",
   "mimetype": "text/x-python",
   "name": "python",
   "nbconvert_exporter": "python",
   "pygments_lexer": "ipython3",
   "version": "3.8.12"
  },
  "orig_nbformat": 4
 },
 "nbformat": 4,
 "nbformat_minor": 2
}
