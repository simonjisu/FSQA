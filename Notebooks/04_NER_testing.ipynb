{
 "cells": [
  {
   "cell_type": "code",
   "execution_count": 41,
   "metadata": {},
   "outputs": [],
   "source": [
    "import sys\n",
    "from pathlib import Path\n",
    "main_path = Path().absolute().parent\n",
    "data_path = main_path / 'data'\n",
    "setting_path = main_path / 'setting_files'\n",
    "\n",
    "sys.path.append(str(main_path / 'src'))\n",
    "from collections import defaultdict\n",
    "\n",
    "import matplotlib.pyplot as plt\n",
    "import numpy as np\n",
    "import pandas as pd\n",
    "import torch\n",
    "import yaml\n",
    "import json\n",
    "from nlu_utils import NLUTokenizer\n",
    "from nlu_models import NLUModel\n",
    "from nlu_utils import NLUDataModule\n",
    "from tqdm.notebook import tqdm\n",
    "import seaborn as sns"
   ]
  },
  {
   "cell_type": "code",
   "execution_count": 2,
   "metadata": {},
   "outputs": [
    {
     "name": "stderr",
     "output_type": "stream",
     "text": [
      "loading: 100%|█████████████████████████████████████████████████████████████████| 6217/6217 [00:00<00:00, 164070.09it/s]\n",
      "loading: 100%|███████████████████████████████████████████████████████████████████| 691/691 [00:00<00:00, 173227.19it/s]\n",
      "loading: 100%|███████████████████████████████████████████████████████████████████| 364/364 [00:00<00:00, 179911.23it/s]\n",
      "Some weights of the model checkpoint at bert-base-uncased were not used when initializing BertModel: ['cls.predictions.transform.dense.weight', 'cls.predictions.transform.LayerNorm.weight', 'cls.seq_relationship.bias', 'cls.predictions.bias', 'cls.predictions.transform.dense.bias', 'cls.predictions.decoder.weight', 'cls.predictions.transform.LayerNorm.bias', 'cls.seq_relationship.weight']\n",
      "- This IS expected if you are initializing BertModel from the checkpoint of a model trained on another task or with another architecture (e.g. initializing a BertForSequenceClassification model from a BertForPreTraining model).\n",
      "- This IS NOT expected if you are initializing BertModel from the checkpoint of a model that you expect to be exactly identical (initializing a BertForSequenceClassification model from a BertForSequenceClassification model).\n"
     ]
    },
    {
     "data": {
      "application/vnd.jupyter.widget-view+json": {
       "model_id": "7792e2d444ea4da19bdcfc8026456015",
       "version_major": 2,
       "version_minor": 0
      },
      "text/plain": [
       "Testing: ce_l3_tk3_0:   0%|          | 0/6 [00:00<?, ?it/s]"
      ]
     },
     "metadata": {},
     "output_type": "display_data"
    },
    {
     "name": "stdout",
     "output_type": "stream",
     "text": [
      "END TEST\n"
     ]
    },
    {
     "name": "stderr",
     "output_type": "stream",
     "text": [
      "loading: 100%|█████████████████████████████████████████████████████████████████| 6218/6218 [00:00<00:00, 188932.07it/s]\n",
      "loading: 100%|███████████████████████████████████████████████████████████████████| 691/691 [00:00<00:00, 231861.13it/s]\n",
      "loading: 100%|███████████████████████████████████████████████████████████████████| 364/364 [00:00<00:00, 367001.60it/s]\n",
      "Some weights of the model checkpoint at bert-base-uncased were not used when initializing BertModel: ['cls.predictions.transform.dense.weight', 'cls.predictions.transform.LayerNorm.weight', 'cls.seq_relationship.bias', 'cls.predictions.bias', 'cls.predictions.transform.dense.bias', 'cls.predictions.decoder.weight', 'cls.predictions.transform.LayerNorm.bias', 'cls.seq_relationship.weight']\n",
      "- This IS expected if you are initializing BertModel from the checkpoint of a model trained on another task or with another architecture (e.g. initializing a BertForSequenceClassification model from a BertForPreTraining model).\n",
      "- This IS NOT expected if you are initializing BertModel from the checkpoint of a model that you expect to be exactly identical (initializing a BertForSequenceClassification model from a BertForSequenceClassification model).\n"
     ]
    },
    {
     "data": {
      "application/vnd.jupyter.widget-view+json": {
       "model_id": "eab718652829435292771a1d26b86c2b",
       "version_major": 2,
       "version_minor": 0
      },
      "text/plain": [
       "Testing: ce_l3_tk3_1:   0%|          | 0/6 [00:00<?, ?it/s]"
      ]
     },
     "metadata": {},
     "output_type": "display_data"
    },
    {
     "name": "stdout",
     "output_type": "stream",
     "text": [
      "END TEST\n"
     ]
    },
    {
     "name": "stderr",
     "output_type": "stream",
     "text": [
      "loading: 100%|██████████████████████████████████████████████████████████████████| 6218/6218 [00:00<00:00, 48330.73it/s]\n",
      "loading: 100%|███████████████████████████████████████████████████████████████████| 691/691 [00:00<00:00, 173227.19it/s]\n",
      "loading: 100%|███████████████████████████████████████████████████████████████████| 364/364 [00:00<00:00, 182513.65it/s]\n",
      "Some weights of the model checkpoint at bert-base-uncased were not used when initializing BertModel: ['cls.predictions.transform.dense.weight', 'cls.predictions.transform.LayerNorm.weight', 'cls.seq_relationship.bias', 'cls.predictions.bias', 'cls.predictions.transform.dense.bias', 'cls.predictions.decoder.weight', 'cls.predictions.transform.LayerNorm.bias', 'cls.seq_relationship.weight']\n",
      "- This IS expected if you are initializing BertModel from the checkpoint of a model trained on another task or with another architecture (e.g. initializing a BertForSequenceClassification model from a BertForPreTraining model).\n",
      "- This IS NOT expected if you are initializing BertModel from the checkpoint of a model that you expect to be exactly identical (initializing a BertForSequenceClassification model from a BertForSequenceClassification model).\n"
     ]
    },
    {
     "data": {
      "application/vnd.jupyter.widget-view+json": {
       "model_id": "732bd51d06d4439eac6b3615581019bf",
       "version_major": 2,
       "version_minor": 0
      },
      "text/plain": [
       "Testing: ce_l3_tk3_3:   0%|          | 0/6 [00:00<?, ?it/s]"
      ]
     },
     "metadata": {},
     "output_type": "display_data"
    },
    {
     "name": "stdout",
     "output_type": "stream",
     "text": [
      "END TEST\n"
     ]
    },
    {
     "name": "stderr",
     "output_type": "stream",
     "text": [
      "loading: 100%|███████████████████████████████████████████████████████████████| 23324/23324 [00:00<00:00, 125061.45it/s]\n",
      "loading: 100%|█████████████████████████████████████████████████████████████████| 2592/2592 [00:00<00:00, 259888.03it/s]\n",
      "loading: 100%|█████████████████████████████████████████████████████████████████| 1364/1364 [00:00<00:00, 227974.92it/s]\n",
      "Some weights of the model checkpoint at bert-base-uncased were not used when initializing BertModel: ['cls.predictions.transform.dense.weight', 'cls.predictions.transform.LayerNorm.weight', 'cls.seq_relationship.bias', 'cls.predictions.bias', 'cls.predictions.transform.dense.bias', 'cls.predictions.decoder.weight', 'cls.predictions.transform.LayerNorm.bias', 'cls.seq_relationship.weight']\n",
      "- This IS expected if you are initializing BertModel from the checkpoint of a model trained on another task or with another architecture (e.g. initializing a BertForSequenceClassification model from a BertForPreTraining model).\n",
      "- This IS NOT expected if you are initializing BertModel from the checkpoint of a model that you expect to be exactly identical (initializing a BertForSequenceClassification model from a BertForSequenceClassification model).\n"
     ]
    },
    {
     "data": {
      "application/vnd.jupyter.widget-view+json": {
       "model_id": "ef0daf78efff4a0b8c4b899f0d468215",
       "version_major": 2,
       "version_minor": 0
      },
      "text/plain": [
       "Testing: ce_l5_tk3_0:   0%|          | 0/22 [00:00<?, ?it/s]"
      ]
     },
     "metadata": {},
     "output_type": "display_data"
    },
    {
     "name": "stdout",
     "output_type": "stream",
     "text": [
      "END TEST\n"
     ]
    },
    {
     "name": "stderr",
     "output_type": "stream",
     "text": [
      "loading: 100%|███████████████████████████████████████████████████████████████| 23324/23324 [00:00<00:00, 119298.15it/s]\n",
      "loading: 100%|█████████████████████████████████████████████████████████████████| 2592/2592 [00:00<00:00, 236273.14it/s]\n",
      "loading: 100%|██████████████████████████████████████████████████████████████████| 1364/1364 [00:00<00:00, 16863.06it/s]\n",
      "Some weights of the model checkpoint at bert-base-uncased were not used when initializing BertModel: ['cls.predictions.transform.dense.weight', 'cls.predictions.transform.LayerNorm.weight', 'cls.seq_relationship.bias', 'cls.predictions.bias', 'cls.predictions.transform.dense.bias', 'cls.predictions.decoder.weight', 'cls.predictions.transform.LayerNorm.bias', 'cls.seq_relationship.weight']\n",
      "- This IS expected if you are initializing BertModel from the checkpoint of a model trained on another task or with another architecture (e.g. initializing a BertForSequenceClassification model from a BertForPreTraining model).\n",
      "- This IS NOT expected if you are initializing BertModel from the checkpoint of a model that you expect to be exactly identical (initializing a BertForSequenceClassification model from a BertForSequenceClassification model).\n"
     ]
    },
    {
     "data": {
      "application/vnd.jupyter.widget-view+json": {
       "model_id": "7245f0110de74d79b094eec9efbc7ab9",
       "version_major": 2,
       "version_minor": 0
      },
      "text/plain": [
       "Testing: ce_l5_tk3_1:   0%|          | 0/22 [00:00<?, ?it/s]"
      ]
     },
     "metadata": {},
     "output_type": "display_data"
    },
    {
     "name": "stdout",
     "output_type": "stream",
     "text": [
      "END TEST\n"
     ]
    },
    {
     "name": "stderr",
     "output_type": "stream",
     "text": [
      "loading: 100%|███████████████████████████████████████████████████████████████| 23323/23323 [00:00<00:00, 105818.44it/s]\n",
      "loading: 100%|█████████████████████████████████████████████████████████████████| 2592/2592 [00:00<00:00, 216579.40it/s]\n",
      "loading: 100%|█████████████████████████████████████████████████████████████████| 1364/1364 [00:00<00:00, 194447.37it/s]\n",
      "Some weights of the model checkpoint at bert-base-uncased were not used when initializing BertModel: ['cls.predictions.transform.dense.weight', 'cls.predictions.transform.LayerNorm.weight', 'cls.seq_relationship.bias', 'cls.predictions.bias', 'cls.predictions.transform.dense.bias', 'cls.predictions.decoder.weight', 'cls.predictions.transform.LayerNorm.bias', 'cls.seq_relationship.weight']\n",
      "- This IS expected if you are initializing BertModel from the checkpoint of a model trained on another task or with another architecture (e.g. initializing a BertForSequenceClassification model from a BertForPreTraining model).\n",
      "- This IS NOT expected if you are initializing BertModel from the checkpoint of a model that you expect to be exactly identical (initializing a BertForSequenceClassification model from a BertForSequenceClassification model).\n"
     ]
    },
    {
     "data": {
      "application/vnd.jupyter.widget-view+json": {
       "model_id": "51d7f77bf5ef40678631095da82d5923",
       "version_major": 2,
       "version_minor": 0
      },
      "text/plain": [
       "Testing: ce_l5_tk3_3:   0%|          | 0/22 [00:00<?, ?it/s]"
      ]
     },
     "metadata": {},
     "output_type": "display_data"
    },
    {
     "name": "stdout",
     "output_type": "stream",
     "text": [
      "END TEST\n"
     ]
    },
    {
     "name": "stderr",
     "output_type": "stream",
     "text": [
      "loading: 100%|█████████████████████████████████████████████████████████████| 242100/242100 [00:01<00:00, 150091.01it/s]\n",
      "loading: 100%|███████████████████████████████████████████████████████████████| 26901/26901 [00:00<00:00, 252018.55it/s]\n",
      "loading: 100%|███████████████████████████████████████████████████████████████| 14158/14158 [00:00<00:00, 240501.54it/s]\n",
      "Some weights of the model checkpoint at bert-base-uncased were not used when initializing BertModel: ['cls.predictions.transform.dense.weight', 'cls.predictions.transform.LayerNorm.weight', 'cls.seq_relationship.bias', 'cls.predictions.bias', 'cls.predictions.transform.dense.bias', 'cls.predictions.decoder.weight', 'cls.predictions.transform.LayerNorm.bias', 'cls.seq_relationship.weight']\n",
      "- This IS expected if you are initializing BertModel from the checkpoint of a model trained on another task or with another architecture (e.g. initializing a BertForSequenceClassification model from a BertForPreTraining model).\n",
      "- This IS NOT expected if you are initializing BertModel from the checkpoint of a model that you expect to be exactly identical (initializing a BertForSequenceClassification model from a BertForSequenceClassification model).\n"
     ]
    },
    {
     "data": {
      "application/vnd.jupyter.widget-view+json": {
       "model_id": "87f6b97a98ef46f496eb500aa621dbc0",
       "version_major": 2,
       "version_minor": 0
      },
      "text/plain": [
       "Testing: ce_l7_tk3_0:   0%|          | 0/222 [00:00<?, ?it/s]"
      ]
     },
     "metadata": {},
     "output_type": "display_data"
    },
    {
     "name": "stdout",
     "output_type": "stream",
     "text": [
      "END TEST\n"
     ]
    },
    {
     "name": "stderr",
     "output_type": "stream",
     "text": [
      "loading: 100%|█████████████████████████████████████████████████████████████| 242100/242100 [00:01<00:00, 136816.50it/s]\n",
      "loading: 100%|███████████████████████████████████████████████████████████████| 26900/26900 [00:00<00:00, 252051.97it/s]\n",
      "loading: 100%|███████████████████████████████████████████████████████████████| 14158/14158 [00:00<00:00, 244698.56it/s]\n",
      "Some weights of the model checkpoint at bert-base-uncased were not used when initializing BertModel: ['cls.predictions.transform.dense.weight', 'cls.predictions.transform.LayerNorm.weight', 'cls.seq_relationship.bias', 'cls.predictions.bias', 'cls.predictions.transform.dense.bias', 'cls.predictions.decoder.weight', 'cls.predictions.transform.LayerNorm.bias', 'cls.seq_relationship.weight']\n",
      "- This IS expected if you are initializing BertModel from the checkpoint of a model trained on another task or with another architecture (e.g. initializing a BertForSequenceClassification model from a BertForPreTraining model).\n",
      "- This IS NOT expected if you are initializing BertModel from the checkpoint of a model that you expect to be exactly identical (initializing a BertForSequenceClassification model from a BertForSequenceClassification model).\n"
     ]
    },
    {
     "data": {
      "application/vnd.jupyter.widget-view+json": {
       "model_id": "a7972a87812546ea9ef9a552e9a9af09",
       "version_major": 2,
       "version_minor": 0
      },
      "text/plain": [
       "Testing: ce_l7_tk3_1:   0%|          | 0/222 [00:00<?, ?it/s]"
      ]
     },
     "metadata": {},
     "output_type": "display_data"
    },
    {
     "name": "stdout",
     "output_type": "stream",
     "text": [
      "END TEST\n"
     ]
    },
    {
     "name": "stderr",
     "output_type": "stream",
     "text": [
      "loading: 100%|█████████████████████████████████████████████████████████████| 242100/242100 [00:01<00:00, 140832.63it/s]\n",
      "loading: 100%|████████████████████████████████████████████████████████████████| 26901/26901 [00:00<00:00, 98430.92it/s]\n",
      "loading: 100%|███████████████████████████████████████████████████████████████| 14158/14158 [00:00<00:00, 244759.07it/s]\n",
      "Some weights of the model checkpoint at bert-base-uncased were not used when initializing BertModel: ['cls.predictions.transform.dense.weight', 'cls.predictions.transform.LayerNorm.weight', 'cls.seq_relationship.bias', 'cls.predictions.bias', 'cls.predictions.transform.dense.bias', 'cls.predictions.decoder.weight', 'cls.predictions.transform.LayerNorm.bias', 'cls.seq_relationship.weight']\n",
      "- This IS expected if you are initializing BertModel from the checkpoint of a model trained on another task or with another architecture (e.g. initializing a BertForSequenceClassification model from a BertForPreTraining model).\n",
      "- This IS NOT expected if you are initializing BertModel from the checkpoint of a model that you expect to be exactly identical (initializing a BertForSequenceClassification model from a BertForSequenceClassification model).\n"
     ]
    },
    {
     "data": {
      "application/vnd.jupyter.widget-view+json": {
       "model_id": "f3f5e79a42d24f5faf3d9eafd547c8e4",
       "version_major": 2,
       "version_minor": 0
      },
      "text/plain": [
       "Testing: ce_l7_tk3_3:   0%|          | 0/222 [00:00<?, ?it/s]"
      ]
     },
     "metadata": {},
     "output_type": "display_data"
    },
    {
     "name": "stdout",
     "output_type": "stream",
     "text": [
      "END TEST\n"
     ]
    },
    {
     "name": "stderr",
     "output_type": "stream",
     "text": [
      "loading: 100%|█████████████████████████████████████████████████████████████████| 5084/5084 [00:00<00:00, 175820.33it/s]\n",
      "loading: 100%|███████████████████████████████████████████████████████████████████| 565/565 [00:00<00:00, 186979.78it/s]\n",
      "loading: 100%|███████████████████████████████████████████████████████████████████| 298/298 [00:00<00:00, 147411.56it/s]\n",
      "Some weights of the model checkpoint at bert-base-uncased were not used when initializing BertModel: ['cls.predictions.transform.dense.weight', 'cls.predictions.transform.LayerNorm.weight', 'cls.seq_relationship.bias', 'cls.predictions.bias', 'cls.predictions.transform.dense.bias', 'cls.predictions.decoder.weight', 'cls.predictions.transform.LayerNorm.bias', 'cls.seq_relationship.weight']\n",
      "- This IS expected if you are initializing BertModel from the checkpoint of a model trained on another task or with another architecture (e.g. initializing a BertForSequenceClassification model from a BertForPreTraining model).\n",
      "- This IS NOT expected if you are initializing BertModel from the checkpoint of a model that you expect to be exactly identical (initializing a BertForSequenceClassification model from a BertForSequenceClassification model).\n"
     ]
    },
    {
     "data": {
      "application/vnd.jupyter.widget-view+json": {
       "model_id": "446a274864ab4d7ea75e7eaa7286fb74",
       "version_major": 2,
       "version_minor": 0
      },
      "text/plain": [
       "Testing: ce_noaug:   0%|          | 0/5 [00:00<?, ?it/s]"
      ]
     },
     "metadata": {},
     "output_type": "display_data"
    },
    {
     "name": "stdout",
     "output_type": "stream",
     "text": [
      "END TEST\n"
     ]
    }
   ],
   "source": [
    "device = torch.device('cuda')\n",
    "data_dict = defaultdict(dict)\n",
    "\n",
    "for set_p in (setting_path.glob('x_ce*')):\n",
    "    with (set_p).open('r') as file:\n",
    "        settings = yaml.load(file, Loader=yaml.FullLoader)\n",
    "    \n",
    "    exp_name = set_p.name.lstrip('x_').rstrip('.yml')\n",
    "    data_module_settings = settings['data_module']\n",
    "    model_settings = settings['model']\n",
    "    trainer_settings = settings['trainer']\n",
    "\n",
    "    data_module = NLUDataModule(\n",
    "        train_path=data_path / data_module_settings['train_file'], \n",
    "        valid_path=data_path / data_module_settings['valid_file'],\n",
    "        test_path=data_path / data_module_settings['test_file'],\n",
    "        labels_path=data_path / data_module_settings['labels_file'],\n",
    "        batch_size=64, \n",
    "        max_len=data_module_settings['max_len'],\n",
    "        num_workers=0,\n",
    "        seed=settings['seed']\n",
    "    )\n",
    "    data_module.prepare_data()\n",
    "    ckpt_path = list((main_path / 'logs' / 'nlu_simple' / exp_name / 'checkpoints').glob('*.ckpt'))[0]\n",
    "    model = NLUModel.load_from_checkpoint(ckpt_path)\n",
    "    model.to(device)\n",
    "    data_dict[exp_name]['tags_pred'] = []\n",
    "    data_dict[exp_name]['tags_target'] = []\n",
    "    data_dict[exp_name]['intent_pred'] = []\n",
    "    data_dict[exp_name]['intent_target'] = []\n",
    "    test_loader = data_module.test_dataloader()\n",
    "    for x in tqdm(test_loader, total=len(test_loader), desc=f'Testing: {exp_name}'):\n",
    "        tags = x['tags'].view(-1).tolist()\n",
    "        intent = x['intent'].tolist()\n",
    "        test_inputs = {k: x[k].to(device) for k in ['input_ids', 'token_type_ids', 'attention_mask']}\n",
    "        o = model.predict(**test_inputs)\n",
    "        data_dict[exp_name]['tags_pred'].extend(o['tags'])\n",
    "        data_dict[exp_name]['tags_target'].extend(tags)\n",
    "        data_dict[exp_name]['intent_pred'].extend(o['intent'])\n",
    "        data_dict[exp_name]['intent_target'].extend(intent)\n",
    "    for k in ['tags_pred', 'tags_target', 'intent_pred', 'intent_target']:\n",
    "        data_dict[exp_name][k] = np.array(data_dict[exp_name][k])\n",
    "        \n",
    "    print(\"END TEST\")"
   ]
  },
  {
   "cell_type": "code",
   "execution_count": 150,
   "metadata": {},
   "outputs": [],
   "source": [
    "from sklearn.metrics import confusion_matrix\n",
    "\n",
    "def get_cfm(x, labels, typ):\n",
    "    cfm = confusion_matrix(x[f'{typ}_target'], x[f'{typ}_pred'], labels=range(len(labels)), normalize='true') * 100\n",
    "    df_cfm = pd.DataFrame(cfm, columns=labels, index=labels)\n",
    "    return df_cfm"
   ]
  },
  {
   "cell_type": "code",
   "execution_count": 151,
   "metadata": {},
   "outputs": [],
   "source": [
    "intent_labels = list(map(lambda x: x[0], sorted(data_module.intents2id.items(), key=lambda x: x[1])))\n",
    "tags_labels = list(map(lambda x: x[0], filter(lambda x: x[1] < 100, sorted(data_module.tags2id.items(), key=lambda x: x[1]))))\n",
    "\n",
    "for k, x in data_dict.items():\n",
    "    data_dict[k]['tags_cfm'] = get_cfm(x, labels=tags_labels, typ='tags')\n",
    "    data_dict[k]['intent_cfm'] = get_cfm(x, labels=intent_labels, typ='intent')"
   ]
  },
  {
   "cell_type": "code",
   "execution_count": 161,
   "metadata": {},
   "outputs": [
    {
     "name": "stderr",
     "output_type": "stream",
     "text": [
      "C:\\Users\\simon\\AppData\\Local\\Temp/ipykernel_3332/3946553898.py:16: UserWarning: This figure includes Axes that are not compatible with tight_layout, so results might be incorrect.\n",
      "  plt.tight_layout(rect=[0, 0, .9, 1])\n"
     ]
    },
    {
     "data": {
      "image/png": "[encoded data removed]",
      "text/plain": [
       "<Figure size 1296x1728 with 13 Axes>"
      ]
     },
     "metadata": {
      "needs_background": "light"
     },
     "output_type": "display_data"
    }
   ],
   "source": [
    "fig, axes = plt.subplots(4, 3, figsize=(18, 24))\n",
    "cbar_ax = fig.add_axes([.91, .3, .01, .4])\n",
    "key = 'tags_cfm'\n",
    "\n",
    "for i, ((k, x), ax) in enumerate(zip(data_dict.items(), axes.flatten())):\n",
    "    sns.heatmap(data_dict[k][key] , ax=ax, linewidths=.5, cmap='coolwarm', annot=True, fmt='.0f', cbar_ax=cbar_ax)\n",
    "    k_name = k.lstrip('ce_')\n",
    "    if len(k_name.split('_')) > 1:\n",
    "        *a, b = k_name.split('_')\n",
    "        title = '_'.join(a) + '_' + bert_m_dict[int(b)]\n",
    "    else:\n",
    "        title = k_name\n",
    "    \n",
    "    ax.set_title(f'{title} / # of tags: {len(data_dict[k][\"tags_target\"])}', fontsize=14)\n",
    "    \n",
    "plt.tight_layout(rect=[0, 0, .9, 1])\n",
    "axes[-1, 1].axis('off')\n",
    "axes[-1, 2].axis('off')\n",
    "plt.show()"
   ]
  },
  {
   "cell_type": "code",
   "execution_count": 162,
   "metadata": {},
   "outputs": [],
   "source": [
    "fig.savefig(main_path.parent / 'Test' / 'cf_tags.png')"
   ]
  },
  {
   "cell_type": "code",
   "execution_count": 163,
   "metadata": {},
   "outputs": [
    {
     "name": "stderr",
     "output_type": "stream",
     "text": [
      "C:\\Users\\simon\\AppData\\Local\\Temp/ipykernel_3332/2416294031.py:16: UserWarning: This figure includes Axes that are not compatible with tight_layout, so results might be incorrect.\n",
      "  plt.tight_layout(rect=[0, 0, .9, 1])\n"
     ]
    },
    {
     "data": {
      "image/png": "[encoded data removed]",
      "text/plain": [
       "<Figure size 1008x1296 with 13 Axes>"
      ]
     },
     "metadata": {
      "needs_background": "light"
     },
     "output_type": "display_data"
    }
   ],
   "source": [
    "fig, axes = plt.subplots(4, 3, figsize=(14, 18))\n",
    "cbar_ax = fig.add_axes([.91, .3, .01, .4])\n",
    "key = 'intent_cfm'\n",
    "\n",
    "for i, ((k, x), ax) in enumerate(zip(data_dict.items(), axes.flatten())):\n",
    "    sns.heatmap(data_dict[k][key] , ax=ax, linewidths=.5, cmap='coolwarm', annot=True, fmt='.0f', cbar_ax=cbar_ax)\n",
    "    k_name = k.lstrip('ce_')\n",
    "    if len(k_name.split('_')) > 1:\n",
    "        *a, b = k_name.split('_')\n",
    "        title = '_'.join(a) + '_' + bert_m_dict[int(b)]\n",
    "    else:\n",
    "        title = k_name\n",
    "    \n",
    "    ax.set_title(f'{title} / # of intents: {len(data_dict[k][\"intent_target\"])}', fontsize=14)\n",
    "    \n",
    "plt.tight_layout(rect=[0, 0, .9, 1])\n",
    "axes[-1, 1].axis('off')\n",
    "axes[-1, 2].axis('off')\n",
    "plt.show()"
   ]
  },
  {
   "cell_type": "code",
   "execution_count": 164,
   "metadata": {},
   "outputs": [],
   "source": [
    "fig.savefig(main_path.parent / 'Test' / 'cf_intent.png')"
   ]
  },
  {
   "cell_type": "code",
   "execution_count": 27,
   "metadata": {},
   "outputs": [],
   "source": [
    "fig, axes = plt.subplots(4, 3, figsize=(14, 18))\n",
    "cbar_ax = fig.add_axes([.91, .3, .01, .4])\n",
    "\n",
    "for i, ((k, x), ax) in enumerate(zip(data_dict.items(), axes.flatten())):\n",
    "    sns.heatmap((data_dict[k]['intent_cfm'] / data_dict[k]['intent_cfm'].max()).fillna(0.0), ax=ax, linewidths=.5, cmap='coolwarm', cbar_ax=cbar_ax)\n",
    "    k = k.lstrip('ce_')\n",
    "    if len(k.split('_')) > 1:\n",
    "        *a, b = k.split('_')\n",
    "        title = '_'.join(a) + '_' + bert_m_dict[int(b)]\n",
    "    else:\n",
    "        title = k\n",
    "    \n",
    "    ax.set_title(title, fontsize=14)\n",
    "    \n",
    "plt.tight_layout(rect=[0, 0, .9, 1])\n",
    "axes[-1, 1].axis('off')\n",
    "axes[-1, 2].axis('off')\n",
    "plt.show()"
   ]
  },
  {
   "cell_type": "code",
   "execution_count": 165,
   "metadata": {},
   "outputs": [
    {
     "data": {
      "text/plain": [
       "3.7510453522032807"
      ]
     },
     "execution_count": 165,
     "metadata": {},
     "output_type": "execute_result"
    }
   ],
   "source": [
    "23324 / 6218 "
   ]
  },
  {
   "cell_type": "code",
   "execution_count": 166,
   "metadata": {},
   "outputs": [
    {
     "data": {
      "text/plain": [
       "10.379866232207169"
      ]
     },
     "execution_count": 166,
     "metadata": {},
     "output_type": "execute_result"
    }
   ],
   "source": [
    "242100 / 23324"
   ]
  },
  {
   "cell_type": "code",
   "execution_count": 28,
   "metadata": {},
   "outputs": [],
   "source": [
    "tokenizer = NLUTokenizer()"
   ]
  },
  {
   "cell_type": "code",
   "execution_count": 7,
   "metadata": {},
   "outputs": [
    {
     "data": {
      "text/plain": [
       "'l3_tk3_0'"
      ]
     },
     "execution_count": 7,
     "metadata": {},
     "output_type": "execute_result"
    }
   ],
   "source": [
    "set_p.name.lstrip('x_ce_').rstrip('.yml')"
   ]
  },
  {
   "cell_type": "code",
   "execution_count": 16,
   "metadata": {},
   "outputs": [
    {
     "data": {
      "text/plain": [
       "WindowsPath('C:/Users/simon/Desktop/Codes/FSQA/logs/nlu_simple/ce_l3_tk3_0/checkpoints/epoch=35-step=251-val_loss=26.6686.ckpt')"
      ]
     },
     "execution_count": 16,
     "metadata": {},
     "output_type": "execute_result"
    }
   ],
   "source": [
    "list((main_path / 'logs' / 'nlu_simple' / exp_name / 'checkpoints').glob('*.ckpt'))[0]"
   ]
  },
  {
   "cell_type": "code",
   "execution_count": null,
   "metadata": {},
   "outputs": [],
   "source": [
    "with (setting_path / 'train_settings.yml').open('r') as file:\n",
    "    settings = yaml.load(file, Loader=yaml.FullLoader)\n",
    "\n",
    "\n",
    "\n"
   ]
  },
  {
   "cell_type": "code",
   "execution_count": 8,
   "metadata": {},
   "outputs": [],
   "source": [
    "test_results = defaultdict()\n",
    "checkpoint_paths = []\n",
    "for p in (main_path / 'logs' / 'nlu_simple').glob('*'):\n",
    "    if p.name == '.ipynb_checkpoints':\n",
    "        continue\n",
    "    checkpoint_paths.append(list((p / 'checkpoints').glob('*.ckpt'))[0])"
   ]
  },
  {
   "cell_type": "code",
   "execution_count": 10,
   "metadata": {},
   "outputs": [
    {
     "data": {
      "text/plain": [
       "[WindowsPath('C:/Users/simon/Desktop/Codes/FSQA/logs/nlu_simple/ce_l3_tk3_0/checkpoints/epoch=35-step=251-val_loss=26.6686.ckpt'),\n",
       " WindowsPath('C:/Users/simon/Desktop/Codes/FSQA/logs/nlu_simple/ce_l3_tk3_1/checkpoints/epoch=35-step=251-val_loss=24.6261.ckpt'),\n",
       " WindowsPath('C:/Users/simon/Desktop/Codes/FSQA/logs/nlu_simple/ce_l3_tk3_3/checkpoints/epoch=35-step=251-val_loss=28.7343.ckpt'),\n",
       " WindowsPath('C:/Users/simon/Desktop/Codes/FSQA/logs/nlu_simple/ce_l5_tk3_0/checkpoints/epoch=23-step=551-val_loss=4.2472.ckpt'),\n",
       " WindowsPath('C:/Users/simon/Desktop/Codes/FSQA/logs/nlu_simple/ce_l5_tk3_1/checkpoints/epoch=23-step=551-val_loss=4.0007.ckpt'),\n",
       " WindowsPath('C:/Users/simon/Desktop/Codes/FSQA/logs/nlu_simple/ce_l5_tk3_3/checkpoints/epoch=23-step=551-val_loss=4.4651.ckpt'),\n",
       " WindowsPath('C:/Users/simon/Desktop/Codes/FSQA/logs/nlu_simple/ce_l7_tk3_0/checkpoints/epoch=11-step=2843-val_loss=0.0171.ckpt'),\n",
       " WindowsPath('C:/Users/simon/Desktop/Codes/FSQA/logs/nlu_simple/ce_l7_tk3_1/checkpoints/epoch=11-step=2843-val_loss=0.0067.ckpt'),\n",
       " WindowsPath('C:/Users/simon/Desktop/Codes/FSQA/logs/nlu_simple/ce_l7_tk3_3/checkpoints/epoch=11-step=2843-val_loss=0.0101.ckpt'),\n",
       " WindowsPath('C:/Users/simon/Desktop/Codes/FSQA/logs/nlu_simple/ce_noaug/checkpoints/epoch=35-step=179-val_loss=36.4705.ckpt')]"
      ]
     },
     "execution_count": 10,
     "metadata": {},
     "output_type": "execute_result"
    }
   ],
   "source": [
    "for p in checkpoint_paths:\n",
    "    model = NLUModel.load_from_checkpoint(p)"
   ]
  },
  {
   "cell_type": "code",
   "execution_count": null,
   "metadata": {},
   "outputs": [],
   "source": [
    "\n",
    "\n",
    "checkpoint_path = str(main_path / 'logs' / 'nlu_simple' / s[0] / 'checkpoints' / s[1])"
   ]
  },
  {
   "cell_type": "code",
   "execution_count": 2,
   "metadata": {},
   "outputs": [
    {
     "name": "stdout",
     "output_type": "stream",
     "text": [
      "('ce_l7_tk3_3', 'best_model.ckpt')\n"
     ]
    },
    {
     "name": "stderr",
     "output_type": "stream",
     "text": [
      "Some weights of the model checkpoint at bert-base-uncased were not used when initializing BertModel: ['cls.predictions.transform.dense.weight', 'cls.predictions.bias', 'cls.predictions.transform.LayerNorm.bias', 'cls.seq_relationship.weight', 'cls.predictions.decoder.weight', 'cls.predictions.transform.LayerNorm.weight', 'cls.predictions.transform.dense.bias', 'cls.seq_relationship.bias']\n",
      "- This IS expected if you are initializing BertModel from the checkpoint of a model trained on another task or with another architecture (e.g. initializing a BertForSequenceClassification model from a BertForPreTraining model).\n",
      "- This IS NOT expected if you are initializing BertModel from the checkpoint of a model that you expect to be exactly identical (initializing a BertForSequenceClassification model from a BertForSequenceClassification model).\n"
     ]
    }
   ],
   "source": [
    "s = ('ce_l7_tk3_3', 'best_model.ckpt')\n",
    "print(s)\n",
    "checkpoint_path = str(main_path / 'logs' / 'nlu_simple' / s[0] / 'checkpoints' / s[1])\n",
    "model = NLUModel.load_from_checkpoint(checkpoint_path)"
   ]
  },
  {
   "cell_type": "code",
   "execution_count": 190,
   "metadata": {},
   "outputs": [],
   "source": [
    "from spacy.training import biluo_tags_to_spans, iob_to_biluo\n",
    "from tokenizations import get_alignments \n",
    "from spacy.training import biluo_tags_to_offsets\n",
    "import pandas as pd\n",
    "\n",
    "with (data_path / 'labels_simple.json').open('r', encoding='utf-8') as file:\n",
    "    ls = json.load(file)\n",
    "tags2id = ls['tags']\n",
    "intent2id = ls['intent']\n",
    "id2tags = {v: k for k, v in ls['tags'].items()}\n",
    "id2intent = {v: k for k, v in ls['intent'].items()}\n",
    "\n",
    "from sparql import SparqlHandler, convert_to_string\n",
    "\n",
    "sparql = SparqlHandler(data_path / 'AccountRDF.xml')\n",
    "bs_role = sparql.get_role_dict('BS')\n",
    "is_role = sparql.get_role_dict('IS')\n",
    "bs_role_revserse = sparql.get_role_dict('BSR')\n",
    "is_role_revserse = sparql.get_role_dict('ISR')"
   ]
  },
  {
   "cell_type": "code",
   "execution_count": 174,
   "metadata": {},
   "outputs": [],
   "source": [
    "data = {\n",
    "    0: 'How was the profit in the last year?',\n",
    "    1: \"if the noncurrent assets reduced by 62 percent in this fiscal year, what will be the effect to assets?\",\n",
    "    2: \"What will be our revenue in 4th quarter?\",\n",
    "    3: \"How is going to be about the revenue when the cost of sales increases by 20% in the previous year?\"\n",
    "}\n",
    "text = data[3]\n",
    "bert_encodes = tokenizer(\n",
    "    text, \n",
    "    add_special_tokens=True, \n",
    "    truncation=True, \n",
    "    max_length=64,\n",
    "    return_tensors='pt'\n",
    ")\n",
    "# o = model(**bert_encodes)\n",
    "o = model.predict(**bert_encodes)"
   ]
  },
  {
   "cell_type": "markdown",
   "metadata": {},
   "source": [
    "# DONE"
   ]
  },
  {
   "cell_type": "code",
   "execution_count": 176,
   "metadata": {},
   "outputs": [],
   "source": [
    "intent = list(map(id2intent.get, o['intent']))[0]\n",
    "tags = list(map(id2tags.get, o['tags']))\n",
    "\n",
    "bert_tkns = [s.lstrip('##') for s in tokenizer.bert_tokenize(text)]\n",
    "spacy_tkns = tokenizer.spacy_tokenize(text)\n",
    "biluo_tags = iob_to_biluo(tags[1:-1])"
   ]
  },
  {
   "cell_type": "code",
   "execution_count": 177,
   "metadata": {},
   "outputs": [
    {
     "data": {
      "text/plain": [
       "defaultdict(None,\n",
       "            {'tags': defaultdict(None,\n",
       "                         {'APPLY': 'increase',\n",
       "                          'PERCENT': '20 %',\n",
       "                          'TIME': 'previous year',\n",
       "                          'ACCOUNTS': [('revenue', 'IS'),\n",
       "                           ('cost of sale', 'IS')]}),\n",
       "             'intent': 'IF.fact'})"
      ]
     },
     "execution_count": 177,
     "metadata": {},
     "output_type": "execute_result"
    }
   ],
   "source": [
    "a2b, b2a = get_alignments(bert_tkns, spacy_tkns)\n",
    "mapped_tags = []\n",
    "for i, tkn in enumerate(spacy_tkns):\n",
    "    mapped_tkn_ids = b2a[i]\n",
    "    ts = [biluo_tags[j] for j in mapped_tkn_ids]\n",
    "    mapped_tags.append(ts[0])\n",
    "doc = tokenizer.spacy_nlp(text)\n",
    "\n",
    "# bert_ents = [('O', '') if t == 'O' else t.split('-') for t in mapped_tags]\n",
    "# spacy_ents = iob_to_biluo([x.ent_iob_ if x.ent_iob_ == 'O' else f'{x.ent_iob_}-{x.ent_type_}' for x in doc])\n",
    "# spacy_ents = [x.replace('DATE', 'TIME') for x in spacy_ents]\n",
    "# spacy_ents = [('O', '') if t == 'O' else t.split('-') for t in spacy_ents]\n",
    "# for i, (b_ent, s_ent) in enumerate(zip(bert_ents, spacy_ents)):\n",
    "#     if b_ent[1] == '' and s_ent[1] != '':\n",
    "#         bert_ents[i] = s_ent\n",
    "#     elif b_ent[1] == s_ent[1] and b_ent[0] != s_ent[0]:\n",
    "#         bert_ents[i] = s_ent\n",
    "# print(list(map(lambda x: x[0] if x[0] == 'O' else '-'.join(x), bert_ents)))\n",
    "# print(list(map(lambda x: x[0] if x[0] == 'O' else '-'.join(x), spacy_ents)))\n",
    "# ensembled_tags = list(map(lambda x: x[0] if x[0] == 'O' else '-'.join(x), bert_ents))\n",
    "ensembled_tags = mapped_tags\n",
    "doc.ents = biluo_tags_to_spans(doc, ensembled_tags)\n",
    "\n",
    "entities = []\n",
    "for s, e, ent in biluo_tags_to_offsets(doc, ensembled_tags):\n",
    "    lemma = ' '.join([x.lemma_ for x in tokenizer.spacy_nlp(text[s:e])])\n",
    "    entities.append((lemma, ent.upper()))\n",
    "\n",
    "nlu_results = defaultdict()\n",
    "nlu_results['tags'] = defaultdict()\n",
    "nlu_results['intent'] = None if intent == 'None' else intent\n",
    "accounts = []\n",
    "for word, tag in entities:\n",
    "    if tag in ['BS', 'IS']:\n",
    "        accounts.append((word, tag))\n",
    "    else:\n",
    "        nlu_results['tags'][tag] = word\n",
    "\n",
    "nlu_results['tags']['ACCOUNTS'] = accounts\n",
    "nlu_results"
   ]
  },
  {
   "cell_type": "markdown",
   "metadata": {},
   "source": [
    "after nlu module"
   ]
  },
  {
   "cell_type": "code",
   "execution_count": 183,
   "metadata": {},
   "outputs": [],
   "source": [
    "df = pd.read_csv(data_path / 'AccountWords.csv', encoding='utf-8')\n",
    "words_dict = defaultdict(set)\n",
    "for typ in ['year', 'quarter', 'words']:\n",
    "    df_temp = df.loc[:, [typ, f'{typ}_tag', f'{typ}_desc']]\n",
    "    df_temp = df_temp.loc[~df_temp[typ].isna(), :]\n",
    "    for _, (w, t, desc) in df_temp.iterrows():\n",
    "        if typ in ['year', 'quarter']:\n",
    "            words_dict['TIME'].add((tokenizer.spacy_lemma(w), desc))\n",
    "        else:\n",
    "            words_dict['APPLY'].add((tokenizer.spacy_lemma(w), desc))\n",
    "\n",
    "\n",
    "df_account = pd.read_csv(data_path / 'AccountName.csv', encoding='utf-8')\n",
    "is_account_names = []\n",
    "bs_account_names = []\n",
    "eng2acc = defaultdict()\n",
    "for _, row in df_account.iterrows():\n",
    "    acc = row['acc']\n",
    "    eng = row['acc_name_eng']\n",
    "    knowledge = row['group'].split('-')[0]\n",
    "    \n",
    "    eng_lemma = tokenizer.spacy_lemma(eng.lower())\n",
    "    if knowledge == 'IS':\n",
    "        is_account_names.append(eng)\n",
    "    elif knowledge == 'BS':\n",
    "        bs_account_names.append(eng)\n",
    "    eng2acc[eng_lemma] = acc"
   ]
  },
  {
   "cell_type": "code",
   "execution_count": 185,
   "metadata": {},
   "outputs": [],
   "source": [
    "tags = nlu_results['tags']\n",
    "# tags = {'APPLY': 'increase', 'PERCENT': '10 %', 'ACCOUNTS': [('operate income', 'IS'), ('cost of sale', 'IS')]}"
   ]
  },
  {
   "cell_type": "code",
   "execution_count": 186,
   "metadata": {},
   "outputs": [
    {
     "name": "stdout",
     "output_type": "stream",
     "text": [
      "Revenue IS\n",
      "CostOfSales IS\n"
     ]
    }
   ],
   "source": [
    "for acc_name, knowlegde in tags.get('ACCOUNTS'):\n",
    "    acc = eng2acc[acc_name]\n",
    "    print(acc, knowlegde)"
   ]
  },
  {
   "cell_type": "code",
   "execution_count": 187,
   "metadata": {},
   "outputs": [
    {
     "data": {
      "text/plain": [
       "('Revenue', 'CostOfSales')"
      ]
     },
     "execution_count": 187,
     "metadata": {},
     "output_type": "execute_result"
    }
   ],
   "source": [
    "accs = tags.get('ACCOUNTS')\n",
    "a_acc_name, a_knowledge = accs[0]\n",
    "a_acc = eng2acc[a_acc_name]\n",
    "b_acc_name, b_knowledge = accs[1]\n",
    "b_acc = eng2acc[b_acc_name]\n",
    "a_acc, b_acc"
   ]
  },
  {
   "cell_type": "code",
   "execution_count": 195,
   "metadata": {},
   "outputs": [],
   "source": [
    "def check(role_dict, acc, trg_acc):\n",
    "    print(f\"{acc} _> {trg_acc}\")\n",
    "    if trg_acc in role_dict[acc]:\n",
    "        return True\n",
    "    \n",
    "    for sub_acc in role_dict[acc]:\n",
    "        print(f'-- {sub_acc}')\n",
    "        o = check(role_dict, sub_acc, trg_acc)\n",
    "        if o:\n",
    "            return o\n",
    "    else:\n",
    "        return False"
   ]
  },
  {
   "cell_type": "code",
   "execution_count": 188,
   "metadata": {},
   "outputs": [],
   "source": [
    "def get_target_subject_accounts(role_dict, a_acc, b_acc, a_knowledge, b_knowledge):\n",
    "    def check(role_dict, acc, trg_acc):\n",
    "        if trg_acc in role_dict[acc]:\n",
    "            return True\n",
    "        \n",
    "        for sub_acc in role_dict[acc]:\n",
    "            o = check(role_dict, sub_acc, trg_acc)\n",
    "            if o:\n",
    "                return o\n",
    "        else:\n",
    "            return False\n",
    "\n",
    "    target_account, subject_account = None, None\n",
    "    if check(role_dict, a_acc, b_acc):\n",
    "        target_account = f'{a_knowledge}.{a_acc}'\n",
    "        subject_account = f'{b_knowledge}.{b_acc}'\n",
    "\n",
    "    if check(role_dict, b_acc, a_acc):\n",
    "        target_account = f'{b_knowledge}.{b_acc}'\n",
    "        subject_account = f'{a_knowledge}.{a_acc}'\n",
    "\n",
    "    return target_account, subject_account"
   ]
  },
  {
   "cell_type": "code",
   "execution_count": 196,
   "metadata": {},
   "outputs": [
    {
     "data": {
      "text/plain": [
       "(None, None)"
      ]
     },
     "execution_count": 196,
     "metadata": {},
     "output_type": "execute_result"
    }
   ],
   "source": [
    "get_target_subject_accounts(is_role, a_acc, b_acc, a_knowledge, b_knowledge)"
   ]
  },
  {
   "cell_type": "code",
   "execution_count": 198,
   "metadata": {},
   "outputs": [
    {
     "data": {
      "text/plain": [
       "defaultdict(list,\n",
       "            {'GrossProfit': ['Revenue', 'CostOfSales'],\n",
       "             'CostOfSalesRatio': ['Revenue', 'CostOfSales'],\n",
       "             'SellingGeneralAdministrativeRatio': ['Revenue',\n",
       "              'SellingGeneralAdministrativeExpenses'],\n",
       "             'ProfitRatio': ['Revenue', 'Profit'],\n",
       "             'OperatingIncome': ['GrossProfit',\n",
       "              'SellingGeneralAdministrativeExpenses'],\n",
       "             'ProfitBeforeTax': ['OperatingIncome',\n",
       "              'FinanceIncome',\n",
       "              'FinancialExpenses'],\n",
       "             'Profit': ['ProfitBeforeTax', 'IncomeTaxExpense'],\n",
       "             'IncomeTaxRatio': ['ProfitBeforeTax', 'IncomeTaxExpense'],\n",
       "             'IncomeStatement': ['Profit'],\n",
       "             'SalesAndSellingGeneralAdministrativeRatio': ['CostOfSalesRatio',\n",
       "              'SellingGeneralAdministrativeRatio'],\n",
       "             'Ratios': ['CostOfSalesRatio',\n",
       "              'SellingGeneralAdministrativeRatio',\n",
       "              'SalesAndSellingGeneralAdministrativeRatio',\n",
       "              'IncomeTaxRatio',\n",
       "              'ProfitRatio'],\n",
       "             'Revenue': [],\n",
       "             'CostOfSales': []})"
      ]
     },
     "execution_count": 198,
     "metadata": {},
     "output_type": "execute_result"
    }
   ],
   "source": [
    "is_role"
   ]
  },
  {
   "cell_type": "code",
   "execution_count": 197,
   "metadata": {},
   "outputs": [
    {
     "name": "stdout",
     "output_type": "stream",
     "text": [
      "Revenue _> CostOfSales\n"
     ]
    },
    {
     "data": {
      "text/plain": [
       "False"
      ]
     },
     "execution_count": 197,
     "metadata": {},
     "output_type": "execute_result"
    }
   ],
   "source": [
    "check(is_role, a_acc, b_acc)"
   ]
  },
  {
   "cell_type": "markdown",
   "metadata": {},
   "source": [
    "# TODO"
   ]
  },
  {
   "cell_type": "code",
   "execution_count": 175,
   "metadata": {},
   "outputs": [],
   "source": [
    "def get_role_dict(knowledge):\n",
    "    knowledge_query = sparql.get_predefined_knowledge(knowledge=knowledge)\n",
    "    sparql_results = sparql.query(knowledge_query)\n",
    "    role_dict = defaultdict(list)\n",
    "    for s, p, o in sparql_results:\n",
    "        s, p, o = map(convert_to_string, [s, p, o])\n",
    "        if s == 'CalendarOneYear' or o == 'CalendarOneYear':\n",
    "            continue\n",
    "        if s not in role_dict[o]:\n",
    "            role_dict[o].append(s)\n",
    "        \n",
    "    return role_dict\n",
    "\n",
    "def check(role_dict, acc, trg_acc):\n",
    "    if trg_acc in role_dict[acc]:\n",
    "        return True\n",
    "    \n",
    "    for sub_acc in role_dict[acc]:\n",
    "        o = check(role_dict, sub_acc, trg_acc)\n",
    "        if o:\n",
    "            return o\n",
    "    else:\n",
    "        return False"
   ]
  },
  {
   "cell_type": "code",
   "execution_count": 155,
   "metadata": {},
   "outputs": [],
   "source": [
    "key_information = {\n",
    "\"intent\":\"PAST.value\",\n",
    "\"target_account\":\"IS.Revenue\",\n",
    "\"year\":2020,\n",
    "\"quarter\":\"4Q\"\n",
    "}\n",
    "# key_information = {\n",
    "# \"intent\":\"IF.fact\",\n",
    "# \"year\":2020,\n",
    "# \"quarter\":\"4Q\",\n",
    "# \"target_account\":\"IS.OperatingIncome\",\n",
    "# \"subject_account\":\"IS.CostOfSales\",\n",
    "# \"subject_apply\":[\"*\",1.1]\n",
    "# }\n"
   ]
  },
  {
   "cell_type": "code",
   "execution_count": 157,
   "metadata": {},
   "outputs": [],
   "source": [
    "intent = key_information['intent']\n",
    "knowledge, account = key_information['target_account'].split('.')\n",
    "year = key_information['year']\n",
    "quarter = key_information['quarter']\n",
    "# sub_account = {key_information['subject_account'].split('.')[1]: key_information['subject_apply']}\n",
    "sub_account = None"
   ]
  },
  {
   "cell_type": "code",
   "execution_count": 158,
   "metadata": {},
   "outputs": [
    {
     "name": "stdout",
     "output_type": "stream",
     "text": [
      "What happens to the operating income when the cost of sales increases by 10% in the current year?\n",
      "{'intent': 'PAST.value', 'target_account': 'IS.Revenue', 'year': 2020, 'quarter': '4Q'}\n"
     ]
    }
   ],
   "source": [
    "from ontology import GraphDrawer\n",
    "from utils import convert_to_string\n",
    "import networkx as nx\n",
    "import matplotlib.pyplot as plt \n",
    "graph_drawer = GraphDrawer()\n",
    "sparql = SparqlHandler(data_path / 'AccountRDF.xml')\n",
    "df_account = pd.read_csv(data_path / 'AccountName.csv', encoding='utf-8')\n",
    "ACC_DICT = defaultdict(dict)\n",
    "for _, row in df_account.iterrows():\n",
    "    acc = row['acc']\n",
    "    eng = row['acc_name_eng']\n",
    "    kor = row['acc_name_kor']\n",
    "    group = row['group']\n",
    "    ACC_DICT[acc]['kor_name'] = kor\n",
    "    ACC_DICT[acc]['eng_name'] = eng\n",
    "    ACC_DICT[acc]['group'] = group\n",
    "\n",
    "query_statement = \"\"\"\n",
    "SELECT ?s ?p ?literal \n",
    "WHERE { \n",
    "    ?s a acc:Account . \n",
    "    VALUES ?p { acc:Account_Property acc:Account_Level } \n",
    "    ?s ?p ?literal .\n",
    "}\n",
    "\"\"\"\n",
    "qres = sparql.query(query_statement)\n",
    "for src, link, trg in qres:\n",
    "    src = convert_to_string(src)\n",
    "    link = convert_to_string(link)\n",
    "    trg = convert_to_string(trg)\n",
    "    ACC_DICT[src][link] = trg\n",
    "\n",
    "print(text)\n",
    "print(key_information)\n",
    "\n",
    "from db import DBHandler\n",
    "from psycopg import sql\n",
    "\n",
    "db_settings = {\n",
    "  'dbname': 'fsqa',\n",
    "  'host': 'localhost',\n",
    "  'user': 'postgres',\n",
    "  'password': '1234',\n",
    "  'port': 5432\n",
    "}\n",
    "db = DBHandler(db_settings)"
   ]
  },
  {
   "cell_type": "code",
   "execution_count": 171,
   "metadata": {},
   "outputs": [
    {
     "name": "stdout",
     "output_type": "stream",
     "text": [
      "{'Revenue': []}\n"
     ]
    }
   ],
   "source": [
    "knowledge_query = sparql.get_predefined_knowledge(knowledge=knowledge+'R')\n",
    "results = sparql.query(knowledge_query)\n",
    "nx_graph = graph_drawer.get_nx_graph(results, acc_dict=ACC_DICT)\n",
    "sub_tree = nx.bfs_successors(nx_graph, source=account)\n",
    "sub_tree = dict(sub_tree)\n",
    "print(sub_tree)\n",
    "sparql_results = sparql.get_sub_tree_relations(dict(sub_tree))"
   ]
  },
  {
   "cell_type": "code",
   "execution_count": 173,
   "metadata": {},
   "outputs": [
    {
     "data": {
      "text/plain": [
       "[]"
      ]
     },
     "execution_count": 173,
     "metadata": {},
     "output_type": "execute_result"
    }
   ],
   "source": [
    "list(sparql_results)"
   ]
  },
  {
   "cell_type": "code",
   "execution_count": 85,
   "metadata": {},
   "outputs": [],
   "source": [
    "# fig, ax = plt.subplots(1, 1, figsize=(12, 12))\n",
    "# nx.draw_networkx(nx_graph, ax=ax)"
   ]
  },
  {
   "cell_type": "code",
   "execution_count": 160,
   "metadata": {},
   "outputs": [
    {
     "data": {
      "text/plain": [
       "[]"
      ]
     },
     "execution_count": 160,
     "metadata": {},
     "output_type": "execute_result"
    }
   ],
   "source": [
    "sparql_results = list(map(lambda x: tuple(convert_to_string(acc) for acc in x), list(sparql_results)))\n",
    "sparql_results"
   ]
  },
  {
   "cell_type": "code",
   "execution_count": 161,
   "metadata": {},
   "outputs": [],
   "source": [
    "role_dict = defaultdict(list)\n",
    "for s, p, o in sparql_results:\n",
    "    o_lv = int(ACC_DICT[o]['Account_Level'])\n",
    "    s_lv = int(ACC_DICT[s]['Account_Level'])\n",
    "    if (s, s_lv) not in role_dict[(o, o_lv)]:\n",
    "        role_dict[(o, o_lv)].append((s, s_lv, p))\n",
    "\n",
    "role_dict_sorted = defaultdict(list)\n",
    "for k, v in sorted(role_dict.items(), key=lambda x: x[0][1], reverse=False):\n",
    "    role_dict_sorted[k[0]] += list(map(lambda x: (x[0], x[2]), v))"
   ]
  },
  {
   "cell_type": "code",
   "execution_count": 162,
   "metadata": {},
   "outputs": [
    {
     "data": {
      "text/plain": [
       "defaultdict(list, {})"
      ]
     },
     "execution_count": 162,
     "metadata": {},
     "output_type": "execute_result"
    }
   ],
   "source": [
    "role_dict_sorted"
   ]
  },
  {
   "cell_type": "code",
   "execution_count": 163,
   "metadata": {},
   "outputs": [],
   "source": [
    "# leaf node\n",
    "base_query_format = \"\"\"SELECT (T.value){} AS {} FROM {} AS T \"\"\"\n",
    "# search from top to bottom until reach all the leaf node\n",
    "query_dict = defaultdict(dict)\n",
    "for parent, children in role_dict_sorted.items():\n",
    "    # start from account node\n",
    "    for child, role in children:\n",
    "        if child not in role_dict_sorted:\n",
    "            # leaf node\n",
    "            if query_dict[child].get('parents') is None:\n",
    "                query_dict[child]['parents'] = []\n",
    "\n",
    "            # check if has subject_account \n",
    "            if  (sub_account is not None) and (child in sub_account):\n",
    "                apply, apply_number = sub_account[child]\n",
    "                sub_apply_query = sql.SQL(' ').join([sql.SQL(apply), apply_number])\n",
    "            else:\n",
    "                sub_apply_query = sql.SQL('')\n",
    "            \n",
    "            acc_knowledge = ACC_DICT[child]['group'].lower().split('-')[0]\n",
    "            view_table = f\"vt_{acc_knowledge.lower()}_005930\"\n",
    "            select_format = sql.SQL(base_query_format).format(sub_apply_query, sql.Identifier(child.lower()), sql.Identifier(view_table))\n",
    "            where_format = sql.SQL(\"\"\"WHERE T.bsns_year = {} AND T.quarter = {} AND T.account = {}\"\"\").format(year, quarter, child)\n",
    "            query = select_format + where_format\n",
    "            \n",
    "            query_dict[child]['query'] = query\n",
    "            \n",
    "            query_dict[child]['sign'] = 1.0 if ACC_DICT[child]['Account_Property'].lower() == 'positive' else -1.0\n",
    "            query_dict[child]['parents'].append((role, parent))"
   ]
  },
  {
   "cell_type": "code",
   "execution_count": 165,
   "metadata": {},
   "outputs": [
    {
     "data": {
      "text/plain": [
       "'Revenue'"
      ]
     },
     "execution_count": 165,
     "metadata": {},
     "output_type": "execute_result"
    }
   ],
   "source": [
    "query_dict['acc']"
   ]
  },
  {
   "cell_type": "code",
   "execution_count": 168,
   "metadata": {},
   "outputs": [],
   "source": [
    "acc_knowledge = ACC_DICT[account]['group'].lower().split('-')[0]\n",
    "view_table = f\"vt_{acc_knowledge.lower()}_005930\"\n",
    "select_format = sql.SQL(base_query_format).format(sub_apply_query, sql.Identifier(child.lower()), sql.Identifier(view_table))\n",
    "where_format = sql.SQL(\"\"\"WHERE T.bsns_year = {} AND T.quarter = {} AND T.account = {}\"\"\").format(year, quarter, child)\n",
    "query = select_format + where_format\n",
    "\n",
    "query_dict[account]['query'] = query\n",
    "            \n",
    "query_dict[account]['sign'] = 1.0 if ACC_DICT[child]['Account_Property'].lower() == 'positive' else -1.0\n",
    "query_dict[account]['parents']=('partOf', parent)"
   ]
  },
  {
   "cell_type": "code",
   "execution_count": 169,
   "metadata": {},
   "outputs": [
    {
     "data": {
      "text/plain": [
       "{'query': Composed([SQL('SELECT (T.value)'), Composed([SQL('*'), SQL(' '), Literal(1.1)]), SQL(' AS '), Identifier('costofsales'), SQL(' FROM '), Identifier('vt_is_005930'), SQL(' AS T '), SQL('WHERE T.bsns_year = '), Literal(2020), SQL(' AND T.quarter = '), Literal('4Q'), SQL(' AND T.account = '), Literal('CostOfSales')]),\n",
       " 'sign': -1.0,\n",
       " 'parents': ('partOf', 'GrossProfit')}"
      ]
     },
     "execution_count": 169,
     "metadata": {},
     "output_type": "execute_result"
    }
   ],
   "source": [
    "query_dict[account]"
   ]
  },
  {
   "cell_type": "code",
   "execution_count": 154,
   "metadata": {},
   "outputs": [],
   "source": [
    "role_dict_sorted_reverse = dict(sorted(list(role_dict_sorted.items()), \n",
    "            key=lambda x: all([acc in list(query_dict.keys()) for acc, _ in x[1]]), reverse=True))"
   ]
  },
  {
   "cell_type": "code",
   "execution_count": 153,
   "metadata": {},
   "outputs": [
    {
     "data": {
      "text/plain": [
       "defaultdict(list,\n",
       "            {'OperatingIncome': [('GrossProfit', 'partOf'),\n",
       "              ('SellingGeneralAdministrativeExpenses', 'partOf')],\n",
       "             'GrossProfit': [('Revenue', 'partOf'),\n",
       "              ('CostOfSales', 'partOf')]})"
      ]
     },
     "execution_count": 153,
     "metadata": {},
     "output_type": "execute_result"
    }
   ],
   "source": [
    "for acc, childrens in role_dict_sorted_reverse.items():\n",
    "    acc_sign = 1.0 if self.ACC_DICT[acc]['Account_Property'].lower() == 'positive' else -1.0\n",
    "    query_dict[acc]['sign'] = acc_sign\n",
    "    qs = []\n",
    "    for child, role in childrens:\n",
    "        qs.append(\n",
    "            (role,\n",
    "            query_dict[child]['sign'],\n",
    "            child,\n",
    "            query_dict[child]['query'])\n",
    "        )\n",
    "    if role.lower() != 'partof':\n",
    "        query_dict[acc]['query'] = self.get_div_query(qs, acc)\n",
    "    else:\n",
    "        query_dict[acc]['query'] = self.get_partof_query(qs, acc)"
   ]
  },
  {
   "cell_type": "code",
   "execution_count": 133,
   "metadata": {},
   "outputs": [],
   "source": [
    "base_query_format = \"\"\"SELECT (T.value){} AS {} FROM {} AS T \"\"\"\n",
    "query_dict = defaultdict(dict)\n",
    "for parent, children in role_dict_sorted.items():\n",
    "    for child in children:\n",
    "        if child not in role_dict_sorted:\n",
    "            # leaf node\n",
    "            if query_dict[child].get('parents') is None:\n",
    "                query_dict[child]['parents'] = []\n",
    "\n",
    "             # check if has subject_account \n",
    "            if (sub_account is not None) and (child in sub_account):\n",
    "                apply, apply_number = sub_account[child]\n",
    "                sub_apply_query = sql.SQL(' ').join([sql.SQL(apply), apply_number])\n",
    "            else:\n",
    "                sub_apply_query = sql.SQL('')\n",
    "\n",
    "            acc_knowledge = ACC_DICT[child]['group'].lower().split('-')[0]\n",
    "            view_table = f\"vt_{acc_knowledge.lower()}_005930\"\n",
    "\n",
    "            select_format = sql.SQL(base_query_format).format(sub_apply_query, sql.Identifier(child.lower()), sql.Identifier(view_table))\n",
    "            where_format = sql.SQL(\"\"\"WHERE T.bsns_year = {} AND T.quarter = {} AND T.account = {}\"\"\").format(year, quarter, child)\n",
    "            query = select_format + where_format\n",
    "\n",
    "            query_dict[child]['query'] = query\n",
    "                    \n",
    "            query_dict[child]['sign'] = 1.0 if ACC_DICT[child]['Account_Property'].lower() == 'positive' else -1.0\n",
    "            query_dict[child]['parents'].append(parent)\n",
    "        # else:\n",
    "        #     print(child)\n",
    "        #     if query_dict[child].get('parents') is None:\n",
    "        #         query_dict[child]['parents'] = []"
   ]
  },
  {
   "cell_type": "code",
   "execution_count": 131,
   "metadata": {},
   "outputs": [
    {
     "data": {
      "text/plain": [
       "dict_keys(['Profit', 'ProfitBeforeTax', 'OperatingIncome', 'GrossProfit'])"
      ]
     },
     "execution_count": 131,
     "metadata": {},
     "output_type": "execute_result"
    }
   ],
   "source": [
    "role_dict_sorted.keys()"
   ]
  },
  {
   "cell_type": "code",
   "execution_count": 121,
   "metadata": {},
   "outputs": [
    {
     "data": {
      "text/plain": [
       "defaultdict(list,\n",
       "            {'Profit': ['ProfitBeforeTax', 'IncomeTaxExpense'],\n",
       "             'ProfitBeforeTax': ['OperatingIncome',\n",
       "              'FinanceIncome',\n",
       "              'FinancialExpenses'],\n",
       "             'OperatingIncome': ['GrossProfit',\n",
       "              'SellingGeneralAdministrativeExpenses'],\n",
       "             'GrossProfit': ['Revenue', 'CostOfSales']})"
      ]
     },
     "execution_count": 121,
     "metadata": {},
     "output_type": "execute_result"
    }
   ],
   "source": [
    "role_dict_sorted"
   ]
  },
  {
   "cell_type": "code",
   "execution_count": 135,
   "metadata": {},
   "outputs": [
    {
     "ename": "ValueError",
     "evalue": "too many values to unpack (expected 2)",
     "output_type": "error",
     "traceback": [
      "\u001b[1;31m---------------------------------------------------------------------------\u001b[0m",
      "\u001b[1;31mValueError\u001b[0m                                Traceback (most recent call last)",
      "\u001b[1;32m~\\AppData\\Local\\Temp/ipykernel_7332/1075990985.py\u001b[0m in \u001b[0;36m<module>\u001b[1;34m\u001b[0m\n\u001b[0;32m      3\u001b[0m     \u001b[0mquery_dict\u001b[0m\u001b[1;33m[\u001b[0m\u001b[0macc\u001b[0m\u001b[1;33m]\u001b[0m\u001b[1;33m[\u001b[0m\u001b[1;34m'sign'\u001b[0m\u001b[1;33m]\u001b[0m \u001b[1;33m=\u001b[0m \u001b[0macc_sign\u001b[0m\u001b[1;33m\u001b[0m\u001b[1;33m\u001b[0m\u001b[0m\n\u001b[0;32m      4\u001b[0m     \u001b[0mqs\u001b[0m \u001b[1;33m=\u001b[0m \u001b[1;33m[\u001b[0m\u001b[1;33m]\u001b[0m\u001b[1;33m\u001b[0m\u001b[1;33m\u001b[0m\u001b[0m\n\u001b[1;32m----> 5\u001b[1;33m     \u001b[1;32mfor\u001b[0m \u001b[0mchild\u001b[0m\u001b[1;33m,\u001b[0m \u001b[0mrole\u001b[0m \u001b[1;32min\u001b[0m \u001b[0mchildrens\u001b[0m\u001b[1;33m:\u001b[0m\u001b[1;33m\u001b[0m\u001b[1;33m\u001b[0m\u001b[0m\n\u001b[0m\u001b[0;32m      6\u001b[0m         qs.append(\n\u001b[0;32m      7\u001b[0m             (role,\n",
      "\u001b[1;31mValueError\u001b[0m: too many values to unpack (expected 2)"
     ]
    }
   ],
   "source": [
    "for acc, childrens in role_dict_sorted.items():\n",
    "    acc_sign = 1.0 if self.ACC_DICT[acc]['Account_Property'].lower() == 'positive' else -1.0\n",
    "    query_dict[acc]['sign'] = acc_sign\n",
    "    qs = []\n",
    "    for child, role in childrens:\n",
    "        qs.append(\n",
    "            (role,\n",
    "            query_dict[child]['sign'],\n",
    "            child,\n",
    "            query_dict[child]['query'])\n",
    "        )\n",
    "    if role.lower() != 'partof':\n",
    "        query_dict[acc]['query'] = self.sparql.get_div_query(qs, acc)\n",
    "    else:\n",
    "        query_dict[acc]['query'] = self.sparql.get_partof_query(qs, acc)"
   ]
  },
  {
   "cell_type": "code",
   "execution_count": 100,
   "metadata": {},
   "outputs": [
    {
     "data": {
      "text/plain": [
       "'is'"
      ]
     },
     "execution_count": 100,
     "metadata": {},
     "output_type": "execute_result"
    }
   ],
   "source": [
    "acc_knowledge = ACC_DICT[child]['group'].lower().split('-')[0]\n",
    "acc_knowledge"
   ]
  },
  {
   "cell_type": "code",
   "execution_count": 99,
   "metadata": {},
   "outputs": [
    {
     "data": {
      "text/plain": [
       "defaultdict(dict, {})"
      ]
     },
     "execution_count": 99,
     "metadata": {},
     "output_type": "execute_result"
    }
   ],
   "source": [
    "query_dict"
   ]
  },
  {
   "cell_type": "code",
   "execution_count": 90,
   "metadata": {},
   "outputs": [
    {
     "data": {
      "text/plain": [
       "'ProfitBeforeTax'"
      ]
     },
     "execution_count": 90,
     "metadata": {},
     "output_type": "execute_result"
    }
   ],
   "source": [
    "child"
   ]
  }
 ],
 "metadata": {
  "interpreter": {
   "hash": "ab7f212329a491b497f27876271d03c022f2dd26760015eef69af619991238fd"
  },
  "kernelspec": {
   "display_name": "Python 3 (ipykernel)",
   "language": "python",
   "name": "python3"
  },
  "language_info": {
   "codemirror_mode": {
    "name": "ipython",
    "version": 3
   },
   "file_extension": ".py",
   "mimetype": "text/x-python",
   "name": "python",
   "nbconvert_exporter": "python",
   "pygments_lexer": "ipython3",
   "version": "3.8.12"
  }
 },
 "nbformat": 4,
 "nbformat_minor": 4
}
