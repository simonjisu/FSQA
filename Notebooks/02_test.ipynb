{
 "cells": [
  {
   "cell_type": "markdown",
   "metadata": {},
   "source": [
    "## Tutorial for CSVtoRDF\n",
    "\n",
    "https://stackoverflow.com/questions/43524943/creating-rdf-file-using-csv-file-as-input"
   ]
  },
  {
   "cell_type": "code",
   "execution_count": 1,
   "metadata": {},
   "outputs": [],
   "source": [
    "from rdflib import Graph, Literal, RDF, URIRef, Namespace #basic RDF handling\n",
    "from rdflib.namespace import FOAF, XSD #most common namespaces\n",
    "import urllib.parse #for parsing strings to URI's\n",
    "import pandas as pd"
   ]
  },
  {
   "cell_type": "code",
   "execution_count": 5,
   "metadata": {},
   "outputs": [],
   "source": [
    "url='https://raw.githubusercontent.com/KRontheWeb/csv2rdf-tutorial/master/example.csv'\n",
    "df=pd.read_csv(url,sep=\";\",quotechar='\"')"
   ]
  },
  {
   "cell_type": "code",
   "execution_count": 6,
   "metadata": {},
   "outputs": [
    {
     "data": {
      "text/html": [
       "<div>\n",
       "<style scoped>\n",
       "    .dataframe tbody tr th:only-of-type {\n",
       "        vertical-align: middle;\n",
       "    }\n",
       "\n",
       "    .dataframe tbody tr th {\n",
       "        vertical-align: top;\n",
       "    }\n",
       "\n",
       "    .dataframe thead th {\n",
       "        text-align: right;\n",
       "    }\n",
       "</style>\n",
       "<table border=\"1\" class=\"dataframe\">\n",
       "  <thead>\n",
       "    <tr style=\"text-align: right;\">\n",
       "      <th></th>\n",
       "      <th>Name</th>\n",
       "      <th>Address</th>\n",
       "      <th>Place</th>\n",
       "      <th>Country</th>\n",
       "      <th>Age</th>\n",
       "      <th>Hobby</th>\n",
       "      <th>Favourite Colour</th>\n",
       "    </tr>\n",
       "  </thead>\n",
       "  <tbody>\n",
       "    <tr>\n",
       "      <th>0</th>\n",
       "      <td>John</td>\n",
       "      <td>Dam 52</td>\n",
       "      <td>Amsterdam</td>\n",
       "      <td>The Netherlands</td>\n",
       "      <td>32</td>\n",
       "      <td>Fishing</td>\n",
       "      <td>Blue</td>\n",
       "    </tr>\n",
       "    <tr>\n",
       "      <th>1</th>\n",
       "      <td>Jenny</td>\n",
       "      <td>Leidseplein 2</td>\n",
       "      <td>Amsterdam</td>\n",
       "      <td>The Netherlands</td>\n",
       "      <td>12</td>\n",
       "      <td>Dancing</td>\n",
       "      <td>Mauve</td>\n",
       "    </tr>\n",
       "    <tr>\n",
       "      <th>2</th>\n",
       "      <td>Jill</td>\n",
       "      <td>52W Street 5</td>\n",
       "      <td>Amsterdam</td>\n",
       "      <td>United States of America</td>\n",
       "      <td>28</td>\n",
       "      <td>Carpentry</td>\n",
       "      <td>Cyan</td>\n",
       "    </tr>\n",
       "    <tr>\n",
       "      <th>3</th>\n",
       "      <td>Jake</td>\n",
       "      <td>12E Street 98</td>\n",
       "      <td>Amsterdam</td>\n",
       "      <td>United States of America</td>\n",
       "      <td>42</td>\n",
       "      <td>Ballet</td>\n",
       "      <td>Purple</td>\n",
       "    </tr>\n",
       "  </tbody>\n",
       "</table>\n",
       "</div>"
      ],
      "text/plain": [
       "    Name        Address      Place                   Country  Age      Hobby  \\\n",
       "0   John         Dam 52  Amsterdam           The Netherlands   32    Fishing   \n",
       "1  Jenny  Leidseplein 2  Amsterdam           The Netherlands   12    Dancing   \n",
       "2   Jill   52W Street 5  Amsterdam  United States of America   28  Carpentry   \n",
       "3   Jake  12E Street 98  Amsterdam  United States of America   42     Ballet   \n",
       "\n",
       "  Favourite Colour  \n",
       "0             Blue  \n",
       "1            Mauve  \n",
       "2             Cyan  \n",
       "3           Purple  "
      ]
     },
     "execution_count": 6,
     "metadata": {},
     "output_type": "execute_result"
    }
   ],
   "source": [
    "df"
   ]
  },
  {
   "cell_type": "code",
   "execution_count": 7,
   "metadata": {},
   "outputs": [],
   "source": [
    "g = Graph()\n",
    "ppl = Namespace('http://example.com/people/')\n",
    "loc = Namespace('http://mylocations.org/addresses/')\n",
    "schema = Namespace('http://schema.org/')"
   ]
  },
  {
   "cell_type": "code",
   "execution_count": 8,
   "metadata": {
    "tags": []
   },
   "outputs": [],
   "source": [
    "for index, row in df.iterrows():\n",
    "    g.add((URIRef(ppl+row['Name']), RDF.type, FOAF.Person))\n",
    "    g.add((URIRef(ppl+row['Name']), URIRef(schema+'name'), Literal(row['Name'], datatype=XSD.string) ))\n",
    "    g.add((URIRef(ppl+row['Name']), FOAF.age, Literal(row['Age'], datatype=XSD.integer) ))\n",
    "    g.add((URIRef(ppl+row['Name']), URIRef(schema+'address'), Literal(row['Address'], datatype=XSD.string) ))\n",
    "    g.add((URIRef(loc+urllib.parse.quote(row['Address'])), URIRef(schema+'name'), Literal(row['Address'], datatype=XSD.string) ))"
   ]
  },
  {
   "cell_type": "code",
   "execution_count": 10,
   "metadata": {},
   "outputs": [
    {
     "name": "stdout",
     "output_type": "stream",
     "text": [
      "@prefix ns1: <http://xmlns.com/foaf/0.1/> .\n",
      "@prefix ns2: <http://schema.org/> .\n",
      "@prefix xsd: <http://www.w3.org/2001/XMLSchema#> .\n",
      "\n",
      "<http://example.com/people/Jake> a ns1:Person ;\n",
      "    ns2:address \"12E Street 98\"^^xsd:string ;\n",
      "    ns2:name \"Jake\"^^xsd:string ;\n",
      "    ns1:age 42 .\n",
      "\n",
      "<http://example.com/people/Jenny> a ns1:Person ;\n",
      "    ns2:address \"Leidseplein 2\"^^xsd:string ;\n",
      "    ns2:name \"Jenny\"^^xsd:string ;\n",
      "    ns1:age 12 .\n",
      "\n",
      "<http://example.com/people/Jill> a ns1:Person ;\n",
      "    ns2:address \"52W Street 5\"^^xsd:string ;\n",
      "    ns2:name \"Jill\"^^xsd:string ;\n",
      "    ns1:age 28 .\n",
      "\n",
      "<http://example.com/people/John> a ns1:Person ;\n",
      "    ns2:address \"Dam 52\"^^xsd:string ;\n",
      "    ns2:name \"John\"^^xsd:string ;\n",
      "    ns1:age 32 .\n",
      "\n",
      "<http://mylocations.org/addresses/12E%20Street%2098> ns2:name \"12E Street 98\"^^xsd:string .\n",
      "\n",
      "<http://mylocations.org/addresses/52W%20Street%205> ns2:name \"52W Street 5\"^^xsd:string .\n",
      "\n",
      "<http://mylocations.org/addresses/Dam%2052> ns2:name \"Dam 52\"^^xsd:string .\n",
      "\n",
      "<http://mylocations.org/addresses/Leidseplein%202> ns2:name \"Leidseplein 2\"^^xsd:string .\n",
      "\n",
      "\n"
     ]
    },
    {
     "data": {
      "text/plain": [
       "<Graph identifier=N42150f30038f4cdaa20c991a4360946a (<class 'rdflib.graph.Graph'>)>"
      ]
     },
     "execution_count": 10,
     "metadata": {},
     "output_type": "execute_result"
    }
   ],
   "source": [
    "print(g.serialize(format='turtle'))\n",
    "g.serialize('example.ttl',format='turtle')"
   ]
  },
  {
   "cell_type": "code",
   "execution_count": 3,
   "metadata": {},
   "outputs": [],
   "source": [
    "from rdflib import Graph, Literal, RDF, URIRef, Namespace #basic RDF handling\n",
    "from rdflib.namespace import CSVW, DC, DCAT, DCTERMS, DOAP, FOAF, ODRL2, ORG, OWL, \\\n",
    "                           PROF, PROV, RDF, RDFS, SDO, SH, SKOS, SOSA, SSN, TIME, \\\n",
    "                           VOID, XMLNS, XSD\n",
    "import urllib.parse #for parsing strings to URI's\n",
    "import pandas as pd\n",
    "from pathlib import Path\n",
    "\n",
    "main_path = Path().absolute().parent\n",
    "data_path = main_path / 'data'"
   ]
  },
  {
   "cell_type": "code",
   "execution_count": 137,
   "metadata": {},
   "outputs": [],
   "source": [
    "# full\n",
    "df = pd.read_csv(data_path / 'AccountRDF.csv', encoding='utf-8')\n",
    "ns_acc = Namespace('http://fsqa.com/acc#')\n",
    "namespace_dict = {\n",
    "    'acc': ns_acc, 'time': TIME, 'rdf': RDF, 'rdfs': RDFS, 'owl': OWL, None: ''\n",
    "}\n",
    "g = Graph()\n",
    "g.bind('rdf', RDF)\n",
    "g.bind('time', TIME)\n",
    "g.bind('owl', OWL)\n",
    "g.bind('acc', ns_acc, override=True)\n",
    "for index, row in df.iterrows():\n",
    "    s_ns, s = row['subject'].split(':')\n",
    "    p_ns, p = row['predicate'].split(':')\n",
    "    if len(row['object'].split(':')) < 2:\n",
    "        o_ns, o = None, row['object']\n",
    "    else:\n",
    "        o_ns, o = row['object'].split(':')\n",
    "    \n",
    "    if o_ns is None:\n",
    "        g.add( (URIRef(namespace_dict[s_ns]+s), URIRef(namespace_dict[p_ns]+p), Literal(o, datatype=XSD.string)) )\n",
    "    else:\n",
    "        g.add( (URIRef(namespace_dict[s_ns]+s), URIRef(namespace_dict[p_ns]+p), URIRef(namespace_dict[o_ns]+o)) )"
   ]
  },
  {
   "cell_type": "code",
   "execution_count": 138,
   "metadata": {},
   "outputs": [
    {
     "data": {
      "text/plain": [
       "<Graph identifier=Na72b615b0229458f8802af51c7d8ce19 (<class 'rdflib.graph.Graph'>)>"
      ]
     },
     "execution_count": 138,
     "metadata": {},
     "output_type": "execute_result"
    }
   ],
   "source": [
    "g.serialize(data_path / 'AccountRDF.ttl', format='turtle')\n",
    "g.serialize(data_path / 'AccountRDF.xml', format='xml', encoding='utf-8')"
   ]
  },
  {
   "cell_type": "code",
   "execution_count": 4,
   "metadata": {},
   "outputs": [
    {
     "data": {
      "text/plain": [
       "<Graph identifier=N0ebd3758f7f644ae96f4f0154c0949c2 (<class 'rdflib.graph.Graph'>)>"
      ]
     },
     "execution_count": 4,
     "metadata": {},
     "output_type": "execute_result"
    }
   ],
   "source": [
    "g = Graph()\n",
    "g.load(data_path / 'AccountRDF.ttl', format='ttl')"
   ]
  },
  {
   "cell_type": "code",
   "execution_count": 135,
   "metadata": {},
   "outputs": [
    {
     "name": "stdout",
     "output_type": "stream",
     "text": [
      "(rdflib.term.URIRef('http://www.w3.org/1999/02/22-rdf-syntax-ns#type'), rdflib.term.URIRef('http://fsqa.com/acc#Account'))\n",
      "(rdflib.term.URIRef('http://www.w3.org/2000/01/rdf-schema#label'), rdflib.term.Literal('매출원가', datatype=rdflib.term.URIRef('http://www.w3.org/2001/XMLSchema#string')))\n",
      "(rdflib.term.URIRef('http://fsqa.com/acc#Account_Belonging'), rdflib.term.URIRef('http://fsqa.com/acc#IncomeStatement'))\n",
      "(rdflib.term.URIRef('http://fsqa.com/acc#Account_Level'), rdflib.term.Literal('5', datatype=rdflib.term.URIRef('http://www.w3.org/2001/XMLSchema#string')))\n",
      "(rdflib.term.URIRef('http://fsqa.com/acc#Account_Property'), rdflib.term.Literal('Negative', datatype=rdflib.term.URIRef('http://www.w3.org/2001/XMLSchema#string')))\n",
      "(rdflib.term.URIRef('http://fsqa.com/acc#Account_Type'), rdflib.term.Literal('Value', datatype=rdflib.term.URIRef('http://www.w3.org/2001/XMLSchema#string')))\n",
      "(rdflib.term.URIRef('http://fsqa.com/acc#numerator'), rdflib.term.URIRef('http://fsqa.com/acc#CostOfSalesRatio'))\n",
      "(rdflib.term.URIRef('http://fsqa.com/acc#partOf'), rdflib.term.URIRef('http://fsqa.com/acc#GrossProfit'))\n"
     ]
    }
   ],
   "source": [
    "# show only BalanceSheet\n",
    "query_string = \"\"\"\n",
    "SELECT ?p ?o\n",
    "WHERE {\n",
    "    acc:CostOfSales ?p ?o .\n",
    "}\n",
    "\"\"\"\n",
    "qres = g.query(query_string)\n",
    "for x in qres:\n",
    "    print(f'{x}')"
   ]
  },
  {
   "cell_type": "code",
   "execution_count": 136,
   "metadata": {},
   "outputs": [
    {
     "name": "stdout",
     "output_type": "stream",
     "text": [
      "(rdflib.term.Literal('자산총계', datatype=rdflib.term.URIRef('http://www.w3.org/2001/XMLSchema#string')),)\n"
     ]
    }
   ],
   "source": [
    "# show only BalanceSheet\n",
    "query_string = \"\"\"\n",
    "select distinct ?literal { \n",
    "  ?s ?p ?literal \n",
    "  filter isLiteral(?literal)\n",
    "}\n",
    "\"\"\"\n",
    "qres = g.query(query_string)\n",
    "for x in qres:\n",
    "    print(f'{x}')\n",
    "    break"
   ]
  },
  {
   "cell_type": "code",
   "execution_count": 140,
   "metadata": {},
   "outputs": [
    {
     "name": "stdout",
     "output_type": "stream",
     "text": [
      "acc:BalanceSheet acc:Revenue acc:CostOfSales acc:GrossProfit acc:SellingGeneralAdministrativeExpenses acc:OperatingIncome acc:FinanceIncome acc:FinancialExpenses acc:ProfitBeforeTax acc:IncomeTaxExpense acc:Profit acc:IncomeStatement\n"
     ]
    }
   ],
   "source": [
    "accs = list(df.loc[\n",
    "    (df['object'] == 'acc:IncomeStatement') | (df['object'] == 'acc:FinancialStatement'), \n",
    "    'subject'].unique())\n",
    "print(' '.join(accs))"
   ]
  },
  {
   "cell_type": "markdown",
   "metadata": {},
   "source": [
    "acc:BalanceSheet acc:Revenue acc:CostOfSales acc:GrossProfit acc:SellingGeneralAdministrativeExpenses acc:OperatingIncome acc:FinanceIncome acc:FinancialExpenses acc:ProfitBeforeTax acc:IncomeTaxExpense acc:Profit acc:IncomeStatement acc:CostOfSalesRatio acc:SellingGeneralAdministrativeRatio acc:SalesAndSellingGeneralAdministrativeRatio acc:IncomeTaxRatio acc:ProfitRatio acc:Ratios"
   ]
  },
  {
   "cell_type": "code",
   "execution_count": 141,
   "metadata": {},
   "outputs": [
    {
     "name": "stdout",
     "output_type": "stream",
     "text": [
      "acc:CurrentAssets acc:CashAndCashEquivalents acc:TradeAndOtherCurrentReceivables acc:PrepaidExpenses acc:Inventories acc:NoncurrentAssets acc:PropertyPlantAndEquipment acc:IntangibleAssets acc:AssetsAbstract acc:CurrentLiabilities acc:TradeAndOtherCurrentPayables acc:ShorttermBorrowings acc:AdvancesCustomers acc:NoncurrentLiabilities acc:BondsIssued acc:LongTermBorrowings acc:LiabilitiesAbstract acc:TotalEquity acc:LiabilitiesAndEquities acc:BalanceSheet acc:IncomeStatement\n"
     ]
    }
   ],
   "source": [
    "accs = list(df.loc[\n",
    "    (df['object'] == 'acc:BalanceSheet') | (df['object'] == 'acc:FinancialStatement'), \n",
    "    'subject'].unique())\n",
    "print(' '.join(accs))"
   ]
  },
  {
   "cell_type": "markdown",
   "metadata": {},
   "source": [
    "acc:CurrentAssets acc:CashAndCashEquivalents acc:TradeAndOtherCurrentReceivables acc:PrepaidExpenses acc:Inventories acc:NoncurrentAssets acc:PropertyPlantAndEquipment acc:IntangibleAssets acc:AssetsAbstract acc:CurrentLiabilities acc:TradeAndOtherCurrentPayables acc:ShorttermBorrowings acc:AdvancesCustomers acc:NoncurrentLiabilities acc:BondsIssued acc:LongTermBorrowings acc:LiabilitiesAbstract acc:TotalEquity acc:LiabilitiesAndEquities acc:BalanceSheet acc:IncomeStatement acc:TradeReceivableTurnoverPeriod acc:InventoriesTurnoverPeriod acc:TradePayablesTurnoverPeriod acc:AdvancesCustomersTurnoverPeriod acc:Ratios acc:CalendarOneYear"
   ]
  },
  {
   "cell_type": "code",
   "execution_count": 40,
   "metadata": {},
   "outputs": [
    {
     "data": {
      "text/plain": [
       "[(rdflib.term.URIRef('http://fsqa.com/acc#Revenue'),\n",
       "  rdflib.term.URIRef('http://fsqa.com/acc#partOf'),\n",
       "  rdflib.term.URIRef('http://fsqa.com/acc#GrossProfit')),\n",
       " (rdflib.term.URIRef('http://fsqa.com/acc#Revenue'),\n",
       "  rdflib.term.URIRef('http://fsqa.com/acc#denominator'),\n",
       "  rdflib.term.URIRef('http://fsqa.com/acc#CostOfSalesRatio'))]"
      ]
     },
     "execution_count": 40,
     "metadata": {},
     "output_type": "execute_result"
    }
   ],
   "source": [
    "# IncomeStatements\n",
    "query_statement = \"\"\"\n",
    "SELECT ?s ?p ?o WHERE { \n",
    "  VALUES ?s { acc:BalanceSheet acc:Revenue acc:CostOfSales acc:GrossProfit acc:SellingGeneralAdministrativeExpenses acc:OperatingIncome acc:FinanceIncome acc:FinancialExpenses acc:ProfitBeforeTax acc:IncomeTaxExpense acc:Profit acc:IncomeStatement acc:CostOfSalesRatio acc:SellingGeneralAdministrativeRatio acc:SalesAndSellingGeneralAdministrativeRatio acc:IncomeTaxRatio acc:ProfitRatio acc:Ratios }\n",
    "  VALUES ?o { acc:BalanceSheet acc:Revenue acc:CostOfSales acc:GrossProfit acc:SellingGeneralAdministrativeExpenses acc:OperatingIncome acc:FinanceIncome acc:FinancialExpenses acc:ProfitBeforeTax acc:IncomeTaxExpense acc:Profit acc:IncomeStatement acc:CostOfSalesRatio acc:SellingGeneralAdministrativeRatio acc:SalesAndSellingGeneralAdministrativeRatio acc:IncomeTaxRatio acc:ProfitRatio acc:Ratios }\n",
    "  VALUES ?p { acc:partOf acc:denominator acc:numerator } \n",
    "  ?s ?p ?o .\n",
    "}\n",
    "\"\"\"\n",
    "qres = g.query(query_statement)\n",
    "list(qres)[:2]"
   ]
  },
  {
   "cell_type": "code",
   "execution_count": 5,
   "metadata": {},
   "outputs": [
    {
     "data": {
      "text/plain": [
       "[(rdflib.term.URIRef('http://fsqa.com/acc#GrossProfit'),\n",
       "  rdflib.term.URIRef('http://fsqa.com/acc#hasPart'),\n",
       "  rdflib.term.URIRef('http://fsqa.com/acc#Revenue')),\n",
       " (rdflib.term.URIRef('http://fsqa.com/acc#GrossProfit'),\n",
       "  rdflib.term.URIRef('http://fsqa.com/acc#hasPart'),\n",
       "  rdflib.term.URIRef('http://fsqa.com/acc#CostOfSales'))]"
      ]
     },
     "execution_count": 5,
     "metadata": {},
     "output_type": "execute_result"
    }
   ],
   "source": [
    "# IncomeStatements Reverse\n",
    "query_statement = \"\"\"\n",
    "SELECT ?s ?p ?o WHERE { \n",
    "  VALUES ?s { acc:BalanceSheet acc:Revenue acc:CostOfSales acc:GrossProfit acc:SellingGeneralAdministrativeExpenses acc:OperatingIncome acc:FinanceIncome acc:FinancialExpenses acc:ProfitBeforeTax acc:IncomeTaxExpense acc:Profit acc:IncomeStatement acc:CostOfSalesRatio acc:SellingGeneralAdministrativeRatio acc:SalesAndSellingGeneralAdministrativeRatio acc:IncomeTaxRatio acc:ProfitRatio acc:Ratios }\n",
    "  VALUES ?o { acc:BalanceSheet acc:Revenue acc:CostOfSales acc:GrossProfit acc:SellingGeneralAdministrativeExpenses acc:OperatingIncome acc:FinanceIncome acc:FinancialExpenses acc:ProfitBeforeTax acc:IncomeTaxExpense acc:Profit acc:IncomeStatement acc:CostOfSalesRatio acc:SellingGeneralAdministrativeRatio acc:SalesAndSellingGeneralAdministrativeRatio acc:IncomeTaxRatio acc:ProfitRatio acc:Ratios }\n",
    "  VALUES ?p { acc:hasPart acc:isDenominatorOf acc:isNumeratorOf } \n",
    "  ?s ?p ?o .\n",
    "}\n",
    "\"\"\"\n",
    "qres = g.query(query_statement)\n",
    "list(qres)[:2]"
   ]
  },
  {
   "cell_type": "code",
   "execution_count": 51,
   "metadata": {},
   "outputs": [],
   "source": [
    "# BalanceSheet\n",
    "query_statement = \"\"\"\n",
    "SELECT ?s ?p ?o WHERE { \n",
    "  VALUES ?s { acc:CurrentAssets acc:CashAndCashEquivalents acc:TradeAndOtherCurrentReceivables acc:PrepaidExpenses acc:Inventories acc:NoncurrentAssets acc:PropertyPlantAndEquipment acc:IntangibleAssets acc:AssetsAbstract acc:CurrentLiabilities acc:TradeAndOtherCurrentPayables acc:ShorttermBorrowings acc:AdvancesCustomers acc:NoncurrentLiabilities acc:BondsIssued acc:LongTermBorrowings acc:LiabilitiesAbstract acc:TotalEquity acc:LiabilitiesAndEquities acc:BalanceSheet acc:IncomeStatement acc:TradeReceivableTurnoverPeriod acc:InventoriesTurnoverPeriod acc:TradePayablesTurnoverPeriod acc:AdvancesCustomersTurnoverPeriod acc:Ratios acc:CalendarOneYear }\n",
    "  VALUES ?o { acc:CurrentAssets acc:CashAndCashEquivalents acc:TradeAndOtherCurrentReceivables acc:PrepaidExpenses acc:Inventories acc:NoncurrentAssets acc:PropertyPlantAndEquipment acc:IntangibleAssets acc:AssetsAbstract acc:CurrentLiabilities acc:TradeAndOtherCurrentPayables acc:ShorttermBorrowings acc:AdvancesCustomers acc:NoncurrentLiabilities acc:BondsIssued acc:LongTermBorrowings acc:LiabilitiesAbstract acc:TotalEquity acc:LiabilitiesAndEquities acc:BalanceSheet acc:IncomeStatement acc:TradeReceivableTurnoverPeriod acc:InventoriesTurnoverPeriod acc:TradePayablesTurnoverPeriod acc:AdvancesCustomersTurnoverPeriod acc:Ratios acc:CalendarOneYear }\n",
    "  VALUES ?p { acc:partOf acc:denominator acc:numerator } \n",
    "  ?s ?p ?o .\n",
    "}\n",
    "\"\"\"\n",
    "qres = g.query(query_statement)\n",
    "# list(qres)[:2]"
   ]
  },
  {
   "cell_type": "code",
   "execution_count": null,
   "metadata": {},
   "outputs": [],
   "source": [
    "# BalanceSheet Reverse\n",
    "query_statement = \"\"\"\n",
    "SELECT ?s ?p ?o WHERE { \n",
    "  VALUES ?s { acc:CurrentAssets acc:CashAndCashEquivalents acc:TradeAndOtherCurrentReceivables acc:PrepaidExpenses acc:Inventories acc:NoncurrentAssets acc:PropertyPlantAndEquipment acc:IntangibleAssets acc:AssetsAbstract acc:CurrentLiabilities acc:TradeAndOtherCurrentPayables acc:ShorttermBorrowings acc:AdvancesCustomers acc:NoncurrentLiabilities acc:BondsIssued acc:LongTermBorrowings acc:LiabilitiesAbstract acc:TotalEquity acc:LiabilitiesAndEquities acc:BalanceSheet acc:IncomeStatement acc:TradeReceivableTurnoverPeriod acc:InventoriesTurnoverPeriod acc:TradePayablesTurnoverPeriod acc:AdvancesCustomersTurnoverPeriod acc:Ratios acc:CalendarOneYear }\n",
    "  VALUES ?o { acc:CurrentAssets acc:CashAndCashEquivalents acc:TradeAndOtherCurrentReceivables acc:PrepaidExpenses acc:Inventories acc:NoncurrentAssets acc:PropertyPlantAndEquipment acc:IntangibleAssets acc:AssetsAbstract acc:CurrentLiabilities acc:TradeAndOtherCurrentPayables acc:ShorttermBorrowings acc:AdvancesCustomers acc:NoncurrentLiabilities acc:BondsIssued acc:LongTermBorrowings acc:LiabilitiesAbstract acc:TotalEquity acc:LiabilitiesAndEquities acc:BalanceSheet acc:IncomeStatement acc:TradeReceivableTurnoverPeriod acc:InventoriesTurnoverPeriod acc:TradePayablesTurnoverPeriod acc:AdvancesCustomersTurnoverPeriod acc:Ratios acc:CalendarOneYear }\n",
    "  VALUES ?p { acc:hasPart acc:isDenominatorOf acc:isNumeratorOf } \n",
    "  ?s ?p ?o .\n",
    "}\n",
    "\"\"\"\n",
    "qres = g.query(query_statement)\n",
    "list(qres)[:2]"
   ]
  },
  {
   "cell_type": "code",
   "execution_count": 20,
   "metadata": {},
   "outputs": [
    {
     "data": {
      "text/plain": [
       "[(rdflib.term.URIRef('http://fsqa.com/acc#CashAndCashEquivalents'),\n",
       "  rdflib.term.URIRef('http://fsqa.com/acc#partOf'),\n",
       "  rdflib.term.URIRef('http://fsqa.com/acc#CurrentAssets')),\n",
       " (rdflib.term.URIRef('http://fsqa.com/acc#TradeAndOtherCurrentReceivables'),\n",
       "  rdflib.term.URIRef('http://fsqa.com/acc#partOf'),\n",
       "  rdflib.term.URIRef('http://fsqa.com/acc#CurrentAssets')),\n",
       " (rdflib.term.URIRef('http://fsqa.com/acc#PrepaidExpenses'),\n",
       "  rdflib.term.URIRef('http://fsqa.com/acc#partOf'),\n",
       "  rdflib.term.URIRef('http://fsqa.com/acc#CurrentAssets')),\n",
       " (rdflib.term.URIRef('http://fsqa.com/acc#PropertyPlantAndEquipment'),\n",
       "  rdflib.term.URIRef('http://fsqa.com/acc#partOf'),\n",
       "  rdflib.term.URIRef('http://fsqa.com/acc#NoncurrentAssets')),\n",
       " (rdflib.term.URIRef('http://fsqa.com/acc#NoncurrentAssets'),\n",
       "  rdflib.term.URIRef('http://fsqa.com/acc#partOf'),\n",
       "  rdflib.term.URIRef('http://fsqa.com/acc#AssetsAbstract'))]"
      ]
     },
     "execution_count": 20,
     "metadata": {},
     "output_type": "execute_result"
    }
   ],
   "source": [
    "# relationship Incomstatement\n",
    "query_statement = \"\"\"\n",
    "SELECT ?s ?p ?o WHERE { \n",
    "  VALUES ?s { acc:CashAndCashEquivalents acc:TradeAndOtherCurrentReceivables acc:PrepaidExpenses acc:PropertyPlantAndEquipment acc:NoncurrentAssets acc:CurrentAssets }\n",
    "  VALUES ?o { acc:CurrentAssets acc:NoncurrentAssets acc:AssetsAbstract }\n",
    "  ?s ?p ?o .\n",
    "}\n",
    "\"\"\"\n",
    "qres = g.query(query_statement)\n",
    "list(qres)[:5]"
   ]
  },
  {
   "cell_type": "code",
   "execution_count": 20,
   "metadata": {},
   "outputs": [
    {
     "data": {
      "text/plain": [
       "[(rdflib.term.URIRef('http://fsqa.com/acc#CostOfSales'),\n",
       "  rdflib.term.URIRef('http://fsqa.com/acc#numerator'),\n",
       "  rdflib.term.URIRef('http://fsqa.com/acc#CostOfSalesRatio')),\n",
       " (rdflib.term.URIRef('http://fsqa.com/acc#Revenue'),\n",
       "  rdflib.term.URIRef('http://fsqa.com/acc#denominator'),\n",
       "  rdflib.term.URIRef('http://fsqa.com/acc#CostOfSalesRatio'))]"
      ]
     },
     "execution_count": 20,
     "metadata": {},
     "output_type": "execute_result"
    }
   ],
   "source": [
    "# 'What is the cost of revenue ratio in last year?'\n",
    "query_statement = \"\"\"\n",
    "SELECT ?s ?p ?o WHERE { \n",
    "  ?s rdf:type acc:Account .\n",
    "  VALUES ?o { acc:CostOfSalesRatio }\n",
    "  VALUES ?p { acc:partOf acc:denominator acc:numerator } \n",
    "  ?s ?p ?o .\n",
    "}\n",
    "\"\"\"\n",
    "qres = g.query(query_statement)\n",
    "list(qres)"
   ]
  },
  {
   "cell_type": "code",
   "execution_count": 21,
   "metadata": {},
   "outputs": [
    {
     "data": {
      "text/plain": [
       "[(rdflib.term.URIRef('http://fsqa.com/acc#SellingGeneralAdministrativeRatio'),\n",
       "  rdflib.term.URIRef('http://fsqa.com/acc#hasPart'),\n",
       "  rdflib.term.URIRef('http://fsqa.com/acc#SellingGeneralAdministrativeExpenses')),\n",
       " (rdflib.term.URIRef('http://fsqa.com/acc#IncomeTaxRatio'),\n",
       "  rdflib.term.URIRef('http://fsqa.com/acc#hasPart'),\n",
       "  rdflib.term.URIRef('http://fsqa.com/acc#IncomeTaxExpense')),\n",
       " (rdflib.term.URIRef('http://fsqa.com/acc#IncomeStatement'),\n",
       "  rdflib.term.URIRef('http://fsqa.com/acc#isNumeratorOf'),\n",
       "  rdflib.term.URIRef('http://fsqa.com/acc#IncomeStatement')),\n",
       " (rdflib.term.URIRef('http://fsqa.com/acc#ProfitRatio'),\n",
       "  rdflib.term.URIRef('http://fsqa.com/acc#hasPart'),\n",
       "  rdflib.term.URIRef('http://fsqa.com/acc#Profit')),\n",
       " (rdflib.term.URIRef('http://fsqa.com/acc#IncomeTaxRatio'),\n",
       "  rdflib.term.URIRef('http://fsqa.com/acc#isNumeratorOf'),\n",
       "  rdflib.term.URIRef('http://fsqa.com/acc#IncomeTaxExpense'))]"
      ]
     },
     "execution_count": 21,
     "metadata": {},
     "output_type": "execute_result"
    }
   ],
   "source": [
    "# Construct oppsited graph  acc:denominator acc:numerator \n",
    "query_statement = \"\"\"\n",
    "CONSTRUCT {\n",
    "  ?o ?q ?s\n",
    "} \n",
    "WHERE {\n",
    "  VALUES ?s { acc:BalanceSheet acc:Revenue acc:CostOfSales acc:GrossProfit acc:SellingGeneralAdministrativeExpenses acc:OperatingIncome acc:FinanceIncome acc:FinancialExpenses acc:ProfitBeforeTax acc:IncomeTaxExpense acc:Profit acc:IncomeStatement acc:CostOfSalesRatio acc:SellingGeneralAdministrativeRatio acc:SalesAndSellingGeneralAdministrativeRatio acc:IncomeTaxRatio acc:ProfitRatio }\n",
    "  VALUES ?o { acc:BalanceSheet acc:Revenue acc:CostOfSales acc:GrossProfit acc:SellingGeneralAdministrativeExpenses acc:OperatingIncome acc:FinanceIncome acc:FinancialExpenses acc:ProfitBeforeTax acc:IncomeTaxExpense acc:Profit acc:IncomeStatement acc:CostOfSalesRatio acc:SellingGeneralAdministrativeRatio acc:SalesAndSellingGeneralAdministrativeRatio acc:IncomeTaxRatio acc:ProfitRatio }\n",
    "  ?q a acc:InverseRelation .\n",
    "  ?s (acc:hasPart|acc:denominator|acc:numerator)* ?o .\n",
    "}\n",
    "\"\"\"\n",
    "qres = g.query(query_statement)\n",
    "list(qres)[:5]"
   ]
  },
  {
   "cell_type": "code",
   "execution_count": 6,
   "metadata": {},
   "outputs": [],
   "source": [
    "import networkx as nx\n",
    "import matplotlib.pyplot as plt\n",
    "from pyvis.network import Network\n",
    "from collections import defaultdict"
   ]
  },
  {
   "cell_type": "code",
   "execution_count": 7,
   "metadata": {},
   "outputs": [],
   "source": [
    "def convert_to_string(x):\n",
    "    if isinstance(x, URIRef):\n",
    "        if len(x.split('#')) == 2:\n",
    "            return x.split('#')[1]\n",
    "        else:\n",
    "            raise ValueError(f'Split error {x}')\n",
    "    elif isinstance(x, Literal):\n",
    "        return str(x)\n",
    "    else:\n",
    "        raise ValueError(f'Returned None')\n",
    "\n",
    "df_account = pd.read_csv(data_path / 'AccountName.csv', encoding='utf-8')\n",
    "ACC_DICT = defaultdict(dict)\n",
    "for index, row in df_account.iterrows():\n",
    "    eng = row['acc_name_eng']\n",
    "    kor = row['acc_name_kor']\n",
    "    group = row['group']\n",
    "    ACC_DICT[eng]['name'] = kor\n",
    "    ACC_DICT[eng]['group'] = group\n",
    "ACC_DICT['CalendarOneYear']['name'] = '365 일'\n",
    "ACC_DICT['CalendarOneYear']['group'] = 'TIME-Value-99'\n",
    "\n",
    "query_statement = \"\"\"\n",
    "SELECT ?s ?p ?literal WHERE { \n",
    "?s a acc:Account . \n",
    "VALUES ?p { acc:Account_Property acc:Account_Level } \n",
    "?s ?p ?literal .\n",
    "}\n",
    "\"\"\"\n",
    "qres2 = g.query(query_statement)\n",
    "for src, link, trg in qres2:\n",
    "    src = convert_to_string(src)\n",
    "    link = convert_to_string(link)\n",
    "    trg = convert_to_string(trg)\n",
    "    ACC_DICT[src][link] = trg\n"
   ]
  },
  {
   "cell_type": "code",
   "execution_count": 8,
   "metadata": {},
   "outputs": [],
   "source": [
    "net = Network(height=\"800px\", width=\"100%\", directed=True, font_color=\"black\", heading='FSQA', notebook=False)\n",
    "size_dict = {\n",
    "    0: 20, 1: 18, 2: 16, 3: 14, 4: 12, 5: 10, 98: 12, 99: 10\n",
    "}\n",
    "\n",
    "\n",
    "for src, link, trg in qres:\n",
    "    src = convert_to_string(src)\n",
    "    link = convert_to_string(link)\n",
    "    trg = convert_to_string(trg)\n",
    "\n",
    "    src_label = ACC_DICT[src]['name']\n",
    "    trg_label = ACC_DICT[trg]['name']\n",
    "    src_fs, src_type, src_group = ACC_DICT[src]['group'].split('-')\n",
    "    trg_fs, trg_type, trg_group = ACC_DICT[trg]['group'].split('-')\n",
    "    src_title = f'Statement: {src_fs} Type: {src_type}'\n",
    "    trg_title = f'Statement: {trg_fs} Type: {trg_type}'\n",
    "    net.add_node(src, label=src, group=int(src_group), size=size_dict[int(src_group)], title=src_title)\n",
    "    net.add_node(trg, label=trg, group=int(trg_group), size=size_dict[int(trg_group)], title=trg_title)\n",
    "    net.add_edge(src, trg, weight=2, title=link)  # search 할때는 방향이 반대가 좋음\n",
    "\n"
   ]
  },
  {
   "cell_type": "code",
   "execution_count": 10,
   "metadata": {},
   "outputs": [],
   "source": [
    "net.show('temp.html')"
   ]
  },
  {
   "cell_type": "code",
   "execution_count": 9,
   "metadata": {},
   "outputs": [
    {
     "data": {
      "image/png": "[encoded data removed]",
      "text/plain": [
       "<Figure size 432x288 with 1 Axes>"
      ]
     },
     "metadata": {},
     "output_type": "display_data"
    }
   ],
   "source": [
    "nx_graph = nx.DiGraph(net.get_adj_list())\n",
    "nx_graph.add_edges_from([(x['from'], x['to'], {'label': x['title']}) for x in net.get_edges()])\n",
    "nx.draw_networkx(nx_graph, with_labels=True)"
   ]
  },
  {
   "cell_type": "code",
   "execution_count": 83,
   "metadata": {},
   "outputs": [
    {
     "data": {
      "text/plain": [
       "{'CostOfSales': 'CostOfSalesRatio', 'Revenue': 'CostOfSalesRatio'}"
      ]
     },
     "execution_count": 83,
     "metadata": {},
     "output_type": "execute_result"
    }
   ],
   "source": [
    "bfs_tree = nx.bfs_predecessors(nx_graph, 'CostOfSalesRatio')\n",
    "dict(bfs_tree)"
   ]
  },
  {
   "cell_type": "code",
   "execution_count": 13,
   "metadata": {},
   "outputs": [
    {
     "data": {
      "text/plain": [
       "dict_keys(['CurrentAssets', 'CashAndCashEquivalents', 'TradeAndOtherCurrentReceivables', 'PrepaidExpenses', 'Inventories', 'NoncurrentAssets', 'PropertyPlantAndEquipment', 'IntangibleAssets', 'AssetsAbstract', 'CurrentLiabilities', 'TradeAndOtherCurrentPayables', 'ShorttermBorrowings', 'AdvancesCustomers', 'NoncurrentLiabilities', 'BondsIssued', 'LongTermBorrowings', 'LiabilitiesAbstract', 'TotalEquity', 'LiabilitiesAndEquities', 'TradeReceivableTurnoverPeriod', 'PrepaidExpensesTurnoverPeriod', 'InventoriesTurnoverPeriod', 'TradePayablesTurnoverPeriod', 'AdvancesCustomersTurnoverPeriod', 'Revenue', 'CostOfSales', 'GrossProfit', 'SellingGeneralAdministrativeExpenses', 'OperatingIncome', 'FinanceIncome', 'FinancialExpenses', 'ProfitBeforeTax', 'IncomeTaxExpense', 'Profit', 'CostOfSalesRatio', 'SellingGeneralAdministrativeRatio', 'SalesAndSellingGeneralAdministrativeRatio', 'IncomeTaxRatio', 'ProfitRatio', 'IncomeStatement', 'BalanceSheet', 'CalendarOneYear'])"
      ]
     },
     "execution_count": 13,
     "metadata": {},
     "output_type": "execute_result"
    }
   ],
   "source": [
    "ACC_DICT.keys()"
   ]
  },
  {
   "cell_type": "code",
   "execution_count": 20,
   "metadata": {},
   "outputs": [],
   "source": [
    "account = 'SalesAndSellingGeneralAdministrativeRatio'\n",
    "knowledge = 'IS'\n",
    "account = 'CostOfSalesRatio'\n",
    "bfs_tree = nx.bfs_successors(nx_graph, source=account) #  CostOfSalesRatio\n",
    "# dict(bfs_tree)"
   ]
  },
  {
   "cell_type": "code",
   "execution_count": 21,
   "metadata": {},
   "outputs": [],
   "source": [
    "nodes = set()\n",
    "for k, v in dict(bfs_tree).items():\n",
    "    for a in v:\n",
    "        nodes.add(a)\n",
    "    nodes.add(k)\n",
    "nodes = list(map(lambda x: f'acc:{x}', nodes))"
   ]
  },
  {
   "cell_type": "code",
   "execution_count": 30,
   "metadata": {},
   "outputs": [
    {
     "data": {
      "text/plain": [
       "['acc:Revenue', 'acc:CostOfSalesRatio', 'acc:CostOfSales']"
      ]
     },
     "execution_count": 30,
     "metadata": {},
     "output_type": "execute_result"
    }
   ],
   "source": [
    "nodes"
   ]
  },
  {
   "cell_type": "code",
   "execution_count": 31,
   "metadata": {},
   "outputs": [],
   "source": [
    "# Construct oppsited graph acc:hasPart acc:isDenominatorOf acc:isNumeratorOf\n",
    "query_statement = \"\"\"\n",
    "SELECT ?s ?p ?o WHERE { \n",
    "  ?s rdf:type acc:Account .\n",
    "  VALUES ?o { \"\"\" + f'{\" \".join(nodes)}' + \"\"\" }\n",
    "  VALUES ?p { acc:partOf acc:denominator acc:numerator } \n",
    "  ?s ?p ?o .\n",
    "}\n",
    "\"\"\"\n",
    "qres = g.query(query_statement)"
   ]
  },
  {
   "cell_type": "code",
   "execution_count": 32,
   "metadata": {},
   "outputs": [
    {
     "data": {
      "text/plain": [
       "[(rdflib.term.URIRef('http://fsqa.com/acc#CostOfSales'),\n",
       "  rdflib.term.URIRef('http://fsqa.com/acc#numerator'),\n",
       "  rdflib.term.URIRef('http://fsqa.com/acc#CostOfSalesRatio')),\n",
       " (rdflib.term.URIRef('http://fsqa.com/acc#Revenue'),\n",
       "  rdflib.term.URIRef('http://fsqa.com/acc#denominator'),\n",
       "  rdflib.term.URIRef('http://fsqa.com/acc#CostOfSalesRatio'))]"
      ]
     },
     "execution_count": 32,
     "metadata": {},
     "output_type": "execute_result"
    }
   ],
   "source": [
    "list(qres)"
   ]
  },
  {
   "cell_type": "code",
   "execution_count": 26,
   "metadata": {},
   "outputs": [],
   "source": [
    "# partOf면 + (* 부호)\n",
    "role_dict = {\n",
    "    'partOf': sum,\n",
    "    'numerator': 0,\n",
    "    'denominator': 1 \n",
    "}\n",
    "\n",
    "for src, link, trg in qres:\n",
    "    src = convert_to_string(src)\n",
    "    link = convert_to_string(link)\n",
    "    trg = convert_to_string(trg)\n",
    "    \n",
    "    src_fs, src_type, src_group = ACC_DICT[src]['group'].split('-')\n",
    "    trg_fs, trg_type, trg_group = ACC_DICT[trg]['group'].split('-')\n",
    "    \n",
    "    \n",
    "    break\n"
   ]
  },
  {
   "cell_type": "code",
   "execution_count": 28,
   "metadata": {},
   "outputs": [
    {
     "data": {
      "text/plain": [
       "{'name': '수익(매출액)',\n",
       " 'group': 'IS-Value-5',\n",
       " 'Account_Property': 'Positive',\n",
       " 'Account_Level': '5'}"
      ]
     },
     "execution_count": 28,
     "metadata": {},
     "output_type": "execute_result"
    }
   ],
   "source": [
    "ACC_DICT[src]"
   ]
  },
  {
   "cell_type": "code",
   "execution_count": 27,
   "metadata": {},
   "outputs": [
    {
     "data": {
      "text/plain": [
       "('IS', 'Value', '5')"
      ]
     },
     "execution_count": 27,
     "metadata": {},
     "output_type": "execute_result"
    }
   ],
   "source": [
    "src_fs, src_type, src_group"
   ]
  },
  {
   "cell_type": "code",
   "execution_count": 25,
   "metadata": {},
   "outputs": [
    {
     "data": {
      "text/plain": [
       "('CostOfSales', 'numerator', 'CostOfSalesRatio')"
      ]
     },
     "execution_count": 25,
     "metadata": {},
     "output_type": "execute_result"
    }
   ],
   "source": [
    "src, link, trg"
   ]
  },
  {
   "cell_type": "code",
   "execution_count": 19,
   "metadata": {},
   "outputs": [],
   "source": [
    "import psycopg\n",
    "from psycopg import sql"
   ]
  },
  {
   "cell_type": "code",
   "execution_count": null,
   "metadata": {},
   "outputs": [],
   "source": [
    "'({}, {}, {}, {}, {}, {}) VALUES (DEFAULT, %s, %s, %s, %s, %s) '"
   ]
  },
  {
   "cell_type": "code",
   "execution_count": null,
   "metadata": {},
   "outputs": [],
   "source": [
    "\"\"\"\n",
    "SELECT CAST(A.revenue AS REAL) / CAST(B.cor AS REAL)\n",
    "FROM (\n",
    "(SELECT T.value AS revenue FROM vt_is_005930 AS T\n",
    "WHERE \n",
    "    T.bsns_year = '2019' AND \n",
    "    T.quarter = '4Q' AND \n",
    "    T.account = 'Revenue') AS A\n",
    "JOIN \n",
    "(SELECT T.value AS cor FROM vt_is_005930 AS T\n",
    "WHERE \n",
    "    T.bsns_year = '2019' AND \n",
    "    T.quarter = '4Q' AND \n",
    "    T.account = 'CostOfSales') AS B ON 1=1\n",
    ")\n",
    "\"\"\""
   ]
  },
  {
   "cell_type": "code",
   "execution_count": null,
   "metadata": {},
   "outputs": [],
   "source": [
    "sql.SQL(\"SELECT {}({}, {}, {}, {}, {}, {}) VALUES (DEFAULT, %s, %s, %s, %s, %s) ;\").format(\n",
    "    sql.Identifier(f'vt_{knowledge.lower()}_005930'), *list(map(sql.Identifier, tables['income_statement']))\n",
    "),\n",
    "tuple([corp] + list(line.values))"
   ]
  },
  {
   "cell_type": "code",
   "execution_count": null,
   "metadata": {},
   "outputs": [],
   "source": [
    "\"\"\"\n",
    "SELECT T.bsns_year, T.quarter, T.value FROM vt_is_005930 AS T\n",
    "WHERE T.account = 'Revenue'\n",
    "\"\"\""
   ]
  },
  {
   "cell_type": "code",
   "execution_count": 60,
   "metadata": {},
   "outputs": [],
   "source": [
    "net = Network(height=\"800px\", width=\"100%\", directed=True, font_color=\"black\", heading='FSQA', notebook=False)\n",
    "size_dict = {\n",
    "    0: 20, 1: 18, 2: 16, 3: 14, 4: 12, 5: 10, 98: 12, 99: 10\n",
    "}\n",
    "\n",
    "for src, link, trg in qres:\n",
    "    src = convert_to_string(src)\n",
    "    link = convert_to_string(link)\n",
    "    trg = convert_to_string(trg)\n",
    "\n",
    "    src_label = ACC_DICT[src]['name']\n",
    "    trg_label = ACC_DICT[trg]['name']\n",
    "    src_fs, src_type, src_group = ACC_DICT[src]['group'].split('-')\n",
    "    trg_fs, trg_type, trg_group = ACC_DICT[trg]['group'].split('-')\n",
    "    src_title = f'Statement: {src_fs} Type: {src_type}'\n",
    "    trg_title = f'Statement: {trg_fs} Type: {trg_type}'\n",
    "    net.add_node(src, label=src, group=int(src_group), size=size_dict[int(src_group)], title=src_title)\n",
    "    net.add_node(trg, label=trg, group=int(trg_group), size=size_dict[int(trg_group)], title=trg_title)\n",
    "    net.add_edge(src, trg, weight=2, title=link)  # search 할때는 방향이 반대가 좋음\n",
    "net.show('temp.html')\n"
   ]
  },
  {
   "cell_type": "code",
   "execution_count": null,
   "metadata": {},
   "outputs": [],
   "source": [
    "query_format = \"\"\"\n",
    "SELECT \n",
    "FROM\n",
    "\"\"\""
   ]
  },
  {
   "cell_type": "code",
   "execution_count": null,
   "metadata": {},
   "outputs": [],
   "source": []
  },
  {
   "cell_type": "code",
   "execution_count": 85,
   "metadata": {},
   "outputs": [
    {
     "data": {
      "text/plain": [
       "{'CostOfSales', 'Revenue'}"
      ]
     },
     "execution_count": 85,
     "metadata": {},
     "output_type": "execute_result"
    }
   ],
   "source": [
    "class Warpper():\n",
    "    def __init__(self, net):\n",
    "        # if adj empty means have no requirements\n",
    "        self.adj_list = net.adj_list()\n",
    "\n",
    "    def getSQL(self):\n",
    "        \n",
    "        "
   ]
  },
  {
   "cell_type": "code",
   "execution_count": 34,
   "metadata": {},
   "outputs": [],
   "source": [
    "x = \"\"\"acc:BalanceSheet acc:Revenue acc:CostOfSales acc:GrossProfit acc:SellingGeneralAdministrativeExpenses \n",
    "acc:OperatingIncome acc:FinanceIncome acc:FinancialExpenses acc:ProfitBeforeTax acc:IncomeTaxExpense \n",
    "acc:Profit acc:IncomeStatement acc:CostOfSalesRatio acc:SellingGeneralAdministrativeRatio \n",
    "acc:SalesAndSellingGeneralAdministrativeRatio acc:IncomeTaxRatio acc:ProfitRatio acc:Ratios\n",
    "\"\"\".splitlines()\n",
    "x2 = \"\"\"acc:CurrentAssets acc:CashAndCashEquivalents acc:TradeAndOtherCurrentReceivables \n",
    "acc:PrepaidExpenses acc:Inventories acc:NoncurrentAssets acc:PropertyPlantAndEquipment \n",
    "acc:IntangibleAssets acc:AssetsAbstract acc:CurrentLiabilities acc:TradeAndOtherCurrentPayables \n",
    "acc:ShorttermBorrowings acc:AdvancesCustomers acc:NoncurrentLiabilities acc:BondsIssued acc:LongTermBorrowings \n",
    "acc:LiabilitiesAbstract acc:TotalEquity acc:LiabilitiesAndEquities acc:BalanceSheet acc:IncomeStatement \n",
    "acc:TradeReceivableTurnoverPeriod acc:InventoriesTurnoverPeriod acc:TradePayablesTurnoverPeriod \n",
    "acc:AdvancesCustomersTurnoverPeriod acc:Ratios acc:CalendarOneYear\n",
    "\"\"\".splitlines()\n",
    "acc_is = []\n",
    "acc_bs = [] \n",
    "for a in x:\n",
    "    acc_is.extend(a.strip().split(' '))\n",
    "for a in x2:\n",
    "    acc_bs.extend(a.strip().split(' '))"
   ]
  },
  {
   "cell_type": "code",
   "execution_count": 96,
   "metadata": {},
   "outputs": [],
   "source": [
    "query_statement = \"\"\"\n",
    "SELECT ?s ?p ?literal WHERE { \n",
    "  ?s a acc:Account . \n",
    "  VALUES ?p { acc:Account_Type acc:Account_Level } \n",
    "  ?s ?p ?literal .\n",
    "}\n",
    "\"\"\"\n",
    "qres = g.query(query_statement)\n",
    "# list(qres)[:2]"
   ]
  },
  {
   "cell_type": "code",
   "execution_count": 93,
   "metadata": {},
   "outputs": [],
   "source": [
    "for src, link, trg in qres:\n",
    "    src = convert_to_string(src)\n",
    "    link = convert_to_string(link)\n",
    "    trg = convert_to_string(trg)\n",
    "    break"
   ]
  },
  {
   "cell_type": "code",
   "execution_count": 95,
   "metadata": {},
   "outputs": [
    {
     "data": {
      "text/plain": [
       "('BalanceSheet', 'Value', 'Account_Type')"
      ]
     },
     "execution_count": 95,
     "metadata": {},
     "output_type": "execute_result"
    }
   ],
   "source": [
    "src, trg, link"
   ]
  },
  {
   "cell_type": "code",
   "execution_count": 89,
   "metadata": {},
   "outputs": [
    {
     "data": {
      "text/plain": [
       "defaultdict(dict,\n",
       "            {'CurrentAssets': {'name': '유동자산', 'group': 'BS-Value-3'},\n",
       "             'CashAndCashEquivalents': {'name': '현금및현금성자산',\n",
       "              'group': 'BS-Value-4'},\n",
       "             'TradeAndOtherCurrentReceivables': {'name': '매출채권',\n",
       "              'group': 'BS-Value-4'},\n",
       "             'PrepaidExpenses': {'name': '선급비용', 'group': 'BS-Value-4'},\n",
       "             'Inventories': {'name': '재고자산', 'group': 'BS-Value-4'},\n",
       "             'NoncurrentAssets': {'name': '비유동자산', 'group': 'BS-Value-3'},\n",
       "             'PropertyPlantAndEquipment': {'name': '유형자산',\n",
       "              'group': 'BS-Value-4'},\n",
       "             'IntangibleAssets': {'name': '무형자산', 'group': 'BS-Value-4'},\n",
       "             'AssetsAbstract': {'name': '자산총계', 'group': 'BS-Value-1'},\n",
       "             'CurrentLiabilities': {'name': '유동부채', 'group': 'BS-Value-3'},\n",
       "             'TradeAndOtherCurrentPayables': {'name': '매입채무 및 기타유동채무',\n",
       "              'group': 'BS-Value-4'},\n",
       "             'ShorttermBorrowings': {'name': '단기차입금', 'group': 'BS-Value-4'},\n",
       "             'AdvancesCustomers': {'name': '선수금', 'group': 'BS-Value-4'},\n",
       "             'NoncurrentLiabilities': {'name': '비유동부채', 'group': 'BS-Value-3'},\n",
       "             'BondsIssued': {'name': '사채', 'group': 'BS-Value-4'},\n",
       "             'LongTermBorrowings': {'name': '장기차입금', 'group': 'BS-Value-4'},\n",
       "             'LiabilitiesAbstract': {'name': '부채총계', 'group': 'BS-Value-2'},\n",
       "             'TotalEquity': {'name': '자본총계', 'group': 'BS-Value-2'},\n",
       "             'LiabilitiesAndEquities': {'name': '부채와자본총계',\n",
       "              'group': 'BS-Value-1'},\n",
       "             'TradeReceivableTurnoverPeriod': {'name': '매출채권 회전기간',\n",
       "              'group': 'BS-Ratio-98'},\n",
       "             'PrepaidExpensesTurnoverPeriod': {'name': '선급비용 회전기간',\n",
       "              'group': 'BS-Ratio-98'},\n",
       "             'InventoriesTurnoverPeriod': {'name': '재고자산 회전기간',\n",
       "              'group': 'BS-Ratio-98'},\n",
       "             'TradePayablesTurnoverPeriod': {'name': '매입채무 회전기간',\n",
       "              'group': 'BS-Ratio-98'},\n",
       "             'AdvancesCustomersTurnoverPeriod': {'name': '선수금 회전기간',\n",
       "              'group': 'BS-Ratio-98'},\n",
       "             'Revenue': {'name': '수익(매출액)', 'group': 'IS-Value-5'},\n",
       "             'CostOfSales': {'name': '매출원가', 'group': 'IS-Value-5'},\n",
       "             'GrossProfit': {'name': '매출총이익', 'group': 'IS-Value-4'},\n",
       "             'SellingGeneralAdministrativeExpenses': {'name': '판매비와관리비',\n",
       "              'group': 'IS-Value-4'},\n",
       "             'OperatingIncome': {'name': '영업이익', 'group': 'IS-Value-3'},\n",
       "             'FinanceIncome': {'name': '금융수익', 'group': 'IS-Value-3'},\n",
       "             'FinancialExpenses': {'name': '금융비용', 'group': 'IS-Value-3'},\n",
       "             'ProfitBeforeTax': {'name': '법인세비용차감전순이익(손실)',\n",
       "              'group': 'IS-Value-2'},\n",
       "             'IncomeTaxExpense': {'name': '법인세비용', 'group': 'IS-Value-2'},\n",
       "             'Profit': {'name': '당기순이익(손실)', 'group': 'IS-Value-1'},\n",
       "             'CostOfSalesRatio': {'name': '매출원가율', 'group': 'IS-Ratio-98'},\n",
       "             'SellingGeneralAdministrativeRatio': {'name': '판관비율',\n",
       "              'group': 'IS-Ratio-98'},\n",
       "             'SalesAndSellingGeneralAdministrativeRatio': {'name': '매출 및 판관 비율',\n",
       "              'group': 'IS-Ratio-98'},\n",
       "             'IncomeTaxRatio': {'name': '법인세율', 'group': 'IS-Ratio-98'},\n",
       "             'ProfitRatio': {'name': '순이익율', 'group': 'IS-Ratio-98'},\n",
       "             'IncomeStatement': {'name': '손익계산서', 'group': 'IS-Value-0'},\n",
       "             'BalanceSheet': {'name': '재무상태표', 'group': 'BS-Value-0'},\n",
       "             'CalendarOneYear': {'name': '365 일', 'group': 'TIME-Value-99'}})"
      ]
     },
     "execution_count": 89,
     "metadata": {},
     "output_type": "execute_result"
    }
   ],
   "source": [
    "ACC_DICT"
   ]
  },
  {
   "cell_type": "code",
   "execution_count": null,
   "metadata": {},
   "outputs": [],
   "source": []
  }
 ],
 "metadata": {
  "interpreter": {
   "hash": "a4ed9b19307c800d89a3002578f776a0fb528ed3e6b1903878767ebecc1b6c32"
  },
  "kernelspec": {
   "display_name": "Python 3 (ipykernel)",
   "language": "python",
   "name": "python3"
  },
  "language_info": {
   "codemirror_mode": {
    "name": "ipython",
    "version": 3
   },
   "file_extension": ".py",
   "mimetype": "text/x-python",
   "name": "python",
   "nbconvert_exporter": "python",
   "pygments_lexer": "ipython3",
   "version": "3.8.12"
  }
 },
 "nbformat": 4,
 "nbformat_minor": 4
}
