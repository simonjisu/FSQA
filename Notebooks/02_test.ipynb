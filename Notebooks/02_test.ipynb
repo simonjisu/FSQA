{
 "cells": [
  {
   "cell_type": "markdown",
   "metadata": {},
   "source": [
    "## Tutorial for CSVtoRDF\n",
    "\n",
    "https://stackoverflow.com/questions/43524943/creating-rdf-file-using-csv-file-as-input"
   ]
  },
  {
   "cell_type": "code",
   "execution_count": 1,
   "metadata": {},
   "outputs": [],
   "source": [
    "from rdflib import Graph, Literal, RDF, URIRef, Namespace #basic RDF handling\n",
    "from rdflib.namespace import FOAF, XSD #most common namespaces\n",
    "import urllib.parse #for parsing strings to URI's\n",
    "import pandas as pd"
   ]
  },
  {
   "cell_type": "code",
   "execution_count": 5,
   "metadata": {},
   "outputs": [],
   "source": [
    "url='https://raw.githubusercontent.com/KRontheWeb/csv2rdf-tutorial/master/example.csv'\n",
    "df=pd.read_csv(url,sep=\";\",quotechar='\"')"
   ]
  },
  {
   "cell_type": "code",
   "execution_count": 6,
   "metadata": {},
   "outputs": [
    {
     "data": {
      "text/html": [
       "<div>\n",
       "<style scoped>\n",
       "    .dataframe tbody tr th:only-of-type {\n",
       "        vertical-align: middle;\n",
       "    }\n",
       "\n",
       "    .dataframe tbody tr th {\n",
       "        vertical-align: top;\n",
       "    }\n",
       "\n",
       "    .dataframe thead th {\n",
       "        text-align: right;\n",
       "    }\n",
       "</style>\n",
       "<table border=\"1\" class=\"dataframe\">\n",
       "  <thead>\n",
       "    <tr style=\"text-align: right;\">\n",
       "      <th></th>\n",
       "      <th>Name</th>\n",
       "      <th>Address</th>\n",
       "      <th>Place</th>\n",
       "      <th>Country</th>\n",
       "      <th>Age</th>\n",
       "      <th>Hobby</th>\n",
       "      <th>Favourite Colour</th>\n",
       "    </tr>\n",
       "  </thead>\n",
       "  <tbody>\n",
       "    <tr>\n",
       "      <th>0</th>\n",
       "      <td>John</td>\n",
       "      <td>Dam 52</td>\n",
       "      <td>Amsterdam</td>\n",
       "      <td>The Netherlands</td>\n",
       "      <td>32</td>\n",
       "      <td>Fishing</td>\n",
       "      <td>Blue</td>\n",
       "    </tr>\n",
       "    <tr>\n",
       "      <th>1</th>\n",
       "      <td>Jenny</td>\n",
       "      <td>Leidseplein 2</td>\n",
       "      <td>Amsterdam</td>\n",
       "      <td>The Netherlands</td>\n",
       "      <td>12</td>\n",
       "      <td>Dancing</td>\n",
       "      <td>Mauve</td>\n",
       "    </tr>\n",
       "    <tr>\n",
       "      <th>2</th>\n",
       "      <td>Jill</td>\n",
       "      <td>52W Street 5</td>\n",
       "      <td>Amsterdam</td>\n",
       "      <td>United States of America</td>\n",
       "      <td>28</td>\n",
       "      <td>Carpentry</td>\n",
       "      <td>Cyan</td>\n",
       "    </tr>\n",
       "    <tr>\n",
       "      <th>3</th>\n",
       "      <td>Jake</td>\n",
       "      <td>12E Street 98</td>\n",
       "      <td>Amsterdam</td>\n",
       "      <td>United States of America</td>\n",
       "      <td>42</td>\n",
       "      <td>Ballet</td>\n",
       "      <td>Purple</td>\n",
       "    </tr>\n",
       "  </tbody>\n",
       "</table>\n",
       "</div>"
      ],
      "text/plain": [
       "    Name        Address      Place                   Country  Age      Hobby  \\\n",
       "0   John         Dam 52  Amsterdam           The Netherlands   32    Fishing   \n",
       "1  Jenny  Leidseplein 2  Amsterdam           The Netherlands   12    Dancing   \n",
       "2   Jill   52W Street 5  Amsterdam  United States of America   28  Carpentry   \n",
       "3   Jake  12E Street 98  Amsterdam  United States of America   42     Ballet   \n",
       "\n",
       "  Favourite Colour  \n",
       "0             Blue  \n",
       "1            Mauve  \n",
       "2             Cyan  \n",
       "3           Purple  "
      ]
     },
     "execution_count": 6,
     "metadata": {},
     "output_type": "execute_result"
    }
   ],
   "source": [
    "df"
   ]
  },
  {
   "cell_type": "code",
   "execution_count": 7,
   "metadata": {},
   "outputs": [],
   "source": [
    "g = Graph()\n",
    "ppl = Namespace('http://example.com/people/')\n",
    "loc = Namespace('http://mylocations.org/addresses/')\n",
    "schema = Namespace('http://schema.org/')"
   ]
  },
  {
   "cell_type": "code",
   "execution_count": 8,
   "metadata": {
    "tags": []
   },
   "outputs": [],
   "source": [
    "for index, row in df.iterrows():\n",
    "    g.add((URIRef(ppl+row['Name']), RDF.type, FOAF.Person))\n",
    "    g.add((URIRef(ppl+row['Name']), URIRef(schema+'name'), Literal(row['Name'], datatype=XSD.string) ))\n",
    "    g.add((URIRef(ppl+row['Name']), FOAF.age, Literal(row['Age'], datatype=XSD.integer) ))\n",
    "    g.add((URIRef(ppl+row['Name']), URIRef(schema+'address'), Literal(row['Address'], datatype=XSD.string) ))\n",
    "    g.add((URIRef(loc+urllib.parse.quote(row['Address'])), URIRef(schema+'name'), Literal(row['Address'], datatype=XSD.string) ))"
   ]
  },
  {
   "cell_type": "code",
   "execution_count": 10,
   "metadata": {},
   "outputs": [
    {
     "name": "stdout",
     "output_type": "stream",
     "text": [
      "@prefix ns1: <http://xmlns.com/foaf/0.1/> .\n",
      "@prefix ns2: <http://schema.org/> .\n",
      "@prefix xsd: <http://www.w3.org/2001/XMLSchema#> .\n",
      "\n",
      "<http://example.com/people/Jake> a ns1:Person ;\n",
      "    ns2:address \"12E Street 98\"^^xsd:string ;\n",
      "    ns2:name \"Jake\"^^xsd:string ;\n",
      "    ns1:age 42 .\n",
      "\n",
      "<http://example.com/people/Jenny> a ns1:Person ;\n",
      "    ns2:address \"Leidseplein 2\"^^xsd:string ;\n",
      "    ns2:name \"Jenny\"^^xsd:string ;\n",
      "    ns1:age 12 .\n",
      "\n",
      "<http://example.com/people/Jill> a ns1:Person ;\n",
      "    ns2:address \"52W Street 5\"^^xsd:string ;\n",
      "    ns2:name \"Jill\"^^xsd:string ;\n",
      "    ns1:age 28 .\n",
      "\n",
      "<http://example.com/people/John> a ns1:Person ;\n",
      "    ns2:address \"Dam 52\"^^xsd:string ;\n",
      "    ns2:name \"John\"^^xsd:string ;\n",
      "    ns1:age 32 .\n",
      "\n",
      "<http://mylocations.org/addresses/12E%20Street%2098> ns2:name \"12E Street 98\"^^xsd:string .\n",
      "\n",
      "<http://mylocations.org/addresses/52W%20Street%205> ns2:name \"52W Street 5\"^^xsd:string .\n",
      "\n",
      "<http://mylocations.org/addresses/Dam%2052> ns2:name \"Dam 52\"^^xsd:string .\n",
      "\n",
      "<http://mylocations.org/addresses/Leidseplein%202> ns2:name \"Leidseplein 2\"^^xsd:string .\n",
      "\n",
      "\n"
     ]
    },
    {
     "data": {
      "text/plain": [
       "<Graph identifier=N42150f30038f4cdaa20c991a4360946a (<class 'rdflib.graph.Graph'>)>"
      ]
     },
     "execution_count": 10,
     "metadata": {},
     "output_type": "execute_result"
    }
   ],
   "source": [
    "print(g.serialize(format='turtle'))\n",
    "g.serialize('example.ttl',format='turtle')"
   ]
  },
  {
   "cell_type": "code",
   "execution_count": 136,
   "metadata": {},
   "outputs": [],
   "source": [
    "from rdflib import Graph, Literal, RDF, URIRef, Namespace #basic RDF handling\n",
    "from rdflib.namespace import CSVW, DC, DCAT, DCTERMS, DOAP, FOAF, ODRL2, ORG, OWL, \\\n",
    "                           PROF, PROV, RDF, RDFS, SDO, SH, SKOS, SOSA, SSN, TIME, \\\n",
    "                           VOID, XMLNS, XSD\n",
    "import urllib.parse #for parsing strings to URI's\n",
    "import pandas as pd\n",
    "from pathlib import Path\n",
    "\n",
    "main_path = Path().absolute().parent\n",
    "data_path = main_path / 'data'"
   ]
  },
  {
   "cell_type": "code",
   "execution_count": 137,
   "metadata": {},
   "outputs": [],
   "source": [
    "# full\n",
    "df = pd.read_csv(data_path / 'AccountRDF.csv', encoding='utf-8')\n",
    "ns_acc = Namespace('http://fsqa.com/acc#')\n",
    "namespace_dict = {\n",
    "    'acc': ns_acc, 'time': TIME, 'rdf': RDF, 'rdfs': RDFS, None: ''\n",
    "}\n",
    "g = Graph()\n",
    "g.bind('rdf', RDF)\n",
    "g.bind('time', TIME)\n",
    "g.bind('acc', ns_acc, override=True)\n",
    "for index, row in df.iterrows():\n",
    "    s_ns, s = row['subject'].split(':')\n",
    "    p_ns, p = row['predicate'].split(':')\n",
    "    if len(row['object'].split(':')) < 2:\n",
    "        o_ns, o = None, row['object']\n",
    "    else:\n",
    "        o_ns, o = row['object'].split(':')\n",
    "    \n",
    "    if o_ns is None:\n",
    "        g.add( (URIRef(namespace_dict[s_ns]+s), URIRef(namespace_dict[p_ns]+p), Literal(o, datatype=XSD.string)) )\n",
    "    else:\n",
    "        g.add( (URIRef(namespace_dict[s_ns]+s), URIRef(namespace_dict[p_ns]+p), URIRef(namespace_dict[o_ns]+o)) )"
   ]
  },
  {
   "cell_type": "code",
   "execution_count": 138,
   "metadata": {},
   "outputs": [
    {
     "data": {
      "text/plain": [
       "<Graph identifier=Na72b615b0229458f8802af51c7d8ce19 (<class 'rdflib.graph.Graph'>)>"
      ]
     },
     "execution_count": 138,
     "metadata": {},
     "output_type": "execute_result"
    }
   ],
   "source": [
    "g.serialize(data_path / 'AccountRDF.ttl', format='turtle')\n",
    "g.serialize(data_path / 'AccountRDF.xml', format='xml', encoding='utf-8')"
   ]
  },
  {
   "cell_type": "code",
   "execution_count": 139,
   "metadata": {},
   "outputs": [
    {
     "data": {
      "text/plain": [
       "<Graph identifier=Nbb591ae8e7904fd59bfab8980f811210 (<class 'rdflib.graph.Graph'>)>"
      ]
     },
     "execution_count": 139,
     "metadata": {},
     "output_type": "execute_result"
    }
   ],
   "source": [
    "g = Graph()\n",
    "g.load(data_path / 'AccountRDF.ttl', format='ttl')"
   ]
  },
  {
   "cell_type": "code",
   "execution_count": 63,
   "metadata": {},
   "outputs": [
    {
     "name": "stdout",
     "output_type": "stream",
     "text": [
      "(rdflib.term.URIRef('http://www.w3.org/1999/02/22-rdf-syntax-ns#type'), rdflib.term.URIRef('http://fsqa.com/acc#Account'))\n",
      "(rdflib.term.URIRef('http://www.w3.org/2000/01/rdf-schema#label'), rdflib.term.Literal('매출원가', datatype=rdflib.term.URIRef('http://www.w3.org/2001/XMLSchema#string')))\n",
      "(rdflib.term.URIRef('http://fsqa.com/acc#Account_Belonging'), rdflib.term.URIRef('http://fsqa.com/acc#IncomeStatement'))\n",
      "(rdflib.term.URIRef('http://fsqa.com/acc#Account_Type'), rdflib.term.Literal('Value', datatype=rdflib.term.URIRef('http://www.w3.org/2001/XMLSchema#string')))\n",
      "(rdflib.term.URIRef('http://fsqa.com/acc#numerator'), rdflib.term.URIRef('http://fsqa.com/acc#CostOfSalesRatio'))\n",
      "(rdflib.term.URIRef('http://fsqa.com/acc#partOf'), rdflib.term.URIRef('http://fsqa.com/acc#GrossProfit'))\n"
     ]
    }
   ],
   "source": [
    "# show only BalanceSheet\n",
    "query_string = \"\"\"\n",
    "SELECT ?p ?o\n",
    "WHERE {\n",
    "    acc:CostOfSales ?p ?o .\n",
    "    FILTER \n",
    "}\n",
    "\"\"\"\n",
    "qres = g.query(query_string)\n",
    "for x in qres:\n",
    "    print(f'{x}')"
   ]
  },
  {
   "cell_type": "code",
   "execution_count": 49,
   "metadata": {},
   "outputs": [
    {
     "name": "stdout",
     "output_type": "stream",
     "text": [
      "(rdflib.term.Literal('재고자산 회전기간', datatype=rdflib.term.URIRef('http://www.w3.org/2001/XMLSchema#string')),)\n"
     ]
    }
   ],
   "source": [
    "# show only BalanceSheet\n",
    "query_string = \"\"\"\n",
    "select distinct ?literal { \n",
    "  ?s ?p ?literal \n",
    "  filter isLiteral(?literal)\n",
    "}\n",
    "\"\"\"\n",
    "qres = g.query(query_string)\n",
    "for x in qres:\n",
    "    print(f'{x}')\n",
    "    break"
   ]
  },
  {
   "cell_type": "code",
   "execution_count": 140,
   "metadata": {},
   "outputs": [
    {
     "name": "stdout",
     "output_type": "stream",
     "text": [
      "acc:BalanceSheet acc:Revenue acc:CostOfSales acc:GrossProfit acc:SellingGeneralAdministrativeExpenses acc:OperatingIncome acc:FinanceIncome acc:FinancialExpenses acc:ProfitBeforeTax acc:IncomeTaxExpense acc:Profit acc:IncomeStatement\n"
     ]
    }
   ],
   "source": [
    "accs = list(df.loc[\n",
    "    (df['object'] == 'acc:IncomeStatement') | (df['object'] == 'acc:FinancialStatement'), \n",
    "    'subject'].unique())\n",
    "print(' '.join(accs))\n"
   ]
  },
  {
   "cell_type": "markdown",
   "metadata": {},
   "source": [
    "acc:BalanceSheet acc:Revenue acc:CostOfSales acc:GrossProfit acc:SellingGeneralAdministrativeExpenses acc:OperatingIncome acc:FinanceIncome acc:FinancialExpenses acc:ProfitBeforeTax acc:IncomeTaxExpense acc:Profit acc:IncomeStatement acc:CostOfSalesRatio acc:SellingGeneralAdministrativeRatio acc:SalesAndSellingGeneralAdministrativeRatio acc:IncomeTaxRatio acc:ProfitRatio acc:Ratios"
   ]
  },
  {
   "cell_type": "code",
   "execution_count": 141,
   "metadata": {},
   "outputs": [
    {
     "name": "stdout",
     "output_type": "stream",
     "text": [
      "acc:CurrentAssets acc:CashAndCashEquivalents acc:TradeAndOtherCurrentReceivables acc:PrepaidExpenses acc:Inventories acc:NoncurrentAssets acc:PropertyPlantAndEquipment acc:IntangibleAssets acc:AssetsAbstract acc:CurrentLiabilities acc:TradeAndOtherCurrentPayables acc:ShorttermBorrowings acc:AdvancesCustomers acc:NoncurrentLiabilities acc:BondsIssued acc:LongTermBorrowings acc:LiabilitiesAbstract acc:TotalEquity acc:LiabilitiesAndEquities acc:BalanceSheet acc:IncomeStatement\n"
     ]
    }
   ],
   "source": [
    "accs = list(df.loc[\n",
    "    (df['object'] == 'acc:BalanceSheet') | (df['object'] == 'acc:FinancialStatement'), \n",
    "    'subject'].unique())\n",
    "print(' '.join(accs))\n"
   ]
  },
  {
   "cell_type": "markdown",
   "metadata": {},
   "source": [
    "acc:CurrentAssets acc:CashAndCashEquivalents acc:TradeAndOtherCurrentReceivables acc:PrepaidExpenses acc:Inventories acc:NoncurrentAssets acc:PropertyPlantAndEquipment acc:IntangibleAssets acc:AssetsAbstract acc:CurrentLiabilities acc:TradeAndOtherCurrentPayables acc:ShorttermBorrowings acc:AdvancesCustomers acc:NoncurrentLiabilities acc:BondsIssued acc:LongTermBorrowings acc:LiabilitiesAbstract acc:TotalEquity acc:LiabilitiesAndEquities acc:BalanceSheet acc:IncomeStatement acc:TradeReceivableTurnoverPeriod acc:InventoriesTurnoverPeriod acc:TradePayablesTurnoverPeriod acc:AdvancesCustomersTurnoverPeriod acc:Ratios acc:CalendarOneYear"
   ]
  },
  {
   "cell_type": "code",
   "execution_count": 145,
   "metadata": {},
   "outputs": [
    {
     "data": {
      "text/plain": [
       "[(rdflib.term.URIRef('http://fsqa.com/acc#Revenue'),\n",
       "  rdflib.term.URIRef('http://fsqa.com/acc#partOf'),\n",
       "  rdflib.term.URIRef('http://fsqa.com/acc#GrossProfit')),\n",
       " (rdflib.term.URIRef('http://fsqa.com/acc#Revenue'),\n",
       "  rdflib.term.URIRef('http://fsqa.com/acc#denominator'),\n",
       "  rdflib.term.URIRef('http://fsqa.com/acc#CostOfSalesRatio'))]"
      ]
     },
     "execution_count": 145,
     "metadata": {},
     "output_type": "execute_result"
    }
   ],
   "source": [
    "# BalanceSheet\n",
    "query_statement = \"\"\"\n",
    "SELECT ?s ?p ?o WHERE { \n",
    "  VALUES ?s { acc:BalanceSheet acc:Revenue acc:CostOfSales acc:GrossProfit acc:SellingGeneralAdministrativeExpenses acc:OperatingIncome acc:FinanceIncome acc:FinancialExpenses acc:ProfitBeforeTax acc:IncomeTaxExpense acc:Profit acc:IncomeStatement acc:CostOfSalesRatio acc:SellingGeneralAdministrativeRatio acc:SalesAndSellingGeneralAdministrativeRatio acc:IncomeTaxRatio acc:ProfitRatio acc:Ratios }\n",
    "  VALUES ?o { acc:BalanceSheet acc:Revenue acc:CostOfSales acc:GrossProfit acc:SellingGeneralAdministrativeExpenses acc:OperatingIncome acc:FinanceIncome acc:FinancialExpenses acc:ProfitBeforeTax acc:IncomeTaxExpense acc:Profit acc:IncomeStatement acc:CostOfSalesRatio acc:SellingGeneralAdministrativeRatio acc:SalesAndSellingGeneralAdministrativeRatio acc:IncomeTaxRatio acc:ProfitRatio acc:Ratios }\n",
    "  VALUES ?p { acc:partOf acc:denominator acc:numerator } \n",
    "  ?s ?p ?o .\n",
    "}\n",
    "\"\"\"\n",
    "qres = g.query(query_statement)\n",
    "list(qres)[:2]"
   ]
  },
  {
   "cell_type": "code",
   "execution_count": 148,
   "metadata": {},
   "outputs": [
    {
     "data": {
      "text/plain": [
       "[(rdflib.term.URIRef('http://fsqa.com/acc#CurrentAssets'),\n",
       "  rdflib.term.URIRef('http://fsqa.com/acc#partOf'),\n",
       "  rdflib.term.URIRef('http://fsqa.com/acc#AssetsAbstract')),\n",
       " (rdflib.term.URIRef('http://fsqa.com/acc#CashAndCashEquivalents'),\n",
       "  rdflib.term.URIRef('http://fsqa.com/acc#partOf'),\n",
       "  rdflib.term.URIRef('http://fsqa.com/acc#CurrentAssets'))]"
      ]
     },
     "execution_count": 148,
     "metadata": {},
     "output_type": "execute_result"
    }
   ],
   "source": [
    "# BalanceSheet\n",
    "query_statement = \"\"\"\n",
    "SELECT ?s ?p ?o WHERE { \n",
    "  VALUES ?s { acc:CurrentAssets acc:CashAndCashEquivalents acc:TradeAndOtherCurrentReceivables acc:PrepaidExpenses acc:Inventories acc:NoncurrentAssets acc:PropertyPlantAndEquipment acc:IntangibleAssets acc:AssetsAbstract acc:CurrentLiabilities acc:TradeAndOtherCurrentPayables acc:ShorttermBorrowings acc:AdvancesCustomers acc:NoncurrentLiabilities acc:BondsIssued acc:LongTermBorrowings acc:LiabilitiesAbstract acc:TotalEquity acc:LiabilitiesAndEquities acc:BalanceSheet acc:IncomeStatement acc:TradeReceivableTurnoverPeriod acc:InventoriesTurnoverPeriod acc:TradePayablesTurnoverPeriod acc:AdvancesCustomersTurnoverPeriod acc:Ratios acc:CalendarOneYear }\n",
    "  VALUES ?o { acc:CurrentAssets acc:CashAndCashEquivalents acc:TradeAndOtherCurrentReceivables acc:PrepaidExpenses acc:Inventories acc:NoncurrentAssets acc:PropertyPlantAndEquipment acc:IntangibleAssets acc:AssetsAbstract acc:CurrentLiabilities acc:TradeAndOtherCurrentPayables acc:ShorttermBorrowings acc:AdvancesCustomers acc:NoncurrentLiabilities acc:BondsIssued acc:LongTermBorrowings acc:LiabilitiesAbstract acc:TotalEquity acc:LiabilitiesAndEquities acc:BalanceSheet acc:IncomeStatement acc:TradeReceivableTurnoverPeriod acc:InventoriesTurnoverPeriod acc:TradePayablesTurnoverPeriod acc:AdvancesCustomersTurnoverPeriod acc:Ratios acc:CalendarOneYear }\n",
    "  VALUES ?p { acc:partOf acc:denominator acc:numerator } \n",
    "  ?s ?p ?o .\n",
    "}\n",
    "\"\"\"\n",
    "qres = g.query(query_statement)\n",
    "list(qres)[:2]"
   ]
  },
  {
   "cell_type": "code",
   "execution_count": 20,
   "metadata": {},
   "outputs": [
    {
     "data": {
      "text/plain": [
       "[(rdflib.term.URIRef('http://fsqa.com/acc#CashAndCashEquivalents'),\n",
       "  rdflib.term.URIRef('http://fsqa.com/acc#partOf'),\n",
       "  rdflib.term.URIRef('http://fsqa.com/acc#CurrentAssets')),\n",
       " (rdflib.term.URIRef('http://fsqa.com/acc#TradeAndOtherCurrentReceivables'),\n",
       "  rdflib.term.URIRef('http://fsqa.com/acc#partOf'),\n",
       "  rdflib.term.URIRef('http://fsqa.com/acc#CurrentAssets')),\n",
       " (rdflib.term.URIRef('http://fsqa.com/acc#PrepaidExpenses'),\n",
       "  rdflib.term.URIRef('http://fsqa.com/acc#partOf'),\n",
       "  rdflib.term.URIRef('http://fsqa.com/acc#CurrentAssets')),\n",
       " (rdflib.term.URIRef('http://fsqa.com/acc#PropertyPlantAndEquipment'),\n",
       "  rdflib.term.URIRef('http://fsqa.com/acc#partOf'),\n",
       "  rdflib.term.URIRef('http://fsqa.com/acc#NoncurrentAssets')),\n",
       " (rdflib.term.URIRef('http://fsqa.com/acc#NoncurrentAssets'),\n",
       "  rdflib.term.URIRef('http://fsqa.com/acc#partOf'),\n",
       "  rdflib.term.URIRef('http://fsqa.com/acc#AssetsAbstract'))]"
      ]
     },
     "execution_count": 20,
     "metadata": {},
     "output_type": "execute_result"
    }
   ],
   "source": [
    "# relationship Incomstatement\n",
    "\n",
    "query_statement = \"\"\"\n",
    "SELECT ?s ?p ?o WHERE { \n",
    "  VALUES ?s { acc:CashAndCashEquivalents acc:TradeAndOtherCurrentReceivables acc:PrepaidExpenses acc:PropertyPlantAndEquipment acc:NoncurrentAssets acc:CurrentAssets }\n",
    "  VALUES ?o { acc:CurrentAssets acc:NoncurrentAssets acc:AssetsAbstract }\n",
    "  ?s ?p ?o .\n",
    "}\n",
    "\"\"\"\n",
    "qres = g.query(query_statement)\n",
    "list(qres)[:5]"
   ]
  },
  {
   "cell_type": "code",
   "execution_count": 31,
   "metadata": {},
   "outputs": [],
   "source": [
    "import networkx as nx\n",
    "import matplotlib.pyplot as plt\n",
    "from pyvis.network import Network\n",
    "from collections import defaultdict"
   ]
  },
  {
   "cell_type": "code",
   "execution_count": 159,
   "metadata": {},
   "outputs": [],
   "source": [
    "df_account = pd.read_csv(data_path / 'AccountName.csv', encoding='utf-8')\n",
    "ACC_DICT = defaultdict(dict)\n",
    "for index, row in df_account.iterrows():\n",
    "    eng = row['acc_name_eng']\n",
    "    kor = row['acc_name_kor']\n",
    "    group = row['group']\n",
    "    ACC_DICT[eng]['name'] = kor\n",
    "    ACC_DICT[eng]['group'] = group\n",
    "ACC_DICT['CalendarOneYear']['name'] = '365 일'\n",
    "ACC_DICT['CalendarOneYear']['group'] = 'TIME-Value-99'"
   ]
  },
  {
   "cell_type": "code",
   "execution_count": 160,
   "metadata": {},
   "outputs": [
    {
     "data": {
      "text/plain": [
       "{'BS-Ratio-98': ['매출채권 회전기간',\n",
       "  '선급비용 회전기간',\n",
       "  '재고자산 회전기간',\n",
       "  '매입채무 회전기간',\n",
       "  '선수금 회전기간'],\n",
       " 'BS-Value-0': ['재무상태표'],\n",
       " 'BS-Value-1': ['자산총계', '부채와자본총계'],\n",
       " 'BS-Value-2': ['부채총계', '자본총계'],\n",
       " 'BS-Value-3': ['유동자산', '비유동자산', '유동부채', '비유동부채'],\n",
       " 'BS-Value-4': ['현금및현금성자산',\n",
       "  '매출채권',\n",
       "  '선급비용',\n",
       "  '재고자산',\n",
       "  '유형자산',\n",
       "  '무형자산',\n",
       "  '매입채무 및 기타유동채무',\n",
       "  '단기차입금',\n",
       "  '선수금',\n",
       "  '사채',\n",
       "  '장기차입금'],\n",
       " 'IS-Ratio-98': ['매출원가율', '판관비율', '매출 및 판관 비율', '법인세율', '순이익율'],\n",
       " 'IS-Value-0': ['손익계산서'],\n",
       " 'IS-Value-1': ['당기순이익(손실)'],\n",
       " 'IS-Value-2': ['법인세비용차감전순이익(손실)', '법인세비용'],\n",
       " 'IS-Value-3': ['영업이익', '금융수익', '금융비용'],\n",
       " 'IS-Value-4': ['매출총이익', '판매비와관리비'],\n",
       " 'IS-Value-5': ['수익(매출액)', '매출원가']}"
      ]
     },
     "execution_count": 160,
     "metadata": {},
     "output_type": "execute_result"
    }
   ],
   "source": [
    "df_account.groupby('group')['acc_name_kor'].apply(lambda x: list(x)).to_dict()"
   ]
  },
  {
   "cell_type": "code",
   "execution_count": 161,
   "metadata": {},
   "outputs": [],
   "source": [
    "net = Network(height=\"800px\", width=\"100%\", directed=True, font_color=\"black\", heading='FSQA', notebook=False)\n",
    "size_dict = {\n",
    "    0: 20, 1: 18, 2: 16, 3: 14, 4: 12, 5: 10, 98: 12, 99: 10\n",
    "}\n",
    "def convert_to_string(x):\n",
    "    if isinstance(x, URIRef):\n",
    "        if len(x.split('#')) == 2:\n",
    "            return x.split('#')[1]\n",
    "        else:\n",
    "            raise ValueError(f'Split error {x}')\n",
    "    elif isinstance(x, Literal):\n",
    "        return str(x)\n",
    "    else:\n",
    "        raise ValueError(f'Returned None')\n",
    "\n",
    "for src, link, trg in qres:\n",
    "    src = convert_to_string(src)\n",
    "    link = convert_to_string(link)\n",
    "    trg = convert_to_string(trg)\n",
    "    \n",
    "    src_label = ACC_DICT[src]['name']\n",
    "    trg_label = ACC_DICT[trg]['name']\n",
    "    src_fs, src_type, src_group = ACC_DICT[src]['group'].split('-')\n",
    "    trg_fs, trg_type, trg_group = ACC_DICT[trg]['group'].split('-')\n",
    "    src_title = f'Statement: {src_fs} Type: {src_type}'\n",
    "    trg_title = f'Statement: {trg_fs} Type: {trg_type}'\n",
    "    net.add_node(src_label, src_label, group=int(src_group), size=size_dict[int(src_group)], title=src_title)\n",
    "    net.add_node(trg_label, trg_label, group=int(trg_group), size=size_dict[int(trg_group)], title=trg_title)\n",
    "    net.add_edge(src_label, trg_label, weight=2, titel=link)"
   ]
  },
  {
   "cell_type": "code",
   "execution_count": 162,
   "metadata": {},
   "outputs": [],
   "source": [
    "net.show('bs.html')"
   ]
  },
  {
   "cell_type": "code",
   "execution_count": 1,
   "metadata": {},
   "outputs": [],
   "source": [
    "from datetime import datetime as dt"
   ]
  },
  {
   "cell_type": "code",
   "execution_count": 3,
   "metadata": {},
   "outputs": [
    {
     "data": {
      "text/plain": [
       "'2021-12-13'"
      ]
     },
     "execution_count": 3,
     "metadata": {},
     "output_type": "execute_result"
    }
   ],
   "source": [
    "dt.now().strftime('%Y-%m-%d')"
   ]
  },
  {
   "cell_type": "code",
   "execution_count": 3,
   "metadata": {},
   "outputs": [],
   "source": [
    "import spacy\n",
    "from spacy import displacy\n",
    "sp = spacy.load('en_core_web_sm')\n",
    "sp_trf = spacy.load('en_core_web_trf')"
   ]
  },
  {
   "cell_type": "code",
   "execution_count": 151,
   "metadata": {},
   "outputs": [
    {
     "name": "stderr",
     "output_type": "stream",
     "text": [
      "C:\\Users\\simon\\miniconda3\\envs\\venv\\lib\\site-packages\\torch\\autocast_mode.py:141: UserWarning: User provided device_type of 'cuda', but CUDA is not available. Disabling\n",
      "  warnings.warn('User provided device_type of \\'cuda\\', but CUDA is not available. Disabling')\n"
     ]
    }
   ],
   "source": [
    "q = 'What happens to operating income when cost of revenue increases by 10 percent this year?'\n",
    "\n",
    "doc = sp_trf(q)"
   ]
  },
  {
   "cell_type": "code",
   "execution_count": 146,
   "metadata": {},
   "outputs": [
    {
     "data": {
      "text/html": [
       "<span class=\"tex2jax_ignore\"><div class=\"entities\" style=\"line-height: 2.5; direction: ltr\">What happens to operating income when cost of revenue increases by \n",
       "<mark class=\"entity\" style=\"background: #e4e7d2; padding: 0.45em 0.6em; margin: 0 0.25em; line-height: 1; border-radius: 0.35em;\">\n",
       "    10 percent\n",
       "    <span style=\"font-size: 0.8em; font-weight: bold; line-height: 1; border-radius: 0.35em; vertical-align: middle; margin-left: 0.5rem\">PERCENT</span>\n",
       "</mark>\n",
       " \n",
       "<mark class=\"entity\" style=\"background: #bfe1d9; padding: 0.45em 0.6em; margin: 0 0.25em; line-height: 1; border-radius: 0.35em;\">\n",
       "    this year\n",
       "    <span style=\"font-size: 0.8em; font-weight: bold; line-height: 1; border-radius: 0.35em; vertical-align: middle; margin-left: 0.5rem\">DATE</span>\n",
       "</mark>\n",
       "?</div></span>"
      ],
      "text/plain": [
       "<IPython.core.display.HTML object>"
      ]
     },
     "metadata": {},
     "output_type": "display_data"
    }
   ],
   "source": [
    "displacy.render(doc, style='ent')"
   ]
  },
  {
   "cell_type": "code",
   "execution_count": 168,
   "metadata": {},
   "outputs": [
    {
     "name": "stdout",
     "output_type": "stream",
     "text": [
      "-- ('what', 'O', '') --\n",
      "-- ('happen', 'O', '') --\n",
      "-- ('to', 'O', '') --\n",
      "-- ('operating', 'O', '') --\n",
      "-- ('income', 'O', '') --\n",
      "-- ('when', 'O', '') --\n",
      "-- ('cost', 'O', '') --\n",
      "-- ('of', 'O', '') --\n",
      "-- ('revenue', 'O', '') --\n",
      "-- ('increase', 'O', '') --\n",
      "-- ('by', 'O', '') --\n",
      "-- ('10', 'B', 'PERCENT') --\n",
      "-- ('percent', 'I', 'PERCENT') --\n",
      "-- ('this', 'B', 'DATE') --\n",
      "PERCENT\n",
      "-- ('year', 'I', 'DATE') --\n",
      "-- ('?', 'O', '') --\n",
      "DATE\n"
     ]
    }
   ],
   "source": [
    "tag = None\n",
    "words = None\n",
    "tags = set()\n",
    "for x in doc:\n",
    "    print(f'-- {x.lemma_, x.ent_iob_, x.ent_type_} --')\n",
    "    if x.ent_iob_ == 'B':\n",
    "        if tag is not None:\n",
    "            tags.add((tag, words))\n",
    "        words = x.lemma_\n",
    "        tag = x.ent_type_\n",
    "    elif x.ent_iob_ == 'I':\n",
    "        words += f' {x.lemma_}'\n",
    "    else:\n",
    "        if tag is not None:\n",
    "            tags.add((tag, words))\n",
    "        tag = None\n",
    "        words = None\n"
   ]
  },
  {
   "cell_type": "code",
   "execution_count": 169,
   "metadata": {},
   "outputs": [
    {
     "data": {
      "text/plain": [
       "{('DATE', 'this year'), ('PERCENT', '10 percent')}"
      ]
     },
     "execution_count": 169,
     "metadata": {},
     "output_type": "execute_result"
    }
   ],
   "source": [
    "tags"
   ]
  },
  {
   "cell_type": "code",
   "execution_count": 140,
   "metadata": {},
   "outputs": [
    {
     "name": "stdout",
     "output_type": "stream",
     "text": [
      "what O \n",
      "happen O \n",
      "to O \n",
      "operating O \n",
      "income O \n",
      "when O \n",
      "cost O \n",
      "of O \n",
      "revenue O \n",
      "increase O \n",
      "by O \n",
      "10 B PERCENT\n",
      "percent I PERCENT\n",
      "this B DATE\n",
      "year I DATE\n",
      "? O \n"
     ]
    }
   ],
   "source": [
    "for x in doc:\n",
    "    print(x.lemma_, x.ent_iob_, x.ent_type_)"
   ]
  },
  {
   "cell_type": "code",
   "execution_count": 137,
   "metadata": {},
   "outputs": [
    {
     "name": "stdout",
     "output_type": "stream",
     "text": [
      "DATE this year\n"
     ]
    }
   ],
   "source": [
    "for tag, words in tags:\n",
    "    print(tag, words)"
   ]
  },
  {
   "cell_type": "code",
   "execution_count": 62,
   "metadata": {},
   "outputs": [],
   "source": [
    "from datetime import datetime as dt\n",
    "from dateutil.relativedelta import relativedelta"
   ]
  },
  {
   "cell_type": "code",
   "execution_count": 57,
   "metadata": {},
   "outputs": [],
   "source": [
    "today = dt.now() "
   ]
  },
  {
   "cell_type": "code",
   "execution_count": 66,
   "metadata": {},
   "outputs": [
    {
     "data": {
      "text/plain": [
       "datetime.datetime(2021, 12, 13, 17, 19, 25, 835071)"
      ]
     },
     "execution_count": 66,
     "metadata": {},
     "output_type": "execute_result"
    }
   ],
   "source": [
    "today"
   ]
  },
  {
   "cell_type": "code",
   "execution_count": 68,
   "metadata": {},
   "outputs": [
    {
     "data": {
      "text/plain": [
       "datetime.datetime(2020, 12, 13, 17, 19, 25, 835071)"
      ]
     },
     "execution_count": 68,
     "metadata": {},
     "output_type": "execute_result"
    }
   ],
   "source": [
    "today + relativedelta(years=-1)"
   ]
  },
  {
   "cell_type": "code",
   "execution_count": 61,
   "metadata": {},
   "outputs": [],
   "source": [
    "from dateutil.relativedelta import relativedelta"
   ]
  },
  {
   "cell_type": "code",
   "execution_count": 107,
   "metadata": {},
   "outputs": [],
   "source": [
    "today = dt.strptime(f'2021-01-23', '%Y-%m-%d')"
   ]
  },
  {
   "cell_type": "code",
   "execution_count": 108,
   "metadata": {},
   "outputs": [
    {
     "data": {
      "text/plain": [
       "False"
      ]
     },
     "execution_count": 108,
     "metadata": {},
     "output_type": "execute_result"
    }
   ],
   "source": [
    "today >= dt.strptime(f'{today.year}-04-01', '%Y-%m-%d') \n",
    "# 2021.12.08 >= 2021.04.01 \n",
    "# true: year = 2020\n",
    "# false: year = 2019  2021.01.08 >= 2021.04.01 "
   ]
  },
  {
   "cell_type": "code",
   "execution_count": 109,
   "metadata": {},
   "outputs": [
    {
     "ename": "ValueError",
     "evalue": "invalid literal for int() with base 10: 'last year'",
     "output_type": "error",
     "traceback": [
      "\u001b[1;31m---------------------------------------------------------------------------\u001b[0m",
      "\u001b[1;31mValueError\u001b[0m                                Traceback (most recent call last)",
      "\u001b[1;32m~\\AppData\\Local\\Temp/ipykernel_4728/554793410.py\u001b[0m in \u001b[0;36m<module>\u001b[1;34m\u001b[0m\n\u001b[1;32m----> 1\u001b[1;33m \u001b[0mint\u001b[0m\u001b[1;33m(\u001b[0m\u001b[1;34m'last year'\u001b[0m\u001b[1;33m)\u001b[0m\u001b[1;33m\u001b[0m\u001b[1;33m\u001b[0m\u001b[0m\n\u001b[0m",
      "\u001b[1;31mValueError\u001b[0m: invalid literal for int() with base 10: 'last year'"
     ]
    }
   ],
   "source": [
    "int('last year')"
   ]
  },
  {
   "cell_type": "code",
   "execution_count": null,
   "metadata": {},
   "outputs": [],
   "source": [
    "today  dt.strptime(f'{today.year}-03-31', '%Y-%m-%d')"
   ]
  },
  {
   "cell_type": "code",
   "execution_count": 101,
   "metadata": {},
   "outputs": [
    {
     "data": {
      "text/plain": [
       "datetime.datetime(2022, 3, 31, 0, 0)"
      ]
     },
     "execution_count": 101,
     "metadata": {},
     "output_type": "execute_result"
    }
   ],
   "source": [
    "dt.strptime(f'{today.year + 1}-03-31', '%Y-%m-%d')"
   ]
  }
 ],
 "metadata": {
  "interpreter": {
   "hash": "a4ed9b19307c800d89a3002578f776a0fb528ed3e6b1903878767ebecc1b6c32"
  },
  "kernelspec": {
   "display_name": "Python 3 (ipykernel)",
   "language": "python",
   "name": "python3"
  },
  "language_info": {
   "codemirror_mode": {
    "name": "ipython",
    "version": 3
   },
   "file_extension": ".py",
   "mimetype": "text/x-python",
   "name": "python",
   "nbconvert_exporter": "python",
   "pygments_lexer": "ipython3",
   "version": "3.8.12"
  }
 },
 "nbformat": 4,
 "nbformat_minor": 4
}
