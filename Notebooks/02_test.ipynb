{
 "cells": [
  {
   "cell_type": "markdown",
   "metadata": {},
   "source": [
    "## Tutorial for CSVtoRDF\n",
    "\n",
    "https://stackoverflow.com/questions/43524943/creating-rdf-file-using-csv-file-as-input"
   ]
  },
  {
   "cell_type": "code",
   "execution_count": 1,
   "metadata": {},
   "outputs": [],
   "source": [
    "from rdflib import Graph, Literal, RDF, URIRef, Namespace #basic RDF handling\n",
    "from rdflib.namespace import FOAF, XSD #most common namespaces\n",
    "import urllib.parse #for parsing strings to URI's\n",
    "import pandas as pd"
   ]
  },
  {
   "cell_type": "code",
   "execution_count": 5,
   "metadata": {},
   "outputs": [],
   "source": [
    "url='https://raw.githubusercontent.com/KRontheWeb/csv2rdf-tutorial/master/example.csv'\n",
    "df=pd.read_csv(url,sep=\";\",quotechar='\"')"
   ]
  },
  {
   "cell_type": "code",
   "execution_count": 7,
   "metadata": {},
   "outputs": [],
   "source": [
    "g = Graph()\n",
    "ppl = Namespace('http://example.com/people/')\n",
    "loc = Namespace('http://mylocations.org/addresses/')\n",
    "schema = Namespace('http://schema.org/')"
   ]
  },
  {
   "cell_type": "code",
   "execution_count": 8,
   "metadata": {
    "tags": []
   },
   "outputs": [],
   "source": [
    "for index, row in df.iterrows():\n",
    "    g.add((URIRef(ppl+row['Name']), RDF.type, FOAF.Person))\n",
    "    g.add((URIRef(ppl+row['Name']), URIRef(schema+'name'), Literal(row['Name'], datatype=XSD.string) ))\n",
    "    g.add((URIRef(ppl+row['Name']), FOAF.age, Literal(row['Age'], datatype=XSD.integer) ))\n",
    "    g.add((URIRef(ppl+row['Name']), URIRef(schema+'address'), Literal(row['Address'], datatype=XSD.string) ))\n",
    "    g.add((URIRef(loc+urllib.parse.quote(row['Address'])), URIRef(schema+'name'), Literal(row['Address'], datatype=XSD.string) ))"
   ]
  },
  {
   "cell_type": "code",
   "execution_count": 10,
   "metadata": {},
   "outputs": [
    {
     "name": "stdout",
     "output_type": "stream",
     "text": [
      "@prefix ns1: <http://xmlns.com/foaf/0.1/> .\n",
      "@prefix ns2: <http://schema.org/> .\n",
      "@prefix xsd: <http://www.w3.org/2001/XMLSchema#> .\n",
      "\n",
      "<http://example.com/people/Jake> a ns1:Person ;\n",
      "    ns2:address \"12E Street 98\"^^xsd:string ;\n",
      "    ns2:name \"Jake\"^^xsd:string ;\n",
      "    ns1:age 42 .\n",
      "\n",
      "<http://example.com/people/Jenny> a ns1:Person ;\n",
      "    ns2:address \"Leidseplein 2\"^^xsd:string ;\n",
      "    ns2:name \"Jenny\"^^xsd:string ;\n",
      "    ns1:age 12 .\n",
      "\n",
      "<http://example.com/people/Jill> a ns1:Person ;\n",
      "    ns2:address \"52W Street 5\"^^xsd:string ;\n",
      "    ns2:name \"Jill\"^^xsd:string ;\n",
      "    ns1:age 28 .\n",
      "\n",
      "<http://example.com/people/John> a ns1:Person ;\n",
      "    ns2:address \"Dam 52\"^^xsd:string ;\n",
      "    ns2:name \"John\"^^xsd:string ;\n",
      "    ns1:age 32 .\n",
      "\n",
      "<http://mylocations.org/addresses/12E%20Street%2098> ns2:name \"12E Street 98\"^^xsd:string .\n",
      "\n",
      "<http://mylocations.org/addresses/52W%20Street%205> ns2:name \"52W Street 5\"^^xsd:string .\n",
      "\n",
      "<http://mylocations.org/addresses/Dam%2052> ns2:name \"Dam 52\"^^xsd:string .\n",
      "\n",
      "<http://mylocations.org/addresses/Leidseplein%202> ns2:name \"Leidseplein 2\"^^xsd:string .\n",
      "\n",
      "\n"
     ]
    },
    {
     "data": {
      "text/plain": [
       "<Graph identifier=N42150f30038f4cdaa20c991a4360946a (<class 'rdflib.graph.Graph'>)>"
      ]
     },
     "execution_count": 10,
     "metadata": {},
     "output_type": "execute_result"
    }
   ],
   "source": [
    "print(g.serialize(format='turtle'))\n",
    "g.serialize('example.ttl',format='turtle')"
   ]
  },
  {
   "cell_type": "code",
   "execution_count": 1,
   "metadata": {},
   "outputs": [],
   "source": [
    "from rdflib import Graph, Literal, RDF, URIRef, Namespace #basic RDF handling\n",
    "from rdflib.namespace import CSVW, DC, DCAT, DCTERMS, DOAP, FOAF, ODRL2, ORG, OWL, \\\n",
    "                           PROF, PROV, RDF, RDFS, SDO, SH, SKOS, SOSA, SSN, TIME, \\\n",
    "                           VOID, XMLNS, XSD\n",
    "import urllib.parse #for parsing strings to URI's\n",
    "import pandas as pd\n",
    "from pathlib import Path\n",
    "\n",
    "main_path = Path().absolute().parent\n",
    "data_path = main_path / 'data'"
   ]
  },
  {
   "cell_type": "code",
   "execution_count": 137,
   "metadata": {},
   "outputs": [],
   "source": [
    "# full\n",
    "df = pd.read_csv(data_path / 'AccountRDF.csv', encoding='utf-8')\n",
    "ns_acc = Namespace('http://fsqa.com/acc#')\n",
    "namespace_dict = {\n",
    "    'acc': ns_acc, 'time': TIME, 'rdf': RDF, 'rdfs': RDFS, 'owl': OWL, None: ''\n",
    "}\n",
    "g = Graph()\n",
    "g.bind('rdf', RDF)\n",
    "g.bind('time', TIME)\n",
    "g.bind('owl', OWL)\n",
    "g.bind('acc', ns_acc, override=True)\n",
    "for index, row in df.iterrows():\n",
    "    s_ns, s = row['subject'].split(':')\n",
    "    p_ns, p = row['predicate'].split(':')\n",
    "    if len(row['object'].split(':')) < 2:\n",
    "        o_ns, o = None, row['object']\n",
    "    else:\n",
    "        o_ns, o = row['object'].split(':')\n",
    "    \n",
    "    if o_ns is None:\n",
    "        g.add( (URIRef(namespace_dict[s_ns]+s), URIRef(namespace_dict[p_ns]+p), Literal(o, datatype=XSD.string)) )\n",
    "    else:\n",
    "        g.add( (URIRef(namespace_dict[s_ns]+s), URIRef(namespace_dict[p_ns]+p), URIRef(namespace_dict[o_ns]+o)) )"
   ]
  },
  {
   "cell_type": "code",
   "execution_count": 138,
   "metadata": {},
   "outputs": [
    {
     "data": {
      "text/plain": [
       "<Graph identifier=Na72b615b0229458f8802af51c7d8ce19 (<class 'rdflib.graph.Graph'>)>"
      ]
     },
     "execution_count": 138,
     "metadata": {},
     "output_type": "execute_result"
    }
   ],
   "source": [
    "g.serialize(data_path / 'AccountRDF.ttl', format='turtle')\n",
    "g.serialize(data_path / 'AccountRDF.xml', format='xml', encoding='utf-8')"
   ]
  },
  {
   "cell_type": "code",
   "execution_count": 2,
   "metadata": {},
   "outputs": [
    {
     "data": {
      "text/plain": [
       "<Graph identifier=N682fb15aeb444dc0a4e270c05c100057 (<class 'rdflib.graph.Graph'>)>"
      ]
     },
     "execution_count": 2,
     "metadata": {},
     "output_type": "execute_result"
    }
   ],
   "source": [
    "g = Graph()\n",
    "g.load(data_path / 'AccountRDF.ttl', format='ttl')"
   ]
  },
  {
   "cell_type": "code",
   "execution_count": 135,
   "metadata": {},
   "outputs": [
    {
     "name": "stdout",
     "output_type": "stream",
     "text": [
      "(rdflib.term.URIRef('http://www.w3.org/1999/02/22-rdf-syntax-ns#type'), rdflib.term.URIRef('http://fsqa.com/acc#Account'))\n",
      "(rdflib.term.URIRef('http://www.w3.org/2000/01/rdf-schema#label'), rdflib.term.Literal('매출원가', datatype=rdflib.term.URIRef('http://www.w3.org/2001/XMLSchema#string')))\n",
      "(rdflib.term.URIRef('http://fsqa.com/acc#Account_Belonging'), rdflib.term.URIRef('http://fsqa.com/acc#IncomeStatement'))\n",
      "(rdflib.term.URIRef('http://fsqa.com/acc#Account_Level'), rdflib.term.Literal('5', datatype=rdflib.term.URIRef('http://www.w3.org/2001/XMLSchema#string')))\n",
      "(rdflib.term.URIRef('http://fsqa.com/acc#Account_Property'), rdflib.term.Literal('Negative', datatype=rdflib.term.URIRef('http://www.w3.org/2001/XMLSchema#string')))\n",
      "(rdflib.term.URIRef('http://fsqa.com/acc#Account_Type'), rdflib.term.Literal('Value', datatype=rdflib.term.URIRef('http://www.w3.org/2001/XMLSchema#string')))\n",
      "(rdflib.term.URIRef('http://fsqa.com/acc#numerator'), rdflib.term.URIRef('http://fsqa.com/acc#CostOfSalesRatio'))\n",
      "(rdflib.term.URIRef('http://fsqa.com/acc#partOf'), rdflib.term.URIRef('http://fsqa.com/acc#GrossProfit'))\n"
     ]
    }
   ],
   "source": [
    "# show only BalanceSheet\n",
    "query_string = \"\"\"\n",
    "SELECT ?p ?o\n",
    "WHERE {\n",
    "    acc:CostOfSales ?p ?o .\n",
    "}\n",
    "\"\"\"\n",
    "qres = g.query(query_string)\n",
    "for x in qres:\n",
    "    print(f'{x}')"
   ]
  },
  {
   "cell_type": "code",
   "execution_count": 136,
   "metadata": {},
   "outputs": [
    {
     "name": "stdout",
     "output_type": "stream",
     "text": [
      "(rdflib.term.Literal('자산총계', datatype=rdflib.term.URIRef('http://www.w3.org/2001/XMLSchema#string')),)\n"
     ]
    }
   ],
   "source": [
    "# show only BalanceSheet\n",
    "query_string = \"\"\"\n",
    "select distinct ?literal { \n",
    "  ?s ?p ?literal \n",
    "  filter isLiteral(?literal)\n",
    "}\n",
    "\"\"\"\n",
    "qres = g.query(query_string)\n",
    "for x in qres:\n",
    "    print(f'{x}')\n",
    "    break"
   ]
  },
  {
   "cell_type": "code",
   "execution_count": 140,
   "metadata": {},
   "outputs": [
    {
     "name": "stdout",
     "output_type": "stream",
     "text": [
      "acc:BalanceSheet acc:Revenue acc:CostOfSales acc:GrossProfit acc:SellingGeneralAdministrativeExpenses acc:OperatingIncome acc:FinanceIncome acc:FinancialExpenses acc:ProfitBeforeTax acc:IncomeTaxExpense acc:Profit acc:IncomeStatement\n"
     ]
    }
   ],
   "source": [
    "accs = list(df.loc[\n",
    "    (df['object'] == 'acc:IncomeStatement') | (df['object'] == 'acc:FinancialStatement'), \n",
    "    'subject'].unique())\n",
    "print(' '.join(accs))"
   ]
  },
  {
   "cell_type": "markdown",
   "metadata": {},
   "source": [
    "acc:BalanceSheet acc:Revenue acc:CostOfSales acc:GrossProfit acc:SellingGeneralAdministrativeExpenses acc:OperatingIncome acc:FinanceIncome acc:FinancialExpenses acc:ProfitBeforeTax acc:IncomeTaxExpense acc:Profit acc:IncomeStatement acc:CostOfSalesRatio acc:SellingGeneralAdministrativeRatio acc:SalesAndSellingGeneralAdministrativeRatio acc:IncomeTaxRatio acc:ProfitRatio acc:Ratios"
   ]
  },
  {
   "cell_type": "code",
   "execution_count": 141,
   "metadata": {},
   "outputs": [
    {
     "name": "stdout",
     "output_type": "stream",
     "text": [
      "acc:CurrentAssets acc:CashAndCashEquivalents acc:TradeAndOtherCurrentReceivables acc:PrepaidExpenses acc:Inventories acc:NoncurrentAssets acc:PropertyPlantAndEquipment acc:IntangibleAssets acc:AssetsAbstract acc:CurrentLiabilities acc:TradeAndOtherCurrentPayables acc:ShorttermBorrowings acc:AdvancesCustomers acc:NoncurrentLiabilities acc:BondsIssued acc:LongTermBorrowings acc:LiabilitiesAbstract acc:TotalEquity acc:LiabilitiesAndEquities acc:BalanceSheet acc:IncomeStatement\n"
     ]
    }
   ],
   "source": [
    "accs = list(df.loc[\n",
    "    (df['object'] == 'acc:BalanceSheet') | (df['object'] == 'acc:FinancialStatement'), \n",
    "    'subject'].unique())\n",
    "print(' '.join(accs))"
   ]
  },
  {
   "cell_type": "markdown",
   "metadata": {},
   "source": [
    "acc:CurrentAssets acc:CashAndCashEquivalents acc:TradeAndOtherCurrentReceivables acc:PrepaidExpenses acc:Inventories acc:NoncurrentAssets acc:PropertyPlantAndEquipment acc:IntangibleAssets acc:AssetsAbstract acc:CurrentLiabilities acc:TradeAndOtherCurrentPayables acc:ShorttermBorrowings acc:AdvancesCustomers acc:NoncurrentLiabilities acc:BondsIssued acc:LongTermBorrowings acc:LiabilitiesAbstract acc:TotalEquity acc:LiabilitiesAndEquities acc:BalanceSheet acc:IncomeStatement acc:TradeReceivableTurnoverPeriod acc:InventoriesTurnoverPeriod acc:TradePayablesTurnoverPeriod acc:AdvancesCustomersTurnoverPeriod acc:Ratios acc:CalendarOneYear"
   ]
  },
  {
   "cell_type": "code",
   "execution_count": 154,
   "metadata": {},
   "outputs": [
    {
     "data": {
      "text/plain": [
       "[(rdflib.term.URIRef('http://fsqa.com/acc#Revenue'),\n",
       "  rdflib.term.URIRef('http://fsqa.com/acc#partOf'),\n",
       "  rdflib.term.URIRef('http://fsqa.com/acc#GrossProfit')),\n",
       " (rdflib.term.URIRef('http://fsqa.com/acc#Revenue'),\n",
       "  rdflib.term.URIRef('http://fsqa.com/acc#denominator'),\n",
       "  rdflib.term.URIRef('http://fsqa.com/acc#CostOfSalesRatio'))]"
      ]
     },
     "execution_count": 154,
     "metadata": {},
     "output_type": "execute_result"
    }
   ],
   "source": [
    "# IncomeStatements\n",
    "query_statement = \"\"\"\n",
    "SELECT ?s ?p ?o WHERE { \n",
    "  VALUES ?s { acc:BalanceSheet acc:Revenue acc:CostOfSales acc:GrossProfit acc:SellingGeneralAdministrativeExpenses acc:OperatingIncome acc:FinanceIncome acc:FinancialExpenses acc:ProfitBeforeTax acc:IncomeTaxExpense acc:Profit acc:IncomeStatement acc:CostOfSalesRatio acc:SellingGeneralAdministrativeRatio acc:SalesAndSellingGeneralAdministrativeRatio acc:IncomeTaxRatio acc:ProfitRatio acc:Ratios }\n",
    "  VALUES ?o { acc:BalanceSheet acc:Revenue acc:CostOfSales acc:GrossProfit acc:SellingGeneralAdministrativeExpenses acc:OperatingIncome acc:FinanceIncome acc:FinancialExpenses acc:ProfitBeforeTax acc:IncomeTaxExpense acc:Profit acc:IncomeStatement acc:CostOfSalesRatio acc:SellingGeneralAdministrativeRatio acc:SalesAndSellingGeneralAdministrativeRatio acc:IncomeTaxRatio acc:ProfitRatio acc:Ratios }\n",
    "  VALUES ?p { acc:partOf acc:denominator acc:numerator } \n",
    "  ?s ?p ?o .\n",
    "}\n",
    "\"\"\"\n",
    "qres = g.query(query_statement)\n",
    "list(qres)[:2]"
   ]
  },
  {
   "cell_type": "code",
   "execution_count": 3,
   "metadata": {},
   "outputs": [
    {
     "data": {
      "text/plain": [
       "[(rdflib.term.URIRef('http://fsqa.com/acc#GrossProfit'),\n",
       "  rdflib.term.URIRef('http://fsqa.com/acc#hasPart'),\n",
       "  rdflib.term.URIRef('http://fsqa.com/acc#Revenue')),\n",
       " (rdflib.term.URIRef('http://fsqa.com/acc#GrossProfit'),\n",
       "  rdflib.term.URIRef('http://fsqa.com/acc#hasPart'),\n",
       "  rdflib.term.URIRef('http://fsqa.com/acc#CostOfSales'))]"
      ]
     },
     "execution_count": 3,
     "metadata": {},
     "output_type": "execute_result"
    }
   ],
   "source": [
    "# IncomeStatements Reverse\n",
    "query_statement = \"\"\"\n",
    "SELECT ?s ?p ?o WHERE { \n",
    "  VALUES ?s { acc:BalanceSheet acc:Revenue acc:CostOfSales acc:GrossProfit acc:SellingGeneralAdministrativeExpenses acc:OperatingIncome acc:FinanceIncome acc:FinancialExpenses acc:ProfitBeforeTax acc:IncomeTaxExpense acc:Profit acc:IncomeStatement acc:CostOfSalesRatio acc:SellingGeneralAdministrativeRatio acc:SalesAndSellingGeneralAdministrativeRatio acc:IncomeTaxRatio acc:ProfitRatio acc:Ratios }\n",
    "  VALUES ?o { acc:BalanceSheet acc:Revenue acc:CostOfSales acc:GrossProfit acc:SellingGeneralAdministrativeExpenses acc:OperatingIncome acc:FinanceIncome acc:FinancialExpenses acc:ProfitBeforeTax acc:IncomeTaxExpense acc:Profit acc:IncomeStatement acc:CostOfSalesRatio acc:SellingGeneralAdministrativeRatio acc:SalesAndSellingGeneralAdministrativeRatio acc:IncomeTaxRatio acc:ProfitRatio acc:Ratios }\n",
    "  VALUES ?p { acc:hasPart acc:isDenominatorOf acc:isNumeratorOf } \n",
    "  ?s ?p ?o .\n",
    "}\n",
    "\"\"\"\n",
    "qres = g.query(query_statement)\n",
    "list(qres)[:2]"
   ]
  },
  {
   "cell_type": "code",
   "execution_count": 51,
   "metadata": {},
   "outputs": [],
   "source": [
    "# BalanceSheet\n",
    "query_statement = \"\"\"\n",
    "SELECT ?s ?p ?o WHERE { \n",
    "  VALUES ?s { acc:CurrentAssets acc:CashAndCashEquivalents acc:TradeAndOtherCurrentReceivables acc:PrepaidExpenses acc:Inventories acc:NoncurrentAssets acc:PropertyPlantAndEquipment acc:IntangibleAssets acc:AssetsAbstract acc:CurrentLiabilities acc:TradeAndOtherCurrentPayables acc:ShorttermBorrowings acc:AdvancesCustomers acc:NoncurrentLiabilities acc:BondsIssued acc:LongTermBorrowings acc:LiabilitiesAbstract acc:TotalEquity acc:LiabilitiesAndEquities acc:BalanceSheet acc:IncomeStatement acc:TradeReceivableTurnoverPeriod acc:InventoriesTurnoverPeriod acc:TradePayablesTurnoverPeriod acc:AdvancesCustomersTurnoverPeriod acc:Ratios acc:CalendarOneYear }\n",
    "  VALUES ?o { acc:CurrentAssets acc:CashAndCashEquivalents acc:TradeAndOtherCurrentReceivables acc:PrepaidExpenses acc:Inventories acc:NoncurrentAssets acc:PropertyPlantAndEquipment acc:IntangibleAssets acc:AssetsAbstract acc:CurrentLiabilities acc:TradeAndOtherCurrentPayables acc:ShorttermBorrowings acc:AdvancesCustomers acc:NoncurrentLiabilities acc:BondsIssued acc:LongTermBorrowings acc:LiabilitiesAbstract acc:TotalEquity acc:LiabilitiesAndEquities acc:BalanceSheet acc:IncomeStatement acc:TradeReceivableTurnoverPeriod acc:InventoriesTurnoverPeriod acc:TradePayablesTurnoverPeriod acc:AdvancesCustomersTurnoverPeriod acc:Ratios acc:CalendarOneYear }\n",
    "  VALUES ?p { acc:partOf acc:denominator acc:numerator } \n",
    "  ?s ?p ?o .\n",
    "}\n",
    "\"\"\"\n",
    "qres = g.query(query_statement)\n",
    "# list(qres)[:2]"
   ]
  },
  {
   "cell_type": "code",
   "execution_count": null,
   "metadata": {},
   "outputs": [],
   "source": [
    "# BalanceSheet Reverse\n",
    "query_statement = \"\"\"\n",
    "SELECT ?s ?p ?o WHERE { \n",
    "  VALUES ?s { acc:CurrentAssets acc:CashAndCashEquivalents acc:TradeAndOtherCurrentReceivables acc:PrepaidExpenses acc:Inventories acc:NoncurrentAssets acc:PropertyPlantAndEquipment acc:IntangibleAssets acc:AssetsAbstract acc:CurrentLiabilities acc:TradeAndOtherCurrentPayables acc:ShorttermBorrowings acc:AdvancesCustomers acc:NoncurrentLiabilities acc:BondsIssued acc:LongTermBorrowings acc:LiabilitiesAbstract acc:TotalEquity acc:LiabilitiesAndEquities acc:BalanceSheet acc:IncomeStatement acc:TradeReceivableTurnoverPeriod acc:InventoriesTurnoverPeriod acc:TradePayablesTurnoverPeriod acc:AdvancesCustomersTurnoverPeriod acc:Ratios acc:CalendarOneYear }\n",
    "  VALUES ?o { acc:CurrentAssets acc:CashAndCashEquivalents acc:TradeAndOtherCurrentReceivables acc:PrepaidExpenses acc:Inventories acc:NoncurrentAssets acc:PropertyPlantAndEquipment acc:IntangibleAssets acc:AssetsAbstract acc:CurrentLiabilities acc:TradeAndOtherCurrentPayables acc:ShorttermBorrowings acc:AdvancesCustomers acc:NoncurrentLiabilities acc:BondsIssued acc:LongTermBorrowings acc:LiabilitiesAbstract acc:TotalEquity acc:LiabilitiesAndEquities acc:BalanceSheet acc:IncomeStatement acc:TradeReceivableTurnoverPeriod acc:InventoriesTurnoverPeriod acc:TradePayablesTurnoverPeriod acc:AdvancesCustomersTurnoverPeriod acc:Ratios acc:CalendarOneYear }\n",
    "  VALUES ?p { acc:hasPart acc:isDenominatorOf acc:isNumeratorOf } \n",
    "  ?s ?p ?o .\n",
    "}\n",
    "\"\"\"\n",
    "qres = g.query(query_statement)\n",
    "list(qres)[:2]"
   ]
  },
  {
   "cell_type": "code",
   "execution_count": 20,
   "metadata": {},
   "outputs": [
    {
     "data": {
      "text/plain": [
       "[(rdflib.term.URIRef('http://fsqa.com/acc#CashAndCashEquivalents'),\n",
       "  rdflib.term.URIRef('http://fsqa.com/acc#partOf'),\n",
       "  rdflib.term.URIRef('http://fsqa.com/acc#CurrentAssets')),\n",
       " (rdflib.term.URIRef('http://fsqa.com/acc#TradeAndOtherCurrentReceivables'),\n",
       "  rdflib.term.URIRef('http://fsqa.com/acc#partOf'),\n",
       "  rdflib.term.URIRef('http://fsqa.com/acc#CurrentAssets')),\n",
       " (rdflib.term.URIRef('http://fsqa.com/acc#PrepaidExpenses'),\n",
       "  rdflib.term.URIRef('http://fsqa.com/acc#partOf'),\n",
       "  rdflib.term.URIRef('http://fsqa.com/acc#CurrentAssets')),\n",
       " (rdflib.term.URIRef('http://fsqa.com/acc#PropertyPlantAndEquipment'),\n",
       "  rdflib.term.URIRef('http://fsqa.com/acc#partOf'),\n",
       "  rdflib.term.URIRef('http://fsqa.com/acc#NoncurrentAssets')),\n",
       " (rdflib.term.URIRef('http://fsqa.com/acc#NoncurrentAssets'),\n",
       "  rdflib.term.URIRef('http://fsqa.com/acc#partOf'),\n",
       "  rdflib.term.URIRef('http://fsqa.com/acc#AssetsAbstract'))]"
      ]
     },
     "execution_count": 20,
     "metadata": {},
     "output_type": "execute_result"
    }
   ],
   "source": [
    "# relationship Incomstatement\n",
    "query_statement = \"\"\"\n",
    "SELECT ?s ?p ?o WHERE { \n",
    "  VALUES ?s { acc:CashAndCashEquivalents acc:TradeAndOtherCurrentReceivables acc:PrepaidExpenses acc:PropertyPlantAndEquipment acc:NoncurrentAssets acc:CurrentAssets }\n",
    "  VALUES ?o { acc:CurrentAssets acc:NoncurrentAssets acc:AssetsAbstract }\n",
    "  ?s ?p ?o .\n",
    "}\n",
    "\"\"\"\n",
    "qres = g.query(query_statement)\n",
    "list(qres)[:5]"
   ]
  },
  {
   "cell_type": "code",
   "execution_count": 4,
   "metadata": {},
   "outputs": [
    {
     "data": {
      "text/plain": [
       "[(rdflib.term.URIRef('http://fsqa.com/acc#CostOfSales'),\n",
       "  rdflib.term.URIRef('http://fsqa.com/acc#numerator'),\n",
       "  rdflib.term.URIRef('http://fsqa.com/acc#CostOfSalesRatio')),\n",
       " (rdflib.term.URIRef('http://fsqa.com/acc#Revenue'),\n",
       "  rdflib.term.URIRef('http://fsqa.com/acc#denominator'),\n",
       "  rdflib.term.URIRef('http://fsqa.com/acc#CostOfSalesRatio'))]"
      ]
     },
     "execution_count": 4,
     "metadata": {},
     "output_type": "execute_result"
    }
   ],
   "source": [
    "# 'What is the cost of revenue ratio in last year?'\n",
    "query_statement = \"\"\"\n",
    "SELECT ?s ?p ?o WHERE { \n",
    "  ?s rdf:type acc:Account .\n",
    "  VALUES ?o { acc:CostOfSalesRatio }\n",
    "  VALUES ?p { acc:partOf acc:denominator acc:numerator } \n",
    "  ?s ?p ?o .\n",
    "}\n",
    "\"\"\"\n",
    "qres = g.query(query_statement)\n",
    "list(qres)"
   ]
  },
  {
   "cell_type": "code",
   "execution_count": 21,
   "metadata": {},
   "outputs": [
    {
     "data": {
      "text/plain": [
       "[(rdflib.term.URIRef('http://fsqa.com/acc#SellingGeneralAdministrativeRatio'),\n",
       "  rdflib.term.URIRef('http://fsqa.com/acc#hasPart'),\n",
       "  rdflib.term.URIRef('http://fsqa.com/acc#SellingGeneralAdministrativeExpenses')),\n",
       " (rdflib.term.URIRef('http://fsqa.com/acc#IncomeTaxRatio'),\n",
       "  rdflib.term.URIRef('http://fsqa.com/acc#hasPart'),\n",
       "  rdflib.term.URIRef('http://fsqa.com/acc#IncomeTaxExpense')),\n",
       " (rdflib.term.URIRef('http://fsqa.com/acc#IncomeStatement'),\n",
       "  rdflib.term.URIRef('http://fsqa.com/acc#isNumeratorOf'),\n",
       "  rdflib.term.URIRef('http://fsqa.com/acc#IncomeStatement')),\n",
       " (rdflib.term.URIRef('http://fsqa.com/acc#ProfitRatio'),\n",
       "  rdflib.term.URIRef('http://fsqa.com/acc#hasPart'),\n",
       "  rdflib.term.URIRef('http://fsqa.com/acc#Profit')),\n",
       " (rdflib.term.URIRef('http://fsqa.com/acc#IncomeTaxRatio'),\n",
       "  rdflib.term.URIRef('http://fsqa.com/acc#isNumeratorOf'),\n",
       "  rdflib.term.URIRef('http://fsqa.com/acc#IncomeTaxExpense'))]"
      ]
     },
     "execution_count": 21,
     "metadata": {},
     "output_type": "execute_result"
    }
   ],
   "source": [
    "# Construct oppsited graph  acc:denominator acc:numerator \n",
    "query_statement = \"\"\"\n",
    "CONSTRUCT {\n",
    "  ?o ?q ?s\n",
    "} \n",
    "WHERE {\n",
    "  VALUES ?s { acc:BalanceSheet acc:Revenue acc:CostOfSales acc:GrossProfit acc:SellingGeneralAdministrativeExpenses acc:OperatingIncome acc:FinanceIncome acc:FinancialExpenses acc:ProfitBeforeTax acc:IncomeTaxExpense acc:Profit acc:IncomeStatement acc:CostOfSalesRatio acc:SellingGeneralAdministrativeRatio acc:SalesAndSellingGeneralAdministrativeRatio acc:IncomeTaxRatio acc:ProfitRatio }\n",
    "  VALUES ?o { acc:BalanceSheet acc:Revenue acc:CostOfSales acc:GrossProfit acc:SellingGeneralAdministrativeExpenses acc:OperatingIncome acc:FinanceIncome acc:FinancialExpenses acc:ProfitBeforeTax acc:IncomeTaxExpense acc:Profit acc:IncomeStatement acc:CostOfSalesRatio acc:SellingGeneralAdministrativeRatio acc:SalesAndSellingGeneralAdministrativeRatio acc:IncomeTaxRatio acc:ProfitRatio }\n",
    "  ?q a acc:InverseRelation .\n",
    "  ?s (acc:hasPart|acc:denominator|acc:numerator)* ?o .\n",
    "}\n",
    "\"\"\"\n",
    "qres = g.query(query_statement)\n",
    "list(qres)[:5]"
   ]
  },
  {
   "cell_type": "code",
   "execution_count": 4,
   "metadata": {},
   "outputs": [],
   "source": [
    "import networkx as nx\n",
    "import matplotlib.pyplot as plt\n",
    "from pyvis.network import Network\n",
    "from collections import defaultdict"
   ]
  },
  {
   "cell_type": "code",
   "execution_count": 5,
   "metadata": {},
   "outputs": [],
   "source": [
    "def convert_to_string(x):\n",
    "    if isinstance(x, URIRef):\n",
    "        if len(x.split('#')) == 2:\n",
    "            return x.split('#')[1]\n",
    "        else:\n",
    "            raise ValueError(f'Split error {x}')\n",
    "    elif isinstance(x, Literal):\n",
    "        return str(x)\n",
    "    else:\n",
    "        raise ValueError(f'Returned None')\n",
    "\n",
    "df_account = pd.read_csv(data_path / 'AccountName.csv', encoding='utf-8')\n",
    "ACC_DICT = defaultdict(dict)\n",
    "for index, row in df_account.iterrows():\n",
    "    eng = row['acc_name_eng']\n",
    "    kor = row['acc_name_kor']\n",
    "    group = row['group']\n",
    "    ACC_DICT[eng]['name'] = kor\n",
    "    ACC_DICT[eng]['group'] = group\n",
    "ACC_DICT['CalendarOneYear']['name'] = '365 일'\n",
    "ACC_DICT['CalendarOneYear']['group'] = 'TIME-Value-99'\n",
    "\n",
    "query_statement = \"\"\"\n",
    "SELECT ?s ?p ?literal WHERE { \n",
    "?s a acc:Account . \n",
    "VALUES ?p { acc:Account_Property acc:Account_Level } \n",
    "?s ?p ?literal .\n",
    "}\n",
    "\"\"\"\n",
    "qres2 = g.query(query_statement)\n",
    "for src, link, trg in qres2:\n",
    "    src = convert_to_string(src)\n",
    "    link = convert_to_string(link)\n",
    "    trg = convert_to_string(trg)\n",
    "    ACC_DICT[src][link] = trg\n"
   ]
  },
  {
   "cell_type": "code",
   "execution_count": 6,
   "metadata": {},
   "outputs": [],
   "source": [
    "net = Network(height=\"800px\", width=\"100%\", directed=True, font_color=\"black\", heading='FSQA', notebook=False)\n",
    "size_dict = {\n",
    "    0: 20, 1: 18, 2: 16, 3: 14, 4: 12, 5: 10, 98: 12, 99: 10\n",
    "}\n",
    "\n",
    "for src, link, trg in qres:\n",
    "    src = convert_to_string(src)\n",
    "    link = convert_to_string(link)\n",
    "    trg = convert_to_string(trg)\n",
    "\n",
    "    src_label = ACC_DICT[src]['name']\n",
    "    trg_label = ACC_DICT[trg]['name']\n",
    "    src_fs, src_type, src_group = ACC_DICT[src]['group'].split('-')\n",
    "    trg_fs, trg_type, trg_group = ACC_DICT[trg]['group'].split('-')\n",
    "    src_title = f'Statement: {src_fs} Type: {src_type}'\n",
    "    trg_title = f'Statement: {trg_fs} Type: {trg_type}'\n",
    "    net.add_node(src, label=src, group=int(src_group), size=size_dict[int(src_group)], title=src_title)\n",
    "    net.add_node(trg, label=trg, group=int(trg_group), size=size_dict[int(trg_group)], title=trg_title)\n",
    "    net.add_edge(src, trg, weight=2, title=link)  # search 할때는 방향이 반대가 좋음"
   ]
  },
  {
   "cell_type": "code",
   "execution_count": 12,
   "metadata": {},
   "outputs": [],
   "source": [
    "net.show('temp.html')"
   ]
  },
  {
   "cell_type": "code",
   "execution_count": 7,
   "metadata": {},
   "outputs": [
    {
     "data": {
      "image/png": "[encoded data removed]",
      "text/plain": [
       "<Figure size 432x288 with 1 Axes>"
      ]
     },
     "metadata": {},
     "output_type": "display_data"
    }
   ],
   "source": [
    "nx_graph = nx.DiGraph(net.get_adj_list())\n",
    "nx_graph.add_edges_from([(x['from'], x['to'], {'label': x['title']}) for x in net.get_edges()])\n",
    "nx.draw_networkx(nx_graph, with_labels=True)"
   ]
  },
  {
   "cell_type": "code",
   "execution_count": 14,
   "metadata": {},
   "outputs": [
    {
     "data": {
      "text/plain": [
       "{'CostOfSales': 'CostOfSalesRatio', 'Revenue': 'CostOfSalesRatio'}"
      ]
     },
     "execution_count": 14,
     "metadata": {},
     "output_type": "execute_result"
    }
   ],
   "source": [
    "bfs_tree = nx.bfs_predecessors(nx_graph, 'CostOfSalesRatio')\n",
    "dict(bfs_tree)"
   ]
  },
  {
   "cell_type": "code",
   "execution_count": 13,
   "metadata": {},
   "outputs": [
    {
     "data": {
      "text/plain": [
       "dict_keys(['CurrentAssets', 'CashAndCashEquivalents', 'TradeAndOtherCurrentReceivables', 'PrepaidExpenses', 'Inventories', 'NoncurrentAssets', 'PropertyPlantAndEquipment', 'IntangibleAssets', 'AssetsAbstract', 'CurrentLiabilities', 'TradeAndOtherCurrentPayables', 'ShorttermBorrowings', 'AdvancesCustomers', 'NoncurrentLiabilities', 'BondsIssued', 'LongTermBorrowings', 'LiabilitiesAbstract', 'TotalEquity', 'LiabilitiesAndEquities', 'TradeReceivableTurnoverPeriod', 'PrepaidExpensesTurnoverPeriod', 'InventoriesTurnoverPeriod', 'TradePayablesTurnoverPeriod', 'AdvancesCustomersTurnoverPeriod', 'Revenue', 'CostOfSales', 'GrossProfit', 'SellingGeneralAdministrativeExpenses', 'OperatingIncome', 'FinanceIncome', 'FinancialExpenses', 'ProfitBeforeTax', 'IncomeTaxExpense', 'Profit', 'CostOfSalesRatio', 'SellingGeneralAdministrativeRatio', 'SalesAndSellingGeneralAdministrativeRatio', 'IncomeTaxRatio', 'ProfitRatio', 'IncomeStatement', 'BalanceSheet', 'CalendarOneYear'])"
      ]
     },
     "execution_count": 13,
     "metadata": {},
     "output_type": "execute_result"
    }
   ],
   "source": [
    "ACC_DICT.keys()"
   ]
  },
  {
   "cell_type": "code",
   "execution_count": 20,
   "metadata": {},
   "outputs": [],
   "source": [
    "account = 'SalesAndSellingGeneralAdministrativeRatio'\n",
    "knowledge = 'IS'\n",
    "key_information = {\n",
    "    \"change_in_context_intent\":False,\n",
    "    \"context\":\"PAST\",\n",
    "    \"intent\":\"value\",\n",
    "    \"year\":2019,\n",
    "    \"account\":\"IS.SalesAndSellingGeneralAdministrativeRatio\" # CostOfSalesRatio\n",
    "}\n",
    "key_information = {\n",
    "    \"change_in_context_intent\":False,\n",
    "    \"context\":\"IF\",\n",
    "    \"intent\":\"account_change\",\n",
    "    \"year\":2020,\n",
    "    \"account\":\"IS.OperatingIncome\",\n",
    "    \"subject_account\": \"IS.CostOfSales\",\n",
    "    \"subject_apply\": ('*', 1.1)\n",
    "    }\n",
    "if key_information.get('subject_account'):\n",
    "    sub_account = {key_information['subject_account'].split('.')[1]: key_information['subject_apply']}\n",
    "else:\n",
    "    sub_account = None\n",
    "knowledge, account = key_information['account'].split('.')\n",
    "year = key_information.get('year')\n",
    "quarter = '4Q' if key_information.get('quarter') is None else key_information.get('quarter')\n",
    "# account = 'Revenue'\n",
    "bfs_tree = nx.bfs_successors(nx_graph, source=account) #  CostOfSalesRatio\n",
    "bfs_tree = dict(bfs_tree)"
   ]
  },
  {
   "cell_type": "code",
   "execution_count": 185,
   "metadata": {},
   "outputs": [],
   "source": [
    "# bfs_tree = nx.bfs_predecessors(nx_graph, source=account)\n",
    "# dict(bfs_tree)\n"
   ]
  },
  {
   "cell_type": "code",
   "execution_count": 9,
   "metadata": {},
   "outputs": [
    {
     "data": {
      "text/plain": [
       "\"\\nSELECT CAST(A.revenue AS REAL) / CAST(B.cor AS REAL)\\nFROM (\\n(SELECT T.value AS revenue FROM vt_is_005930 AS T\\nWHERE \\n    T.bsns_year = '2019' AND \\n    T.quarter = '4Q' AND \\n    T.account = 'Revenue') AS A\\nJOIN \\n(SELECT T.value AS cor FROM vt_is_005930 AS T\\nWHERE \\n    T.bsns_year = '2019' AND \\n    T.quarter = '4Q' AND \\n    T.account = 'CostOfSales') AS B ON 1=1\\n)\\n\""
      ]
     },
     "execution_count": 9,
     "metadata": {},
     "output_type": "execute_result"
    }
   ],
   "source": [
    "from psycopg import sql\n",
    "import yaml\n",
    "import psycopg\n",
    "# Load settings\n",
    "src_path = Path('.').absolute().parent\n",
    "with (src_path / 'setting_files' / 'settings.yml').open('r') as file:\n",
    "    settings = yaml.full_load(file)\n",
    "db_settings = settings['db']\n",
    "\n",
    "\"\"\"\n",
    "SELECT CAST(A.revenue AS REAL) / CAST(B.cor AS REAL)\n",
    "FROM (\n",
    "(SELECT T.value AS revenue FROM vt_is_005930 AS T\n",
    "WHERE \n",
    "    T.bsns_year = '2019' AND \n",
    "    T.quarter = '4Q' AND \n",
    "    T.account = 'Revenue') AS A\n",
    "JOIN \n",
    "(SELECT T.value AS cor FROM vt_is_005930 AS T\n",
    "WHERE \n",
    "    T.bsns_year = '2019' AND \n",
    "    T.quarter = '4Q' AND \n",
    "    T.account = 'CostOfSales') AS B ON 1=1\n",
    ")\n",
    "\"\"\"\n",
    "\n",
    "# sql.SQL(\"SELECT {}({}, {}, {}, {}, {}, {}) VALUES (DEFAULT, %s, %s, %s, %s, %s) ;\").format(\n",
    "#     sql.Identifier(f'vt_{knowledge.lower()}_005930'), *list(map(sql.Identifier, tables['income_statement']))\n",
    "# ),\n",
    "# tuple([corp] + list(line.values))"
   ]
  },
  {
   "cell_type": "code",
   "execution_count": 44,
   "metadata": {},
   "outputs": [],
   "source": [
    "# base_query = \"\"\"SELECT T.value AS {} FROM vt_{}_005930 AS T\"\"\"\n",
    "# query_format = sql.SQL(query_base).format(sql.Identifier(child.lower()), sql.Identifier(knowledge.lower()))"
   ]
  },
  {
   "cell_type": "code",
   "execution_count": 133,
   "metadata": {},
   "outputs": [],
   "source": [
    "# div_query_format = \"\"\"\n",
    "# SELECT ({} * CAST(A.{} AS REAL)) / ({} * CAST(B.{} AS REAL))\n",
    "# FROM (\n",
    "#     ( {} ) AS A\n",
    "#     JOIN \n",
    "#     ( {} ) AS B ON 1=1\n",
    "# ) \n",
    "# \"\"\"\n",
    "# part_query_format = \"\"\"\n",
    "# SELECT ({})\n",
    "# FROM (\n",
    "#     ( {} ) AS A\n",
    "#     JOIN \n",
    "#     ( {} ) AS B ON 1=1\n",
    "# ) \n",
    "# \"\"\"\n",
    "# base_query_format = \"\"\"SELECT T.value AS {} FROM {} AS T \"\"\"\n",
    "# query_format_dict = {\n",
    "#     'ratio': div_query_format,\n",
    "#     'value': part_query_format,\n",
    "#     'base': base_query_format\n",
    "# }"
   ]
  },
  {
   "cell_type": "code",
   "execution_count": 12,
   "metadata": {},
   "outputs": [
    {
     "data": {
      "text/plain": [
       "['acc:GrossProfit',\n",
       " 'acc:CostOfSales',\n",
       " 'acc:SellingGeneralAdministrativeExpenses',\n",
       " 'acc:Revenue',\n",
       " 'acc:OperatingIncome']"
      ]
     },
     "execution_count": 12,
     "metadata": {},
     "output_type": "execute_result"
    }
   ],
   "source": [
    "nodes = set()\n",
    "for k, v in dict(bfs_tree).items():\n",
    "    for a in v:\n",
    "        nodes.add(a)\n",
    "    nodes.add(k)\n",
    "nodes = list(map(lambda x: f'acc:{x}', nodes))\n",
    "nodes"
   ]
  },
  {
   "cell_type": "code",
   "execution_count": 13,
   "metadata": {},
   "outputs": [],
   "source": [
    "# Construct oppsited graph acc:hasPart acc:isDenominatorOf acc:isNumeratorOf\n",
    "query_statement = \"\"\"\n",
    "SELECT ?s ?p ?o WHERE { \n",
    "  ?s rdf:type acc:Account .\n",
    "  VALUES ?o { \"\"\" + f'{\" \".join(nodes)}' + \"\"\" }\n",
    "  VALUES ?p { acc:partOf acc:denominator acc:numerator } \n",
    "  ?s ?p ?o .\n",
    "}\n",
    "\"\"\"\n",
    "qres = g.query(query_statement)\n",
    "qres = list(map(lambda x: tuple(convert_to_string(acc) for acc in x), list(qres)))\n",
    "\n",
    "role_dict = defaultdict(list)\n",
    "for s, p, o in qres:\n",
    "    if s not in role_dict[o]:\n",
    "        role_dict[o].append((s, p))"
   ]
  },
  {
   "cell_type": "code",
   "execution_count": 14,
   "metadata": {},
   "outputs": [
    {
     "data": {
      "text/plain": [
       "defaultdict(list,\n",
       "            {'GrossProfit': [('CostOfSales', 'partOf'), ('Revenue', 'partOf')],\n",
       "             'OperatingIncome': [('SellingGeneralAdministrativeExpenses',\n",
       "               'partOf'),\n",
       "              ('GrossProfit', 'partOf')]})"
      ]
     },
     "execution_count": 14,
     "metadata": {},
     "output_type": "execute_result"
    }
   ],
   "source": [
    "role_dict"
   ]
  },
  {
   "cell_type": "code",
   "execution_count": 28,
   "metadata": {},
   "outputs": [
    {
     "data": {
      "text/plain": [
       "[(Decimal('158937125600000.0'),)]"
      ]
     },
     "execution_count": 28,
     "metadata": {},
     "output_type": "execute_result"
    }
   ],
   "source": [
    "with psycopg.connect(\n",
    "        dbname=db_settings['dbname'],\n",
    "        host=db_settings['host'],\n",
    "        user=db_settings['user'], \n",
    "        password=db_settings['password'],\n",
    "        port=db_settings['port']\n",
    "    ) as conn:\n",
    "    with conn.cursor() as cur:\n",
    "        cur.execute(query_dict['CostOfSales']['query'])\n",
    "        data = cur.fetchall()\n",
    "\n",
    "data"
   ]
  },
  {
   "cell_type": "code",
   "execution_count": 21,
   "metadata": {},
   "outputs": [
    {
     "data": {
      "text/plain": [
       "{'CostOfSales': ('*', 1.1)}"
      ]
     },
     "execution_count": 21,
     "metadata": {},
     "output_type": "execute_result"
    }
   ],
   "source": [
    "sub_account\n",
    "sql."
   ]
  },
  {
   "cell_type": "code",
   "execution_count": 35,
   "metadata": {},
   "outputs": [
    {
     "data": {
      "text/plain": [
       "defaultdict(dict,\n",
       "            {'CostOfSales': {'parents': [('partOf', 'GrossProfit')],\n",
       "              'query': Composed([SQL('SELECT (T.value)'), Composed([SQL('*'), SQL(' '), Literal(1.1)]), SQL(' AS '), Identifier('costofsales'), SQL(' FROM '), Identifier('vt_is_005930'), SQL(' AS T '), SQL('WHERE T.bsns_year = '), Literal(2020), SQL(' AND T.quarter = '), Literal('4Q'), SQL(' AND T.account = '), Literal('CostOfSales')]),\n",
       "              'sign': -1.0},\n",
       "             'Revenue': {'parents': [('partOf', 'GrossProfit')],\n",
       "              'query': Composed([SQL('SELECT (T.value)'), SQL(''), SQL(' AS '), Identifier('revenue'), SQL(' FROM '), Identifier('vt_is_005930'), SQL(' AS T '), SQL('WHERE T.bsns_year = '), Literal(2020), SQL(' AND T.quarter = '), Literal('4Q'), SQL(' AND T.account = '), Literal('Revenue')]),\n",
       "              'sign': 1.0},\n",
       "             'SellingGeneralAdministrativeExpenses': {'parents': [('partOf',\n",
       "                'OperatingIncome')],\n",
       "              'query': Composed([SQL('SELECT (T.value)'), SQL(''), SQL(' AS '), Identifier('sellinggeneraladministrativeexpenses'), SQL(' FROM '), Identifier('vt_is_005930'), SQL(' AS T '), SQL('WHERE T.bsns_year = '), Literal(2020), SQL(' AND T.quarter = '), Literal('4Q'), SQL(' AND T.account = '), Literal('SellingGeneralAdministrativeExpenses')]),\n",
       "              'sign': -1.0}})"
      ]
     },
     "execution_count": 35,
     "metadata": {},
     "output_type": "execute_result"
    }
   ],
   "source": [
    "base_query_format = \"\"\"SELECT (T.value){} AS {} FROM {} AS T \"\"\"\n",
    "# search from top to bottom\n",
    "query_dict = defaultdict(dict)\n",
    "for parent, children in role_dict.items():\n",
    "    # start from account node\n",
    "    for child, role in children:\n",
    "        if child not in role_dict:\n",
    "            # leaf node\n",
    "            if query_dict[child].get('parents') is None:\n",
    "                query_dict[child]['parents'] = []\n",
    "\n",
    "            if child in sub_account:\n",
    "                apply, apply_number = sub_account[child]\n",
    "                sub_apply_query = sql.SQL(' ').join([sql.SQL(apply), apply_number])\n",
    "            else:\n",
    "                sub_apply_query = sql.SQL('')\n",
    "            acc_knowledge = ACC_DICT[child]['group'].lower().split('-')[0]\n",
    "            view_table = f\"vt_{acc_knowledge.lower()}_005930\"\n",
    "            select_format = sql.SQL(base_query_format).format(sub_apply_query, sql.Identifier(child.lower()), sql.Identifier(view_table))\n",
    "            where_format = sql.SQL(\"\"\"WHERE T.bsns_year = {} AND T.quarter = {} AND T.account = {}\"\"\").format(year, quarter, child)\n",
    "            query = select_format + where_format\n",
    "            \n",
    "            query_dict[child]['query'] = query\n",
    "            query_dict[child]['sign'] = 1.0 if ACC_DICT[child]['Account_Property'].lower() == 'positive' else -1.0\n",
    "            query_dict[child]['parents'].append((role, parent))\n",
    "    \n",
    "query_dict"
   ]
  },
  {
   "cell_type": "code",
   "execution_count": 36,
   "metadata": {},
   "outputs": [
    {
     "data": {
      "text/plain": [
       "{'GrossProfit': [('CostOfSales', 'partOf'), ('Revenue', 'partOf')],\n",
       " 'OperatingIncome': [('SellingGeneralAdministrativeExpenses', 'partOf'),\n",
       "  ('GrossProfit', 'partOf')]}"
      ]
     },
     "execution_count": 36,
     "metadata": {},
     "output_type": "execute_result"
    }
   ],
   "source": [
    "role_dict_sorted = dict(sorted(list(role_dict.items()), key=lambda x: all([acc in list(query_dict.keys()) for acc, role in x[1]]), reverse=True))\n",
    "role_dict_sorted"
   ]
  },
  {
   "cell_type": "code",
   "execution_count": 37,
   "metadata": {},
   "outputs": [],
   "source": [
    "def get_div_query(qs, acc):\n",
    "    X, Y = qs\n",
    "    if (X[0] == 'denominator') and (Y[0] == 'numerator'):\n",
    "        B = X\n",
    "        A = Y\n",
    "    elif (Y[0] == 'denominator') and (X[0] == 'numerator'):\n",
    "        B = Y\n",
    "        A = X\n",
    "    A_sign, A_node, A_q = A[1:]\n",
    "    B_sign, B_node, B_q = B[1:]\n",
    "    div_query_format = \"\"\"\n",
    "    SELECT ({} * CAST(A.{} AS REAL)) / ({} * CAST(B.{} AS REAL)) AS {}\n",
    "    FROM (\n",
    "        ( {} ) AS A\n",
    "        JOIN \n",
    "        ( {} ) AS B ON 1=1\n",
    "    ) \n",
    "    \"\"\"\n",
    "    div_query = sql.SQL(div_query_format).format(\n",
    "        abs(A_sign), sql.Identifier(A_node.lower()), abs(B_sign), sql.Identifier(B_node.lower()), sql.Identifier(acc.lower()), A_q, B_q)\n",
    "    return div_query\n",
    "\n",
    "def get_partof_query(qs, acc):\n",
    "    # SELECT\n",
    "    partof_query = sql.SQL(\"\"\"SELECT \"\"\")\n",
    "    partof_query += sql.SQL(' + ').join(\n",
    "        [sql.SQL('({} * CAST({}.{} AS REAL)) ').format(sign, sql.Identifier(f'X{i}'), sql.Identifier(node.lower())) for i, (_, sign, node, _) in enumerate(qs)]\n",
    "    )\n",
    "    partof_query += sql.SQL(\" AS {}\").format(sql.Identifier(acc.lower()))\n",
    "    # FROM\n",
    "    partof_query += sql.SQL(\" FROM ( \")\n",
    "    for i, (*_, query) in enumerate(qs):\n",
    "        partof_query += sql.SQL(f\"( \") + query + sql.SQL(\" ) AS {}\").format(sql.Identifier(f'X{i}'))\n",
    "        if i == 0:\n",
    "            partof_query += sql.SQL(\" JOIN \")\n",
    "        elif i == (len(qs)-1):\n",
    "            partof_query += sql.SQL(\" ON 1=1 \")\n",
    "        else:\n",
    "            partof_query += sql.SQL(\" ON 1=1 JOIN \")\n",
    "    partof_query += sql.SQL(\" )\")\n",
    "    return partof_query"
   ]
  },
  {
   "cell_type": "code",
   "execution_count": 38,
   "metadata": {},
   "outputs": [
    {
     "name": "stdout",
     "output_type": "stream",
     "text": [
      "GrossProfit\n",
      "CostOfSales\n",
      "Revenue\n",
      "OperatingIncome\n",
      "SellingGeneralAdministrativeExpenses\n",
      "GrossProfit\n"
     ]
    }
   ],
   "source": [
    "for acc, childrens in role_dict_sorted.items():\n",
    "    print(acc)\n",
    "    acc_sign = 1.0 if ACC_DICT[acc]['Account_Property'].lower() == 'positive' else -1.0\n",
    "    # acc_knowledge, acc_property, _ = ACC_DICT[acc]['group'].lower().split('-')\n",
    "    qs = []\n",
    "    for child, role in childrens:\n",
    "        print(child)\n",
    "        qs.append(\n",
    "            (role,\n",
    "            query_dict[child]['sign'],\n",
    "            child,\n",
    "            query_dict[child]['query'])\n",
    "        )\n",
    "    if role.lower() != 'partof':\n",
    "        query_dict[acc]['query'] = get_div_query(qs, acc)\n",
    "    else:\n",
    "        query_dict[acc]['query'] = get_partof_query(qs, acc)\n",
    "    query_dict[acc]['sign'] = acc_sign"
   ]
  },
  {
   "cell_type": "code",
   "execution_count": 39,
   "metadata": {},
   "outputs": [
    {
     "data": {
      "text/plain": [
       "defaultdict(dict,\n",
       "            {'CostOfSales': {'parents': [('partOf', 'GrossProfit')],\n",
       "              'query': Composed([SQL('SELECT (T.value)'), Composed([SQL('*'), SQL(' '), Literal(1.1)]), SQL(' AS '), Identifier('costofsales'), SQL(' FROM '), Identifier('vt_is_005930'), SQL(' AS T '), SQL('WHERE T.bsns_year = '), Literal(2020), SQL(' AND T.quarter = '), Literal('4Q'), SQL(' AND T.account = '), Literal('CostOfSales')]),\n",
       "              'sign': -1.0},\n",
       "             'Revenue': {'parents': [('partOf', 'GrossProfit')],\n",
       "              'query': Composed([SQL('SELECT (T.value)'), SQL(''), SQL(' AS '), Identifier('revenue'), SQL(' FROM '), Identifier('vt_is_005930'), SQL(' AS T '), SQL('WHERE T.bsns_year = '), Literal(2020), SQL(' AND T.quarter = '), Literal('4Q'), SQL(' AND T.account = '), Literal('Revenue')]),\n",
       "              'sign': 1.0},\n",
       "             'SellingGeneralAdministrativeExpenses': {'parents': [('partOf',\n",
       "                'OperatingIncome')],\n",
       "              'query': Composed([SQL('SELECT (T.value)'), SQL(''), SQL(' AS '), Identifier('sellinggeneraladministrativeexpenses'), SQL(' FROM '), Identifier('vt_is_005930'), SQL(' AS T '), SQL('WHERE T.bsns_year = '), Literal(2020), SQL(' AND T.quarter = '), Literal('4Q'), SQL(' AND T.account = '), Literal('SellingGeneralAdministrativeExpenses')]),\n",
       "              'sign': -1.0},\n",
       "             'GrossProfit': {'query': Composed([SQL('SELECT '), Composed([SQL('('), Literal(-1.0), SQL(' * CAST('), Identifier('X0'), SQL('.'), Identifier('costofsales'), SQL(' AS REAL)) ')]), SQL(' + '), Composed([SQL('('), Literal(1.0), SQL(' * CAST('), Identifier('X1'), SQL('.'), Identifier('revenue'), SQL(' AS REAL)) ')]), SQL(' AS '), Identifier('grossprofit'), SQL(' FROM ( '), SQL('( '), SQL('SELECT (T.value)'), Composed([SQL('*'), SQL(' '), Literal(1.1)]), SQL(' AS '), Identifier('costofsales'), SQL(' FROM '), Identifier('vt_is_005930'), SQL(' AS T '), SQL('WHERE T.bsns_year = '), Literal(2020), SQL(' AND T.quarter = '), Literal('4Q'), SQL(' AND T.account = '), Literal('CostOfSales'), SQL(' ) AS '), Identifier('X0'), SQL(' JOIN '), SQL('( '), SQL('SELECT (T.value)'), SQL(''), SQL(' AS '), Identifier('revenue'), SQL(' FROM '), Identifier('vt_is_005930'), SQL(' AS T '), SQL('WHERE T.bsns_year = '), Literal(2020), SQL(' AND T.quarter = '), Literal('4Q'), SQL(' AND T.account = '), Literal('Revenue'), SQL(' ) AS '), Identifier('X1'), SQL(' ON 1=1 '), SQL(' )')]),\n",
       "              'sign': 1.0},\n",
       "             'OperatingIncome': {'query': Composed([SQL('SELECT '), Composed([SQL('('), Literal(-1.0), SQL(' * CAST('), Identifier('X0'), SQL('.'), Identifier('sellinggeneraladministrativeexpenses'), SQL(' AS REAL)) ')]), SQL(' + '), Composed([SQL('('), Literal(1.0), SQL(' * CAST('), Identifier('X1'), SQL('.'), Identifier('grossprofit'), SQL(' AS REAL)) ')]), SQL(' AS '), Identifier('operatingincome'), SQL(' FROM ( '), SQL('( '), SQL('SELECT (T.value)'), SQL(''), SQL(' AS '), Identifier('sellinggeneraladministrativeexpenses'), SQL(' FROM '), Identifier('vt_is_005930'), SQL(' AS T '), SQL('WHERE T.bsns_year = '), Literal(2020), SQL(' AND T.quarter = '), Literal('4Q'), SQL(' AND T.account = '), Literal('SellingGeneralAdministrativeExpenses'), SQL(' ) AS '), Identifier('X0'), SQL(' JOIN '), SQL('( '), SQL('SELECT '), Composed([SQL('('), Literal(-1.0), SQL(' * CAST('), Identifier('X0'), SQL('.'), Identifier('costofsales'), SQL(' AS REAL)) ')]), SQL(' + '), Composed([SQL('('), Literal(1.0), SQL(' * CAST('), Identifier('X1'), SQL('.'), Identifier('revenue'), SQL(' AS REAL)) ')]), SQL(' AS '), Identifier('grossprofit'), SQL(' FROM ( '), SQL('( '), SQL('SELECT (T.value)'), Composed([SQL('*'), SQL(' '), Literal(1.1)]), SQL(' AS '), Identifier('costofsales'), SQL(' FROM '), Identifier('vt_is_005930'), SQL(' AS T '), SQL('WHERE T.bsns_year = '), Literal(2020), SQL(' AND T.quarter = '), Literal('4Q'), SQL(' AND T.account = '), Literal('CostOfSales'), SQL(' ) AS '), Identifier('X0'), SQL(' JOIN '), SQL('( '), SQL('SELECT (T.value)'), SQL(''), SQL(' AS '), Identifier('revenue'), SQL(' FROM '), Identifier('vt_is_005930'), SQL(' AS T '), SQL('WHERE T.bsns_year = '), Literal(2020), SQL(' AND T.quarter = '), Literal('4Q'), SQL(' AND T.account = '), Literal('Revenue'), SQL(' ) AS '), Identifier('X1'), SQL(' ON 1=1 '), SQL(' )'), SQL(' ) AS '), Identifier('X1'), SQL(' ON 1=1 '), SQL(' )')]),\n",
       "              'sign': 1.0}})"
      ]
     },
     "execution_count": 39,
     "metadata": {},
     "output_type": "execute_result"
    }
   ],
   "source": [
    "query_dict"
   ]
  },
  {
   "cell_type": "code",
   "execution_count": 40,
   "metadata": {},
   "outputs": [
    {
     "name": "stdout",
     "output_type": "stream",
     "text": [
      "SELECT ( -1.0 * CAST(\"X0\".\"sellinggeneraladministrativeexpenses\" AS REAL))  + (1.0 * CAST(\"X1\".\"grossprofit\" AS REAL))  AS \"operatingincome\" FROM ( ( SELECT (T.value) AS \"sellinggeneraladministrativeexpenses\" FROM \"vt_is_005930\" AS T WHERE T.bsns_year = 2020 AND T.quarter = '4Q' AND T.account = 'SellingGeneralAdministrativeExpenses' ) AS \"X0\" JOIN ( SELECT ( -1.0 * CAST(\"X0\".\"costofsales\" AS REAL))  + (1.0 * CAST(\"X1\".\"revenue\" AS REAL))  AS \"grossprofit\" FROM ( ( SELECT (T.value)* 1.1 AS \"costofsales\" FROM \"vt_is_005930\" AS T WHERE T.bsns_year = 2020 AND T.quarter = '4Q' AND T.account = 'CostOfSales' ) AS \"X0\" JOIN ( SELECT (T.value) AS \"revenue\" FROM \"vt_is_005930\" AS T WHERE T.bsns_year = 2020 AND T.quarter = '4Q' AND T.account = 'Revenue' ) AS \"X1\" ON 1=1  ) ) AS \"X1\" ON 1=1  )\n"
     ]
    }
   ],
   "source": [
    "with psycopg.connect(\n",
    "        dbname=db_settings['dbname'],\n",
    "        host=db_settings['host'],\n",
    "        user=db_settings['user'], \n",
    "        password=db_settings['password'],\n",
    "        port=db_settings['port']\n",
    "    ) as conn:\n",
    "    with conn.cursor() as cur:\n",
    "        # cur.execute(query_dict['SalesAndSellingGeneralAdministrativeRatio']['query'])\n",
    "        # data = cur.fetchall()\n",
    "        print(query_dict['OperatingIncome']['query'].as_string(conn))"
   ]
  },
  {
   "cell_type": "code",
   "execution_count": 41,
   "metadata": {},
   "outputs": [],
   "source": [
    "with psycopg.connect(\n",
    "        dbname=db_settings['dbname'],\n",
    "        host=db_settings['host'],\n",
    "        user=db_settings['user'], \n",
    "        password=db_settings['password'],\n",
    "        port=db_settings['port']\n",
    "    ) as conn:\n",
    "    with conn.cursor() as cur:\n",
    "        cur.execute(query_dict['OperatingIncome']['query'])\n",
    "        data = cur.fetchall()\n",
    "        # print(query_dict['SalesAndSellingGeneralAdministrativeRatio']['query'].as_string(conn))"
   ]
  },
  {
   "cell_type": "code",
   "execution_count": 68,
   "metadata": {},
   "outputs": [
    {
     "data": {
      "text/plain": [
       "[(35993860177920.0,)]"
      ]
     },
     "execution_count": 68,
     "metadata": {},
     "output_type": "execute_result"
    }
   ],
   "source": [
    "data"
   ]
  }
 ],
 "metadata": {
  "interpreter": {
   "hash": "a4ed9b19307c800d89a3002578f776a0fb528ed3e6b1903878767ebecc1b6c32"
  },
  "kernelspec": {
   "display_name": "Python 3 (ipykernel)",
   "language": "python",
   "name": "python3"
  },
  "language_info": {
   "codemirror_mode": {
    "name": "ipython",
    "version": 3
   },
   "file_extension": ".py",
   "mimetype": "text/x-python",
   "name": "python",
   "nbconvert_exporter": "python",
   "pygments_lexer": "ipython3",
   "version": "3.8.12"
  }
 },
 "nbformat": 4,
 "nbformat_minor": 4
}
